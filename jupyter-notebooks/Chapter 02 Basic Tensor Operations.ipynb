{
 "cells": [
  {
   "cell_type": "markdown",
   "id": "30600189",
   "metadata": {},
   "source": [
    "# Tensor Initializers"
   ]
  },
  {
   "cell_type": "code",
   "execution_count": 2,
   "id": "f62ced71",
   "metadata": {
    "ExecuteTime": {
     "end_time": "2023-08-22T03:31:06.285014Z",
     "start_time": "2023-08-22T03:31:03.635077Z"
    }
   },
   "outputs": [
    {
     "name": "stdout",
     "output_type": "stream",
     "text": [
      "32.3 ms ± 390 µs per loop (mean ± std. dev. of 7 runs, 10 loops each)\n"
     ]
    }
   ],
   "source": [
    "def ones_init():\n",
    "    value = []\n",
    "    for _ in range(1_000_000):\n",
    "        value.append(1)\n",
    "        \n",
    "%timeit ones_init()"
   ]
  },
  {
   "cell_type": "code",
   "execution_count": 8,
   "id": "fea439c6",
   "metadata": {
    "ExecuteTime": {
     "end_time": "2023-08-22T03:35:14.112606Z",
     "start_time": "2023-08-22T03:35:00.067576Z"
    }
   },
   "outputs": [
    {
     "name": "stdout",
     "output_type": "stream",
     "text": [
      "17.3 ms ± 586 µs per loop (mean ± std. dev. of 7 runs, 100 loops each)\n"
     ]
    }
   ],
   "source": [
    "%timeit [1 for _ in range(1_000_000)]"
   ]
  },
  {
   "cell_type": "code",
   "execution_count": 4,
   "id": "43a58c8f",
   "metadata": {
    "ExecuteTime": {
     "end_time": "2023-08-22T03:31:43.571918Z",
     "start_time": "2023-08-22T03:31:41.361194Z"
    }
   },
   "outputs": [
    {
     "name": "stdout",
     "output_type": "stream",
     "text": [
      "2.69 ms ± 66.6 µs per loop (mean ± std. dev. of 7 runs, 100 loops each)\n"
     ]
    }
   ],
   "source": [
    "%timeit [1] * 1_000_000"
   ]
  },
  {
   "cell_type": "code",
   "execution_count": 3,
   "id": "19e6627f",
   "metadata": {
    "ExecuteTime": {
     "end_time": "2023-08-22T03:31:28.572264Z",
     "start_time": "2023-08-22T03:31:24.181230Z"
    }
   },
   "outputs": [
    {
     "name": "stdout",
     "output_type": "stream",
     "text": [
      "537 µs ± 39.8 µs per loop (mean ± std. dev. of 7 runs, 1,000 loops each)\n"
     ]
    }
   ],
   "source": [
    "import numpy as np\n",
    "%timeit np.ones(1_000_000)"
   ]
  },
  {
   "cell_type": "code",
   "execution_count": 47,
   "id": "e7d9d9b8",
   "metadata": {
    "ExecuteTime": {
     "end_time": "2023-08-22T03:56:33.369521Z",
     "start_time": "2023-08-22T03:56:26.214445Z"
    }
   },
   "outputs": [
    {
     "name": "stdout",
     "output_type": "stream",
     "text": [
      "87.5 ms ± 1.27 ms per loop (mean ± std. dev. of 7 runs, 10 loops each)\n"
     ]
    }
   ],
   "source": [
    "import math\n",
    "def sqrt_iter():\n",
    "    values = []\n",
    "    for ii in range(1_000_000):\n",
    "        values.append(math.sqrt(ii))\n",
    "    return values\n",
    "# values = sqrt_iter()\n",
    "%timeit sqrt_iter()"
   ]
  },
  {
   "cell_type": "code",
   "execution_count": 48,
   "id": "fdddf7e6",
   "metadata": {
    "ExecuteTime": {
     "end_time": "2023-08-22T03:56:57.047504Z",
     "start_time": "2023-08-22T03:56:50.651849Z"
    }
   },
   "outputs": [
    {
     "name": "stdout",
     "output_type": "stream",
     "text": [
      "78.4 ms ± 828 µs per loop (mean ± std. dev. of 7 runs, 10 loops each)\n"
     ]
    }
   ],
   "source": [
    "def sqrt_iter_preallocate():\n",
    "    values = [0] * 1_000_000\n",
    "    for ii in range(1_000_000):\n",
    "        values[ii] = math.sqrt(ii)\n",
    "    return values\n",
    "%timeit sqrt_iter_preallocate()"
   ]
  },
  {
   "cell_type": "markdown",
   "id": "63e712be",
   "metadata": {},
   "source": [
    "# Concatenation, Stacking, and Splitting"
   ]
  },
  {
   "cell_type": "code",
   "execution_count": 6,
   "id": "0a44e3a8",
   "metadata": {
    "ExecuteTime": {
     "end_time": "2023-11-25T21:31:33.313336Z",
     "start_time": "2023-11-25T21:31:33.299586Z"
    }
   },
   "outputs": [
    {
     "data": {
      "text/plain": [
       "array([1, 2, 3, 4, 5, 6])"
      ]
     },
     "execution_count": 6,
     "metadata": {},
     "output_type": "execute_result"
    }
   ],
   "source": [
    "import numpy as np\n",
    "\n",
    "# one dimensional vectors\n",
    "a = np.array([1, 2, 3])\n",
    "b = np.array([4, 5, 6])\n",
    "c = np.append(a, b, axis=None)\n",
    "\n",
    "c"
   ]
  },
  {
   "cell_type": "code",
   "execution_count": 7,
   "id": "6994b30a",
   "metadata": {
    "ExecuteTime": {
     "end_time": "2023-11-25T21:31:42.145833Z",
     "start_time": "2023-11-25T21:31:42.135382Z"
    }
   },
   "outputs": [
    {
     "data": {
      "text/plain": [
       "array([ 1,  2,  3,  4,  5,  6, -1, -2, -3, -4, -5, -6])"
      ]
     },
     "execution_count": 7,
     "metadata": {},
     "output_type": "execute_result"
    }
   ],
   "source": [
    "# two dimensional matrices\n",
    "x = np.array([[1, 2, 3], [4, 5, 6]])\n",
    "y = np.array([[-1, -2, -3], [-4, -5, -6]])\n",
    "z = np.append(x, y, axis=None)\n",
    "\n",
    "z"
   ]
  },
  {
   "cell_type": "code",
   "execution_count": 8,
   "id": "7a6431f2",
   "metadata": {
    "ExecuteTime": {
     "end_time": "2023-11-25T21:31:55.636821Z",
     "start_time": "2023-11-25T21:31:55.623830Z"
    }
   },
   "outputs": [
    {
     "data": {
      "text/plain": [
       "array([1, 2, 3, 4, 5, 6])"
      ]
     },
     "execution_count": 8,
     "metadata": {},
     "output_type": "execute_result"
    }
   ],
   "source": [
    "# one dimensional vectors\n",
    "a = np.array([1, 2, 3])\n",
    "b = np.array([4, 5, 6])\n",
    "# specifying axis=1 will throw AxisError: \n",
    "# axis 1 is out of bounds for an array of dimension 1\n",
    "c = np.append(a, b, axis=0)\n",
    "\n",
    "c"
   ]
  },
  {
   "cell_type": "code",
   "execution_count": 10,
   "id": "b286286f",
   "metadata": {
    "ExecuteTime": {
     "end_time": "2023-11-25T21:32:25.287841Z",
     "start_time": "2023-11-25T21:32:25.284477Z"
    }
   },
   "outputs": [
    {
     "data": {
      "text/plain": [
       "array([[ 1,  2,  3],\n",
       "       [ 4,  5,  6],\n",
       "       [-1, -2, -3],\n",
       "       [-4, -5, -6]])"
      ]
     },
     "execution_count": 10,
     "metadata": {},
     "output_type": "execute_result"
    }
   ],
   "source": [
    "# two dimensional matrices\n",
    "x = np.array([[1, 2, 3], [4, 5, 6]])\n",
    "y = np.array([[-1, -2, -3], [-4, -5, -6]])\n",
    "# concatenate along axis=0\n",
    "z = np.append(x, y, axis=0)\n",
    "z"
   ]
  },
  {
   "cell_type": "code",
   "execution_count": 9,
   "id": "89784d5e",
   "metadata": {
    "ExecuteTime": {
     "end_time": "2023-11-25T21:32:20.215616Z",
     "start_time": "2023-11-25T21:32:20.204768Z"
    }
   },
   "outputs": [
    {
     "data": {
      "text/plain": [
       "array([[ 1,  2,  3, -1, -2, -3],\n",
       "       [ 4,  5,  6, -4, -5, -6]])"
      ]
     },
     "execution_count": 9,
     "metadata": {},
     "output_type": "execute_result"
    }
   ],
   "source": [
    "# concatenate along axis=1\n",
    "z = np.append(x, y, axis=1)\n",
    "z"
   ]
  },
  {
   "cell_type": "markdown",
   "id": "5b98d524",
   "metadata": {},
   "source": [
    "# Reshaing\n",
    "\n",
    "## Expanding dimensions\n"
   ]
  },
  {
   "cell_type": "code",
   "execution_count": 11,
   "id": "36e7d4d7",
   "metadata": {
    "ExecuteTime": {
     "end_time": "2023-11-25T21:33:02.407895Z",
     "start_time": "2023-11-25T21:33:02.391605Z"
    }
   },
   "outputs": [
    {
     "data": {
      "text/plain": [
       "array([[[0.99080835, 0.13565953]],\n",
       "\n",
       "       [[0.07737893, 0.07012417]],\n",
       "\n",
       "       [[0.32714517, 0.33062919]]])"
      ]
     },
     "execution_count": 11,
     "metadata": {},
     "output_type": "execute_result"
    }
   ],
   "source": [
    "import numpy as np\n",
    "\n",
    "X = np.random.rand(3, 2)\n",
    "# using expand dims\n",
    "y1 = np.expand_dims(X, axis=1)\n",
    "# using None slicing\n",
    "y2 = X[:, None, :]\n",
    "# using np.newaxis\n",
    "y3 = X[:, np.newaxis, :]\n",
    "\n",
    "y1"
   ]
  },
  {
   "cell_type": "code",
   "execution_count": 12,
   "id": "b67e135a",
   "metadata": {
    "ExecuteTime": {
     "end_time": "2023-11-25T21:33:05.084859Z",
     "start_time": "2023-11-25T21:33:05.075692Z"
    }
   },
   "outputs": [
    {
     "data": {
      "text/plain": [
       "array([[[0.99080835, 0.13565953]],\n",
       "\n",
       "       [[0.07737893, 0.07012417]],\n",
       "\n",
       "       [[0.32714517, 0.33062919]]])"
      ]
     },
     "execution_count": 12,
     "metadata": {},
     "output_type": "execute_result"
    }
   ],
   "source": [
    "y2"
   ]
  },
  {
   "cell_type": "code",
   "execution_count": 13,
   "id": "0c38aa8c",
   "metadata": {
    "ExecuteTime": {
     "end_time": "2023-11-25T21:33:07.758239Z",
     "start_time": "2023-11-25T21:33:07.747330Z"
    }
   },
   "outputs": [
    {
     "data": {
      "text/plain": [
       "array([[[0.99080835, 0.13565953]],\n",
       "\n",
       "       [[0.07737893, 0.07012417]],\n",
       "\n",
       "       [[0.32714517, 0.33062919]]])"
      ]
     },
     "execution_count": 13,
     "metadata": {},
     "output_type": "execute_result"
    }
   ],
   "source": [
    "y3"
   ]
  },
  {
   "cell_type": "markdown",
   "id": "4e091ae6",
   "metadata": {},
   "source": [
    "## Squeezing dimensions"
   ]
  },
  {
   "cell_type": "code",
   "execution_count": 14,
   "id": "5315ccd3",
   "metadata": {
    "ExecuteTime": {
     "end_time": "2023-11-25T21:33:46.321242Z",
     "start_time": "2023-11-25T21:33:46.306703Z"
    }
   },
   "outputs": [],
   "source": [
    "import numpy as np\n",
    "X = np.random.rand(3, 1, 2)\n",
    "# using squeeze\n",
    "y1 = np.squeeze(X, axis=1)\n",
    "# using slicing\n",
    "y2 = X[:, 0, :]"
   ]
  },
  {
   "cell_type": "code",
   "execution_count": 15,
   "id": "42ac8d83",
   "metadata": {
    "ExecuteTime": {
     "end_time": "2023-11-25T21:33:48.069260Z",
     "start_time": "2023-11-25T21:33:48.061462Z"
    }
   },
   "outputs": [
    {
     "data": {
      "text/plain": [
       "array([[0.92486206, 0.41168012],\n",
       "       [0.23835872, 0.67035579],\n",
       "       [0.61231402, 0.98312038]])"
      ]
     },
     "execution_count": 15,
     "metadata": {},
     "output_type": "execute_result"
    }
   ],
   "source": [
    "y1"
   ]
  },
  {
   "cell_type": "code",
   "execution_count": 16,
   "id": "464592c0",
   "metadata": {
    "ExecuteTime": {
     "end_time": "2023-11-25T21:33:49.170137Z",
     "start_time": "2023-11-25T21:33:49.156217Z"
    }
   },
   "outputs": [
    {
     "data": {
      "text/plain": [
       "array([[0.92486206, 0.41168012],\n",
       "       [0.23835872, 0.67035579],\n",
       "       [0.61231402, 0.98312038]])"
      ]
     },
     "execution_count": 16,
     "metadata": {},
     "output_type": "execute_result"
    }
   ],
   "source": [
    "y2"
   ]
  },
  {
   "cell_type": "markdown",
   "id": "6af15122",
   "metadata": {},
   "source": [
    "## AtleastNDims"
   ]
  },
  {
   "cell_type": "code",
   "execution_count": 18,
   "id": "1d1e3a7b",
   "metadata": {
    "ExecuteTime": {
     "end_time": "2023-11-25T21:34:25.410564Z",
     "start_time": "2023-11-25T21:34:25.401589Z"
    }
   },
   "outputs": [
    {
     "data": {
      "text/plain": [
       "array([[[6]]])"
      ]
     },
     "execution_count": 18,
     "metadata": {},
     "output_type": "execute_result"
    }
   ],
   "source": [
    "import numpy as np\n",
    "x = np.array(6)\n",
    "y = np.expand_dims(x, axis=0) # np.array([6])\n",
    "y = np.expand_dims(y, axis=0) # np.array([[6]])\n",
    "y = np.expand_dims(y, axis=0) # np.array([[[6]]])\n",
    "y"
   ]
  },
  {
   "cell_type": "code",
   "execution_count": 20,
   "id": "75874a41",
   "metadata": {
    "ExecuteTime": {
     "end_time": "2023-11-25T21:34:37.074294Z",
     "start_time": "2023-11-25T21:34:37.058381Z"
    }
   },
   "outputs": [
    {
     "data": {
      "text/plain": [
       "array([[[6]]])"
      ]
     },
     "execution_count": 20,
     "metadata": {},
     "output_type": "execute_result"
    }
   ],
   "source": [
    "x = np.array(6)\n",
    "y = np.atleast_3d(x) # np.array([[[6]]])\n",
    "y"
   ]
  },
  {
   "cell_type": "code",
   "execution_count": 24,
   "id": "c3a5eb0b",
   "metadata": {
    "ExecuteTime": {
     "end_time": "2023-11-25T21:35:05.937213Z",
     "start_time": "2023-11-25T21:35:05.926195Z"
    }
   },
   "outputs": [
    {
     "data": {
      "text/plain": [
       "5"
      ]
     },
     "execution_count": 24,
     "metadata": {},
     "output_type": "execute_result"
    }
   ],
   "source": [
    "x = np.array([[[[[6]]]]]) # 5-dimensional\n",
    "y = np.atleast_3d(x) # still 5-dimensional\n",
    "x.ndim"
   ]
  },
  {
   "cell_type": "code",
   "execution_count": 25,
   "id": "c02c4f12",
   "metadata": {
    "ExecuteTime": {
     "end_time": "2023-11-25T21:35:08.018131Z",
     "start_time": "2023-11-25T21:35:08.006840Z"
    }
   },
   "outputs": [
    {
     "data": {
      "text/plain": [
       "5"
      ]
     },
     "execution_count": 25,
     "metadata": {},
     "output_type": "execute_result"
    }
   ],
   "source": [
    "y.ndim"
   ]
  },
  {
   "cell_type": "markdown",
   "id": "95af9ebb",
   "metadata": {},
   "source": [
    "## Transpose"
   ]
  },
  {
   "cell_type": "code",
   "execution_count": 26,
   "id": "24217a34",
   "metadata": {
    "ExecuteTime": {
     "end_time": "2023-11-25T21:35:25.151975Z",
     "start_time": "2023-11-25T21:35:25.131745Z"
    }
   },
   "outputs": [
    {
     "data": {
      "text/plain": [
       "array([[[[0.62888589, 0.42354759, 0.0974367 ],\n",
       "         [0.02968999, 0.95489349, 0.60553961],\n",
       "         [0.27722497, 0.50629883, 0.0949888 ],\n",
       "         ...,\n",
       "         [0.03700826, 0.94352774, 0.44432409],\n",
       "         [0.24049635, 0.50726072, 0.35856459],\n",
       "         [0.98640618, 0.77434935, 0.73238741]],\n",
       "\n",
       "        [[0.23076011, 0.59771891, 0.47583868],\n",
       "         [0.08205684, 0.21995952, 0.2899454 ],\n",
       "         [0.95572242, 0.31315042, 0.99505286],\n",
       "         ...,\n",
       "         [0.31815611, 0.79658114, 0.57400471],\n",
       "         [0.42931661, 0.81023522, 0.71925696],\n",
       "         [0.77579607, 0.37452966, 0.26525464]],\n",
       "\n",
       "        [[0.35996363, 0.93958835, 0.90060627],\n",
       "         [0.94325785, 0.75557186, 0.11888263],\n",
       "         [0.46309227, 0.14930962, 0.03079653],\n",
       "         ...,\n",
       "         [0.13710697, 0.56934223, 0.46858994],\n",
       "         [0.41212876, 0.2637237 , 0.22152135],\n",
       "         [0.79462808, 0.06144676, 0.0293928 ]],\n",
       "\n",
       "        ...,\n",
       "\n",
       "        [[0.23783396, 0.97463031, 0.81701217],\n",
       "         [0.91754005, 0.27871873, 0.34189611],\n",
       "         [0.63879897, 0.72816668, 0.4726692 ],\n",
       "         ...,\n",
       "         [0.47499543, 0.96876091, 0.13148613],\n",
       "         [0.01984286, 0.89837208, 0.27478398],\n",
       "         [0.64490807, 0.62725472, 0.46625918]],\n",
       "\n",
       "        [[0.12271658, 0.99277641, 0.12702921],\n",
       "         [0.7750538 , 0.0355397 , 0.44868948],\n",
       "         [0.96523354, 0.36251812, 0.01012248],\n",
       "         ...,\n",
       "         [0.58413849, 0.44817356, 0.66360678],\n",
       "         [0.18146348, 0.27894699, 0.85048542],\n",
       "         [0.48305038, 0.219633  , 0.88556172]],\n",
       "\n",
       "        [[0.20062484, 0.30719135, 0.18767176],\n",
       "         [0.68669202, 0.53808596, 0.57370526],\n",
       "         [0.35466382, 0.80960822, 0.26770726],\n",
       "         ...,\n",
       "         [0.51068894, 0.21744691, 0.53393933],\n",
       "         [0.58041291, 0.06554643, 0.1764017 ],\n",
       "         [0.84550591, 0.2720535 , 0.07045907]]],\n",
       "\n",
       "\n",
       "       [[[0.36782277, 0.2381629 , 0.67374768],\n",
       "         [0.19304114, 0.4374567 , 0.33334557],\n",
       "         [0.52810631, 0.15092666, 0.5629814 ],\n",
       "         ...,\n",
       "         [0.92099144, 0.67548738, 0.28147237],\n",
       "         [0.58429096, 0.61687868, 0.51270734],\n",
       "         [0.6978071 , 0.06376512, 0.07845215]],\n",
       "\n",
       "        [[0.4086566 , 0.30636472, 0.0655077 ],\n",
       "         [0.02757607, 0.7614412 , 0.88670162],\n",
       "         [0.6137407 , 0.06352484, 0.33820566],\n",
       "         ...,\n",
       "         [0.98978617, 0.59446355, 0.2677335 ],\n",
       "         [0.4603886 , 0.83704552, 0.58601059],\n",
       "         [0.06583611, 0.04296615, 0.80713925]],\n",
       "\n",
       "        [[0.52132557, 0.7899622 , 0.39304122],\n",
       "         [0.7262539 , 0.78632578, 0.36341208],\n",
       "         [0.91680296, 0.70841118, 0.23366271],\n",
       "         ...,\n",
       "         [0.73550396, 0.42304221, 0.35468718],\n",
       "         [0.40575387, 0.09013007, 0.80380767],\n",
       "         [0.38558194, 0.20740505, 0.27185271]],\n",
       "\n",
       "        ...,\n",
       "\n",
       "        [[0.29475015, 0.22871977, 0.83145552],\n",
       "         [0.74292158, 0.8809288 , 0.30711906],\n",
       "         [0.67975622, 0.94859967, 0.60500556],\n",
       "         ...,\n",
       "         [0.35185397, 0.3610652 , 0.22523181],\n",
       "         [0.12253008, 0.48258703, 0.1332526 ],\n",
       "         [0.98611991, 0.55435588, 0.46926099]],\n",
       "\n",
       "        [[0.98010001, 0.43643703, 0.4752734 ],\n",
       "         [0.56449075, 0.29727476, 0.7794719 ],\n",
       "         [0.64138738, 0.18478169, 0.36688602],\n",
       "         ...,\n",
       "         [0.86395473, 0.58867589, 0.84004095],\n",
       "         [0.14003302, 0.18818977, 0.06976459],\n",
       "         [0.29136003, 0.7833771 , 0.85874381]],\n",
       "\n",
       "        [[0.85801368, 0.56635296, 0.66267474],\n",
       "         [0.88069297, 0.67193913, 0.05435455],\n",
       "         [0.16864564, 0.28872109, 0.85413128],\n",
       "         ...,\n",
       "         [0.57832784, 0.14723232, 0.8174826 ],\n",
       "         [0.32362048, 0.95736501, 0.37756191],\n",
       "         [0.59947998, 0.09800537, 0.50573038]]],\n",
       "\n",
       "\n",
       "       [[[0.02663213, 0.39756084, 0.80203275],\n",
       "         [0.74494922, 0.92424173, 0.8787273 ],\n",
       "         [0.73295079, 0.6029439 , 0.30274267],\n",
       "         ...,\n",
       "         [0.16045489, 0.50679849, 0.72235068],\n",
       "         [0.72311212, 0.96927386, 0.20842263],\n",
       "         [0.33796157, 0.763975  , 0.90974405]],\n",
       "\n",
       "        [[0.03110865, 0.60422876, 0.89638443],\n",
       "         [0.54012033, 0.02743596, 0.30305079],\n",
       "         [0.2136249 , 0.47025444, 0.60359972],\n",
       "         ...,\n",
       "         [0.57975578, 0.55120165, 0.86125474],\n",
       "         [0.86974315, 0.66626523, 0.68455923],\n",
       "         [0.59707734, 0.41727984, 0.65635861]],\n",
       "\n",
       "        [[0.02373674, 0.16389408, 0.06027067],\n",
       "         [0.78145817, 0.55131902, 0.57505656],\n",
       "         [0.84380376, 0.43604784, 0.58802468],\n",
       "         ...,\n",
       "         [0.50427682, 0.35044033, 0.03395402],\n",
       "         [0.40630356, 0.60180228, 0.66479399],\n",
       "         [0.91167805, 0.86779454, 0.02646008]],\n",
       "\n",
       "        ...,\n",
       "\n",
       "        [[0.11833595, 0.74527138, 0.66315061],\n",
       "         [0.50277173, 0.53446385, 0.5563654 ],\n",
       "         [0.37201599, 0.47917478, 0.12154915],\n",
       "         ...,\n",
       "         [0.87948188, 0.00257284, 0.44969797],\n",
       "         [0.59224765, 0.47777422, 0.61826125],\n",
       "         [0.96125241, 0.12986933, 0.45710907]],\n",
       "\n",
       "        [[0.78394962, 0.82583707, 0.86436247],\n",
       "         [0.36259635, 0.34696642, 0.37469951],\n",
       "         [0.55039651, 0.27207071, 0.03082939],\n",
       "         ...,\n",
       "         [0.82179516, 0.11896472, 0.43705102],\n",
       "         [0.09770723, 0.38372413, 0.17851438],\n",
       "         [0.29099365, 0.86213724, 0.40034098]],\n",
       "\n",
       "        [[0.95174836, 0.51632378, 0.10470328],\n",
       "         [0.98467871, 0.66254757, 0.27266997],\n",
       "         [0.71005292, 0.82771009, 0.39986505],\n",
       "         ...,\n",
       "         [0.03213458, 0.88736696, 0.19597961],\n",
       "         [0.68079437, 0.3160296 , 0.85526094],\n",
       "         [0.52163255, 0.09355703, 0.77666626]]],\n",
       "\n",
       "\n",
       "       ...,\n",
       "\n",
       "\n",
       "       [[[0.45085894, 0.86451202, 0.93069872],\n",
       "         [0.07550373, 0.34189995, 0.50944484],\n",
       "         [0.58010382, 0.35664618, 0.39457879],\n",
       "         ...,\n",
       "         [0.0087126 , 0.60687037, 0.59988681],\n",
       "         [0.65495483, 0.97250205, 0.86468562],\n",
       "         [0.33030883, 0.80457622, 0.36434104]],\n",
       "\n",
       "        [[0.75461357, 0.51060699, 0.13434418],\n",
       "         [0.53432837, 0.01101152, 0.85355995],\n",
       "         [0.83690614, 0.8400274 , 0.43855245],\n",
       "         ...,\n",
       "         [0.07516211, 0.83621182, 0.1288601 ],\n",
       "         [0.29361217, 0.55683901, 0.2335663 ],\n",
       "         [0.93405568, 0.23270368, 0.00515561]],\n",
       "\n",
       "        [[0.84199311, 0.94360999, 0.07772067],\n",
       "         [0.08852665, 0.8976647 , 0.03262357],\n",
       "         [0.78777862, 0.6998853 , 0.06658777],\n",
       "         ...,\n",
       "         [0.08444413, 0.97638772, 0.38675504],\n",
       "         [0.28497292, 0.04553402, 0.72583284],\n",
       "         [0.3878959 , 0.49984836, 0.21990579]],\n",
       "\n",
       "        ...,\n",
       "\n",
       "        [[0.81902939, 0.01542931, 0.58211212],\n",
       "         [0.50710097, 0.50998578, 0.36408297],\n",
       "         [0.90543935, 0.82603188, 0.26296742],\n",
       "         ...,\n",
       "         [0.67205239, 0.57370258, 0.59319477],\n",
       "         [0.83269111, 0.73558713, 0.73388973],\n",
       "         [0.16591119, 0.58008583, 0.84575366]],\n",
       "\n",
       "        [[0.94765937, 0.9433744 , 0.72716872],\n",
       "         [0.51670246, 0.19409051, 0.37275858],\n",
       "         [0.22368777, 0.60724364, 0.00957401],\n",
       "         ...,\n",
       "         [0.16588634, 0.39536225, 0.23161033],\n",
       "         [0.19511311, 0.65277607, 0.05973679],\n",
       "         [0.77762068, 0.02430861, 0.07963567]],\n",
       "\n",
       "        [[0.03223304, 0.53213813, 0.82353711],\n",
       "         [0.1346184 , 0.35386627, 0.78274786],\n",
       "         [0.86991287, 0.92494347, 0.01116471],\n",
       "         ...,\n",
       "         [0.03877451, 0.27489093, 0.53122151],\n",
       "         [0.85597923, 0.05284757, 0.51682512],\n",
       "         [0.62148049, 0.54394138, 0.39030805]]],\n",
       "\n",
       "\n",
       "       [[[0.26349646, 0.07041456, 0.89407482],\n",
       "         [0.6697023 , 0.16378748, 0.51269478],\n",
       "         [0.65560591, 0.96452882, 0.71840097],\n",
       "         ...,\n",
       "         [0.04766354, 0.03675247, 0.56660592],\n",
       "         [0.56686518, 0.70612541, 0.96234291],\n",
       "         [0.28315554, 0.15342977, 0.54172274]],\n",
       "\n",
       "        [[0.43622709, 0.84995126, 0.51393721],\n",
       "         [0.89741383, 0.06716259, 0.32243026],\n",
       "         [0.15289906, 0.20482254, 0.8295966 ],\n",
       "         ...,\n",
       "         [0.21329156, 0.39963583, 0.63543558],\n",
       "         [0.66846075, 0.45237334, 0.82815849],\n",
       "         [0.8524948 , 0.0853297 , 0.56252316]],\n",
       "\n",
       "        [[0.03862127, 0.05878427, 0.67384742],\n",
       "         [0.63471395, 0.19276041, 0.85500218],\n",
       "         [0.60452255, 0.49432819, 0.32637132],\n",
       "         ...,\n",
       "         [0.73166973, 0.71754394, 0.39636471],\n",
       "         [0.79526544, 0.37454741, 0.46769237],\n",
       "         [0.53004938, 0.58087595, 0.52901706]],\n",
       "\n",
       "        ...,\n",
       "\n",
       "        [[0.27381382, 0.06367496, 0.05033057],\n",
       "         [0.17702253, 0.37500561, 0.59782725],\n",
       "         [0.52842126, 0.03526753, 0.10143937],\n",
       "         ...,\n",
       "         [0.71793248, 0.70152237, 0.92942436],\n",
       "         [0.09347208, 0.09478532, 0.1968831 ],\n",
       "         [0.61014481, 0.08672969, 0.25655606]],\n",
       "\n",
       "        [[0.03867968, 0.6267496 , 0.01747372],\n",
       "         [0.46613284, 0.19476361, 0.60421262],\n",
       "         [0.84275811, 0.8100155 , 0.63114623],\n",
       "         ...,\n",
       "         [0.24305432, 0.56391968, 0.88005513],\n",
       "         [0.70647445, 0.97886682, 0.16349532],\n",
       "         [0.73986393, 0.90565972, 0.76961861]],\n",
       "\n",
       "        [[0.88218443, 0.64274537, 0.10570886],\n",
       "         [0.74408319, 0.87226084, 0.13123745],\n",
       "         [0.55865365, 0.4925713 , 0.98939471],\n",
       "         ...,\n",
       "         [0.27354617, 0.52867445, 0.52071082],\n",
       "         [0.11707123, 0.85587541, 0.1876376 ],\n",
       "         [0.89521405, 0.97242184, 0.31252389]]],\n",
       "\n",
       "\n",
       "       [[[0.80918589, 0.05982175, 0.46410155],\n",
       "         [0.61765826, 0.42333725, 0.33436949],\n",
       "         [0.94338726, 0.54599913, 0.72338267],\n",
       "         ...,\n",
       "         [0.27899441, 0.62734286, 0.62123094],\n",
       "         [0.74730372, 0.85037102, 0.83001053],\n",
       "         [0.40779764, 0.42445778, 0.26669099]],\n",
       "\n",
       "        [[0.43280329, 0.74434555, 0.13966594],\n",
       "         [0.36576342, 0.20883812, 0.14261252],\n",
       "         [0.27766308, 0.95154758, 0.83275129],\n",
       "         ...,\n",
       "         [0.88243424, 0.7768039 , 0.3002728 ],\n",
       "         [0.72775808, 0.03112219, 0.75163161],\n",
       "         [0.17977176, 0.56094246, 0.29374057]],\n",
       "\n",
       "        [[0.14815087, 0.39728849, 0.0434374 ],\n",
       "         [0.74262175, 0.11603487, 0.34099051],\n",
       "         [0.68937646, 0.27807318, 0.55653543],\n",
       "         ...,\n",
       "         [0.49651505, 0.8676326 , 0.72623347],\n",
       "         [0.58001804, 0.06631418, 0.94042806],\n",
       "         [0.50540029, 0.23037723, 0.8059541 ]],\n",
       "\n",
       "        ...,\n",
       "\n",
       "        [[0.39021873, 0.8794984 , 0.60391412],\n",
       "         [0.86507121, 0.73667355, 0.05948067],\n",
       "         [0.44320589, 0.06877142, 0.89356983],\n",
       "         ...,\n",
       "         [0.61967746, 0.05933843, 0.39517292],\n",
       "         [0.70136895, 0.19940822, 0.00709767],\n",
       "         [0.02110421, 0.26049278, 0.57012639]],\n",
       "\n",
       "        [[0.15310887, 0.56876503, 0.32150011],\n",
       "         [0.68274251, 0.09196901, 0.07602242],\n",
       "         [0.12339207, 0.49909695, 0.41630697],\n",
       "         ...,\n",
       "         [0.70844468, 0.33939961, 0.31017896],\n",
       "         [0.97478714, 0.64271973, 0.75399876],\n",
       "         [0.09986875, 0.52669848, 0.42486805]],\n",
       "\n",
       "        [[0.34927929, 0.43337645, 0.71593336],\n",
       "         [0.30589483, 0.55298609, 0.17998184],\n",
       "         [0.88160678, 0.79050822, 0.51471013],\n",
       "         ...,\n",
       "         [0.96024025, 0.3678822 , 0.34368904],\n",
       "         [0.54987919, 0.20821353, 0.35001354],\n",
       "         [0.50800217, 0.9351495 , 0.01517228]]]])"
      ]
     },
     "execution_count": 26,
     "metadata": {},
     "output_type": "execute_result"
    }
   ],
   "source": [
    "import numpy as np\n",
    "image_tf = np.random.rand(8, 32, 15, 3)\n",
    "image_torch = np.transpose(image_tf, axes=[0, 3, 1, 2])\n",
    "image_tf"
   ]
  },
  {
   "cell_type": "code",
   "execution_count": 27,
   "id": "88c0c4b5",
   "metadata": {
    "ExecuteTime": {
     "end_time": "2023-11-25T21:36:17.933325Z",
     "start_time": "2023-11-25T21:36:17.926606Z"
    }
   },
   "outputs": [
    {
     "name": "stdout",
     "output_type": "stream",
     "text": [
      "(8, 3, 15, 32)\n",
      "(8, 3, 32, 15)\n"
     ]
    }
   ],
   "source": [
    "image_torch = np.swapaxes(image_tf, 1, 3) # (8, 3, 15, 32)\n",
    "print(image_torch.shape)\n",
    "image_torch = np.swapaxes(image_torch, 2, 3) # (8, 3, 32, 15)\n",
    "print(image_torch.shape)"
   ]
  },
  {
   "cell_type": "markdown",
   "id": "36f88ae6",
   "metadata": {},
   "source": [
    "# Case Study: Image Normalization"
   ]
  },
  {
   "cell_type": "code",
   "execution_count": 43,
   "id": "7dfb7b7b",
   "metadata": {
    "ExecuteTime": {
     "end_time": "2023-11-25T21:45:50.123216Z",
     "start_time": "2023-11-25T21:45:50.104424Z"
    },
    "scrolled": true
   },
   "outputs": [
    {
     "name": "stdout",
     "output_type": "stream",
     "text": [
      "Before normalization: -3.1193620454833173 , 2.5491148018992122\n",
      "After normalization: 0.0 , 0.9999998235857973\n"
     ]
    }
   ],
   "source": [
    "import numpy as np\n",
    "\n",
    "def normalize_image(image):\n",
    "    \"\"\"Normalize image pixel values to be between 0 and 1\"\"\"\n",
    "    # image shape (height, width, channel)\n",
    "    min_val = np.min(image) # scalar\n",
    "    max_val = np.max(image) # scalar\n",
    "    normalized_img = (image - min_val) / (max_val - min_val + 1e-6)\n",
    "\n",
    "    return normalized_img\n",
    "\n",
    "image = np.random.randn(28, 28, 3)\n",
    "print(\"Before normalization:\", image.min(), \",\", image.max())\n",
    "normalized_img = normalize_image(image)\n",
    "print(\"After normalization:\", normalized_img.min(), \",\", normalized_img.max())"
   ]
  },
  {
   "cell_type": "code",
   "execution_count": 44,
   "id": "9e8d49be",
   "metadata": {
    "ExecuteTime": {
     "end_time": "2023-11-25T21:46:17.058009Z",
     "start_time": "2023-11-25T21:46:17.038057Z"
    }
   },
   "outputs": [
    {
     "name": "stdout",
     "output_type": "stream",
     "text": [
      "Before normalization: -4.629566179286963 , 4.185421603136554\n",
      "After normalization: 0.0 , 0.9999998790137918\n"
     ]
    }
   ],
   "source": [
    "import numpy as np\n",
    "\n",
    "def normalize_image_batch(images):\n",
    "    \"\"\"Normalize image pixel values to be between 0 and 1\"\"\"\n",
    "    # image shape (batch_size, height, width, channel)\n",
    "    # min / max (batch_size, 1, 1, 1)\n",
    "    min_val = np.min(images, axis=(1, 2, 3), keepdims=True)\n",
    "    max_val = np.max(images, axis=(1, 2, 3), keepdims=True)\n",
    "    normalized_img = (images - min_val) / (max_val - min_val + 1e-6)\n",
    "\n",
    "    return normalized_img\n",
    "\n",
    "image = np.random.randn(32, 28, 28, 3)\n",
    "print(\"Before normalization:\", image.min(), \",\", image.max())\n",
    "normalized_img = normalize_image_batch(image)\n",
    "print(\"After normalization:\", normalized_img.min(), \",\", normalized_img.max())"
   ]
  },
  {
   "cell_type": "markdown",
   "id": "4626254c",
   "metadata": {},
   "source": [
    "# Case Study: Pearson's Correlation"
   ]
  },
  {
   "cell_type": "code",
   "execution_count": 45,
   "id": "f684ae04",
   "metadata": {
    "ExecuteTime": {
     "end_time": "2023-11-25T21:46:25.208703Z",
     "start_time": "2023-11-25T21:46:25.186765Z"
    }
   },
   "outputs": [
    {
     "data": {
      "text/plain": [
       "array([-0.06100263, -0.22833885,  0.28459925,  0.04596815,  0.11139861,\n",
       "       -0.22759549,  0.13234171,  0.27218793, -0.35384352,  0.40702733])"
      ]
     },
     "execution_count": 45,
     "metadata": {},
     "output_type": "execute_result"
    }
   ],
   "source": [
    "import numpy as np\n",
    "\n",
    "def faster_corr(X, Y):\n",
    "    \"\"\"\n",
    "    A faster way to compute Pearson's correlation\n",
    "    between corresponding rows of two matrices\n",
    "    \"\"\"\n",
    "    # zero means\n",
    "    X = X - np.mean(X, axis=1, keepdims=True) \n",
    "    Y = Y - np.mean(Y, axis=1, keepdims=True)\n",
    "    # L2 normalization\n",
    "    X = X / np.sqrt(np.sum(X**2, axis=1, keepdims=True))\n",
    "    Y = Y / np.sqrt(np.sum(Y**2, axis=1, keepdims=True))\n",
    "    R = np.sum(X*Y, axis=1)\n",
    "\n",
    "    return R\n",
    "\n",
    "X = np.random.rand(10, 20)\n",
    "Y = np.random.rand(10, 20)\n",
    "\n",
    "R = faster_corr(X, Y)\n",
    "R"
   ]
  },
  {
   "cell_type": "markdown",
   "id": "bd52eb9f",
   "metadata": {},
   "source": [
    "# Case Study: Pair-wise Difference"
   ]
  },
  {
   "cell_type": "code",
   "execution_count": 46,
   "id": "ef4f919c",
   "metadata": {
    "ExecuteTime": {
     "end_time": "2023-11-25T21:46:57.195134Z",
     "start_time": "2023-11-25T21:46:57.182015Z"
    }
   },
   "outputs": [
    {
     "data": {
      "text/plain": [
       "array([[2, 3, 4],\n",
       "       [3, 4, 5],\n",
       "       [4, 5, 6],\n",
       "       [5, 6, 7],\n",
       "       [6, 7, 8]])"
      ]
     },
     "execution_count": 46,
     "metadata": {},
     "output_type": "execute_result"
    }
   ],
   "source": [
    "import numpy as np\n",
    "\n",
    "def pairwise_diff(A, B):\n",
    "    \"\"\"\n",
    "    Calculate the pair-wise difference between \n",
    "    each element of the two vectors of length N and M, \n",
    "    respectively, and return a matrix of shape M x N\n",
    "    * A: vector of length M\n",
    "    * B: vector of length N\n",
    "    \"\"\"\n",
    "    A = np.asarray(A).flatten()[:, np.newaxis]\n",
    "    B = np.asarray(B).flatten()[np.newaxis, :]\n",
    "    return A - B\n",
    "\n",
    "A = np.array([1, 2, 3, 4, 5])\n",
    "B = np.array([-1, -2, -3])\n",
    "D = pairwise_diff(A, B)\n",
    "D"
   ]
  },
  {
   "cell_type": "markdown",
   "id": "507c057b",
   "metadata": {
    "ExecuteTime": {
     "end_time": "2023-11-25T21:47:28.435368Z",
     "start_time": "2023-11-25T21:47:28.426332Z"
    }
   },
   "source": [
    "# Magic Squares"
   ]
  },
  {
   "cell_type": "code",
   "execution_count": 49,
   "id": "a1718dcf",
   "metadata": {
    "ExecuteTime": {
     "end_time": "2023-11-25T21:49:12.071507Z",
     "start_time": "2023-11-25T21:49:12.049116Z"
    }
   },
   "outputs": [],
   "source": [
    "import numpy as np\n",
    "\n",
    "def _odd_order_magic(n: int):\n",
    "    \"\"\"Make Siamese odd-order magic squares via Latin squares.\"\"\"\n",
    "    # Initialize p = i / j, used for \n",
    "    # brodcasting later -> shape n x 1\n",
    "    p = np.arange(n)[:, None]\n",
    "    # make L_b\n",
    "    L_b = np.mod(p + p.T - (n - 1) // 2, n)\n",
    "    # make L_u\n",
    "    L_u = np.mod(p + 2 * p.T - n + 1, n)\n",
    "    # make the magic square\n",
    "    S = n * L_b + L_u + np.ones_like(L_b)\n",
    "\n",
    "    return S\n",
    "\n",
    "def _doubly_even_order_magic(n: int):\n",
    "    \"\"\"Use X method to construct doubly even magic squares.\"\"\"\n",
    "    # e.g. n=8, (64, )\n",
    "    S = np.arange(n**2, 0, -1)\n",
    "    # Split into 4x4 blocks (2, 4, 2, 4)\n",
    "    S = S.reshape((n//4, 4, n//4, 4))\n",
    "    # Create the X mask\n",
    "    X = np.eye(4, dtype=S.dtype) * (n**2 + 1)\n",
    "    X = X + np.fliplr(X)\n",
    "    # (1, 4, 1, 4)\n",
    "    X = X[None, :, None, :]\n",
    "    # Subtract under absolute value\n",
    "    S = np.abs(S - X)\n",
    "    # Reshape (8, 8)\n",
    "    S = S.reshape((n, n))\n",
    "\n",
    "    return S\n",
    "\n",
    "def _singly_even_order_magic(n: int):\n",
    "    \"\"\"Use LUX method to construct singly even magic squares.\"\"\"\n",
    "    # Compute size constants\n",
    "    m = n // 2 # odd\n",
    "    k = (m - 1) // 2\n",
    "    # Initialize the 3 filling variants\n",
    "    L = np.array([[4, 1], [2, 3]])\n",
    "    U = np.array([[1, 4], [2, 3]])\n",
    "    X = np.array([[1, 4], [3, 2]])\n",
    "    # Create k-rows of L-filled blocks\n",
    "    M_L = np.full((k, m, 2, 2), L)\n",
    "    # Create a row of L-filled blocks, \n",
    "    # except the middle column is filled with U\n",
    "    M_LU = np.concatenate([\n",
    "        np.full((1, k, 2, 2), L),\n",
    "        U[None, None, :, :],\n",
    "        np.full((1, k, 2, 2), L),\n",
    "    ], axis=1)\n",
    "    # Create a row of U-filled blocks,\n",
    "    # except the middle column is filled with L\n",
    "    M_UL = np.concatenate([\n",
    "        np.full((1, k, 2, 2), U),\n",
    "        L[None, None, :, :],\n",
    "        np.full((1, k, 2, 2), U),\n",
    "    ], axis=1)\n",
    "    # Fill the rest the k-1 rows with X\n",
    "    M_X = np.full((k-1, m, 2, 2), X)\n",
    "    # Combine all the sub-blocks (p, p, 2, 2)\n",
    "    M = np.concatenate([\n",
    "        M_L, M_LU, M_UL, M_X\n",
    "    ], axis=0)\n",
    "    # Initialize the Simaese odd order magic square\n",
    "    S = _odd_order_magic(m)\n",
    "    # Apply the Siamese mapping formula\n",
    "    M += 4 * (S[:, :, None, None] - 1)\n",
    "    # Reshaping back to n x n\n",
    "    M = np.swapaxes(M, 1, 2).reshape((n, n))\n",
    "\n",
    "    return M\n",
    "\n",
    "def magic(n: int):\n",
    "    \"\"\"Construct magic squares of order n.\"\"\"\n",
    "    n = int(n) # make sure n is integer\n",
    "    if n < 3: # check value of n\n",
    "        raise(ValueError(\"n must be > 2.\"))\n",
    "    if n % 2 == 1: # odd case\n",
    "        return _odd_order_magic(n)\n",
    "    elif n % 4 == 0: # doubly even\n",
    "        return _doubly_even_order_magic(n)\n",
    "    else: # assume singly even\n",
    "        return _singly_even_order_magic(n)\n"
   ]
  },
  {
   "cell_type": "code",
   "execution_count": 55,
   "id": "d89925f1",
   "metadata": {
    "ExecuteTime": {
     "end_time": "2023-11-25T21:49:44.786159Z",
     "start_time": "2023-11-25T21:49:44.767660Z"
    }
   },
   "outputs": [
    {
     "data": {
      "text/plain": [
       "array([[8, 1, 6],\n",
       "       [3, 5, 7],\n",
       "       [4, 9, 2]])"
      ]
     },
     "execution_count": 55,
     "metadata": {},
     "output_type": "execute_result"
    }
   ],
   "source": [
    "magic(3)"
   ]
  },
  {
   "cell_type": "code",
   "execution_count": 51,
   "id": "ce058642",
   "metadata": {
    "ExecuteTime": {
     "end_time": "2023-11-25T21:49:20.396110Z",
     "start_time": "2023-11-25T21:49:20.385321Z"
    }
   },
   "outputs": [
    {
     "data": {
      "text/plain": [
       "array([[ 1, 15, 14,  4],\n",
       "       [12,  6,  7,  9],\n",
       "       [ 8, 10, 11,  5],\n",
       "       [13,  3,  2, 16]])"
      ]
     },
     "execution_count": 51,
     "metadata": {},
     "output_type": "execute_result"
    }
   ],
   "source": [
    "magic(4)"
   ]
  },
  {
   "cell_type": "code",
   "execution_count": 52,
   "id": "eefcb4c9",
   "metadata": {
    "ExecuteTime": {
     "end_time": "2023-11-25T21:49:24.973399Z",
     "start_time": "2023-11-25T21:49:24.960759Z"
    }
   },
   "outputs": [
    {
     "data": {
      "text/plain": [
       "array([[32, 29,  4,  1, 24, 21],\n",
       "       [30, 31,  2,  3, 22, 23],\n",
       "       [12,  9, 17, 20, 28, 25],\n",
       "       [10, 11, 18, 19, 26, 27],\n",
       "       [13, 16, 36, 33,  5,  8],\n",
       "       [14, 15, 34, 35,  6,  7]])"
      ]
     },
     "execution_count": 52,
     "metadata": {},
     "output_type": "execute_result"
    }
   ],
   "source": [
    "magic(6)"
   ]
  },
  {
   "cell_type": "code",
   "execution_count": null,
   "id": "451e8dd2",
   "metadata": {},
   "outputs": [],
   "source": []
  }
 ],
 "metadata": {
  "kernelspec": {
   "display_name": "Python 3 (ipykernel)",
   "language": "python",
   "name": "python3"
  },
  "language_info": {
   "codemirror_mode": {
    "name": "ipython",
    "version": 3
   },
   "file_extension": ".py",
   "mimetype": "text/x-python",
   "name": "python",
   "nbconvert_exporter": "python",
   "pygments_lexer": "ipython3",
   "version": "3.10.6"
  },
  "toc": {
   "base_numbering": 1,
   "nav_menu": {},
   "number_sections": false,
   "sideBar": true,
   "skip_h1_title": false,
   "title_cell": "Table of Contents",
   "title_sidebar": "Contents",
   "toc_cell": false,
   "toc_position": {},
   "toc_section_display": true,
   "toc_window_display": false
  },
  "varInspector": {
   "cols": {
    "lenName": 16,
    "lenType": 16,
    "lenVar": 40
   },
   "kernels_config": {
    "python": {
     "delete_cmd_postfix": "",
     "delete_cmd_prefix": "del ",
     "library": "var_list.py",
     "varRefreshCmd": "print(var_dic_list())"
    },
    "r": {
     "delete_cmd_postfix": ") ",
     "delete_cmd_prefix": "rm(",
     "library": "var_list.r",
     "varRefreshCmd": "cat(var_dic_list()) "
    }
   },
   "types_to_exclude": [
    "module",
    "function",
    "builtin_function_or_method",
    "instance",
    "_Feature"
   ],
   "window_display": false
  }
 },
 "nbformat": 4,
 "nbformat_minor": 5
}
