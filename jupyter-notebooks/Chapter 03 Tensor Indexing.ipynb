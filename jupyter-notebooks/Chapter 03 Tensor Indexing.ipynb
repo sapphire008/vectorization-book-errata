{
 "cells": [
  {
   "cell_type": "markdown",
   "id": "7a46d5c7",
   "metadata": {},
   "source": [
    "# Flat vs Multi-Index"
   ]
  },
  {
   "cell_type": "code",
   "execution_count": 2,
   "id": "de0b25d5",
   "metadata": {
    "ExecuteTime": {
     "end_time": "2023-11-25T21:51:37.993238Z",
     "start_time": "2023-11-25T21:51:37.979973Z"
    }
   },
   "outputs": [
    {
     "name": "stdout",
     "output_type": "stream",
     "text": [
      "[[ 0  0  0  0  0]\n",
      " [ 3  0  0  1  1]\n",
      " [ 6  0  1  0  0]\n",
      " [ 9  0  1  1  1]\n",
      " [12  0  2  0  0]\n",
      " [15  0  2  1  1]\n",
      " [18  1  0  0  0]\n",
      " [21  1  0  1  1]\n",
      " [24  1  1  0  0]\n",
      " [27  1  1  1  1]\n",
      " [30  1  2  0  0]\n",
      " [33  1  2  1  1]]\n"
     ]
    }
   ],
   "source": [
    "import numpy as np\n",
    "shape = [2, 3, 3, 2]\n",
    "flat_index = np.arange(0, np.prod(shape), 3)\n",
    "\n",
    "r_multi_index = np.unravel_index(\n",
    "    flat_index, shape, order=\"C\"\n",
    ")\n",
    "print(np.stack([flat_index] +list(r_multi_index)).T)"
   ]
  },
  {
   "cell_type": "code",
   "execution_count": 3,
   "id": "9981c6bb",
   "metadata": {
    "ExecuteTime": {
     "end_time": "2023-11-25T21:51:40.361293Z",
     "start_time": "2023-11-25T21:51:40.352384Z"
    }
   },
   "outputs": [
    {
     "name": "stdout",
     "output_type": "stream",
     "text": [
      "[[ 0  0  0  0  0]\n",
      " [ 3  1  1  0  0]\n",
      " [ 6  0  0  1  0]\n",
      " [ 9  1  1  1  0]\n",
      " [12  0  0  2  0]\n",
      " [15  1  1  2  0]\n",
      " [18  0  0  0  1]\n",
      " [21  1  1  0  1]\n",
      " [24  0  0  1  1]\n",
      " [27  1  1  1  1]\n",
      " [30  0  0  2  1]\n",
      " [33  1  1  2  1]]\n"
     ]
    }
   ],
   "source": [
    "c_multi_index = np.unravel_index(\n",
    "    flat_index, shape, order=\"F\"\n",
    ")\n",
    "print(np.stack([flat_index] +list(c_multi_index)).T)"
   ]
  },
  {
   "cell_type": "markdown",
   "id": "bcb31485",
   "metadata": {},
   "source": [
    "## Flat index and multi-index interconversion"
   ]
  },
  {
   "cell_type": "markdown",
   "id": "d6dde82f",
   "metadata": {},
   "source": [
    "Flat index to multi-index"
   ]
  },
  {
   "cell_type": "code",
   "execution_count": 8,
   "id": "b490d13a",
   "metadata": {
    "ExecuteTime": {
     "end_time": "2023-11-26T00:21:16.712682Z",
     "start_time": "2023-11-26T00:21:16.705990Z"
    }
   },
   "outputs": [],
   "source": [
    "def ind2sub(flat_index, shape, order=\"C\"):\n",
    "    \"\"\"Convert flat index to multi-index.\"\"\"\n",
    "    if order == \"C\":\n",
    "        eta = np.cumprod(shape[1:][::-1])\n",
    "        eta = np.concatenate([[1], eta])[::-1]\n",
    "    else: # \"F\"\n",
    "        eta = np.cumprod(shape)[:-1]\n",
    "        eta = np.concatenate([[1], eta])\n",
    "\n",
    "    # (num_indices, 1)\n",
    "    flat_index = np.asarray(flat_index)[:, None]\n",
    "    shape = np.asarray(shape)\n",
    "\n",
    "    # Compute multi-index\n",
    "    return flat_index // eta % shape"
   ]
  },
  {
   "cell_type": "code",
   "execution_count": 13,
   "id": "aeef33b6",
   "metadata": {
    "ExecuteTime": {
     "end_time": "2023-11-26T00:21:50.593820Z",
     "start_time": "2023-11-26T00:21:50.573035Z"
    },
    "scrolled": true
   },
   "outputs": [
    {
     "name": "stdout",
     "output_type": "stream",
     "text": [
      "r_sub:\n",
      " [[0 0 0 0]\n",
      " [0 0 0 1]\n",
      " [0 0 1 0]\n",
      " [0 0 1 1]\n",
      " [0 0 2 0]\n",
      " [0 0 2 1]\n",
      " [0 1 0 0]\n",
      " [0 1 0 1]\n",
      " [0 1 1 0]\n",
      " [0 1 1 1]\n",
      " [0 1 2 0]\n",
      " [0 1 2 1]\n",
      " [0 2 0 0]\n",
      " [0 2 0 1]\n",
      " [0 2 1 0]\n",
      " [0 2 1 1]\n",
      " [0 2 2 0]\n",
      " [0 2 2 1]\n",
      " [1 0 0 0]\n",
      " [1 0 0 1]\n",
      " [1 0 1 0]\n",
      " [1 0 1 1]\n",
      " [1 0 2 0]\n",
      " [1 0 2 1]\n",
      " [1 1 0 0]\n",
      " [1 1 0 1]\n",
      " [1 1 1 0]\n",
      " [1 1 1 1]\n",
      " [1 1 2 0]\n",
      " [1 1 2 1]\n",
      " [1 2 0 0]\n",
      " [1 2 0 1]\n",
      " [1 2 1 0]\n",
      " [1 2 1 1]\n",
      " [1 2 2 0]\n",
      " [1 2 2 1]]\n",
      "c_sub:\n",
      " [[0 0 0 0]\n",
      " [1 0 0 0]\n",
      " [0 1 0 0]\n",
      " [1 1 0 0]\n",
      " [0 2 0 0]\n",
      " [1 2 0 0]\n",
      " [0 0 1 0]\n",
      " [1 0 1 0]\n",
      " [0 1 1 0]\n",
      " [1 1 1 0]\n",
      " [0 2 1 0]\n",
      " [1 2 1 0]\n",
      " [0 0 2 0]\n",
      " [1 0 2 0]\n",
      " [0 1 2 0]\n",
      " [1 1 2 0]\n",
      " [0 2 2 0]\n",
      " [1 2 2 0]\n",
      " [0 0 0 1]\n",
      " [1 0 0 1]\n",
      " [0 1 0 1]\n",
      " [1 1 0 1]\n",
      " [0 2 0 1]\n",
      " [1 2 0 1]\n",
      " [0 0 1 1]\n",
      " [1 0 1 1]\n",
      " [0 1 1 1]\n",
      " [1 1 1 1]\n",
      " [0 2 1 1]\n",
      " [1 2 1 1]\n",
      " [0 0 2 1]\n",
      " [1 0 2 1]\n",
      " [0 1 2 1]\n",
      " [1 1 2 1]\n",
      " [0 2 2 1]\n",
      " [1 2 2 1]]\n"
     ]
    }
   ],
   "source": [
    "# Verify ind2sub\n",
    "import numpy as np\n",
    "shape = np.array([2, 3, 3, 2])\n",
    "flat_index = np.arange(np.prod(shape))\n",
    "\n",
    "# Use numpy unravel_index\n",
    "r_multi_index = np.vstack(np.unravel_index(flat_index, shape, order=\"C\")).T\n",
    "c_multi_index = np.vstack(np.unravel_index(flat_index, shape, order=\"F\")).T\n",
    "\n",
    "# Call our own implementations\n",
    "r_sub = ind2sub(flat_index, shape, order=\"C\")\n",
    "c_sub = ind2sub(flat_index, shape, order=\"F\")\n",
    "\n",
    "print(\"r_sub:\\n\", r_sub)\n",
    "print(\"c_sub:\\n\", c_sub)\n",
    "\n",
    "assert np.allclose(r_multi_index, r_sub)\n",
    "assert np.allclose(c_multi_index, c_sub)"
   ]
  },
  {
   "cell_type": "markdown",
   "id": "1123f15c",
   "metadata": {},
   "source": [
    "Multi-index to flat index"
   ]
  },
  {
   "cell_type": "code",
   "execution_count": 14,
   "id": "5f932004",
   "metadata": {
    "ExecuteTime": {
     "end_time": "2023-11-26T00:23:11.134064Z",
     "start_time": "2023-11-26T00:23:11.122124Z"
    }
   },
   "outputs": [
    {
     "name": "stdout",
     "output_type": "stream",
     "text": [
      "[[ 8  0  1  1  0]\n",
      " [13  0  2  0  1]\n",
      " [20  1  0  1  0]\n",
      " [27  1  1  1  1]]\n"
     ]
    }
   ],
   "source": [
    "import numpy as np\n",
    "coordinates = [ # point coordinates\n",
    "    (0, 1, 1, 0), \n",
    "    (0, 2, 0, 1),\n",
    "    (1, 0, 1, 0),\n",
    "    (1, 1, 1, 1),\n",
    "]\n",
    "# one array for each dimension\n",
    "multi_indices = np.array(coordinates).T.tolist()\n",
    "\n",
    "shape = [2, 3, 3, 2]\n",
    "\n",
    "# C-order\n",
    "r_flat_index = np.ravel_multi_index(\n",
    "    multi_indices, dims=shape, order=\"C\"\n",
    ")\n",
    "print(np.concatenate([r_flat_index[:, None], coordinates], axis=1))"
   ]
  },
  {
   "cell_type": "code",
   "execution_count": 15,
   "id": "979511a3",
   "metadata": {
    "ExecuteTime": {
     "end_time": "2023-11-26T00:23:18.897287Z",
     "start_time": "2023-11-26T00:23:18.891160Z"
    }
   },
   "outputs": [
    {
     "name": "stdout",
     "output_type": "stream",
     "text": [
      "[[ 8  0  1  1  0]\n",
      " [22  0  2  0  1]\n",
      " [ 7  1  0  1  0]\n",
      " [27  1  1  1  1]]\n"
     ]
    }
   ],
   "source": [
    "# F-order\n",
    "c_flat_index = np.ravel_multi_index(\n",
    "    multi_indices, dims=shape, order=\"F\"\n",
    ")\n",
    "print(np.concatenate([c_flat_index[:, None], coordinates], axis=1))"
   ]
  },
  {
   "cell_type": "code",
   "execution_count": 24,
   "id": "125c0763",
   "metadata": {
    "ExecuteTime": {
     "end_time": "2023-11-26T00:31:25.236410Z",
     "start_time": "2023-11-26T00:31:25.222075Z"
    }
   },
   "outputs": [
    {
     "name": "stdout",
     "output_type": "stream",
     "text": [
      "multi-index: [(0, 1, 1, 0), (0, 2, 0, 1), (1, 0, 1, 0), (1, 1, 1, 1)]\n",
      "shape: [2, 3, 3, 2]\n",
      "C: [ 8 13 20 27]\n",
      "F: [ 8 22  7 27]\n"
     ]
    }
   ],
   "source": [
    "def sub2ind(multi_index, shape, order=\"C\"):\n",
    "    \"\"\"Convert multi-index to flat index.\"\"\"\n",
    "    if order == \"C\":\n",
    "        eta = np.cumprod(shape[1:][::-1])\n",
    "        eta = np.concatenate([[1], eta])[::-1]\n",
    "    else: # \"F\"\n",
    "        eta = np.cumprod(shape)[:-1]\n",
    "        eta = np.concatenate([[1], eta])\n",
    "\n",
    "    # (num_indices, d)\n",
    "    multi_index = np.asarray(multi_index)\n",
    "\n",
    "    return np.sum(multi_index * eta, axis=1)\n",
    "\n",
    "c_ind = sub2ind(coordinates, shape=shape, order=\"C\")\n",
    "f_ind = sub2ind(coordinates, shape=shape, order=\"F\")\n",
    "print(\"multi-index:\", coordinates)\n",
    "print(\"shape:\", shape)\n",
    "print(\"C:\", c_ind)\n",
    "print(\"F:\", f_ind)"
   ]
  },
  {
   "cell_type": "markdown",
   "id": "f0784fa9",
   "metadata": {},
   "source": [
    "# Boolean indexing"
   ]
  },
  {
   "cell_type": "code",
   "execution_count": 17,
   "id": "961e4043",
   "metadata": {
    "ExecuteTime": {
     "end_time": "2023-11-26T00:24:47.374986Z",
     "start_time": "2023-11-26T00:24:47.359126Z"
    }
   },
   "outputs": [
    {
     "data": {
      "text/plain": [
       "array([ 5,  3,  9,  7, 11])"
      ]
     },
     "execution_count": 17,
     "metadata": {},
     "output_type": "execute_result"
    }
   ],
   "source": [
    "import numpy as np\n",
    "X = np.array([\n",
    "    [5, 2, 8, 3],\n",
    "    [4, 9, 6, 7],\n",
    "    [8, 11, 12, 10]\n",
    "])\n",
    "\n",
    "# Boolean condition of odd elements\n",
    "# same shape as X\n",
    "condition = X % 2 == 1\n",
    "\n",
    "# Extract the odd elements\n",
    "X[condition]"
   ]
  },
  {
   "cell_type": "code",
   "execution_count": 25,
   "id": "7849a47a",
   "metadata": {
    "ExecuteTime": {
     "end_time": "2023-11-26T00:32:17.922157Z",
     "start_time": "2023-11-26T00:32:17.907015Z"
    }
   },
   "outputs": [
    {
     "name": "stdout",
     "output_type": "stream",
     "text": [
      "row_index: [0 0 1 1 2]\n",
      "col_index: [0 3 1 3 1]\n"
     ]
    }
   ],
   "source": [
    "import numpy as np\n",
    "X = np.array([\n",
    "    [5, 2, 8, 3],\n",
    "    [4, 9, 6, 7],\n",
    "    [8, 11, 12, 10]\n",
    "])\n",
    "\n",
    "# indices of odd elements\n",
    "row_index, col_index = np.where(X % 2 == 1)\n",
    "print(\"row_index:\", row_index)\n",
    "print(\"col_index:\", col_index)"
   ]
  },
  {
   "cell_type": "markdown",
   "id": "4a9da20a",
   "metadata": {},
   "source": [
    "# Slicing"
   ]
  },
  {
   "cell_type": "markdown",
   "id": "ce7a459a",
   "metadata": {},
   "source": [
    "`None`"
   ]
  },
  {
   "cell_type": "code",
   "execution_count": 27,
   "id": "e68c3325",
   "metadata": {
    "ExecuteTime": {
     "end_time": "2023-11-26T00:32:53.153896Z",
     "start_time": "2023-11-26T00:32:53.141339Z"
    }
   },
   "outputs": [],
   "source": [
    "import numpy as np\n",
    "X = np.random.rand(4, 5) # shape (4, 5)\n",
    "# Add an extra 3rd dimension\n",
    "# shape (4, 5, 1)\n",
    "assert np.allclose(\n",
    "    X[:, :, None].shape, \n",
    "    np.expand_dims(X, axis=2).shape\n",
    ")\n",
    "# Insert an extra dimension in the first dimension\n",
    "# shape (1, 4, 5)\n",
    "assert np.allclose(\n",
    "    X[None, :, :].shape,\n",
    "    np.expand_dims(X, axis=0).shape\n",
    ")\n",
    "# Insert an extra dimension between the original \n",
    "# 1st and 2nd dimensions: shape (4, 1, 5)\n",
    "assert np.allclose(\n",
    "    X[:, np.newaxis, :].shape,\n",
    "    np.expand_dims(X, axis=1).shape\n",
    ")"
   ]
  },
  {
   "cell_type": "markdown",
   "id": "98108f3f",
   "metadata": {},
   "source": [
    "Ellipsis `...`"
   ]
  },
  {
   "cell_type": "code",
   "execution_count": 28,
   "id": "623e87da",
   "metadata": {
    "ExecuteTime": {
     "end_time": "2023-11-26T00:33:44.641380Z",
     "start_time": "2023-11-26T00:33:44.629928Z"
    }
   },
   "outputs": [],
   "source": [
    "import numpy as np\n",
    "X = np.random.rand(5, 2, 3, 8, 7)\n",
    "# Selecting subset of a batch\n",
    "assert np.allclose(\n",
    "    X[2:4, :, :, :, :].shape,\n",
    "    X[2:4, ...].shape\n",
    ")\n",
    "# Selecting the first slice of the last dimension\n",
    "assert np.allclose(\n",
    "    X[:, :, :, :, 0].shape,\n",
    "    X[..., 0].shape\n",
    ")\n",
    "# Selecting a subset of the first dimension and \n",
    "# the last slice from the last dimensions\n",
    "assert np.allclose(\n",
    "    X[1:3, :, :, :, -1].shape,\n",
    "    X[1:3, ..., -1].shape\n",
    ")"
   ]
  },
  {
   "cell_type": "markdown",
   "id": "92eb64b5",
   "metadata": {},
   "source": [
    "Variable number of dimensions example for ellipsis `...`"
   ]
  },
  {
   "cell_type": "code",
   "execution_count": 29,
   "id": "84dd0644",
   "metadata": {
    "ExecuteTime": {
     "end_time": "2023-11-26T00:34:07.275742Z",
     "start_time": "2023-11-26T00:34:07.254724Z"
    }
   },
   "outputs": [],
   "source": [
    "import numpy as np\n",
    "\n",
    "def extract_last_event(X):\n",
    "    return X[:, -1, ...]\n",
    "\n",
    "# (batch_size, seq_length)\n",
    "X1 = np.random.rand(16, 50)\n",
    "assert np.allclose(\n",
    "    extract_last_event(X1).shape,\n",
    "    (16, )\n",
    ")\n",
    "\n",
    "# (batch_size, seq_length, feature_size)\n",
    "X2 = np.random.rand(16, 50, 32)\n",
    "assert np.allclose(\n",
    "    extract_last_event(X2).shape,\n",
    "    (16, 32)\n",
    ")\n",
    "# (batch_size, seq_length, feature_size, num_instances)\n",
    "X3 = np.random.rand(16, 50, 32, 8)\n",
    "assert np.allclose(\n",
    "    extract_last_event(X3).shape,\n",
    "    (16, 32, 8)\n",
    ")"
   ]
  },
  {
   "cell_type": "markdown",
   "id": "13674399",
   "metadata": {},
   "source": [
    "# Reusing slice configurations"
   ]
  },
  {
   "cell_type": "code",
   "execution_count": 30,
   "id": "09a176bd",
   "metadata": {
    "ExecuteTime": {
     "end_time": "2023-11-26T00:34:58.070152Z",
     "start_time": "2023-11-26T00:34:58.058922Z"
    }
   },
   "outputs": [
    {
     "name": "stdout",
     "output_type": "stream",
     "text": [
      "(4, 2, 1)\n",
      "(3, 2, 2)\n"
     ]
    }
   ],
   "source": [
    "import numpy as np\n",
    "X = np.random.rand(5, 8, 6)\n",
    "Y = np.random.rand(3, 9, 7)\n",
    "\n",
    "# Build the slice object\n",
    "s = np.s_[:4, 2:4, 5:]\n",
    "\n",
    "# Shape may not necessarily be identical\n",
    "print(X[s].shape) # shape (4, 2, 1)\n",
    "print(Y[s].shape) # shape (3, 2, 2)"
   ]
  },
  {
   "cell_type": "code",
   "execution_count": 32,
   "id": "ae1294f1",
   "metadata": {
    "ExecuteTime": {
     "end_time": "2023-11-26T00:35:16.867900Z",
     "start_time": "2023-11-26T00:35:16.852887Z"
    }
   },
   "outputs": [
    {
     "name": "stdout",
     "output_type": "stream",
     "text": [
      "[1, 2, 3, 4, 5]\n",
      "[1, 3, 5]\n",
      "[]\n"
     ]
    }
   ],
   "source": [
    "x = [1, 2, 3, 4, 5]\n",
    "\n",
    "# stop beyond the size of the array\n",
    "print(x[:7]) # [1, 2, 3, 4, 5]\n",
    "\n",
    "# stop beyond the size of the array, stride 2\n",
    "print(x[:7:2]) # [1, 3, 5]\n",
    "\n",
    "# empty, no elements to take \n",
    "# since the slice is beyond the length of the array\n",
    "print(x[6:8]) # []\n",
    "\n",
    "# The following, however, will throw an error\n",
    "# print(x[7]) # IndexError: list index out of range"
   ]
  },
  {
   "cell_type": "markdown",
   "id": "3936429e",
   "metadata": {},
   "source": [
    "# Case Study: Get Consecutive Index"
   ]
  },
  {
   "cell_type": "code",
   "execution_count": 33,
   "id": "c9d66daf",
   "metadata": {
    "ExecuteTime": {
     "end_time": "2023-11-26T00:36:22.624682Z",
     "start_time": "2023-11-26T00:36:22.610316Z"
    }
   },
   "outputs": [],
   "source": [
    "import numpy as np\n",
    "\n",
    "def get_consecutive_index(t, N=1, interval=True):\n",
    "    \"\"\"\n",
    "    Given a sorted array of integers, find the start and the end\n",
    "    of consecutive blocks\n",
    "    e.g. t = [-1, 1,2,3,4, 7, 9,10,11,12,13, 15],\n",
    "    return [[1,4], [6,10]]\n",
    "\n",
    "    Inputs:\n",
    "    * t: the sorted array of integers\n",
    "    * N: filter for at least N consecutive. Default 1\n",
    "    * interval: if True, we are filtering by N consecutive\n",
    "            intervals instead of N consecutive numbers\n",
    "    \"\"\"\n",
    "    # Determine if the (next element) = (1 + previous)\n",
    "    x = np.diff(t) == 1\n",
    "    # Determine which element is the start or end of the block\n",
    "    f = np.concatenate(([False], x)) != np.concatenate((x, [False]))\n",
    "    # Index of the start and end of the block\n",
    "    f = np.where(f)[0]\n",
    "    # reshape: the start and end must come in pairs\n",
    "    f = np.reshape(f, (-1, 2))\n",
    "    # filter for at least N consecutive\n",
    "    interval = 1 - int(interval)  # 0 if True, 1 if False\n",
    "    # Determine which interval has more than desired N consecutive numbers\n",
    "    f = f[(interval + np.diff(f, n=1, axis=1).T[0]) >= N, :]\n",
    "    return f"
   ]
  },
  {
   "cell_type": "code",
   "execution_count": 35,
   "id": "f4a257d8",
   "metadata": {
    "ExecuteTime": {
     "end_time": "2023-11-26T00:36:32.653790Z",
     "start_time": "2023-11-26T00:36:32.639505Z"
    }
   },
   "outputs": [
    {
     "data": {
      "text/plain": [
       "array([[ 1,  4],\n",
       "       [ 6, 10]])"
      ]
     },
     "execution_count": 35,
     "metadata": {},
     "output_type": "execute_result"
    }
   ],
   "source": [
    "t = [-1, 1, 2, 3, 4, 7, 9, 10, 11, 12, 13, 15]\n",
    "f = get_consecutive_index(t)\n",
    "f"
   ]
  },
  {
   "cell_type": "markdown",
   "id": "080506e5",
   "metadata": {},
   "source": [
    "# Take"
   ]
  },
  {
   "cell_type": "code",
   "execution_count": 36,
   "id": "4a2d51de",
   "metadata": {
    "ExecuteTime": {
     "end_time": "2023-11-26T00:36:52.041844Z",
     "start_time": "2023-11-26T00:36:52.030744Z"
    }
   },
   "outputs": [
    {
     "data": {
      "text/plain": [
       "array([ 5,  7, 13, 19])"
      ]
     },
     "execution_count": 36,
     "metadata": {},
     "output_type": "execute_result"
    }
   ],
   "source": [
    "import numpy as np\n",
    "X = np.array([2, 3, 5, 7, 11, 13, 17, 19, 23, 29])\n",
    "# 1D array slicing\n",
    "flat_index = [2, 3, 5, 7]\n",
    "elements = np.take(X, flat_index)\n",
    "elements"
   ]
  },
  {
   "cell_type": "code",
   "execution_count": 37,
   "id": "912e71ac",
   "metadata": {
    "ExecuteTime": {
     "end_time": "2023-11-26T00:37:01.769175Z",
     "start_time": "2023-11-26T00:37:01.753968Z"
    }
   },
   "outputs": [
    {
     "data": {
      "text/plain": [
       "array([ 2,  3,  5, 18, 23])"
      ]
     },
     "execution_count": 37,
     "metadata": {},
     "output_type": "execute_result"
    }
   ],
   "source": [
    "import numpy as np\n",
    "X = np.arange(24).reshape(4, 6)\n",
    "# Taking elements using flat indices\n",
    "flat_index = [2, 3, 5, 18, 23]\n",
    "elements = np.take(X, flat_index)\n",
    "elements"
   ]
  },
  {
   "cell_type": "code",
   "execution_count": 38,
   "id": "13424f4c",
   "metadata": {
    "ExecuteTime": {
     "end_time": "2023-11-26T00:37:14.593269Z",
     "start_time": "2023-11-26T00:37:14.581226Z"
    }
   },
   "outputs": [],
   "source": [
    "import numpy as np\n",
    "X = np.arange(20).reshape(4, 5)\n",
    "flat_index = [1, 2, 3, 4, 5]\n",
    "assert np.allclose(\n",
    "    np.take(np.asarray(X, order=\"C\"), flat_index),\n",
    "    np.take(np.asarray(X, order=\"F\"), flat_index)\n",
    ")"
   ]
  },
  {
   "cell_type": "code",
   "execution_count": 40,
   "id": "77d6f268",
   "metadata": {
    "ExecuteTime": {
     "end_time": "2023-11-26T00:37:25.848692Z",
     "start_time": "2023-11-26T00:37:25.834043Z"
    }
   },
   "outputs": [
    {
     "data": {
      "text/plain": [
       "array([[4, 5],\n",
       "       [3, 6],\n",
       "       [1, 8]])"
      ]
     },
     "execution_count": 40,
     "metadata": {},
     "output_type": "execute_result"
    }
   ],
   "source": [
    "import numpy as np\n",
    "X = np.arange(10)\n",
    "# Flat index with a desired output shape\n",
    "flat_index = [[4, 5], [3, 6], [1, 8]] # (3, 2)\n",
    "elements = np.take(X, flat_index)\n",
    "elements"
   ]
  },
  {
   "cell_type": "code",
   "execution_count": 41,
   "id": "c8b6c6f8",
   "metadata": {
    "ExecuteTime": {
     "end_time": "2023-11-26T00:37:35.714442Z",
     "start_time": "2023-11-26T00:37:35.702834Z"
    }
   },
   "outputs": [
    {
     "data": {
      "text/plain": [
       "array([[[ 0,  1],\n",
       "        [ 2,  3],\n",
       "        [ 4,  5]],\n",
       "\n",
       "       [[18, 19],\n",
       "        [20, 21],\n",
       "        [22, 23]]])"
      ]
     },
     "execution_count": 41,
     "metadata": {},
     "output_type": "execute_result"
    }
   ],
   "source": [
    "import numpy as np\n",
    "X = np.arange(30).reshape(5, 3, 2)\n",
    "# Slicing along a single dimension\n",
    "slice_index = [0, 3]\n",
    "block = np.take(X, slice_index, axis=0)\n",
    "block"
   ]
  },
  {
   "cell_type": "code",
   "execution_count": 43,
   "id": "c18a45dc",
   "metadata": {
    "ExecuteTime": {
     "end_time": "2023-11-26T00:38:01.802332Z",
     "start_time": "2023-11-26T00:38:01.791230Z"
    }
   },
   "outputs": [],
   "source": [
    "# This operation is equivalent to slicing using indexing\n",
    "assert np.allclose(\n",
    "    block,\n",
    "    X[slice_index, :, :]\n",
    ")\n",
    "\n",
    "# Slicing along a single dimension\n",
    "# And arrange the slices across multiple dimensions\n",
    "slice_index = [[0, 3], [1, 2]]\n",
    "block = np.take(X, slice_index, axis=0) # (2, 2, 3, 2)\n",
    "assert np.allclose(\n",
    "    block,\n",
    "    X[slice_index, :, :]\n",
    ")"
   ]
  },
  {
   "cell_type": "markdown",
   "id": "e9430434",
   "metadata": {},
   "source": [
    "# Take Along Axis"
   ]
  },
  {
   "cell_type": "code",
   "execution_count": 44,
   "id": "5194e211",
   "metadata": {
    "ExecuteTime": {
     "end_time": "2023-11-26T00:38:39.980936Z",
     "start_time": "2023-11-26T00:38:39.964660Z"
    }
   },
   "outputs": [
    {
     "data": {
      "text/plain": [
       "array([[3, 1, 0, 4, 2],\n",
       "       [3, 5, 4, 1, 2],\n",
       "       [5, 2, 6, 3, 4],\n",
       "       [3, 5, 4, 7, 6]])"
      ]
     },
     "execution_count": 44,
     "metadata": {},
     "output_type": "execute_result"
    }
   ],
   "source": [
    "import numpy as np\n",
    "X = np.array([\n",
    "    [0, 1, 2, 3, 4],\n",
    "    [1, 2, 3, 4, 5],\n",
    "    [2, 3, 4, 5, 6],\n",
    "    [3, 4, 5, 6, 7],\n",
    "])\n",
    "# Reordering index\n",
    "reorder_index = np.array([\n",
    "    [3, 1, 0, 4, 2],\n",
    "    [2, 4, 3, 0, 1],\n",
    "    [3, 0, 4, 1, 2],\n",
    "    [0, 2, 1, 4, 3],\n",
    "])\n",
    "# Apply the reordering index\n",
    "y = np.take_along_axis(X, reorder_index, axis=1)\n",
    "\n",
    "y"
   ]
  },
  {
   "cell_type": "code",
   "execution_count": 46,
   "id": "fbfe8cdb",
   "metadata": {
    "ExecuteTime": {
     "end_time": "2023-11-26T00:39:36.633971Z",
     "start_time": "2023-11-26T00:39:36.610741Z"
    }
   },
   "outputs": [],
   "source": [
    "import numpy as np\n",
    "X1 = np.array([\n",
    "    [0, 1, 2, 3, 4],\n",
    "    [1, 2, 3, 4, 5],\n",
    "    [2, 3, 4, 5, 6],\n",
    "    [3, 4, 5, 6, 7],\n",
    "])\n",
    "X2 = np.array([\n",
    "    [ 0, 10, 20, 30, 40],\n",
    "    [10, 20, 30, 40, 50],\n",
    "    [20, 30, 40, 50, 60],\n",
    "    [30, 40, 50, 60, 70],\n",
    "])\n",
    "X3 = np.array([\n",
    "    [-4, -3, -2, -1,  0],\n",
    "    [-5, -4, -3, -2, -1],\n",
    "    [-6, -5, -4, -3, -2],\n",
    "    [-7, -6, -5, -4, -3],\n",
    "])\n",
    "# (4, 5, 3)\n",
    "X = np.dstack([X1, X2, X3])\n",
    "\n",
    "# Reordering index\n",
    "reorder_index = np.array([\n",
    "    [3, 1, 0, 4, 2],\n",
    "    [2, 4, 3, 0, 1],\n",
    "    [3, 0, 4, 1, 2],\n",
    "    [0, 2, 1, 4, 3],\n",
    "])[..., None] # last dimension broadcastable to X\n",
    "\n",
    "# Apply the reordering index\n",
    "y = np.take_along_axis(X, reorder_index, axis=1)\n",
    "\n",
    "# Examine the results one matrix at a time"
   ]
  },
  {
   "cell_type": "code",
   "execution_count": 47,
   "id": "7082adce",
   "metadata": {
    "ExecuteTime": {
     "end_time": "2023-11-26T00:39:37.913560Z",
     "start_time": "2023-11-26T00:39:37.900882Z"
    }
   },
   "outputs": [
    {
     "data": {
      "text/plain": [
       "array([[3, 1, 0, 4, 2],\n",
       "       [3, 5, 4, 1, 2],\n",
       "       [5, 2, 6, 3, 4],\n",
       "       [3, 5, 4, 7, 6]])"
      ]
     },
     "execution_count": 47,
     "metadata": {},
     "output_type": "execute_result"
    }
   ],
   "source": [
    "y[:, :, 0]"
   ]
  },
  {
   "cell_type": "code",
   "execution_count": 48,
   "id": "ddb2a26b",
   "metadata": {
    "ExecuteTime": {
     "end_time": "2023-11-26T00:39:45.962441Z",
     "start_time": "2023-11-26T00:39:45.951714Z"
    }
   },
   "outputs": [
    {
     "data": {
      "text/plain": [
       "array([[30, 10,  0, 40, 20],\n",
       "       [30, 50, 40, 10, 20],\n",
       "       [50, 20, 60, 30, 40],\n",
       "       [30, 50, 40, 70, 60]])"
      ]
     },
     "execution_count": 48,
     "metadata": {},
     "output_type": "execute_result"
    }
   ],
   "source": [
    "y[:, :, 1]"
   ]
  },
  {
   "cell_type": "code",
   "execution_count": 49,
   "id": "b79cc9b6",
   "metadata": {
    "ExecuteTime": {
     "end_time": "2023-11-26T00:39:48.024068Z",
     "start_time": "2023-11-26T00:39:48.016315Z"
    }
   },
   "outputs": [
    {
     "data": {
      "text/plain": [
       "array([[-1, -3, -4,  0, -2],\n",
       "       [-3, -1, -2, -5, -4],\n",
       "       [-3, -6, -2, -5, -4],\n",
       "       [-7, -5, -6, -3, -4]])"
      ]
     },
     "execution_count": 49,
     "metadata": {},
     "output_type": "execute_result"
    }
   ],
   "source": [
    "y[:, :, 2]"
   ]
  },
  {
   "cell_type": "markdown",
   "id": "fda195bc",
   "metadata": {},
   "source": [
    "batching"
   ]
  },
  {
   "cell_type": "code",
   "execution_count": 50,
   "id": "84e96f1b",
   "metadata": {
    "ExecuteTime": {
     "end_time": "2023-11-26T00:40:25.786855Z",
     "start_time": "2023-11-26T00:40:25.776463Z"
    }
   },
   "outputs": [],
   "source": [
    "import numpy as np\n",
    "X = np.array([[0, 1, 2, 3, 4]])[:, :, None] # (1, 5, 1)\n",
    "reorder_index = np.array([\n",
    "    [3, 1, 0, 4, 2],\n",
    "    [2, 4, 3, 0, 1],\n",
    "    [3, 0, 4, 1, 2],\n",
    "    [0, 2, 1, 4, 3],\n",
    "])[..., None] # (4, 5, 1)\n",
    "# Apply the reordering index\n",
    "y = np.take_along_axis(X, reorder_index, axis=1)\n",
    "assert np.allclose(\n",
    "    y.shape,\n",
    "    (4, 5, 1)\n",
    ")\n",
    "assert np.allclose(\n",
    "    y,\n",
    "    np.array([[3, 1, 0, 4, 2],\n",
    "              [2, 4, 3, 0, 1],\n",
    "              [3, 0, 4, 1, 2],\n",
    "              [0, 2, 1, 4, 3]])[:, :, None]\n",
    ")"
   ]
  },
  {
   "cell_type": "markdown",
   "id": "fdd65132",
   "metadata": {},
   "source": [
    "No broadcasting"
   ]
  },
  {
   "cell_type": "code",
   "execution_count": 51,
   "id": "a6058dc4",
   "metadata": {
    "ExecuteTime": {
     "end_time": "2023-11-26T00:41:19.689556Z",
     "start_time": "2023-11-26T00:41:19.670790Z"
    }
   },
   "outputs": [],
   "source": [
    "import numpy as np\n",
    "X1 = np.array([\n",
    "    [0, 1, 2, 3, 4],\n",
    "    [1, 2, 3, 4, 5],\n",
    "    [2, 3, 4, 5, 6],\n",
    "    [3, 4, 5, 6, 7],\n",
    "])\n",
    "X2 = np.array([\n",
    "    [ 0, 10, 20, 30, 40],\n",
    "    [10, 20, 30, 40, 50],\n",
    "    [20, 30, 40, 50, 60],\n",
    "    [30, 40, 50, 60, 70],\n",
    "])\n",
    "X3 = np.array([\n",
    "    [-4, -3, -2, -1,  0],\n",
    "    [-5, -4, -3, -2, -1],\n",
    "    [-6, -5, -4, -3, -2],\n",
    "    [-7, -6, -5, -4, -3],\n",
    "])\n",
    "# (4, 5, 3)\n",
    "X = np.dstack([X1, X2, X3])\n",
    "\n",
    "# Reordering index\n",
    "index_1 = np.array([\n",
    "    [3, 1, 0, 4, 2],\n",
    "    [2, 4, 3, 0, 1],\n",
    "    [3, 0, 4, 1, 2],\n",
    "    [0, 2, 1, 4, 3],\n",
    "])\n",
    "index_2 = np.array([\n",
    "    [1, 0, 2, 3, 4],\n",
    "    [3, 0, 4, 1, 2],\n",
    "    [4, 0, 1, 2, 3],\n",
    "    [0, 1, 2, 3, 4],\n",
    "])\n",
    "index_3 = np.array([\n",
    "    [3, 0, 1, 4, 2],\n",
    "    [2, 0, 1, 3, 4],\n",
    "    [2, 1, 4, 3, 0],\n",
    "    [0, 2, 4, 1, 3],\n",
    "])\n",
    "# (4, 5, 3)\n",
    "reorder_index = np.dstack([index_1, index_2, index_3])\n",
    "\n",
    "# Apply the reordering index\n",
    "y = np.take_along_axis(X, reorder_index, axis=1)\n",
    "\n",
    "# Examine several slices"
   ]
  },
  {
   "cell_type": "code",
   "execution_count": 52,
   "id": "56d5e067",
   "metadata": {
    "ExecuteTime": {
     "end_time": "2023-11-26T00:41:25.772365Z",
     "start_time": "2023-11-26T00:41:25.762474Z"
    }
   },
   "outputs": [
    {
     "data": {
      "text/plain": [
       "array([3, 1, 0, 4, 2])"
      ]
     },
     "execution_count": 52,
     "metadata": {},
     "output_type": "execute_result"
    }
   ],
   "source": [
    "y[0, :, 0]"
   ]
  },
  {
   "cell_type": "code",
   "execution_count": 53,
   "id": "9e912eea",
   "metadata": {
    "ExecuteTime": {
     "end_time": "2023-11-26T00:41:33.057347Z",
     "start_time": "2023-11-26T00:41:33.051250Z"
    }
   },
   "outputs": [
    {
     "data": {
      "text/plain": [
       "array([-3, -5, -4, -2, -1])"
      ]
     },
     "execution_count": 53,
     "metadata": {},
     "output_type": "execute_result"
    }
   ],
   "source": [
    "y[1, :, 2]"
   ]
  },
  {
   "cell_type": "code",
   "execution_count": 54,
   "id": "d3e971b6",
   "metadata": {
    "ExecuteTime": {
     "end_time": "2023-11-26T00:41:41.134815Z",
     "start_time": "2023-11-26T00:41:41.126223Z"
    }
   },
   "outputs": [
    {
     "data": {
      "text/plain": [
       "array([60, 20, 30, 40, 50])"
      ]
     },
     "execution_count": 54,
     "metadata": {},
     "output_type": "execute_result"
    }
   ],
   "source": [
    "y[2, :, 1]"
   ]
  },
  {
   "cell_type": "code",
   "execution_count": 55,
   "id": "ccf5cee6",
   "metadata": {
    "ExecuteTime": {
     "end_time": "2023-11-26T00:42:10.310058Z",
     "start_time": "2023-11-26T00:42:10.294248Z"
    }
   },
   "outputs": [],
   "source": [
    "# Verify\n",
    "for ii in range(X.shape[0]):\n",
    "    for jj in range(X.shape[2]):\n",
    "        assert np.allclose(\n",
    "            np.take(X[ii, :, jj], reorder_index[ii, :, jj]),\n",
    "            y[ii, :, jj],\n",
    "        )"
   ]
  },
  {
   "cell_type": "markdown",
   "id": "58cfb047",
   "metadata": {},
   "source": [
    "# Gather"
   ]
  },
  {
   "cell_type": "code",
   "execution_count": 57,
   "id": "90cf899c",
   "metadata": {
    "ExecuteTime": {
     "end_time": "2023-11-26T00:43:01.223161Z",
     "start_time": "2023-11-26T00:43:01.208766Z"
    }
   },
   "outputs": [
    {
     "data": {
      "text/plain": [
       "(array([3, 5]),\n",
       " <tf.Tensor: shape=(2,), dtype=int64, numpy=array([3, 5])>,\n",
       " tensor([3, 5]))"
      ]
     },
     "execution_count": 57,
     "metadata": {},
     "output_type": "execute_result"
    }
   ],
   "source": [
    "import numpy as np\n",
    "import tensorflow as tf\n",
    "import torch\n",
    "X = np.arange(10)\n",
    "index = [3, 5]\n",
    "y_np = np.take(X, index)\n",
    "y_tf = tf.gather(X, index)\n",
    "y_torch = torch.gather(\n",
    "    torch.tensor(X), 0, torch.tensor(index)\n",
    ")\n",
    "y_np, y_tf, y_torch"
   ]
  },
  {
   "cell_type": "code",
   "execution_count": 59,
   "id": "ee6ed49b",
   "metadata": {
    "ExecuteTime": {
     "end_time": "2023-11-26T00:43:43.990974Z",
     "start_time": "2023-11-26T00:43:43.973711Z"
    }
   },
   "outputs": [
    {
     "data": {
      "text/plain": [
       "(array([[ 1,  3],\n",
       "        [ 6,  8],\n",
       "        [11, 13],\n",
       "        [16, 18]]),\n",
       " <tf.Tensor: shape=(4, 2), dtype=int64, numpy=\n",
       " array([[ 1,  3],\n",
       "        [ 6,  8],\n",
       "        [11, 13],\n",
       "        [16, 18]])>,\n",
       " tensor([[ 5,  6,  7,  8,  9],\n",
       "         [15, 16, 17, 18, 19]]))"
      ]
     },
     "execution_count": 59,
     "metadata": {},
     "output_type": "execute_result"
    }
   ],
   "source": [
    "import numpy as np\n",
    "import tensorflow as tf\n",
    "import torch\n",
    "X = np.arange(20).reshape(4, 5)\n",
    "index = np.array([1, 3])\n",
    "y_np = np.take(X, index, axis=1)\n",
    "y_tf = tf.gather(X, index, axis=1)\n",
    "y_torch = torch.gather(\n",
    "    torch.tensor(X), \n",
    "    0,\n",
    "    torch.tensor(np.repeat([index], X.shape[1], axis=0).T)\n",
    ")\n",
    "y_np, y_tf, y_torch"
   ]
  },
  {
   "cell_type": "code",
   "execution_count": 60,
   "id": "89f6238b",
   "metadata": {
    "ExecuteTime": {
     "end_time": "2023-11-26T00:43:49.678547Z",
     "start_time": "2023-11-26T00:43:49.665918Z"
    }
   },
   "outputs": [
    {
     "data": {
      "text/plain": [
       "tensor([[ 5],\n",
       "        [15]])"
      ]
     },
     "execution_count": 60,
     "metadata": {},
     "output_type": "execute_result"
    }
   ],
   "source": [
    "y_torch_index = torch.gather(\n",
    "    torch.tensor(X), 0, torch.tensor(index[:, None])\n",
    ")\n",
    "y_torch_index"
   ]
  },
  {
   "cell_type": "code",
   "execution_count": 61,
   "id": "e11a8694",
   "metadata": {
    "ExecuteTime": {
     "end_time": "2023-11-26T00:44:02.291961Z",
     "start_time": "2023-11-26T00:44:02.282904Z"
    }
   },
   "outputs": [],
   "source": [
    "import numpy as np\n",
    "import tensorflow as tf\n",
    "X = np.arange(30).reshape(3, 5, 2)\n",
    "slice_index = [[0, 3], [1, 1]]\n",
    "block_np = np.take(X, slice_index, axis=1)\n",
    "block_tf = tf.gather(X, slice_index, axis=1)\n",
    "assert np.allclose(\n",
    "    block_np, block_tf\n",
    ")"
   ]
  },
  {
   "cell_type": "markdown",
   "id": "3628b9da",
   "metadata": {},
   "source": [
    "Take a long axis / dim"
   ]
  },
  {
   "cell_type": "code",
   "execution_count": 62,
   "id": "26505720",
   "metadata": {
    "ExecuteTime": {
     "end_time": "2023-11-26T00:44:32.893868Z",
     "start_time": "2023-11-26T00:44:32.872527Z"
    },
    "scrolled": true
   },
   "outputs": [
    {
     "data": {
      "text/plain": [
       "(array([[[5, 5, 5, 5, 5],\n",
       "         [3, 9, 3, 3, 3],\n",
       "         [4, 3, 2, 1, 9]],\n",
       " \n",
       "        [[6, 3, 6, 3, 4],\n",
       "         [6, 1, 1, 1, 1],\n",
       "         [9, 0, 7, 0, 7]],\n",
       " \n",
       "        [[1, 1, 1, 3, 3],\n",
       "         [7, 0, 0, 0, 4],\n",
       "         [9, 8, 8, 3, 9]],\n",
       " \n",
       "        [[8, 5, 1, 5, 1],\n",
       "         [6, 1, 6, 7, 6],\n",
       "         [5, 2, 2, 9, 2]]]),\n",
       " tensor([[[5, 5, 5, 5, 5],\n",
       "          [3, 9, 3, 3, 3],\n",
       "          [4, 3, 2, 1, 9]],\n",
       " \n",
       "         [[6, 3, 6, 3, 4],\n",
       "          [6, 1, 1, 1, 1],\n",
       "          [9, 0, 7, 0, 7]],\n",
       " \n",
       "         [[1, 1, 1, 3, 3],\n",
       "          [7, 0, 0, 0, 4],\n",
       "          [9, 8, 8, 3, 9]],\n",
       " \n",
       "         [[8, 5, 1, 5, 1],\n",
       "          [6, 1, 6, 7, 6],\n",
       "          [5, 2, 2, 9, 2]]]),\n",
       " <tf.Tensor: shape=(4, 3, 5), dtype=int64, numpy=\n",
       " array([[[5, 5, 5, 5, 5],\n",
       "         [3, 9, 3, 3, 3],\n",
       "         [4, 3, 2, 1, 9]],\n",
       " \n",
       "        [[6, 3, 6, 3, 4],\n",
       "         [6, 1, 1, 1, 1],\n",
       "         [9, 0, 7, 0, 7]],\n",
       " \n",
       "        [[1, 1, 1, 3, 3],\n",
       "         [7, 0, 0, 0, 4],\n",
       "         [9, 8, 8, 3, 9]],\n",
       " \n",
       "        [[8, 5, 1, 5, 1],\n",
       "         [6, 1, 6, 7, 6],\n",
       "         [5, 2, 2, 9, 2]]])>)"
      ]
     },
     "execution_count": 62,
     "metadata": {},
     "output_type": "execute_result"
    }
   ],
   "source": [
    "import numpy as np\n",
    "import tensorflow as tf\n",
    "import torch\n",
    "X = np.random.randint(0, 10, size=(4, 3, 5))\n",
    "reorder_index = np.random.randint(0, 5, size=(4, 3, 5))\n",
    "y_np = np.take_along_axis(X, reorder_index, axis=2)\n",
    "y_torch = torch.take_along_dim(\n",
    "    torch.tensor(X), torch.tensor(reorder_index), axis=2\n",
    ")\n",
    "y_tf = tf.gather(X, reorder_index, axis=2, batch_dims=2)\n",
    "y_np, y_torch, y_tf"
   ]
  },
  {
   "cell_type": "markdown",
   "id": "f9c54c0f",
   "metadata": {},
   "source": [
    "Broadcasting"
   ]
  },
  {
   "cell_type": "code",
   "execution_count": 63,
   "id": "8263b284",
   "metadata": {
    "ExecuteTime": {
     "end_time": "2023-11-26T00:45:10.576248Z",
     "start_time": "2023-11-26T00:45:10.561823Z"
    },
    "scrolled": true
   },
   "outputs": [
    {
     "data": {
      "text/plain": [
       "array([[[[9, 9, 0, 6, 9, 6, 9],\n",
       "         [9, 6, 6, 1, 6, 1, 9],\n",
       "         [2, 2, 4, 8, 2, 8, 7],\n",
       "         [5, 5, 1, 2, 5, 2, 5],\n",
       "         [9, 6, 2, 3, 6, 3, 8]],\n",
       "\n",
       "        [[2, 0, 8, 1, 8, 0, 2],\n",
       "         [4, 5, 9, 9, 9, 5, 4],\n",
       "         [4, 6, 7, 6, 7, 6, 4],\n",
       "         [4, 3, 4, 1, 4, 3, 4],\n",
       "         [1, 4, 5, 4, 5, 4, 1]],\n",
       "\n",
       "        [[0, 0, 1, 1, 1, 0, 2],\n",
       "         [2, 1, 3, 8, 3, 1, 1],\n",
       "         [9, 4, 5, 4, 5, 4, 4],\n",
       "         [5, 5, 6, 7, 6, 5, 3],\n",
       "         [7, 9, 4, 8, 4, 9, 6]]],\n",
       "\n",
       "\n",
       "       [[[8, 1, 8, 4, 4, 1, 1],\n",
       "         [7, 8, 7, 3, 3, 8, 2],\n",
       "         [7, 2, 7, 6, 6, 9, 6],\n",
       "         [4, 3, 4, 3, 3, 9, 1],\n",
       "         [7, 9, 7, 2, 2, 1, 7]],\n",
       "\n",
       "        [[8, 5, 6, 8, 6, 6, 5],\n",
       "         [1, 6, 4, 1, 4, 4, 6],\n",
       "         [6, 1, 0, 6, 0, 0, 1],\n",
       "         [4, 2, 2, 4, 2, 2, 2],\n",
       "         [1, 2, 3, 1, 3, 3, 2]],\n",
       "\n",
       "        [[9, 2, 2, 9, 9, 0, 2],\n",
       "         [9, 8, 8, 8, 8, 0, 8],\n",
       "         [0, 2, 2, 3, 3, 4, 2],\n",
       "         [4, 3, 3, 6, 6, 7, 3],\n",
       "         [2, 6, 6, 3, 3, 6, 6]]],\n",
       "\n",
       "\n",
       "       [[[5, 0, 0, 8, 5, 8, 0],\n",
       "         [5, 2, 2, 3, 5, 3, 2],\n",
       "         [5, 8, 8, 5, 5, 5, 8],\n",
       "         [2, 0, 0, 4, 2, 4, 0],\n",
       "         [1, 8, 8, 4, 1, 4, 8]],\n",
       "\n",
       "        [[7, 5, 5, 2, 1, 7, 2],\n",
       "         [1, 5, 5, 8, 3, 1, 8],\n",
       "         [7, 7, 7, 1, 1, 7, 1],\n",
       "         [5, 5, 5, 9, 7, 5, 9],\n",
       "         [8, 3, 3, 1, 7, 8, 1]],\n",
       "\n",
       "        [[7, 4, 4, 4, 6, 0, 6],\n",
       "         [8, 1, 1, 1, 0, 8, 0],\n",
       "         [7, 2, 2, 2, 1, 9, 1],\n",
       "         [3, 1, 1, 1, 3, 8, 3],\n",
       "         [2, 3, 3, 3, 8, 2, 8]]],\n",
       "\n",
       "\n",
       "       [[[5, 5, 5, 9, 9, 3, 9],\n",
       "         [2, 9, 2, 0, 0, 1, 0],\n",
       "         [2, 8, 2, 6, 6, 7, 6],\n",
       "         [2, 2, 2, 1, 1, 5, 1],\n",
       "         [7, 7, 7, 5, 5, 9, 5]],\n",
       "\n",
       "        [[8, 8, 0, 5, 3, 3, 0],\n",
       "         [4, 4, 4, 7, 4, 4, 5],\n",
       "         [5, 5, 6, 2, 8, 8, 7],\n",
       "         [4, 4, 6, 5, 0, 0, 9],\n",
       "         [0, 0, 7, 6, 1, 1, 1]],\n",
       "\n",
       "        [[4, 6, 2, 2, 4, 2, 2],\n",
       "         [9, 0, 1, 1, 9, 1, 1],\n",
       "         [6, 1, 5, 5, 6, 5, 5],\n",
       "         [1, 7, 4, 4, 1, 4, 4],\n",
       "         [7, 3, 1, 1, 7, 1, 1]]]])"
      ]
     },
     "execution_count": 63,
     "metadata": {},
     "output_type": "execute_result"
    }
   ],
   "source": [
    "import numpy as np\n",
    "import tensorflow as tf\n",
    "import torch\n",
    "X = np.random.randint(0, 10, size=(4, 3, 5, 6))\n",
    "# 3rd dimension as the broadcasting dimension\n",
    "reorder_index = np.random.randint(0, 5, size=(4, 3, 1, 7))\n",
    "# Returns a tensor of shape (4, 3, 5, 7)\n",
    "y_np = np.take_along_axis(\n",
    "    X, reorder_index, axis=3\n",
    ")\n",
    "y_torch = torch.take_along_dim(\n",
    "    torch.tensor(X),\n",
    "    torch.tensor(reorder_index),\n",
    "    axis=3\n",
    ")\n",
    "y_tf = tf.gather(\n",
    "    # taking out the singletone dimension\n",
    "    X, reorder_index[..., 0, :], axis=3, batch_dims=2\n",
    ")\n",
    "y_np"
   ]
  },
  {
   "cell_type": "code",
   "execution_count": 64,
   "id": "44aaea44",
   "metadata": {
    "ExecuteTime": {
     "end_time": "2023-11-26T00:45:16.381841Z",
     "start_time": "2023-11-26T00:45:16.369013Z"
    },
    "scrolled": true
   },
   "outputs": [
    {
     "data": {
      "text/plain": [
       "tensor([[[[9, 9, 0, 6, 9, 6, 9],\n",
       "          [9, 6, 6, 1, 6, 1, 9],\n",
       "          [2, 2, 4, 8, 2, 8, 7],\n",
       "          [5, 5, 1, 2, 5, 2, 5],\n",
       "          [9, 6, 2, 3, 6, 3, 8]],\n",
       "\n",
       "         [[2, 0, 8, 1, 8, 0, 2],\n",
       "          [4, 5, 9, 9, 9, 5, 4],\n",
       "          [4, 6, 7, 6, 7, 6, 4],\n",
       "          [4, 3, 4, 1, 4, 3, 4],\n",
       "          [1, 4, 5, 4, 5, 4, 1]],\n",
       "\n",
       "         [[0, 0, 1, 1, 1, 0, 2],\n",
       "          [2, 1, 3, 8, 3, 1, 1],\n",
       "          [9, 4, 5, 4, 5, 4, 4],\n",
       "          [5, 5, 6, 7, 6, 5, 3],\n",
       "          [7, 9, 4, 8, 4, 9, 6]]],\n",
       "\n",
       "\n",
       "        [[[8, 1, 8, 4, 4, 1, 1],\n",
       "          [7, 8, 7, 3, 3, 8, 2],\n",
       "          [7, 2, 7, 6, 6, 9, 6],\n",
       "          [4, 3, 4, 3, 3, 9, 1],\n",
       "          [7, 9, 7, 2, 2, 1, 7]],\n",
       "\n",
       "         [[8, 5, 6, 8, 6, 6, 5],\n",
       "          [1, 6, 4, 1, 4, 4, 6],\n",
       "          [6, 1, 0, 6, 0, 0, 1],\n",
       "          [4, 2, 2, 4, 2, 2, 2],\n",
       "          [1, 2, 3, 1, 3, 3, 2]],\n",
       "\n",
       "         [[9, 2, 2, 9, 9, 0, 2],\n",
       "          [9, 8, 8, 8, 8, 0, 8],\n",
       "          [0, 2, 2, 3, 3, 4, 2],\n",
       "          [4, 3, 3, 6, 6, 7, 3],\n",
       "          [2, 6, 6, 3, 3, 6, 6]]],\n",
       "\n",
       "\n",
       "        [[[5, 0, 0, 8, 5, 8, 0],\n",
       "          [5, 2, 2, 3, 5, 3, 2],\n",
       "          [5, 8, 8, 5, 5, 5, 8],\n",
       "          [2, 0, 0, 4, 2, 4, 0],\n",
       "          [1, 8, 8, 4, 1, 4, 8]],\n",
       "\n",
       "         [[7, 5, 5, 2, 1, 7, 2],\n",
       "          [1, 5, 5, 8, 3, 1, 8],\n",
       "          [7, 7, 7, 1, 1, 7, 1],\n",
       "          [5, 5, 5, 9, 7, 5, 9],\n",
       "          [8, 3, 3, 1, 7, 8, 1]],\n",
       "\n",
       "         [[7, 4, 4, 4, 6, 0, 6],\n",
       "          [8, 1, 1, 1, 0, 8, 0],\n",
       "          [7, 2, 2, 2, 1, 9, 1],\n",
       "          [3, 1, 1, 1, 3, 8, 3],\n",
       "          [2, 3, 3, 3, 8, 2, 8]]],\n",
       "\n",
       "\n",
       "        [[[5, 5, 5, 9, 9, 3, 9],\n",
       "          [2, 9, 2, 0, 0, 1, 0],\n",
       "          [2, 8, 2, 6, 6, 7, 6],\n",
       "          [2, 2, 2, 1, 1, 5, 1],\n",
       "          [7, 7, 7, 5, 5, 9, 5]],\n",
       "\n",
       "         [[8, 8, 0, 5, 3, 3, 0],\n",
       "          [4, 4, 4, 7, 4, 4, 5],\n",
       "          [5, 5, 6, 2, 8, 8, 7],\n",
       "          [4, 4, 6, 5, 0, 0, 9],\n",
       "          [0, 0, 7, 6, 1, 1, 1]],\n",
       "\n",
       "         [[4, 6, 2, 2, 4, 2, 2],\n",
       "          [9, 0, 1, 1, 9, 1, 1],\n",
       "          [6, 1, 5, 5, 6, 5, 5],\n",
       "          [1, 7, 4, 4, 1, 4, 4],\n",
       "          [7, 3, 1, 1, 7, 1, 1]]]])"
      ]
     },
     "execution_count": 64,
     "metadata": {},
     "output_type": "execute_result"
    }
   ],
   "source": [
    "y_torch"
   ]
  },
  {
   "cell_type": "code",
   "execution_count": 65,
   "id": "f033f7d9",
   "metadata": {
    "ExecuteTime": {
     "end_time": "2023-11-26T00:45:20.880919Z",
     "start_time": "2023-11-26T00:45:20.865683Z"
    },
    "scrolled": true
   },
   "outputs": [
    {
     "data": {
      "text/plain": [
       "<tf.Tensor: shape=(4, 3, 5, 7), dtype=int64, numpy=\n",
       "array([[[[9, 9, 0, 6, 9, 6, 9],\n",
       "         [9, 6, 6, 1, 6, 1, 9],\n",
       "         [2, 2, 4, 8, 2, 8, 7],\n",
       "         [5, 5, 1, 2, 5, 2, 5],\n",
       "         [9, 6, 2, 3, 6, 3, 8]],\n",
       "\n",
       "        [[2, 0, 8, 1, 8, 0, 2],\n",
       "         [4, 5, 9, 9, 9, 5, 4],\n",
       "         [4, 6, 7, 6, 7, 6, 4],\n",
       "         [4, 3, 4, 1, 4, 3, 4],\n",
       "         [1, 4, 5, 4, 5, 4, 1]],\n",
       "\n",
       "        [[0, 0, 1, 1, 1, 0, 2],\n",
       "         [2, 1, 3, 8, 3, 1, 1],\n",
       "         [9, 4, 5, 4, 5, 4, 4],\n",
       "         [5, 5, 6, 7, 6, 5, 3],\n",
       "         [7, 9, 4, 8, 4, 9, 6]]],\n",
       "\n",
       "\n",
       "       [[[8, 1, 8, 4, 4, 1, 1],\n",
       "         [7, 8, 7, 3, 3, 8, 2],\n",
       "         [7, 2, 7, 6, 6, 9, 6],\n",
       "         [4, 3, 4, 3, 3, 9, 1],\n",
       "         [7, 9, 7, 2, 2, 1, 7]],\n",
       "\n",
       "        [[8, 5, 6, 8, 6, 6, 5],\n",
       "         [1, 6, 4, 1, 4, 4, 6],\n",
       "         [6, 1, 0, 6, 0, 0, 1],\n",
       "         [4, 2, 2, 4, 2, 2, 2],\n",
       "         [1, 2, 3, 1, 3, 3, 2]],\n",
       "\n",
       "        [[9, 2, 2, 9, 9, 0, 2],\n",
       "         [9, 8, 8, 8, 8, 0, 8],\n",
       "         [0, 2, 2, 3, 3, 4, 2],\n",
       "         [4, 3, 3, 6, 6, 7, 3],\n",
       "         [2, 6, 6, 3, 3, 6, 6]]],\n",
       "\n",
       "\n",
       "       [[[5, 0, 0, 8, 5, 8, 0],\n",
       "         [5, 2, 2, 3, 5, 3, 2],\n",
       "         [5, 8, 8, 5, 5, 5, 8],\n",
       "         [2, 0, 0, 4, 2, 4, 0],\n",
       "         [1, 8, 8, 4, 1, 4, 8]],\n",
       "\n",
       "        [[7, 5, 5, 2, 1, 7, 2],\n",
       "         [1, 5, 5, 8, 3, 1, 8],\n",
       "         [7, 7, 7, 1, 1, 7, 1],\n",
       "         [5, 5, 5, 9, 7, 5, 9],\n",
       "         [8, 3, 3, 1, 7, 8, 1]],\n",
       "\n",
       "        [[7, 4, 4, 4, 6, 0, 6],\n",
       "         [8, 1, 1, 1, 0, 8, 0],\n",
       "         [7, 2, 2, 2, 1, 9, 1],\n",
       "         [3, 1, 1, 1, 3, 8, 3],\n",
       "         [2, 3, 3, 3, 8, 2, 8]]],\n",
       "\n",
       "\n",
       "       [[[5, 5, 5, 9, 9, 3, 9],\n",
       "         [2, 9, 2, 0, 0, 1, 0],\n",
       "         [2, 8, 2, 6, 6, 7, 6],\n",
       "         [2, 2, 2, 1, 1, 5, 1],\n",
       "         [7, 7, 7, 5, 5, 9, 5]],\n",
       "\n",
       "        [[8, 8, 0, 5, 3, 3, 0],\n",
       "         [4, 4, 4, 7, 4, 4, 5],\n",
       "         [5, 5, 6, 2, 8, 8, 7],\n",
       "         [4, 4, 6, 5, 0, 0, 9],\n",
       "         [0, 0, 7, 6, 1, 1, 1]],\n",
       "\n",
       "        [[4, 6, 2, 2, 4, 2, 2],\n",
       "         [9, 0, 1, 1, 9, 1, 1],\n",
       "         [6, 1, 5, 5, 6, 5, 5],\n",
       "         [1, 7, 4, 4, 1, 4, 4],\n",
       "         [7, 3, 1, 1, 7, 1, 1]]]])>"
      ]
     },
     "execution_count": 65,
     "metadata": {},
     "output_type": "execute_result"
    }
   ],
   "source": [
    "y_tf"
   ]
  },
  {
   "cell_type": "markdown",
   "id": "8c425610",
   "metadata": {
    "ExecuteTime": {
     "end_time": "2023-11-26T00:45:45.580444Z",
     "start_time": "2023-11-26T00:45:45.569368Z"
    }
   },
   "source": [
    "Expected output shape"
   ]
  },
  {
   "cell_type": "code",
   "execution_count": 68,
   "id": "923d40d1",
   "metadata": {
    "ExecuteTime": {
     "end_time": "2023-11-26T00:46:17.526484Z",
     "start_time": "2023-11-26T00:46:17.508393Z"
    }
   },
   "outputs": [
    {
     "data": {
      "text/plain": [
       "array([5, 4, 8])"
      ]
     },
     "execution_count": 68,
     "metadata": {},
     "output_type": "execute_result"
    }
   ],
   "source": [
    "inputs = np.random.rand(5, 3, 4, 8)\n",
    "axis = 1\n",
    "batch_dims = 1\n",
    "np.concatenate([\n",
    "    inputs.shape[:axis],\n",
    "    index.shape[batch_dims:],\n",
    "    inputs.shape[axis+1:]\n",
    "]).astype(int)"
   ]
  },
  {
   "cell_type": "markdown",
   "id": "7a2a6baa",
   "metadata": {},
   "source": [
    "# N-dimensional Gather"
   ]
  },
  {
   "cell_type": "code",
   "execution_count": 69,
   "id": "6b350b39",
   "metadata": {
    "ExecuteTime": {
     "end_time": "2023-11-26T00:47:16.407009Z",
     "start_time": "2023-11-26T00:47:16.383323Z"
    }
   },
   "outputs": [
    {
     "data": {
      "text/plain": [
       "(<tf.Tensor: shape=(4,), dtype=int64, numpy=array([3, 4, 6, 7])>,\n",
       " array([3, 4, 6, 7]),\n",
       " tensor([3, 4, 6, 7]))"
      ]
     },
     "execution_count": 69,
     "metadata": {},
     "output_type": "execute_result"
    }
   ],
   "source": [
    "import numpy as np\n",
    "import tensorflow as tf\n",
    "import torch\n",
    "X = np.array([\n",
    "    [1, 3, 2, 4],\n",
    "    [6, 8, 7, 9],\n",
    "])\n",
    "# 2D indices\n",
    "index = np.array([\n",
    "    [0, 1],\n",
    "    [0, 3],\n",
    "    [1, 0],\n",
    "    [1, 2],\n",
    "])\n",
    "\n",
    "# gather_nd\n",
    "y_tf = tf.gather_nd(X, index)\n",
    "# For numpy and torch, use indexing\n",
    "y_np = X[index.T[0], index.T[1]]\n",
    "y_torch = torch.tensor(X)[index.T[0], index.T[1]]\n",
    "y_tf, y_np, y_torch"
   ]
  },
  {
   "cell_type": "code",
   "execution_count": 70,
   "id": "bf08620d",
   "metadata": {
    "ExecuteTime": {
     "end_time": "2023-11-26T00:47:30.757329Z",
     "start_time": "2023-11-26T00:47:30.629774Z"
    },
    "scrolled": true
   },
   "outputs": [
    {
     "ename": "TypeError",
     "evalue": "Only integers, slices (`:`), ellipsis (`...`), tf.newaxis (`None`) and scalar tf.int32/tf.int64 tensors are valid indices, got <tf.Tensor: shape=(4,), dtype=int32, numpy=array([0, 0, 1, 1], dtype=int32)>",
     "output_type": "error",
     "traceback": [
      "\u001b[0;31m---------------------------------------------------------------------------\u001b[0m",
      "\u001b[0;31mTypeError\u001b[0m                                 Traceback (most recent call last)",
      "Cell \u001b[0;32mIn[70], line 14\u001b[0m\n\u001b[1;32m      7\u001b[0m index \u001b[38;5;241m=\u001b[39m tf\u001b[38;5;241m.\u001b[39mconstant([\n\u001b[1;32m      8\u001b[0m     [\u001b[38;5;241m0\u001b[39m, \u001b[38;5;241m1\u001b[39m],\n\u001b[1;32m      9\u001b[0m     [\u001b[38;5;241m0\u001b[39m, \u001b[38;5;241m3\u001b[39m],\n\u001b[1;32m     10\u001b[0m     [\u001b[38;5;241m1\u001b[39m, \u001b[38;5;241m0\u001b[39m],\n\u001b[1;32m     11\u001b[0m     [\u001b[38;5;241m1\u001b[39m, \u001b[38;5;241m2\u001b[39m],\n\u001b[1;32m     12\u001b[0m ])\n\u001b[1;32m     13\u001b[0m \u001b[38;5;66;03m# This throws an error\u001b[39;00m\n\u001b[0;32m---> 14\u001b[0m \u001b[43mX\u001b[49m\u001b[43m[\u001b[49m\u001b[43mindex\u001b[49m\u001b[43m[\u001b[49m\u001b[43m:\u001b[49m\u001b[43m,\u001b[49m\u001b[43m \u001b[49m\u001b[38;5;241;43m0\u001b[39;49m\u001b[43m]\u001b[49m\u001b[43m,\u001b[49m\u001b[43m \u001b[49m\u001b[43mindex\u001b[49m\u001b[43m[\u001b[49m\u001b[43m:\u001b[49m\u001b[43m,\u001b[49m\u001b[43m \u001b[49m\u001b[38;5;241;43m1\u001b[39;49m\u001b[43m]\u001b[49m\u001b[43m]\u001b[49m\n",
      "File \u001b[0;32m~/opt/miniforge3/envs/lectures/lib/python3.10/site-packages/tensorflow/python/util/traceback_utils.py:153\u001b[0m, in \u001b[0;36mfilter_traceback.<locals>.error_handler\u001b[0;34m(*args, **kwargs)\u001b[0m\n\u001b[1;32m    151\u001b[0m \u001b[38;5;28;01mexcept\u001b[39;00m \u001b[38;5;167;01mException\u001b[39;00m \u001b[38;5;28;01mas\u001b[39;00m e:\n\u001b[1;32m    152\u001b[0m   filtered_tb \u001b[38;5;241m=\u001b[39m _process_traceback_frames(e\u001b[38;5;241m.\u001b[39m__traceback__)\n\u001b[0;32m--> 153\u001b[0m   \u001b[38;5;28;01mraise\u001b[39;00m e\u001b[38;5;241m.\u001b[39mwith_traceback(filtered_tb) \u001b[38;5;28;01mfrom\u001b[39;00m \u001b[38;5;28;01mNone\u001b[39;00m\n\u001b[1;32m    154\u001b[0m \u001b[38;5;28;01mfinally\u001b[39;00m:\n\u001b[1;32m    155\u001b[0m   \u001b[38;5;28;01mdel\u001b[39;00m filtered_tb\n",
      "File \u001b[0;32m~/opt/miniforge3/envs/lectures/lib/python3.10/site-packages/tensorflow/python/ops/array_ops.py:926\u001b[0m, in \u001b[0;36m_check_index\u001b[0;34m(idx)\u001b[0m\n\u001b[1;32m    921\u001b[0m dtype \u001b[38;5;241m=\u001b[39m \u001b[38;5;28mgetattr\u001b[39m(idx, \u001b[38;5;124m\"\u001b[39m\u001b[38;5;124mdtype\u001b[39m\u001b[38;5;124m\"\u001b[39m, \u001b[38;5;28;01mNone\u001b[39;00m)\n\u001b[1;32m    922\u001b[0m \u001b[38;5;28;01mif\u001b[39;00m (dtype \u001b[38;5;129;01mis\u001b[39;00m \u001b[38;5;28;01mNone\u001b[39;00m \u001b[38;5;129;01mor\u001b[39;00m dtypes\u001b[38;5;241m.\u001b[39mas_dtype(dtype) \u001b[38;5;129;01mnot\u001b[39;00m \u001b[38;5;129;01min\u001b[39;00m _SUPPORTED_SLICE_DTYPES \u001b[38;5;129;01mor\u001b[39;00m\n\u001b[1;32m    923\u001b[0m     idx\u001b[38;5;241m.\u001b[39mshape \u001b[38;5;129;01mand\u001b[39;00m \u001b[38;5;28mlen\u001b[39m(idx\u001b[38;5;241m.\u001b[39mshape) \u001b[38;5;241m==\u001b[39m \u001b[38;5;241m1\u001b[39m):\n\u001b[1;32m    924\u001b[0m   \u001b[38;5;66;03m# TODO(slebedev): IndexError seems more appropriate here, but it\u001b[39;00m\n\u001b[1;32m    925\u001b[0m   \u001b[38;5;66;03m# will break `_slice_helper` contract.\u001b[39;00m\n\u001b[0;32m--> 926\u001b[0m   \u001b[38;5;28;01mraise\u001b[39;00m \u001b[38;5;167;01mTypeError\u001b[39;00m(_SLICE_TYPE_ERROR \u001b[38;5;241m+\u001b[39m \u001b[38;5;124m\"\u001b[39m\u001b[38;5;124m, got \u001b[39m\u001b[38;5;132;01m{!r}\u001b[39;00m\u001b[38;5;124m\"\u001b[39m\u001b[38;5;241m.\u001b[39mformat(idx))\n",
      "\u001b[0;31mTypeError\u001b[0m: Only integers, slices (`:`), ellipsis (`...`), tf.newaxis (`None`) and scalar tf.int32/tf.int64 tensors are valid indices, got <tf.Tensor: shape=(4,), dtype=int32, numpy=array([0, 0, 1, 1], dtype=int32)>"
     ]
    }
   ],
   "source": [
    "import tensorflow as tf\n",
    "X = tf.constant([\n",
    "    [1, 3, 2, 4],\n",
    "    [6, 8, 7, 9],\n",
    "])\n",
    "# 2D indices\n",
    "index = tf.constant([\n",
    "    [0, 1],\n",
    "    [0, 3],\n",
    "    [1, 0],\n",
    "    [1, 2],\n",
    "])\n",
    "# This throws an error\n",
    "X[index[:, 0], index[:, 1]]"
   ]
  },
  {
   "cell_type": "code",
   "execution_count": 73,
   "id": "0efb5083",
   "metadata": {
    "ExecuteTime": {
     "end_time": "2023-11-26T00:48:51.608306Z",
     "start_time": "2023-11-26T00:48:51.590863Z"
    }
   },
   "outputs": [
    {
     "data": {
      "text/plain": [
       "<tf.Tensor: shape=(4, 6), dtype=float32, numpy=\n",
       "array([[0.73575985, 0.6488168 , 0.2867304 , 0.5872328 , 0.7951604 ,\n",
       "        0.1250056 ],\n",
       "       [0.3266816 , 0.29827225, 0.25954556, 0.35885704, 0.14033401,\n",
       "        0.3662238 ],\n",
       "       [0.5695604 , 0.853847  , 0.39001572, 0.6766658 , 0.4703468 ,\n",
       "        0.03319669],\n",
       "       [0.34298062, 0.0477289 , 0.22252929, 0.0397253 , 0.89708626,\n",
       "        0.8542186 ]], dtype=float32)>"
      ]
     },
     "execution_count": 73,
     "metadata": {},
     "output_type": "execute_result"
    }
   ],
   "source": [
    "import tensorflow as tf\n",
    "X = tf.random.uniform((4, 5, 6))\n",
    "# Multi-indexing the first 2 dimensions, \n",
    "# using last dimension as the slice/block dimension\n",
    "index = tf.constant([\n",
    "    [0, 3],\n",
    "    [1, 2],\n",
    "    [3, 0],\n",
    "    [2, 2],\n",
    "]) #(4, 2)\n",
    "\n",
    "# Gather 4 slices from the 3D tensor\n",
    "y = tf.gather_nd(X, index) # (4, 6)\n",
    "y"
   ]
  },
  {
   "cell_type": "markdown",
   "id": "21e9ca93",
   "metadata": {},
   "source": [
    "Multi-dimensional batch"
   ]
  },
  {
   "cell_type": "code",
   "execution_count": 75,
   "id": "4a04fa13",
   "metadata": {
    "ExecuteTime": {
     "end_time": "2023-11-26T00:49:48.100058Z",
     "start_time": "2023-11-26T00:49:48.071886Z"
    }
   },
   "outputs": [
    {
     "data": {
      "text/plain": [
       "<tf.Tensor: shape=(2, 3, 4), dtype=float32, numpy=\n",
       "array([[[0.9784707 , 0.6681063 , 0.46982932, 0.6225172 ],\n",
       "        [0.6100161 , 0.88331604, 0.15604722, 0.64186656],\n",
       "        [0.44745743, 0.9578006 , 0.721297  , 0.85305524]],\n",
       "\n",
       "       [[0.5169152 , 0.10794866, 0.08310223, 0.75352144],\n",
       "        [0.05132163, 0.85858   , 0.1718756 , 0.1718756 ],\n",
       "        [0.45064688, 0.687662  , 0.687662  , 0.17509532]]], dtype=float32)>"
      ]
     },
     "execution_count": 75,
     "metadata": {},
     "output_type": "execute_result"
    }
   ],
   "source": [
    "import tensorflow as tf\n",
    "X = tf.random.uniform((2, 3, 5, 4))\n",
    "index = tf.experimental.numpy.random.randint(\n",
    "    0, 4, (2, 3, 4, 2)\n",
    ")\n",
    "batch_dims=2\n",
    "y = tf.gather_nd(X, index, batch_dims=batch_dims)\n",
    "y"
   ]
  },
  {
   "cell_type": "markdown",
   "id": "53f91d12",
   "metadata": {},
   "source": [
    "# Set Values at Index"
   ]
  },
  {
   "cell_type": "code",
   "execution_count": 76,
   "id": "23bcffee",
   "metadata": {
    "ExecuteTime": {
     "end_time": "2023-11-26T00:50:53.155069Z",
     "start_time": "2023-11-26T00:50:53.142382Z"
    }
   },
   "outputs": [
    {
     "data": {
      "text/plain": [
       "[1, 2, 3, 100]"
      ]
     },
     "execution_count": 76,
     "metadata": {},
     "output_type": "execute_result"
    }
   ],
   "source": [
    "import numpy as np\n",
    "import tensorflow as tf\n",
    "import torch\n",
    "\n",
    "# Python list\n",
    "X_py = [1, 2, 3, 4]\n",
    "X_py[3] = 100\n",
    "X_py"
   ]
  },
  {
   "cell_type": "code",
   "execution_count": 78,
   "id": "a781b8a0",
   "metadata": {
    "ExecuteTime": {
     "end_time": "2023-11-26T00:51:04.361465Z",
     "start_time": "2023-11-26T00:51:04.342446Z"
    }
   },
   "outputs": [
    {
     "data": {
      "text/plain": [
       "array([  1,   2,   3, 100])"
      ]
     },
     "execution_count": 78,
     "metadata": {},
     "output_type": "execute_result"
    }
   ],
   "source": [
    "# NumPy\n",
    "X_np = np.array([1, 2, 3, 4])\n",
    "X_np[3] = 100\n",
    "X_np"
   ]
  },
  {
   "cell_type": "code",
   "execution_count": 79,
   "id": "7767fd5d",
   "metadata": {
    "ExecuteTime": {
     "end_time": "2023-11-26T00:51:10.558725Z",
     "start_time": "2023-11-26T00:51:10.542683Z"
    }
   },
   "outputs": [
    {
     "data": {
      "text/plain": [
       "tensor([  1,   2,   3, 100])"
      ]
     },
     "execution_count": 79,
     "metadata": {},
     "output_type": "execute_result"
    }
   ],
   "source": [
    "# PyTorch\n",
    "X_torch = torch.tensor([1, 2, 3, 4])\n",
    "X_torch[3] = 100\n",
    "X_torch"
   ]
  },
  {
   "cell_type": "code",
   "execution_count": 80,
   "id": "1a7841d6",
   "metadata": {
    "ExecuteTime": {
     "end_time": "2023-11-26T00:51:16.729635Z",
     "start_time": "2023-11-26T00:51:16.679287Z"
    }
   },
   "outputs": [
    {
     "ename": "TypeError",
     "evalue": "'tensorflow.python.framework.ops.EagerTensor' object does not support item assignment",
     "output_type": "error",
     "traceback": [
      "\u001b[0;31m---------------------------------------------------------------------------\u001b[0m",
      "\u001b[0;31mTypeError\u001b[0m                                 Traceback (most recent call last)",
      "Cell \u001b[0;32mIn[80], line 3\u001b[0m\n\u001b[1;32m      1\u001b[0m \u001b[38;5;66;03m# Tensorflow\u001b[39;00m\n\u001b[1;32m      2\u001b[0m X_tf \u001b[38;5;241m=\u001b[39m tf\u001b[38;5;241m.\u001b[39mconstant([\u001b[38;5;241m1\u001b[39m, \u001b[38;5;241m2\u001b[39m, \u001b[38;5;241m3\u001b[39m, \u001b[38;5;241m4\u001b[39m])\n\u001b[0;32m----> 3\u001b[0m \u001b[43mX_tf\u001b[49m\u001b[43m[\u001b[49m\u001b[38;5;241;43m3\u001b[39;49m\u001b[43m]\u001b[49m \u001b[38;5;241m=\u001b[39m \u001b[38;5;241m100\u001b[39m \u001b[38;5;66;03m# throws an error\u001b[39;00m\n",
      "\u001b[0;31mTypeError\u001b[0m: 'tensorflow.python.framework.ops.EagerTensor' object does not support item assignment"
     ]
    }
   ],
   "source": [
    "# Tensorflow\n",
    "X_tf = tf.constant([1, 2, 3, 4])\n",
    "X_tf[3] = 100 # throws an error"
   ]
  },
  {
   "cell_type": "code",
   "execution_count": 81,
   "id": "48d7f4b1",
   "metadata": {
    "ExecuteTime": {
     "end_time": "2023-11-26T00:51:28.922998Z",
     "start_time": "2023-11-26T00:51:28.908823Z"
    }
   },
   "outputs": [],
   "source": [
    "import numpy as np\n",
    "X = np.array([1, 2, 3, 4])\n",
    "# create a new variable that points to X\n",
    "Y = X \n",
    "# modify X\n",
    "X[3] = 100"
   ]
  },
  {
   "cell_type": "code",
   "execution_count": 82,
   "id": "58ffc78a",
   "metadata": {
    "ExecuteTime": {
     "end_time": "2023-11-26T00:51:29.853826Z",
     "start_time": "2023-11-26T00:51:29.839630Z"
    }
   },
   "outputs": [
    {
     "data": {
      "text/plain": [
       "array([  1,   2,   3, 100])"
      ]
     },
     "execution_count": 82,
     "metadata": {},
     "output_type": "execute_result"
    }
   ],
   "source": [
    "X"
   ]
  },
  {
   "cell_type": "code",
   "execution_count": 83,
   "id": "6d0fb46c",
   "metadata": {
    "ExecuteTime": {
     "end_time": "2023-11-26T00:51:30.924413Z",
     "start_time": "2023-11-26T00:51:30.915361Z"
    }
   },
   "outputs": [
    {
     "data": {
      "text/plain": [
       "array([  1,   2,   3, 100])"
      ]
     },
     "execution_count": 83,
     "metadata": {},
     "output_type": "execute_result"
    }
   ],
   "source": [
    "Y"
   ]
  },
  {
   "cell_type": "markdown",
   "id": "f8b82890",
   "metadata": {},
   "source": [
    "Multi-dimensional array with multi-index assignment"
   ]
  },
  {
   "cell_type": "code",
   "execution_count": 85,
   "id": "f1f0ab7f",
   "metadata": {
    "ExecuteTime": {
     "end_time": "2023-11-26T00:52:12.581486Z",
     "start_time": "2023-11-26T00:52:12.567486Z"
    }
   },
   "outputs": [
    {
     "data": {
      "text/plain": [
       "array([[ 0,  1,  2,  3,  4],\n",
       "       [ 5,  6,  7,  8,  9],\n",
       "       [10, 11, 12, 13, 14],\n",
       "       [15, 16, 17, 18, 19]])"
      ]
     },
     "execution_count": 85,
     "metadata": {},
     "output_type": "execute_result"
    }
   ],
   "source": [
    "import numpy as np\n",
    "X = np.arange(20).reshape(4, 5)\n",
    "X"
   ]
  },
  {
   "cell_type": "code",
   "execution_count": 86,
   "id": "2becbbb3",
   "metadata": {
    "ExecuteTime": {
     "end_time": "2023-11-26T00:52:20.385591Z",
     "start_time": "2023-11-26T00:52:20.370653Z"
    }
   },
   "outputs": [
    {
     "data": {
      "text/plain": [
       "array([[ 0,  1,  2,  3,  4],\n",
       "       [ 5,  6,  7,  8,  9],\n",
       "       [10, 11, 12, 13, 14],\n",
       "       [15, 16, -3, 18, 19]])"
      ]
     },
     "execution_count": 86,
     "metadata": {},
     "output_type": "execute_result"
    }
   ],
   "source": [
    "X[3, 2] -= 20 # 17 -> -3\n",
    "X"
   ]
  },
  {
   "cell_type": "markdown",
   "id": "a9660c6f",
   "metadata": {},
   "source": [
    "Replacing slice"
   ]
  },
  {
   "cell_type": "code",
   "execution_count": 87,
   "id": "d043d582",
   "metadata": {
    "ExecuteTime": {
     "end_time": "2023-11-26T00:52:37.943018Z",
     "start_time": "2023-11-26T00:52:37.933428Z"
    }
   },
   "outputs": [
    {
     "data": {
      "text/plain": [
       "array([[ 0,  1,  2,  3,  4],\n",
       "       [ 5,  6,  7,  8,  9],\n",
       "       [10, 11, 12, 13, 14],\n",
       "       [15, 16, 17, 18, 19]])"
      ]
     },
     "execution_count": 87,
     "metadata": {},
     "output_type": "execute_result"
    }
   ],
   "source": [
    "import numpy as np\n",
    "X = np.arange(20).reshape(4, 5)\n",
    "X"
   ]
  },
  {
   "cell_type": "code",
   "execution_count": 88,
   "id": "f26f42b6",
   "metadata": {
    "ExecuteTime": {
     "end_time": "2023-11-26T00:52:40.009897Z",
     "start_time": "2023-11-26T00:52:39.997365Z"
    }
   },
   "outputs": [
    {
     "data": {
      "text/plain": [
       "array([[  0,   1,   2,   3, -99],\n",
       "       [  5,   6,   7,   8, -99],\n",
       "       [ 10,  11,  12,  13, -99],\n",
       "       [ 15,  16,  17,  18, -99]])"
      ]
     },
     "execution_count": 88,
     "metadata": {},
     "output_type": "execute_result"
    }
   ],
   "source": [
    "# replacing the last column with -99\n",
    "X[:, -1] = -99\n",
    "X"
   ]
  },
  {
   "cell_type": "markdown",
   "id": "4a7fcdac",
   "metadata": {},
   "source": [
    "Broadcasting"
   ]
  },
  {
   "cell_type": "code",
   "execution_count": 89,
   "id": "c0f1a610",
   "metadata": {
    "ExecuteTime": {
     "end_time": "2023-11-26T00:52:52.564132Z",
     "start_time": "2023-11-26T00:52:52.550233Z"
    }
   },
   "outputs": [
    {
     "data": {
      "text/plain": [
       "array([[ 0,  1,  2,  3,  4],\n",
       "       [ 5,  6,  7,  8,  9],\n",
       "       [10, 11, 12, 13, 14],\n",
       "       [15, 16, 17, 18, 19]])"
      ]
     },
     "execution_count": 89,
     "metadata": {},
     "output_type": "execute_result"
    }
   ],
   "source": [
    "import numpy as np\n",
    "X = np.arange(20).reshape(4, 5)\n",
    "X"
   ]
  },
  {
   "cell_type": "code",
   "execution_count": 90,
   "id": "50fe2733",
   "metadata": {
    "ExecuteTime": {
     "end_time": "2023-11-26T00:52:54.697254Z",
     "start_time": "2023-11-26T00:52:54.684752Z"
    }
   },
   "outputs": [
    {
     "data": {
      "text/plain": [
       "array([[  0,   1,   2, -88, -99],\n",
       "       [  5,   6,   7, -88, -99],\n",
       "       [ 10,  11,  12, -88, -99],\n",
       "       [ 15,  16,  17, -88, -99]])"
      ]
     },
     "execution_count": 90,
     "metadata": {},
     "output_type": "execute_result"
    }
   ],
   "source": [
    "# replacing the last two columns with -88, -99, respectively\n",
    "X[:, -2:] = np.array([-88, -99])\n",
    "X"
   ]
  },
  {
   "cell_type": "markdown",
   "id": "87e89371",
   "metadata": {},
   "source": [
    "Setting diagonal example"
   ]
  },
  {
   "cell_type": "code",
   "execution_count": 91,
   "id": "348ec7be",
   "metadata": {
    "ExecuteTime": {
     "end_time": "2023-11-26T00:53:08.947655Z",
     "start_time": "2023-11-26T00:53:08.935193Z"
    }
   },
   "outputs": [
    {
     "data": {
      "text/plain": [
       "array([[ 0,  1,  2,  3,  4],\n",
       "       [ 5,  6,  7,  8,  9],\n",
       "       [10, 11, 12, 13, 14],\n",
       "       [15, 16, 17, 18, 19]])"
      ]
     },
     "execution_count": 91,
     "metadata": {},
     "output_type": "execute_result"
    }
   ],
   "source": [
    "import numpy as np\n",
    "X = np.arange(20).reshape(4, 5)\n",
    "X"
   ]
  },
  {
   "cell_type": "code",
   "execution_count": 92,
   "id": "54c04132",
   "metadata": {
    "ExecuteTime": {
     "end_time": "2023-11-26T00:53:11.503868Z",
     "start_time": "2023-11-26T00:53:11.500650Z"
    }
   },
   "outputs": [
    {
     "data": {
      "text/plain": [
       "array([[-1,  1,  2,  3,  4],\n",
       "       [ 5, -2,  7,  8,  9],\n",
       "       [10, 11, -3, 13, 14],\n",
       "       [15, 16, 17, -4, 19]])"
      ]
     },
     "execution_count": 92,
     "metadata": {},
     "output_type": "execute_result"
    }
   ],
   "source": [
    "# Assign the diagonal entries with different values\n",
    "rows = np.array([0, 1, 2, 3])\n",
    "cols = np.array([0, 1, 2, 3])\n",
    "values = np.array([-1, -2, -3, -4])\n",
    "X[rows, cols] = values\n",
    "X"
   ]
  },
  {
   "cell_type": "markdown",
   "id": "d6ec5c6c",
   "metadata": {},
   "source": [
    "# Put"
   ]
  },
  {
   "cell_type": "code",
   "execution_count": 94,
   "id": "f819a70f",
   "metadata": {
    "ExecuteTime": {
     "end_time": "2023-11-26T00:53:44.623503Z",
     "start_time": "2023-11-26T00:53:44.607910Z"
    }
   },
   "outputs": [
    {
     "data": {
      "text/plain": [
       "array([0, 0, 1, 0, 2, 0, 3, 0, 4, 0])"
      ]
     },
     "execution_count": 94,
     "metadata": {},
     "output_type": "execute_result"
    }
   ],
   "source": [
    "import numpy as np\n",
    "X = np.zeros(10, dtype=int)\n",
    "indices = np.array([2, 4, 6, 8])\n",
    "values = np.array([1, 2, 3, 4])\n",
    "# in-place operation, modifies X directly\n",
    "np.put(X, indices, values)\n",
    "X"
   ]
  },
  {
   "cell_type": "code",
   "execution_count": 95,
   "id": "d9e7ff9f",
   "metadata": {
    "ExecuteTime": {
     "end_time": "2023-11-26T00:53:53.257437Z",
     "start_time": "2023-11-26T00:53:53.240420Z"
    }
   },
   "outputs": [
    {
     "data": {
      "text/plain": [
       "array([[0, 1, 2],\n",
       "       [0, 0, 3],\n",
       "       [0, 0, 4]])"
      ]
     },
     "execution_count": 95,
     "metadata": {},
     "output_type": "execute_result"
    }
   ],
   "source": [
    "import numpy as np\n",
    "X = np.zeros((3, 3), dtype=int)\n",
    "indices = np.array([1, 2, 5, 8])\n",
    "values = np.array([1, 2, 3, 4])\n",
    "np.put(X, indices, values)\n",
    "X"
   ]
  },
  {
   "cell_type": "code",
   "execution_count": 96,
   "id": "b84b9fe8",
   "metadata": {
    "ExecuteTime": {
     "end_time": "2023-11-26T00:53:59.179106Z",
     "start_time": "2023-11-26T00:53:59.165790Z"
    }
   },
   "outputs": [
    {
     "data": {
      "text/plain": [
       "array([[0, 1, 2],\n",
       "       [0, 0, 3],\n",
       "       [0, 0, 4]])"
      ]
     },
     "execution_count": 96,
     "metadata": {},
     "output_type": "execute_result"
    }
   ],
   "source": [
    "import numpy as np\n",
    "X = np.zeros((3, 3), dtype=int)\n",
    "indices = np.array([[1, 2], [5, 8]])\n",
    "values = np.array([1, 2, 3, 4])\n",
    "np.put(X, indices, values)\n",
    "X"
   ]
  },
  {
   "cell_type": "markdown",
   "id": "4a297fdb",
   "metadata": {},
   "source": [
    "# Put along axis"
   ]
  },
  {
   "cell_type": "code",
   "execution_count": 99,
   "id": "84c0fea8",
   "metadata": {
    "ExecuteTime": {
     "end_time": "2023-11-26T00:57:30.529100Z",
     "start_time": "2023-11-26T00:57:30.509526Z"
    }
   },
   "outputs": [
    {
     "data": {
      "text/plain": [
       "array([[1, 0, 1, 0],\n",
       "       [0, 2, 0, 2],\n",
       "       [0, 3, 3, 0]])"
      ]
     },
     "execution_count": 99,
     "metadata": {},
     "output_type": "execute_result"
    }
   ],
   "source": [
    "import numpy as np\n",
    "X = np.zeros((3, 4), dtype=int)\n",
    "indices = np.array([\n",
    "    [0, 2],\n",
    "    [1, 3],\n",
    "    [2, 1]\n",
    "])\n",
    "# (3, 1) broadcastable to (3, 2)\n",
    "# this will reuse the value along the rows\n",
    "values = np.array([\n",
    "    [1],\n",
    "    [2],\n",
    "    [3],\n",
    "])\n",
    "\n",
    "np.put_along_axis(X, indices, values, axis=1)\n",
    "X"
   ]
  },
  {
   "cell_type": "markdown",
   "id": "a7c91071",
   "metadata": {},
   "source": [
    "# Multi-index Scatter Replacement"
   ]
  },
  {
   "cell_type": "code",
   "execution_count": 100,
   "id": "3208bbbe",
   "metadata": {
    "ExecuteTime": {
     "end_time": "2023-11-26T00:58:08.466089Z",
     "start_time": "2023-11-26T00:58:08.451517Z"
    }
   },
   "outputs": [
    {
     "data": {
      "text/plain": [
       "<tf.Tensor: shape=(5, 4), dtype=int32, numpy=\n",
       "array([[0, 0, 1, 0],\n",
       "       [0, 0, 0, 3],\n",
       "       [5, 0, 0, 0],\n",
       "       [0, 7, 0, 0],\n",
       "       [0, 0, 9, 0]], dtype=int32)>"
      ]
     },
     "execution_count": 100,
     "metadata": {},
     "output_type": "execute_result"
    }
   ],
   "source": [
    "import tensorflow as tf\n",
    "# [row, col]\n",
    "indices = tf.constant([\n",
    "    [0, 2],\n",
    "    [1, 3],\n",
    "    [2, 0],\n",
    "    [3, 1],\n",
    "    [4, 2],\n",
    "])\n",
    "values = tf.constant([1, 3, 5, 7, 9])\n",
    "shape = (5, 4)\n",
    "X_tf = tf.scatter_nd(indices, values, shape)\n",
    "X_tf"
   ]
  },
  {
   "cell_type": "markdown",
   "id": "4837adbf",
   "metadata": {},
   "source": [
    "Alternative ways"
   ]
  },
  {
   "cell_type": "code",
   "execution_count": 101,
   "id": "d615ae97",
   "metadata": {
    "ExecuteTime": {
     "end_time": "2023-11-26T00:58:55.958234Z",
     "start_time": "2023-11-26T00:58:55.925889Z"
    }
   },
   "outputs": [
    {
     "data": {
      "text/plain": [
       "tensor([[0, 0, 1, 0],\n",
       "        [0, 0, 0, 3],\n",
       "        [5, 0, 0, 0],\n",
       "        [0, 7, 0, 0],\n",
       "        [0, 0, 9, 0]])"
      ]
     },
     "execution_count": 101,
     "metadata": {},
     "output_type": "execute_result"
    }
   ],
   "source": [
    "import numpy as np\n",
    "import tensorflow as tf\n",
    "import torch\n",
    "# [row, col]\n",
    "indices = tf.constant([\n",
    "    [0, 2],\n",
    "    [1, 3],\n",
    "    [2, 0],\n",
    "    [3, 1],\n",
    "    [4, 2],\n",
    "])\n",
    "values = tf.constant([1, 3, 5, 7, 9])\n",
    "shape = (5, 4)\n",
    "X_tf = tf.zeros(shape, dtype=values.dtype)\n",
    "X_tf = tf.tensor_scatter_nd_update(\n",
    "    X_tf, indices, values\n",
    ")\n",
    "\n",
    "# equivalently in NumPy\n",
    "X_np = np.zeros(shape, dtype=int)\n",
    "X_np[tuple(indices.numpy().T)] = values\n",
    "assert np.allclose(X_tf, X_np)\n",
    "\n",
    "# 2 equivalent operations in PyTorch\n",
    "# Converting to PyTorch dtypes\n",
    "indices = torch.tensor(indices.numpy())\n",
    "values = torch.tensor(values.numpy(), dtype=int)\n",
    "# Method 1: Using indexed assignment like NumPy\n",
    "X_torch = torch.zeros(shape, dtype=int)\n",
    "X_torch[tuple(indices.T)] = values\n",
    "assert np.allclose(X_tf, X_torch)\n",
    "\n",
    "# Method 2: Using torch.index_put\n",
    "X_torch = torch.zeros(shape, dtype=int)\n",
    "X_torch = torch.index_put(X_torch, tuple(indices.T), values)\n",
    "\n",
    "# Method 2 In-place: Using torch.Tensor.index_put_\n",
    "X_torch = torch.zeros(shape, dtype=int)\n",
    "# Also returns the modified tensor itself\n",
    "X_torch.index_put_(tuple(indices.T), values)"
   ]
  },
  {
   "cell_type": "markdown",
   "id": "230754ca",
   "metadata": {},
   "source": [
    "Duplicated entries"
   ]
  },
  {
   "cell_type": "code",
   "execution_count": 107,
   "id": "de270bb6",
   "metadata": {
    "ExecuteTime": {
     "end_time": "2023-11-26T01:01:07.026089Z",
     "start_time": "2023-11-26T01:01:07.008433Z"
    }
   },
   "outputs": [
    {
     "data": {
      "text/plain": [
       "array([[ 0,  0,  1,  0],\n",
       "       [ 0,  0,  0,  3],\n",
       "       [ 5,  0,  0,  0],\n",
       "       [ 0,  7,  0,  0],\n",
       "       [ 0,  0, 11,  0]])"
      ]
     },
     "execution_count": 107,
     "metadata": {},
     "output_type": "execute_result"
    }
   ],
   "source": [
    "import numpy as np\n",
    "import tensorflow as tf\n",
    "import torch\n",
    "indices = torch.tensor([\n",
    "    [0, 2],\n",
    "    [1, 3],\n",
    "    [2, 0],\n",
    "    [3, 1],\n",
    "    [4, 2],\n",
    "    [4, 2],\n",
    "])\n",
    "values = torch.tensor([1, 3, 5, 7, 9, 11])\n",
    "shape = (5, 4)\n",
    "\n",
    "# NumPy:\n",
    "X_np = np.zeros(shape, dtype=int)\n",
    "X_np[tuple(indices.T)] = values\n",
    "\n",
    "# Tensorflow:\n",
    "X_tf = tf.zeros(shape, dtype=tf.int32)\n",
    "X_tf = tf.tensor_scatter_nd_update(X_tf, indices, values)\n",
    "\n",
    "# PyTorch:\n",
    "X_torch = torch.zeros(shape, dtype=int)\n",
    "X_torch = torch.index_put(\n",
    "    X_torch, tuple(indices.T), values, accumulate=False\n",
    ")\n",
    "\n",
    "assert np.allclose(X_np, X_tf)\n",
    "assert np.allclose(X_tf, X_torch)\n",
    "\n",
    "X_np"
   ]
  },
  {
   "cell_type": "code",
   "execution_count": 108,
   "id": "a98fb340",
   "metadata": {
    "ExecuteTime": {
     "end_time": "2023-11-26T01:01:32.236751Z",
     "start_time": "2023-11-26T01:01:32.221068Z"
    }
   },
   "outputs": [
    {
     "data": {
      "text/plain": [
       "tensor([[ 0,  0,  1,  0],\n",
       "        [ 0,  0,  0,  3],\n",
       "        [ 5,  0,  0,  0],\n",
       "        [ 0,  7,  0,  0],\n",
       "        [ 0,  0, 20,  0]])"
      ]
     },
     "execution_count": 108,
     "metadata": {},
     "output_type": "execute_result"
    }
   ],
   "source": [
    "# Accumulate via summation \n",
    "# NumPy:\n",
    "X_np = np.zeros(shape, dtype=int)\n",
    "np.add.at(X_np, tuple(indices.T), values) # in-place\n",
    "# Alternatively,\n",
    "# X_np[tuple(np.array(indices).T)] += np.array(values)\n",
    "\n",
    "# Tensorflow:\n",
    "X_tf = tf.zeros(shape, dtype=tf.int32)\n",
    "X_tf = tf.tensor_scatter_nd_add(X_tf, indices, values)\n",
    "X_tf_alt = tf.scatter_nd(indices, values, shape)\n",
    "\n",
    "# PyTorch:\n",
    "X_torch = torch.zeros(shape, dtype=int)\n",
    "X_torch = torch.index_put(\n",
    "    X_torch, tuple(indices.T), values, accumulate=True\n",
    ")\n",
    "\n",
    "assert np.allclose(X_np, X_tf)\n",
    "assert np.allclose(X_tf, X_tf_alt)\n",
    "assert np.allclose(X_tf, X_torch)\n",
    "\n",
    "X_torch"
   ]
  },
  {
   "cell_type": "markdown",
   "id": "8aa7d63b",
   "metadata": {},
   "source": [
    "Tensorflow scattering 1D"
   ]
  },
  {
   "cell_type": "code",
   "execution_count": 110,
   "id": "d207b725",
   "metadata": {
    "ExecuteTime": {
     "end_time": "2023-11-26T01:02:44.959266Z",
     "start_time": "2023-11-26T01:02:44.933118Z"
    }
   },
   "outputs": [
    {
     "data": {
      "text/plain": [
       "<tf.Tensor: shape=(5,), dtype=int32, numpy=array([1, 0, 3, 0, 5], dtype=int32)>"
      ]
     },
     "execution_count": 110,
     "metadata": {},
     "output_type": "execute_result"
    }
   ],
   "source": [
    "import tensorflow as tf\n",
    "indices = tf.constant([0, 2, 4])[:, None]\n",
    "values = tf.constant([1, 3, 5])\n",
    "shape = (5, )\n",
    "X = tf.scatter_nd(indices, values, shape)\n",
    "X"
   ]
  },
  {
   "cell_type": "markdown",
   "id": "d949c90c",
   "metadata": {},
   "source": [
    "PyTorch scattering 1D"
   ]
  },
  {
   "cell_type": "code",
   "execution_count": 111,
   "id": "93ee8ddd",
   "metadata": {
    "ExecuteTime": {
     "end_time": "2023-11-26T01:03:00.828445Z",
     "start_time": "2023-11-26T01:03:00.810370Z"
    }
   },
   "outputs": [
    {
     "data": {
      "text/plain": [
       "tensor([1, 0, 3, 0, 5])"
      ]
     },
     "execution_count": 111,
     "metadata": {},
     "output_type": "execute_result"
    }
   ],
   "source": [
    "import torch\n",
    "indices = torch.tensor([0, 2, 4])\n",
    "values = torch.tensor([1, 3, 5])\n",
    "shape = (5, )\n",
    "X_torch = torch.zeros(shape, dtype=int)\n",
    "X_torch = torch.index_put(X_torch, (indices, ), values)\n",
    "X_torch"
   ]
  },
  {
   "cell_type": "markdown",
   "id": "b2a6eeef",
   "metadata": {
    "ExecuteTime": {
     "end_time": "2023-11-26T01:03:49.655290Z",
     "start_time": "2023-11-26T01:03:49.643439Z"
    }
   },
   "source": [
    "Tensorflow scattering slicesm"
   ]
  },
  {
   "cell_type": "code",
   "execution_count": 112,
   "id": "56ee4039",
   "metadata": {
    "ExecuteTime": {
     "end_time": "2023-11-26T01:03:31.503656Z",
     "start_time": "2023-11-26T01:03:31.487661Z"
    }
   },
   "outputs": [
    {
     "data": {
      "text/plain": [
       "<tf.Tensor: shape=(5, 3, 4), dtype=float32, numpy=\n",
       "array([[[0.5854825 , 0.6443523 , 0.2271676 , 0.77668583],\n",
       "        [0.181005  , 0.5815594 , 0.8054135 , 0.31492925],\n",
       "        [0.08400917, 0.6241863 , 0.73857045, 0.40204942]],\n",
       "\n",
       "       [[0.        , 0.        , 0.        , 0.        ],\n",
       "        [0.        , 0.        , 0.        , 0.        ],\n",
       "        [0.        , 0.        , 0.        , 0.        ]],\n",
       "\n",
       "       [[0.        , 0.        , 0.        , 0.        ],\n",
       "        [0.        , 0.        , 0.        , 0.        ],\n",
       "        [0.        , 0.        , 0.        , 0.        ]],\n",
       "\n",
       "       [[0.8988935 , 0.32361162, 0.713194  , 0.03325117],\n",
       "        [0.34480882, 0.4378265 , 0.5213853 , 0.306126  ],\n",
       "        [0.5065043 , 0.9440452 , 0.08750558, 0.40185368]],\n",
       "\n",
       "       [[0.        , 0.        , 0.        , 0.        ],\n",
       "        [0.        , 0.        , 0.        , 0.        ],\n",
       "        [0.        , 0.        , 0.        , 0.        ]]], dtype=float32)>"
      ]
     },
     "execution_count": 112,
     "metadata": {},
     "output_type": "execute_result"
    }
   ],
   "source": [
    "import tensorflow as tf\n",
    "values = tf.random.uniform((2, 3, 4))\n",
    "indices = tf.constant([3, 0])[:, None]\n",
    "X = tf.scatter_nd(indices, values, shape=(5, 3, 4))\n",
    "X"
   ]
  },
  {
   "cell_type": "markdown",
   "id": "5e3f5239",
   "metadata": {},
   "source": [
    "Higher dimensional scattering"
   ]
  },
  {
   "cell_type": "code",
   "execution_count": 114,
   "id": "4d60802c",
   "metadata": {
    "ExecuteTime": {
     "end_time": "2023-11-26T01:04:43.105509Z",
     "start_time": "2023-11-26T01:04:43.086309Z"
    }
   },
   "outputs": [
    {
     "data": {
      "text/plain": [
       "<tf.Tensor: shape=(2, 2, 3, 4), dtype=float32, numpy=\n",
       "array([[[[0.        , 0.        , 0.        , 0.        ],\n",
       "         [0.        , 0.        , 0.        , 0.        ],\n",
       "         [0.        , 0.        , 0.        , 0.        ]],\n",
       "\n",
       "        [[0.29027224, 0.57536054, 0.49918687, 0.47940528],\n",
       "         [0.42972338, 0.05375266, 0.56053984, 0.14314198],\n",
       "         [0.57762897, 0.21365106, 0.14313734, 0.57539463]]],\n",
       "\n",
       "\n",
       "       [[[0.5233065 , 0.65773225, 0.97701263, 0.30892646],\n",
       "         [0.11707819, 0.5031285 , 0.97141457, 0.20344663],\n",
       "         [0.58398056, 0.05704939, 0.38306272, 0.41080678]],\n",
       "\n",
       "        [[0.        , 0.        , 0.        , 0.        ],\n",
       "         [0.        , 0.        , 0.        , 0.        ],\n",
       "         [0.        , 0.        , 0.        , 0.        ]]]],\n",
       "      dtype=float32)>"
      ]
     },
     "execution_count": 114,
     "metadata": {},
     "output_type": "execute_result"
    }
   ],
   "source": [
    "import tensorflow as tf\n",
    "values = tf.random.uniform((2, 3, 4))\n",
    "indices = tf.constant([[1, 0], [0, 1]]) # (2, 2)\n",
    "X = tf.scatter_nd(indices, values, shape=(2, 2, 3, 4))\n",
    "X"
   ]
  },
  {
   "cell_type": "markdown",
   "id": "cbee41ad",
   "metadata": {},
   "source": [
    "Batching with scattering"
   ]
  },
  {
   "cell_type": "code",
   "execution_count": 115,
   "id": "86e8e055",
   "metadata": {
    "ExecuteTime": {
     "end_time": "2023-11-26T01:05:02.701460Z",
     "start_time": "2023-11-26T01:05:02.675390Z"
    },
    "scrolled": true
   },
   "outputs": [
    {
     "data": {
      "text/plain": [
       "<tf.Tensor: shape=(3, 3, 3, 4), dtype=float32, numpy=\n",
       "array([[[[0.22356176, 0.46682   , 0.78744555, 0.6579579 ],\n",
       "         [0.03612351, 0.79817665, 0.82357204, 0.4398501 ],\n",
       "         [0.92811894, 0.27770078, 0.99358535, 0.6468997 ]],\n",
       "\n",
       "        [[0.81874   , 0.2970785 , 0.19359171, 0.5107218 ],\n",
       "         [0.9423139 , 0.8019619 , 0.11886549, 0.6156517 ],\n",
       "         [0.63097227, 0.26805937, 0.5931915 , 0.4372431 ]],\n",
       "\n",
       "        [[0.        , 0.        , 0.        , 0.        ],\n",
       "         [0.        , 0.        , 0.        , 0.        ],\n",
       "         [0.        , 0.        , 0.        , 0.        ]]],\n",
       "\n",
       "\n",
       "       [[[0.5076268 , 0.9843929 , 0.18080878, 0.29653823],\n",
       "         [0.8087219 , 0.66494715, 0.71060205, 0.36653388],\n",
       "         [0.75558305, 0.15773058, 0.6330824 , 0.7372726 ]],\n",
       "\n",
       "        [[0.        , 0.        , 0.        , 0.        ],\n",
       "         [0.        , 0.        , 0.        , 0.        ],\n",
       "         [0.        , 0.        , 0.        , 0.        ]],\n",
       "\n",
       "        [[0.        , 0.        , 0.        , 0.        ],\n",
       "         [0.        , 0.        , 0.        , 0.        ],\n",
       "         [0.        , 0.        , 0.        , 0.        ]]],\n",
       "\n",
       "\n",
       "       [[[0.        , 0.        , 0.        , 0.        ],\n",
       "         [0.        , 0.        , 0.        , 0.        ],\n",
       "         [0.        , 0.        , 0.        , 0.        ]],\n",
       "\n",
       "        [[0.        , 0.        , 0.        , 0.        ],\n",
       "         [0.        , 0.        , 0.        , 0.        ],\n",
       "         [0.        , 0.        , 0.        , 0.        ]],\n",
       "\n",
       "        [[0.6441777 , 0.4121015 , 0.43805134, 0.55555856],\n",
       "         [0.19411409, 0.6368431 , 0.32465708, 0.43561113],\n",
       "         [0.48837054, 0.49082124, 0.18396616, 0.44527555]]]],\n",
       "      dtype=float32)>"
      ]
     },
     "execution_count": 115,
     "metadata": {},
     "output_type": "execute_result"
    }
   ],
   "source": [
    "import tensorflow as tf\n",
    "values = tf.random.uniform((4, 3, 4))\n",
    "indices = tf.constant([\n",
    "    [1, 0],\n",
    "    [0, 1],\n",
    "    [0, 0],\n",
    "    [2, 2],\n",
    "]) # (4, 2)\n",
    "shape = (3, 3, 3, 4)\n",
    "X = tf.scatter_nd(indices, values, shape=shape)\n",
    "\n",
    "# fold indices and values into a 2 x 2 grid -> (2, 2, 2)\n",
    "folded_indices = tf.reshape(indices, (2, 2, 2))\n",
    "folded_values = tf.reshape(values, (2, 2, 3, 4))\n",
    "X_folded = tf.scatter_nd(indices, values, shape=shape)\n",
    "\n",
    "# same output results\n",
    "assert np.allclose(X, X_folded)\n",
    "X"
   ]
  },
  {
   "cell_type": "markdown",
   "id": "78da6f8e",
   "metadata": {},
   "source": [
    "# PyTorch scattering\n",
    "\n",
    "Example 1: Scattering along `dim=0`"
   ]
  },
  {
   "cell_type": "code",
   "execution_count": 116,
   "id": "5cfd71e9",
   "metadata": {
    "ExecuteTime": {
     "end_time": "2023-11-26T01:05:52.192470Z",
     "start_time": "2023-11-26T01:05:52.173726Z"
    }
   },
   "outputs": [
    {
     "data": {
      "text/plain": [
       "tensor([[0, 0, 7, 1, 0],\n",
       "        [3, 4, 0, 0, 4],\n",
       "        [5, 8, 0, 0, 2],\n",
       "        [0, 0, 2, 6, 0]])"
      ]
     },
     "execution_count": 116,
     "metadata": {},
     "output_type": "execute_result"
    }
   ],
   "source": [
    "import torch\n",
    "values = torch.tensor([\n",
    "    [3, 8, 2, 1, 4],\n",
    "    [5, 4, 7, 6, 2],\n",
    "    # [1, 3, 2, 4, 6], this extra row will be ignored\n",
    "], dtype=int)\n",
    "indices = torch.tensor([\n",
    "    [1, 2, 3, 0, 1],\n",
    "    [2, 1, 0, 3, 2],\n",
    "])\n",
    "\n",
    "# Scatter along dim=0\n",
    "X = torch.zeros((4, 5), dtype=int)\n",
    "y = torch.scatter_reduce(\n",
    "    input=X, dim=0, index=indices, src=values, reduce=\"sum\"\n",
    ")\n",
    "y"
   ]
  },
  {
   "cell_type": "code",
   "execution_count": 117,
   "id": "ac6fdc66",
   "metadata": {
    "ExecuteTime": {
     "end_time": "2023-11-26T01:06:08.600138Z",
     "start_time": "2023-11-26T01:06:08.585540Z"
    }
   },
   "outputs": [
    {
     "data": {
      "text/plain": [
       "tensor([[0, 0, 7, 1, 0],\n",
       "        [3, 4, 0, 0, 0],\n",
       "        [5, 8, 0, 0, 0],\n",
       "        [0, 0, 2, 6, 0]])"
      ]
     },
     "execution_count": 117,
     "metadata": {},
     "output_type": "execute_result"
    }
   ],
   "source": [
    "# Not exactly matching the full columns:\n",
    "# indices will be left aligned\n",
    "y = torch.scatter_reduce(\n",
    "    input=X,\n",
    "    dim=0,\n",
    "    index=indices[:, :-1],\n",
    "    src=values[:, :-1],\n",
    "    reduce=\"sum\",\n",
    ")\n",
    "y"
   ]
  },
  {
   "cell_type": "markdown",
   "id": "d89bb0dc",
   "metadata": {},
   "source": [
    "Example 2: Scattering along `dim=1`"
   ]
  },
  {
   "cell_type": "code",
   "execution_count": 118,
   "id": "c9475049",
   "metadata": {
    "ExecuteTime": {
     "end_time": "2023-11-26T01:07:59.359429Z",
     "start_time": "2023-11-26T01:07:59.342973Z"
    }
   },
   "outputs": [
    {
     "data": {
      "text/plain": [
       "tensor([[0, 0, 3, 0, 7],\n",
       "        [8, 0, 0, 6, 0],\n",
       "        [2, 0, 0, 0, 4],\n",
       "        [0, 9, 5, 0, 0]])"
      ]
     },
     "execution_count": 118,
     "metadata": {},
     "output_type": "execute_result"
    }
   ],
   "source": [
    "import torch\n",
    "values = torch.tensor([\n",
    "    [3, 7],\n",
    "    [8, 6],\n",
    "    [4, 2],\n",
    "    [5, 9],\n",
    "], dtype=int)\n",
    "indices = torch.tensor([\n",
    "    [2, 4],\n",
    "    [0, 3],\n",
    "    [4, 0],\n",
    "    [2, 1],\n",
    "])\n",
    "\n",
    "# Scatter along dim=1\n",
    "X = torch.zeros((4, 5), dtype=int)\n",
    "y = torch.scatter_reduce(\n",
    "    input=X, dim=1, index=indices, src=values, reduce=\"sum\"\n",
    ")\n",
    "y"
   ]
  },
  {
   "cell_type": "code",
   "execution_count": 119,
   "id": "c226d2b1",
   "metadata": {
    "ExecuteTime": {
     "end_time": "2023-11-26T01:08:26.003518Z",
     "start_time": "2023-11-26T01:08:25.991207Z"
    }
   },
   "outputs": [
    {
     "data": {
      "text/plain": [
       "tensor([[0, 0, 3, 0, 7],\n",
       "        [8, 0, 0, 6, 0],\n",
       "        [2, 0, 0, 0, 4],\n",
       "        [0, 0, 0, 0, 0]])"
      ]
     },
     "execution_count": 119,
     "metadata": {},
     "output_type": "execute_result"
    }
   ],
   "source": [
    "# Not exactly matching the full columns: \n",
    "# indices will be left aligned\n",
    "y = torch.scatter_reduce(\n",
    "    input=X,\n",
    "    dim=1,\n",
    "    index=indices[:-1, :],\n",
    "    src=values[:-1, :],\n",
    "    reduce=\"sum\",\n",
    ")\n",
    "y"
   ]
  },
  {
   "cell_type": "markdown",
   "id": "420830b8",
   "metadata": {},
   "source": [
    "`torch.index_add` example"
   ]
  },
  {
   "cell_type": "code",
   "execution_count": 120,
   "id": "08df3db2",
   "metadata": {
    "ExecuteTime": {
     "end_time": "2023-11-26T01:08:56.463189Z",
     "start_time": "2023-11-26T01:08:56.425102Z"
    }
   },
   "outputs": [
    {
     "data": {
      "text/plain": [
       "tensor([[[0.8246, 0.4835, 0.3055, 0.7646],\n",
       "         [0.7673, 0.5859, 0.9572, 0.9006],\n",
       "         [0.7628, 0.1679, 0.4563, 0.6049]],\n",
       "\n",
       "        [[0.0000, 0.0000, 0.0000, 0.0000],\n",
       "         [0.0000, 0.0000, 0.0000, 0.0000],\n",
       "         [0.0000, 0.0000, 0.0000, 0.0000]],\n",
       "\n",
       "        [[0.0000, 0.0000, 0.0000, 0.0000],\n",
       "         [0.0000, 0.0000, 0.0000, 0.0000],\n",
       "         [0.0000, 0.0000, 0.0000, 0.0000]],\n",
       "\n",
       "        [[0.6473, 0.6150, 0.1845, 0.2119],\n",
       "         [0.3595, 0.3015, 0.9837, 0.0020],\n",
       "         [0.6153, 0.9747, 0.0458, 0.9802]],\n",
       "\n",
       "        [[0.0000, 0.0000, 0.0000, 0.0000],\n",
       "         [0.0000, 0.0000, 0.0000, 0.0000],\n",
       "         [0.0000, 0.0000, 0.0000, 0.0000]]], dtype=torch.float64)"
      ]
     },
     "execution_count": 120,
     "metadata": {},
     "output_type": "execute_result"
    }
   ],
   "source": [
    "import torch\n",
    "values = torch.rand((2, 3, 4), dtype=float)\n",
    "indices = torch.tensor([3, 0])\n",
    "X = torch.zeros((5, 3, 4), dtype=float)\n",
    "X = torch.index_add(X, 0, indices, values)\n",
    "X"
   ]
  },
  {
   "cell_type": "markdown",
   "id": "6a42491d",
   "metadata": {},
   "source": [
    "# Case Study: Batch-wise Scatter Values"
   ]
  },
  {
   "cell_type": "code",
   "execution_count": 126,
   "id": "2b75db57",
   "metadata": {
    "ExecuteTime": {
     "end_time": "2023-11-26T01:11:05.390843Z",
     "start_time": "2023-11-26T01:11:05.376359Z"
    }
   },
   "outputs": [
    {
     "data": {
      "text/plain": [
       "tensor([[0, 2, 2, 5, 8, 0, 6, 0, 0, 0],\n",
       "        [0, 0, 6, 0, 1, 4, 0, 0, 7, 0],\n",
       "        [4, 5, 0, 1, 0, 5, 9, 0, 0, 0],\n",
       "        [0, 0, 8, 0, 7, 3, 0, 6, 0, 0]])"
      ]
     },
     "execution_count": 126,
     "metadata": {},
     "output_type": "execute_result"
    }
   ],
   "source": [
    "import tensorflow as tf\n",
    "import torch\n",
    "\n",
    "index = tf.constant([\n",
    "    [1, 3, 6, 2, 4],\n",
    "    [2, 4, 8, 9, 5],\n",
    "    [6, 5, 0, 1, 3],\n",
    "    [3, 7, 2, 5, 4],    \n",
    "], dtype=tf.int64)\n",
    "inputs = tf.constant([\n",
    "    [2, 5, 6, 2, 8],\n",
    "    [6, 1, 7, 0, 4],    \n",
    "    [9, 5, 4, 5, 1],    \n",
    "    [0, 6, 8, 3, 7],    \n",
    "])\n",
    "output = torch.scatter(\n",
    "    torch.zeros((4, 10), dtype=int),\n",
    "    1, \n",
    "    torch.tensor(index.numpy(), dtype=int), \n",
    "    torch.tensor(inputs.numpy(), dtype=int),\n",
    ")\n",
    "output"
   ]
  },
  {
   "cell_type": "code",
   "execution_count": 127,
   "id": "5e6ed3f9",
   "metadata": {
    "ExecuteTime": {
     "end_time": "2023-11-26T01:11:07.199797Z",
     "start_time": "2023-11-26T01:11:07.188541Z"
    }
   },
   "outputs": [],
   "source": [
    "import tensorflow as tf\n",
    "\n",
    "def scatter_batch_2d(index, inputs):\n",
    "    # Determines the length of each row for the output\n",
    "    row_length = tf.cast(tf.reduce_max(index), tf.int32) + 1\n",
    "    row_length = tf.maximum(tf.shape(inputs)[1], row_length)\n",
    "    # start and end index of each row\n",
    "    # row 0: inc[0]:inc[1], row 1: inc[1]:inc[2], ...\n",
    "    inc = row_length * tf.range(tf.shape(inputs)[0]+1)\n",
    "    # Compute flat indices for each element\n",
    "    indices = tf.cast(index, inc.dtype) + tf.reshape(inc[:-1], (-1, 1))\n",
    "    # Flatten to column vector\n",
    "    indices = tf.reshape(indices, (-1, 1))\n",
    "    # Flatten updates\n",
    "    updates = tf.reshape(inputs, (-1,))\n",
    "    shape = (inc[-1], )\n",
    "    out = tf.scatter_nd(indices, updates, shape)\n",
    "    # reshape: (batch_size, row_length)\n",
    "    out = tf.reshape(out, (tf.shape(index)[0], -1))\n",
    "    return out"
   ]
  },
  {
   "cell_type": "code",
   "execution_count": 128,
   "id": "01db60ad",
   "metadata": {
    "ExecuteTime": {
     "end_time": "2023-11-26T01:11:07.517780Z",
     "start_time": "2023-11-26T01:11:07.502155Z"
    }
   },
   "outputs": [
    {
     "data": {
      "text/plain": [
       "<tf.Tensor: shape=(4, 10), dtype=int32, numpy=\n",
       "array([[0, 2, 2, 5, 8, 0, 6, 0, 0, 0],\n",
       "       [0, 0, 6, 0, 1, 4, 0, 0, 7, 0],\n",
       "       [4, 5, 0, 1, 0, 5, 9, 0, 0, 0],\n",
       "       [0, 0, 8, 0, 7, 3, 0, 6, 0, 0]], dtype=int32)>"
      ]
     },
     "execution_count": 128,
     "metadata": {},
     "output_type": "execute_result"
    }
   ],
   "source": [
    "out_tf = scatter_batch_2d(index, inputs)\n",
    "out_tf"
   ]
  },
  {
   "cell_type": "code",
   "execution_count": 129,
   "id": "24a620ae",
   "metadata": {
    "ExecuteTime": {
     "end_time": "2023-11-26T01:11:09.247233Z",
     "start_time": "2023-11-26T01:11:09.234411Z"
    }
   },
   "outputs": [
    {
     "data": {
      "text/plain": [
       "True"
      ]
     },
     "execution_count": 129,
     "metadata": {},
     "output_type": "execute_result"
    }
   ],
   "source": [
    "np.allclose(out_tf, output)"
   ]
  },
  {
   "cell_type": "code",
   "execution_count": null,
   "id": "2a77a37e",
   "metadata": {},
   "outputs": [],
   "source": []
  }
 ],
 "metadata": {
  "kernelspec": {
   "display_name": "Python 3 (ipykernel)",
   "language": "python",
   "name": "python3"
  },
  "language_info": {
   "codemirror_mode": {
    "name": "ipython",
    "version": 3
   },
   "file_extension": ".py",
   "mimetype": "text/x-python",
   "name": "python",
   "nbconvert_exporter": "python",
   "pygments_lexer": "ipython3",
   "version": "3.10.6"
  },
  "toc": {
   "base_numbering": 1,
   "nav_menu": {},
   "number_sections": false,
   "sideBar": true,
   "skip_h1_title": false,
   "title_cell": "Table of Contents",
   "title_sidebar": "Contents",
   "toc_cell": false,
   "toc_position": {},
   "toc_section_display": true,
   "toc_window_display": false
  },
  "varInspector": {
   "cols": {
    "lenName": 16,
    "lenType": 16,
    "lenVar": 40
   },
   "kernels_config": {
    "python": {
     "delete_cmd_postfix": "",
     "delete_cmd_prefix": "del ",
     "library": "var_list.py",
     "varRefreshCmd": "print(var_dic_list())"
    },
    "r": {
     "delete_cmd_postfix": ") ",
     "delete_cmd_prefix": "rm(",
     "library": "var_list.r",
     "varRefreshCmd": "cat(var_dic_list()) "
    }
   },
   "types_to_exclude": [
    "module",
    "function",
    "builtin_function_or_method",
    "instance",
    "_Feature"
   ],
   "window_display": false
  }
 },
 "nbformat": 4,
 "nbformat_minor": 5
}
