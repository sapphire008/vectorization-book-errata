{
 "cells": [
  {
   "cell_type": "markdown",
   "id": "2c0a71ea",
   "metadata": {},
   "source": [
    "# Pandas Group-wise Operations"
   ]
  },
  {
   "cell_type": "code",
   "execution_count": 1,
   "id": "42f81046",
   "metadata": {
    "ExecuteTime": {
     "end_time": "2023-11-26T05:29:05.370109Z",
     "start_time": "2023-11-26T05:29:05.147327Z"
    }
   },
   "outputs": [],
   "source": [
    "import pandas as pd\n",
    "\n",
    "df = pd.DataFrame(\n",
    "    {\n",
    "        \"user\": [1, 3, 2, 1, 2, 3, 1],\n",
    "        \"movie\": [3, 2, 3, 2, 1, 3, 1],\n",
    "        \"viewing hours\": [0.6, 1.3, 0.6, 0.7, 0.1, 0.5, 0.9],\n",
    "    }\n",
    ")\n"
   ]
  },
  {
   "cell_type": "code",
   "execution_count": 2,
   "id": "5b2cb677",
   "metadata": {
    "ExecuteTime": {
     "end_time": "2023-11-26T05:29:11.718458Z",
     "start_time": "2023-11-26T05:29:11.709614Z"
    }
   },
   "outputs": [
    {
     "data": {
      "text/html": [
       "<div>\n",
       "<style scoped>\n",
       "    .dataframe tbody tr th:only-of-type {\n",
       "        vertical-align: middle;\n",
       "    }\n",
       "\n",
       "    .dataframe tbody tr th {\n",
       "        vertical-align: top;\n",
       "    }\n",
       "\n",
       "    .dataframe thead th {\n",
       "        text-align: right;\n",
       "    }\n",
       "</style>\n",
       "<table border=\"1\" class=\"dataframe\">\n",
       "  <thead>\n",
       "    <tr style=\"text-align: right;\">\n",
       "      <th></th>\n",
       "      <th>user</th>\n",
       "      <th>movie</th>\n",
       "      <th>viewing hours</th>\n",
       "    </tr>\n",
       "  </thead>\n",
       "  <tbody>\n",
       "    <tr>\n",
       "      <th>0</th>\n",
       "      <td>1</td>\n",
       "      <td>6</td>\n",
       "      <td>2.2</td>\n",
       "    </tr>\n",
       "    <tr>\n",
       "      <th>1</th>\n",
       "      <td>2</td>\n",
       "      <td>4</td>\n",
       "      <td>0.7</td>\n",
       "    </tr>\n",
       "    <tr>\n",
       "      <th>2</th>\n",
       "      <td>3</td>\n",
       "      <td>5</td>\n",
       "      <td>1.8</td>\n",
       "    </tr>\n",
       "  </tbody>\n",
       "</table>\n",
       "</div>"
      ],
      "text/plain": [
       "   user  movie  viewing hours\n",
       "0     1      6            2.2\n",
       "1     2      4            0.7\n",
       "2     3      5            1.8"
      ]
     },
     "execution_count": 2,
     "metadata": {},
     "output_type": "execute_result"
    }
   ],
   "source": [
    "# Question 1: How many viewing hours each user has on average?\n",
    "## Compute toal viewing hours of each user\n",
    "df_total = df.groupby(by=\"user\", as_index=False).sum()\n",
    "df_total"
   ]
  },
  {
   "cell_type": "code",
   "execution_count": 3,
   "id": "8051da12",
   "metadata": {
    "ExecuteTime": {
     "end_time": "2023-11-26T05:29:17.204792Z",
     "start_time": "2023-11-26T05:29:17.193949Z"
    }
   },
   "outputs": [
    {
     "data": {
      "text/plain": [
       "1.5666666666666667"
      ]
     },
     "execution_count": 3,
     "metadata": {},
     "output_type": "execute_result"
    }
   ],
   "source": [
    "## Compute average\n",
    "df_total[\"viewing hours\"].mean()"
   ]
  },
  {
   "cell_type": "code",
   "execution_count": 4,
   "id": "d820e996",
   "metadata": {
    "ExecuteTime": {
     "end_time": "2023-11-26T05:29:24.914338Z",
     "start_time": "2023-11-26T05:29:24.901303Z"
    }
   },
   "outputs": [
    {
     "data": {
      "text/html": [
       "<div>\n",
       "<style scoped>\n",
       "    .dataframe tbody tr th:only-of-type {\n",
       "        vertical-align: middle;\n",
       "    }\n",
       "\n",
       "    .dataframe tbody tr th {\n",
       "        vertical-align: top;\n",
       "    }\n",
       "\n",
       "    .dataframe thead th {\n",
       "        text-align: right;\n",
       "    }\n",
       "</style>\n",
       "<table border=\"1\" class=\"dataframe\">\n",
       "  <thead>\n",
       "    <tr style=\"text-align: right;\">\n",
       "      <th></th>\n",
       "      <th>user</th>\n",
       "      <th>movie</th>\n",
       "    </tr>\n",
       "  </thead>\n",
       "  <tbody>\n",
       "    <tr>\n",
       "      <th>0</th>\n",
       "      <td>1</td>\n",
       "      <td>3</td>\n",
       "    </tr>\n",
       "    <tr>\n",
       "      <th>1</th>\n",
       "      <td>2</td>\n",
       "      <td>2</td>\n",
       "    </tr>\n",
       "    <tr>\n",
       "      <th>2</th>\n",
       "      <td>3</td>\n",
       "      <td>2</td>\n",
       "    </tr>\n",
       "  </tbody>\n",
       "</table>\n",
       "</div>"
      ],
      "text/plain": [
       "   user  movie\n",
       "0     1      3\n",
       "1     2      2\n",
       "2     3      2"
      ]
     },
     "execution_count": 4,
     "metadata": {},
     "output_type": "execute_result"
    }
   ],
   "source": [
    "# Question 2: How many items does each user watch on average?\n",
    "## Compute total number of contents each user watch\n",
    "df_watch = df.groupby(by=\"user\", as_index=False)[\"movie\"].nunique()\n",
    "df_watch"
   ]
  },
  {
   "cell_type": "code",
   "execution_count": 5,
   "id": "20ece892",
   "metadata": {
    "ExecuteTime": {
     "end_time": "2023-11-26T05:29:30.540792Z",
     "start_time": "2023-11-26T05:29:30.524891Z"
    }
   },
   "outputs": [
    {
     "data": {
      "text/plain": [
       "2.3333333333333335"
      ]
     },
     "execution_count": 5,
     "metadata": {},
     "output_type": "execute_result"
    }
   ],
   "source": [
    "## Compute average\n",
    "df_watch[\"movie\"].mean()"
   ]
  },
  {
   "cell_type": "code",
   "execution_count": 7,
   "id": "8637d189",
   "metadata": {
    "ExecuteTime": {
     "end_time": "2023-11-26T05:29:38.637984Z",
     "start_time": "2023-11-26T05:29:38.618324Z"
    }
   },
   "outputs": [
    {
     "data": {
      "text/html": [
       "<div>\n",
       "<style scoped>\n",
       "    .dataframe tbody tr th:only-of-type {\n",
       "        vertical-align: middle;\n",
       "    }\n",
       "\n",
       "    .dataframe tbody tr th {\n",
       "        vertical-align: top;\n",
       "    }\n",
       "\n",
       "    .dataframe thead th {\n",
       "        text-align: right;\n",
       "    }\n",
       "</style>\n",
       "<table border=\"1\" class=\"dataframe\">\n",
       "  <thead>\n",
       "    <tr style=\"text-align: right;\">\n",
       "      <th></th>\n",
       "      <th>movie</th>\n",
       "      <th>viewing hours</th>\n",
       "      <th>user</th>\n",
       "    </tr>\n",
       "  </thead>\n",
       "  <tbody>\n",
       "    <tr>\n",
       "      <th>0</th>\n",
       "      <td>1</td>\n",
       "      <td>1.0</td>\n",
       "      <td>2</td>\n",
       "    </tr>\n",
       "    <tr>\n",
       "      <th>1</th>\n",
       "      <td>2</td>\n",
       "      <td>2.0</td>\n",
       "      <td>2</td>\n",
       "    </tr>\n",
       "    <tr>\n",
       "      <th>2</th>\n",
       "      <td>3</td>\n",
       "      <td>1.7</td>\n",
       "      <td>3</td>\n",
       "    </tr>\n",
       "  </tbody>\n",
       "</table>\n",
       "</div>"
      ],
      "text/plain": [
       "   movie  viewing hours  user\n",
       "0      1            1.0     2\n",
       "1      2            2.0     2\n",
       "2      3            1.7     3"
      ]
     },
     "execution_count": 7,
     "metadata": {},
     "output_type": "execute_result"
    }
   ],
   "source": [
    "# Question 3: How many hours does each user spend on each content?\n",
    "## Compute total viewing hours for each item\n",
    "df_user_hrs = df.groupby(by=\"movie\", as_index=False).agg(\n",
    "    {\n",
    "        \"viewing hours\": \"sum\",  # compute total hours\n",
    "        \"user\": \"nunique\",  # count unique users\n",
    "    }\n",
    ")\n",
    "df_user_hrs"
   ]
  },
  {
   "cell_type": "code",
   "execution_count": 8,
   "id": "9e57eb8e",
   "metadata": {
    "ExecuteTime": {
     "end_time": "2023-11-26T05:29:44.919306Z",
     "start_time": "2023-11-26T05:29:44.901700Z"
    }
   },
   "outputs": [
    {
     "data": {
      "text/plain": [
       "0    0.500000\n",
       "1    1.000000\n",
       "2    0.566667\n",
       "dtype: float64"
      ]
     },
     "execution_count": 8,
     "metadata": {},
     "output_type": "execute_result"
    }
   ],
   "source": [
    "## Compute average hours for each content\n",
    "df_user_hrs[\"viewing hours\"] / df_user_hrs[\"user\"]"
   ]
  },
  {
   "cell_type": "code",
   "execution_count": 9,
   "id": "f9bf75f9",
   "metadata": {
    "ExecuteTime": {
     "end_time": "2023-11-26T05:29:56.629115Z",
     "start_time": "2023-11-26T05:29:56.606674Z"
    }
   },
   "outputs": [
    {
     "data": {
      "text/html": [
       "<div>\n",
       "<style scoped>\n",
       "    .dataframe tbody tr th:only-of-type {\n",
       "        vertical-align: middle;\n",
       "    }\n",
       "\n",
       "    .dataframe tbody tr th {\n",
       "        vertical-align: top;\n",
       "    }\n",
       "\n",
       "    .dataframe thead th {\n",
       "        text-align: right;\n",
       "    }\n",
       "</style>\n",
       "<table border=\"1\" class=\"dataframe\">\n",
       "  <thead>\n",
       "    <tr style=\"text-align: right;\">\n",
       "      <th></th>\n",
       "      <th>user</th>\n",
       "      <th>movie</th>\n",
       "      <th>viewing hours</th>\n",
       "      <th>percentage</th>\n",
       "    </tr>\n",
       "  </thead>\n",
       "  <tbody>\n",
       "    <tr>\n",
       "      <th>0</th>\n",
       "      <td>1</td>\n",
       "      <td>3</td>\n",
       "      <td>0.6</td>\n",
       "      <td>27.272727</td>\n",
       "    </tr>\n",
       "    <tr>\n",
       "      <th>1</th>\n",
       "      <td>1</td>\n",
       "      <td>2</td>\n",
       "      <td>0.7</td>\n",
       "      <td>31.818182</td>\n",
       "    </tr>\n",
       "    <tr>\n",
       "      <th>2</th>\n",
       "      <td>1</td>\n",
       "      <td>1</td>\n",
       "      <td>0.9</td>\n",
       "      <td>40.909091</td>\n",
       "    </tr>\n",
       "    <tr>\n",
       "      <th>3</th>\n",
       "      <td>2</td>\n",
       "      <td>3</td>\n",
       "      <td>0.6</td>\n",
       "      <td>85.714286</td>\n",
       "    </tr>\n",
       "    <tr>\n",
       "      <th>4</th>\n",
       "      <td>2</td>\n",
       "      <td>1</td>\n",
       "      <td>0.1</td>\n",
       "      <td>14.285714</td>\n",
       "    </tr>\n",
       "    <tr>\n",
       "      <th>5</th>\n",
       "      <td>3</td>\n",
       "      <td>2</td>\n",
       "      <td>1.3</td>\n",
       "      <td>72.222222</td>\n",
       "    </tr>\n",
       "    <tr>\n",
       "      <th>6</th>\n",
       "      <td>3</td>\n",
       "      <td>3</td>\n",
       "      <td>0.5</td>\n",
       "      <td>27.777778</td>\n",
       "    </tr>\n",
       "  </tbody>\n",
       "</table>\n",
       "</div>"
      ],
      "text/plain": [
       "   user  movie  viewing hours  percentage\n",
       "0     1      3            0.6   27.272727\n",
       "1     1      2            0.7   31.818182\n",
       "2     1      1            0.9   40.909091\n",
       "3     2      3            0.6   85.714286\n",
       "4     2      1            0.1   14.285714\n",
       "5     3      2            1.3   72.222222\n",
       "6     3      3            0.5   27.777778"
      ]
     },
     "execution_count": 9,
     "metadata": {},
     "output_type": "execute_result"
    }
   ],
   "source": [
    "# Question 4: what percentage of time does each user spend on each movie\n",
    "percentage = df.groupby(by=\"user\")[\"viewing hours\"].apply(\n",
    "    lambda x: x / x.sum() * 100,\n",
    ").droplevel(0)\n",
    "percentage = percentage.rename(\"percentage\")\n",
    "df_perc = df.join(percentage, how=\"left\")\n",
    "df_perc = df_perc.sort_values(by=[\"user\"]).reset_index(drop=True)\n",
    "df_perc"
   ]
  },
  {
   "cell_type": "markdown",
   "id": "59bdc3bd",
   "metadata": {},
   "source": [
    "# Reshaping and Windowing of Dense Tensors"
   ]
  },
  {
   "cell_type": "markdown",
   "id": "ba58d28d",
   "metadata": {
    "ExecuteTime": {
     "end_time": "2023-11-26T05:35:50.051867Z",
     "start_time": "2023-11-26T05:35:49.880590Z"
    }
   },
   "source": [
    "Downsampling"
   ]
  },
  {
   "cell_type": "code",
   "execution_count": 10,
   "id": "b78db774",
   "metadata": {
    "ExecuteTime": {
     "end_time": "2023-11-26T05:35:26.380245Z",
     "start_time": "2023-11-26T05:35:25.974192Z"
    }
   },
   "outputs": [
    {
     "data": {
      "text/plain": [
       "<matplotlib.legend.Legend at 0x15e0d9fc0>"
      ]
     },
     "execution_count": 10,
     "metadata": {},
     "output_type": "execute_result"
    },
    {
     "data": {
      "image/png": "[encoded data removed]",
      "text/plain": [
       "<Figure size 800x400 with 1 Axes>"
      ]
     },
     "metadata": {},
     "output_type": "display_data"
    }
   ],
   "source": [
    "import numpy as np\n",
    "import matplotlib.pyplot as plt\n",
    "\n",
    "# Simulate time series\n",
    "x = np.linspace(0, 10, 500)\n",
    "y = np.sin(x) + np.random.rand(len(x))\n",
    "\n",
    "# Downsample by averaging groups of 10 elements\n",
    "x_downsample = x[::10]\n",
    "y_reshaped = y.reshape((-1, 10))\n",
    "y_downsample = y_reshaped.mean(axis=1)\n",
    "\n",
    "# Plot out the results\n",
    "fig, ax = plt.subplots(1, 1, figsize=(8, 4))\n",
    "ax.plot(x, y, label=\"original\", zorder=0)\n",
    "ax.plot(x_downsample, y_downsample, label=\"downsampled\", c=\"r\", zorder=1)\n",
    "ax.scatter(x_downsample, y_downsample, c=\"r\", zorder=2)\n",
    "ax.set_xlabel(\"Time\")\n",
    "ax.set_ylabel(\"Value\")\n",
    "ax.legend()"
   ]
  },
  {
   "cell_type": "markdown",
   "id": "8b9115ab",
   "metadata": {},
   "source": [
    "Mean-removal"
   ]
  },
  {
   "cell_type": "code",
   "execution_count": 12,
   "id": "02f129df",
   "metadata": {
    "ExecuteTime": {
     "end_time": "2023-11-26T05:35:57.962603Z",
     "start_time": "2023-11-26T05:35:57.838108Z"
    }
   },
   "outputs": [
    {
     "data": {
      "text/plain": [
       "<matplotlib.legend.Legend at 0x15e53f520>"
      ]
     },
     "execution_count": 12,
     "metadata": {},
     "output_type": "execute_result"
    },
    {
     "data": {
      "image/png": "[encoded data removed]",
      "text/plain": [
       "<Figure size 800x400 with 1 Axes>"
      ]
     },
     "metadata": {},
     "output_type": "display_data"
    }
   ],
   "source": [
    "import numpy as np\n",
    "import matplotlib.pyplot as plt\n",
    "\n",
    "# Simulate time series\n",
    "x = np.linspace(0, 10, 500)\n",
    "y = np.sin(x) + np.random.rand(len(x))\n",
    "\n",
    "# Downsample by averaging groups of 10 elements\n",
    "x_downsample = x[::10]\n",
    "y_reshaped = y.reshape((-1, 10))\n",
    "y_downsample = y_reshaped.mean(axis=1)\n",
    "y_mean_removed = y_reshaped - y_downsample[:, None]\n",
    "y_mean_removed = y_mean_removed.reshape((-1, ))\n",
    "\n",
    "# Plot out the results\n",
    "fig, ax = plt.subplots(1, 1, figsize=(8, 4))\n",
    "ax.plot(x, y, label=\"original\", zorder=0)\n",
    "ax.plot(x, y_mean_removed, label=\"mean-removed\", zorder=1)\n",
    "ax.set_xlabel(\"Time\")\n",
    "ax.set_ylabel(\"Value\")\n",
    "ax.legend()"
   ]
  },
  {
   "cell_type": "markdown",
   "id": "acdd4510",
   "metadata": {},
   "source": [
    "Sliding Window"
   ]
  },
  {
   "cell_type": "code",
   "execution_count": 13,
   "id": "ee1be3f0",
   "metadata": {
    "ExecuteTime": {
     "end_time": "2023-11-26T05:37:11.439360Z",
     "start_time": "2023-11-26T05:37:08.712069Z"
    }
   },
   "outputs": [],
   "source": [
    "import tensorflow as tf\n",
    "\n",
    "def sliding_window_tf(X, window_size, stride, axis=0):\n",
    "    \"\"\"Sliding window.\"\"\"\n",
    "    start_indices = tf.range(0, tf.shape(X)[axis] - window_size + 1, stride)\n",
    "    start_indices = tf.reshape(start_indices, (-1, 1))\n",
    "    slicing_indices = tf.range(window_size)\n",
    "    slicing_indices = start_indices + slicing_indices\n",
    "    # use tf.gather to extract slices\n",
    "    windowed = tf.gather(X, slicing_indices, axis=axis)\n",
    "    # Change axis so that it follows the np conventions\n",
    "    windowed = tf.experimental.numpy.moveaxis(windowed, axis+1, -1)\n",
    "    \n",
    "    return windowed"
   ]
  },
  {
   "cell_type": "code",
   "execution_count": 14,
   "id": "021346ce",
   "metadata": {
    "ExecuteTime": {
     "end_time": "2023-11-26T05:37:17.394033Z",
     "start_time": "2023-11-26T05:37:16.226597Z"
    }
   },
   "outputs": [],
   "source": [
    "import numpy as np\n",
    "import tensorflow as tf\n",
    "import torch\n",
    "\n",
    "X = np.arange(1, 12)\n",
    "# Sliding window of size 3, and stride/step 2\n",
    "windowed_np = np.lib.stride_tricks.sliding_window_view(\n",
    "    X, window_shape=(3, ), axis=0\n",
    ")[::2]\n",
    "windowed_torch = torch.tensor(X).unfold(dimension=0, size=3, step=2)\n",
    "windowed_tf = sliding_window_tf(X, window_size=3, stride=2, axis=0)\n",
    "assert np.allclose(windowed_np, windowed_torch.numpy())\n",
    "assert np.allclose(windowed_np, windowed_tf.numpy())"
   ]
  },
  {
   "cell_type": "code",
   "execution_count": 15,
   "id": "e09a6266",
   "metadata": {
    "ExecuteTime": {
     "end_time": "2023-11-26T05:37:22.239475Z",
     "start_time": "2023-11-26T05:37:22.229567Z"
    }
   },
   "outputs": [
    {
     "data": {
      "text/plain": [
       "array([[ 1,  2,  3],\n",
       "       [ 3,  4,  5],\n",
       "       [ 5,  6,  7],\n",
       "       [ 7,  8,  9],\n",
       "       [ 9, 10, 11]])"
      ]
     },
     "execution_count": 15,
     "metadata": {},
     "output_type": "execute_result"
    }
   ],
   "source": [
    "windowed_np"
   ]
  },
  {
   "cell_type": "code",
   "execution_count": 16,
   "id": "7d9a9a45",
   "metadata": {
    "ExecuteTime": {
     "end_time": "2023-11-26T05:37:28.249045Z",
     "start_time": "2023-11-26T05:37:28.238640Z"
    }
   },
   "outputs": [
    {
     "data": {
      "text/plain": [
       "tensor([[ 1,  2,  3],\n",
       "        [ 3,  4,  5],\n",
       "        [ 5,  6,  7],\n",
       "        [ 7,  8,  9],\n",
       "        [ 9, 10, 11]])"
      ]
     },
     "execution_count": 16,
     "metadata": {},
     "output_type": "execute_result"
    }
   ],
   "source": [
    "windowed_torch"
   ]
  },
  {
   "cell_type": "code",
   "execution_count": 17,
   "id": "9c85deef",
   "metadata": {
    "ExecuteTime": {
     "end_time": "2023-11-26T05:37:31.214843Z",
     "start_time": "2023-11-26T05:37:31.201268Z"
    }
   },
   "outputs": [
    {
     "data": {
      "text/plain": [
       "<tf.Tensor: shape=(5, 3), dtype=int64, numpy=\n",
       "array([[ 1,  2,  3],\n",
       "       [ 3,  4,  5],\n",
       "       [ 5,  6,  7],\n",
       "       [ 7,  8,  9],\n",
       "       [ 9, 10, 11]])>"
      ]
     },
     "execution_count": 17,
     "metadata": {},
     "output_type": "execute_result"
    }
   ],
   "source": [
    "windowed_tf"
   ]
  },
  {
   "cell_type": "markdown",
   "id": "48511e51",
   "metadata": {},
   "source": [
    "Moving average"
   ]
  },
  {
   "cell_type": "code",
   "execution_count": 18,
   "id": "ef0d2c88",
   "metadata": {
    "ExecuteTime": {
     "end_time": "2023-11-26T05:37:53.429248Z",
     "start_time": "2023-11-26T05:37:53.303426Z"
    }
   },
   "outputs": [
    {
     "data": {
      "text/plain": [
       "<matplotlib.legend.Legend at 0x15e318190>"
      ]
     },
     "execution_count": 18,
     "metadata": {},
     "output_type": "execute_result"
    },
    {
     "data": {
      "image/png": "[encoded data removed]",
      "text/plain": [
       "<Figure size 800x400 with 1 Axes>"
      ]
     },
     "metadata": {},
     "output_type": "display_data"
    }
   ],
   "source": [
    "import numpy as np\n",
    "import pandas as pd\n",
    "import matplotlib.pyplot as plt\n",
    "\n",
    "# Simulate time series\n",
    "x = np.linspace(0, 10, 500)\n",
    "y = np.sin(x) + np.random.rand(len(x))\n",
    "\n",
    "# Create sliding window\n",
    "x_windowed = np.lib.stride_tricks.sliding_window_view(x, (25, ), axis=0)[::2]\n",
    "y_windowed = np.lib.stride_tricks.sliding_window_view(y, (25, ), axis=0)[::2]\n",
    "# Compute moving average\n",
    "x_moving_avg = x_windowed.mean(axis=1)\n",
    "y_moving_avg = y_windowed.mean(axis=1)\n",
    "\n",
    "# Equivalently in Pandas\n",
    "y_moving_avg_pd = pd.Series(y).rolling(window=25, step=2).mean()\n",
    "y_moving_avg_pd.dropna(inplace=True)\n",
    "\n",
    "# Plot out the results\n",
    "fig, ax = plt.subplots(1, 1, figsize=(8, 4))\n",
    "ax.plot(x, y, label=\"original\", zorder=0)\n",
    "ax.plot(x_moving_avg, y_moving_avg, label=\"moving-average\", zorder=1, c=\"r\")\n",
    "ax.set_xlabel(\"Time\")\n",
    "ax.set_ylabel(\"Value\")\n",
    "ax.legend()"
   ]
  },
  {
   "cell_type": "markdown",
   "id": "fdd91c5c",
   "metadata": {},
   "source": [
    "# Case Study: Vision Transformer (ViT)"
   ]
  },
  {
   "cell_type": "code",
   "execution_count": 1,
   "id": "ab2b14c5",
   "metadata": {
    "ExecuteTime": {
     "end_time": "2023-12-19T06:44:25.870028Z",
     "start_time": "2023-12-19T06:44:24.847209Z"
    }
   },
   "outputs": [],
   "source": [
    "import torch\n",
    "from torch import nn\n",
    "from torchsummary import summary # !pip install torch-summary==1.4.5\n",
    "\n",
    "\n",
    "class TransformerEncoderBlock(nn.Module):\n",
    "    def __init__(self, embed_dim, ffn_size, num_heads=2, dropout=0.1):\n",
    "        super(TransformerEncoderBlock, self).__init__()\n",
    "        self.mhattn = nn.MultiheadAttention(\n",
    "            embed_dim=embed_dim,\n",
    "            num_heads=num_heads,\n",
    "            dropout=dropout,\n",
    "            batch_first=True,\n",
    "        )\n",
    "        self.ffn = nn.Sequential(\n",
    "            nn.Linear(embed_dim, ffn_size),\n",
    "            nn.GELU(),\n",
    "            nn.Dropout(dropout),\n",
    "            nn.Linear(ffn_size, embed_dim),\n",
    "        )\n",
    "        self.input_ln = nn.LayerNorm(embed_dim)\n",
    "        self.ffn_ln = nn.LayerNorm(embed_dim)\n",
    "\n",
    "    def forward(self, x):\n",
    "        y = self.input_ln(x)\n",
    "        y, _ = self.mhattn(y, y, y)\n",
    "        y += x\n",
    "\n",
    "        z = self.ffn_ln(y)\n",
    "        z = self.ffn(z)\n",
    "        z += y\n",
    "\n",
    "        return z\n",
    "\n",
    "\n",
    "class VisionTransformer(nn.Module):\n",
    "    def __init__(\n",
    "        self,\n",
    "        image_dim=(1, 28, 28),  # channel, height, width\n",
    "        num_patches=(7, 7),  # along each dimension\n",
    "        num_classes=10,\n",
    "        embed_dim=8,\n",
    "        ffn_size=32,\n",
    "        num_heads=2,\n",
    "        dropout=0.1,\n",
    "        num_blocks=2,\n",
    "    ):\n",
    "        super(VisionTransformer, self).__init__()\n",
    "\n",
    "        self.image_dim = image_dim\n",
    "        self.num_patches = num_patches\n",
    "\n",
    "        # Compute patch sizes\n",
    "        err_msg = \"Cannot evenly divide into patches\"\n",
    "        assert image_dim[1] % num_patches[0] == 0, err_msg\n",
    "        assert image_dim[2] % num_patches[1] == 0, err_msg\n",
    "        px_size = image_dim[1] // num_patches[0]\n",
    "        py_size = image_dim[2] // num_patches[1]\n",
    "        self.patch_size = px_size, py_size\n",
    "\n",
    "        # Linear embedding of each patch\n",
    "        self.patch_embed = nn.Linear(px_size * py_size, embed_dim)\n",
    "\n",
    "        # Class token\n",
    "        self.class_token = nn.Parameter(torch.rand(1, embed_dim))\n",
    "\n",
    "        # Sinusoidal Positional encoding\n",
    "        seq_len = num_patches[0] * num_patches[1] + 1\n",
    "        positions = torch.arange(seq_len)\n",
    "        timescales = torch.pow(\n",
    "            1 / seq_len, 2 * torch.arange(embed_dim) // 2 / embed_dim\n",
    "        )\n",
    "        angles = positions[:, None] * timescales[None, :]\n",
    "        pos_encoding = torch.zeros((seq_len, embed_dim))\n",
    "        pos_encoding[0::2, :] = torch.sin(angles[0::2, :])\n",
    "        pos_encoding[1::2, :] = torch.cos(angles[1::2, :])\n",
    "        self.register_buffer(\"pos_encoding\", pos_encoding)\n",
    "\n",
    "        # Transformer encoder blocks\n",
    "        self.blocks = nn.ModuleList(\n",
    "            TransformerEncoderBlock(embed_dim, ffn_size, num_heads, dropout)\n",
    "            for _ in range(num_blocks)\n",
    "        )\n",
    "        # final layer norm\n",
    "        self.blocks.append(nn.LayerNorm(embed_dim))\n",
    "\n",
    "        # Prediction head\n",
    "        self.prediction_head = nn.Linear(embed_dim, num_classes)\n",
    "\n",
    "\n",
    "    def patchify(self, x: torch.Tensor):\n",
    "        # (batch_size, channel, patch_x, height, patch_y, width)\n",
    "        patches = x.view(\n",
    "            x.shape[0],\n",
    "            x.shape[1],\n",
    "            self.num_patches[0],\n",
    "            self.patch_size[0],\n",
    "            self.num_patches[1],\n",
    "            self.patch_size[1],\n",
    "        )\n",
    "        # (batch_size, patch_x, patch_y, channel, height, width)\n",
    "        patches = patches.transpose(3, 4).moveaxis(1, 3)\n",
    "        # Flatten the patch dims\n",
    "        # (batch_size, num_patches, channel, height, width)\n",
    "        patches = patches.flatten(1, 2)\n",
    "        # Faltten the patch\n",
    "        # (batch_size, num_patches, num_pixels)\n",
    "        patches = patches.flatten(2, 4)\n",
    "\n",
    "        return patches\n",
    "\n",
    "    def forward(self, x: torch.Tensor):\n",
    "        # Create patches\n",
    "        # (batch_size, num_patches, num_pixels)\n",
    "        patches = self.patchify(x)\n",
    "\n",
    "        # Pass through linear embedding\n",
    "        # (batch_size, seq_len, emb_size)\n",
    "        patches = self.patch_embed(patches)\n",
    "\n",
    "        # Adding in the class embedding\n",
    "        patches = torch.cat(\n",
    "            [\n",
    "                self.class_token.expand(patches.size(0), 1, -1),\n",
    "                patches,\n",
    "            ],\n",
    "            dim=1,\n",
    "        )\n",
    "\n",
    "        # Add positional encoding\n",
    "        hidden = patches + self.pos_encoding[None, :, :]\n",
    "\n",
    "        # Pass through transformer encoder layer\n",
    "        for block in self.blocks:\n",
    "            hidden = block(hidden)\n",
    "\n",
    "        # Get the class token embedding only\n",
    "        output = hidden[:, 0, :]\n",
    "\n",
    "        # Output\n",
    "        output = self.prediction_head(output)\n",
    "\n",
    "        return output"
   ]
  },
  {
   "cell_type": "code",
   "execution_count": 2,
   "id": "d4e8d824",
   "metadata": {
    "ExecuteTime": {
     "end_time": "2023-12-19T06:47:09.848909Z",
     "start_time": "2023-12-19T06:44:30.156641Z"
    },
    "scrolled": true
   },
   "outputs": [
    {
     "name": "stdout",
     "output_type": "stream",
     "text": [
      "Downloading http://yann.lecun.com/exdb/mnist/train-images-idx3-ubyte.gz\n",
      "Downloading http://yann.lecun.com/exdb/mnist/train-images-idx3-ubyte.gz to ./mnist/MNIST/raw/train-images-idx3-ubyte.gz\n"
     ]
    },
    {
     "name": "stderr",
     "output_type": "stream",
     "text": [
      "100%|███████████████████████████| 9912422/9912422 [00:00<00:00, 49036693.14it/s]\n"
     ]
    },
    {
     "name": "stdout",
     "output_type": "stream",
     "text": [
      "Extracting ./mnist/MNIST/raw/train-images-idx3-ubyte.gz to ./mnist/MNIST/raw\n",
      "\n",
      "Downloading http://yann.lecun.com/exdb/mnist/train-labels-idx1-ubyte.gz\n",
      "Downloading http://yann.lecun.com/exdb/mnist/train-labels-idx1-ubyte.gz to ./mnist/MNIST/raw/train-labels-idx1-ubyte.gz\n"
     ]
    },
    {
     "name": "stderr",
     "output_type": "stream",
     "text": [
      "100%|███████████████████████████████| 28881/28881 [00:00<00:00, 60537578.12it/s]\n"
     ]
    },
    {
     "name": "stdout",
     "output_type": "stream",
     "text": [
      "Extracting ./mnist/MNIST/raw/train-labels-idx1-ubyte.gz to ./mnist/MNIST/raw\n",
      "\n",
      "Downloading http://yann.lecun.com/exdb/mnist/t10k-images-idx3-ubyte.gz\n",
      "Downloading http://yann.lecun.com/exdb/mnist/t10k-images-idx3-ubyte.gz to ./mnist/MNIST/raw/t10k-images-idx3-ubyte.gz\n"
     ]
    },
    {
     "name": "stderr",
     "output_type": "stream",
     "text": [
      "100%|███████████████████████████| 1648877/1648877 [00:00<00:00, 26539562.05it/s]\n"
     ]
    },
    {
     "name": "stdout",
     "output_type": "stream",
     "text": [
      "Extracting ./mnist/MNIST/raw/t10k-images-idx3-ubyte.gz to ./mnist/MNIST/raw\n",
      "\n",
      "Downloading http://yann.lecun.com/exdb/mnist/t10k-labels-idx1-ubyte.gz\n",
      "Downloading http://yann.lecun.com/exdb/mnist/t10k-labels-idx1-ubyte.gz to ./mnist/MNIST/raw/t10k-labels-idx1-ubyte.gz\n"
     ]
    },
    {
     "name": "stderr",
     "output_type": "stream",
     "text": [
      "100%|██████████████████████████████████| 4542/4542 [00:00<00:00, 2815626.48it/s]\n"
     ]
    },
    {
     "name": "stdout",
     "output_type": "stream",
     "text": [
      "Extracting ./mnist/MNIST/raw/t10k-labels-idx1-ubyte.gz to ./mnist/MNIST/raw\n",
      "\n"
     ]
    },
    {
     "name": "stderr",
     "output_type": "stream",
     "text": [
      "100%|█████████████████████████████████████████| 469/469 [00:18<00:00, 25.20it/s]\n",
      "100%|███████████████████████████████████████████| 79/79 [00:02<00:00, 37.86it/s]\n"
     ]
    },
    {
     "name": "stdout",
     "output_type": "stream",
     "text": [
      "Epoch 1/10: train_loss - 1.54, eval_loss - 1.05, eval_acc - 0.63\n"
     ]
    },
    {
     "name": "stderr",
     "output_type": "stream",
     "text": [
      "100%|█████████████████████████████████████████| 469/469 [00:13<00:00, 34.59it/s]\n",
      "100%|███████████████████████████████████████████| 79/79 [00:01<00:00, 51.05it/s]\n"
     ]
    },
    {
     "name": "stdout",
     "output_type": "stream",
     "text": [
      "Epoch 2/10: train_loss - 0.88, eval_loss - 0.77, eval_acc - 0.75\n"
     ]
    },
    {
     "name": "stderr",
     "output_type": "stream",
     "text": [
      "100%|█████████████████████████████████████████| 469/469 [00:13<00:00, 34.10it/s]\n",
      "100%|███████████████████████████████████████████| 79/79 [00:01<00:00, 51.78it/s]\n"
     ]
    },
    {
     "name": "stdout",
     "output_type": "stream",
     "text": [
      "Epoch 3/10: train_loss - 0.68, eval_loss - 0.62, eval_acc - 0.80\n"
     ]
    },
    {
     "name": "stderr",
     "output_type": "stream",
     "text": [
      "100%|█████████████████████████████████████████| 469/469 [00:13<00:00, 34.70it/s]\n",
      "100%|███████████████████████████████████████████| 79/79 [00:01<00:00, 51.54it/s]\n"
     ]
    },
    {
     "name": "stdout",
     "output_type": "stream",
     "text": [
      "Epoch 4/10: train_loss - 0.59, eval_loss - 0.54, eval_acc - 0.83\n"
     ]
    },
    {
     "name": "stderr",
     "output_type": "stream",
     "text": [
      "100%|█████████████████████████████████████████| 469/469 [00:13<00:00, 34.69it/s]\n",
      "100%|███████████████████████████████████████████| 79/79 [00:01<00:00, 50.84it/s]\n"
     ]
    },
    {
     "name": "stdout",
     "output_type": "stream",
     "text": [
      "Epoch 5/10: train_loss - 0.54, eval_loss - 0.51, eval_acc - 0.84\n"
     ]
    },
    {
     "name": "stderr",
     "output_type": "stream",
     "text": [
      "100%|█████████████████████████████████████████| 469/469 [00:13<00:00, 34.52it/s]\n",
      "100%|███████████████████████████████████████████| 79/79 [00:01<00:00, 51.75it/s]\n"
     ]
    },
    {
     "name": "stdout",
     "output_type": "stream",
     "text": [
      "Epoch 6/10: train_loss - 0.52, eval_loss - 0.51, eval_acc - 0.84\n"
     ]
    },
    {
     "name": "stderr",
     "output_type": "stream",
     "text": [
      "100%|█████████████████████████████████████████| 469/469 [00:13<00:00, 34.30it/s]\n",
      "100%|███████████████████████████████████████████| 79/79 [00:01<00:00, 51.49it/s]\n"
     ]
    },
    {
     "name": "stdout",
     "output_type": "stream",
     "text": [
      "Epoch 7/10: train_loss - 0.50, eval_loss - 0.48, eval_acc - 0.84\n"
     ]
    },
    {
     "name": "stderr",
     "output_type": "stream",
     "text": [
      "100%|█████████████████████████████████████████| 469/469 [00:13<00:00, 34.44it/s]\n",
      "100%|███████████████████████████████████████████| 79/79 [00:01<00:00, 51.06it/s]\n"
     ]
    },
    {
     "name": "stdout",
     "output_type": "stream",
     "text": [
      "Epoch 8/10: train_loss - 0.48, eval_loss - 0.50, eval_acc - 0.84\n"
     ]
    },
    {
     "name": "stderr",
     "output_type": "stream",
     "text": [
      "100%|█████████████████████████████████████████| 469/469 [00:13<00:00, 34.11it/s]\n",
      "100%|███████████████████████████████████████████| 79/79 [00:01<00:00, 50.31it/s]\n"
     ]
    },
    {
     "name": "stdout",
     "output_type": "stream",
     "text": [
      "Epoch 9/10: train_loss - 0.47, eval_loss - 0.43, eval_acc - 0.86\n"
     ]
    },
    {
     "name": "stderr",
     "output_type": "stream",
     "text": [
      "100%|█████████████████████████████████████████| 469/469 [00:13<00:00, 33.88it/s]\n",
      "100%|███████████████████████████████████████████| 79/79 [00:01<00:00, 50.92it/s]"
     ]
    },
    {
     "name": "stdout",
     "output_type": "stream",
     "text": [
      "Epoch 10/10: train_loss - 0.46, eval_loss - 0.43, eval_acc - 0.87\n"
     ]
    },
    {
     "name": "stderr",
     "output_type": "stream",
     "text": [
      "\n"
     ]
    }
   ],
   "source": [
    "from tqdm import tqdm\n",
    "import torch.nn.functional as F\n",
    "from torch.utils.data import DataLoader\n",
    "from torchvision.datasets.mnist import MNIST  # pip install torchvision==0.16.0\n",
    "from torchvision.transforms import ToTensor\n",
    "from torchsummary import summary\n",
    "\n",
    "train_set = MNIST(\n",
    "    root=\"./mnist\", train=True, download=True, transform=ToTensor()\n",
    ")\n",
    "eval_set = MNIST(\n",
    "    root=\"./mnist\", train=False, download=True, transform=ToTensor()\n",
    ")\n",
    "\n",
    "train_loader = DataLoader(train_set, shuffle=True, batch_size=128)\n",
    "eval_loader = DataLoader(eval_set, shuffle=False, batch_size=128)\n",
    "train_data_size = len(train_loader)\n",
    "eval_data_size = len(eval_loader)\n",
    "\n",
    "if torch.cuda.is_available():  # NVIDIA GPU\n",
    "    device = torch.device(\"cuda\")\n",
    "elif torch.backends.mps.is_available():  # Apple Silicon\n",
    "    device = torch.device(\"mps\")\n",
    "else:\n",
    "    device = torch.device(\"cpu\")\n",
    "\n",
    "# Training loop\n",
    "model = VisionTransformer().to(device)\n",
    "optimizer = torch.optim.Adam(model.parameters(), lr=0.005)\n",
    "num_epochs = 10\n",
    "\n",
    "def train_epoch(model, device, train_loader, optimizer):\n",
    "    model.train()\n",
    "    loss_train = 0.0\n",
    "    n_examples = 0\n",
    "    for X, y in tqdm(train_loader):\n",
    "        # Ship data to training device\n",
    "        X, y = X.to(device), y.to(device)\n",
    "        n_examples += len(y)\n",
    "        # Forward pass\n",
    "        optimizer.zero_grad()\n",
    "        y_pred = model(X)\n",
    "        loss = F.cross_entropy(y_pred, y, reduction=\"sum\")\n",
    "        loss_train += loss # accumulating\n",
    "        loss = loss / len(y) # average\n",
    "        loss.backward()\n",
    "        optimizer.step()\n",
    "\n",
    "    # Gather losses\n",
    "    avg_loss = loss_train / n_examples\n",
    "\n",
    "    return avg_loss\n",
    "\n",
    "\n",
    "def eval_epoch(model, device, eval_loader):\n",
    "    loss_eval = 0.0\n",
    "    accuracy = 0.0\n",
    "    n_examples = 0\n",
    "    with torch.no_grad():\n",
    "        for X, y in tqdm(eval_loader):\n",
    "            X, y = X.to(device), y.to(device)\n",
    "            n_examples += len(y)\n",
    "            y_pred = model(X)\n",
    "            loss = F.cross_entropy(y_pred, y, reduction=\"sum\")\n",
    "            loss_eval += loss.item()\n",
    "\n",
    "            # Compute accuracy\n",
    "            accuracy += (y_pred.argmax(dim=1) == y).sum()\n",
    "\n",
    "    # Gather losses\n",
    "    avg_loss = loss_eval / n_examples\n",
    "    avg_acc = accuracy / n_examples\n",
    "    return avg_loss, avg_acc\n",
    "\n",
    "\n",
    "for epoch in range(num_epochs):\n",
    "    train_loss = train_epoch(model, device, train_loader, optimizer)\n",
    "    eval_loss, avg_acc = eval_epoch(model, device, eval_loader)\n",
    "    print(\n",
    "        f\"Epoch {epoch+1}/{num_epochs}:\",\n",
    "        f\"train_loss - {train_loss:.2f},\",\n",
    "        f\"eval_loss - {eval_loss:.2f},\",\n",
    "        f\"eval_acc - {avg_acc:.2f}\",\n",
    "    )"
   ]
  },
  {
   "cell_type": "markdown",
   "id": "d2bda282",
   "metadata": {},
   "source": [
    "# Bucketizing Values"
   ]
  },
  {
   "cell_type": "code",
   "execution_count": 25,
   "id": "6259c78b",
   "metadata": {
    "ExecuteTime": {
     "end_time": "2023-11-26T05:46:18.507778Z",
     "start_time": "2023-11-26T05:46:18.491158Z"
    }
   },
   "outputs": [
    {
     "data": {
      "text/plain": [
       "array([1, 1, 1, 2, 2, 2, 3, 3, 3, 4])"
      ]
     },
     "execution_count": 25,
     "metadata": {},
     "output_type": "execute_result"
    }
   ],
   "source": [
    "import numpy as np\n",
    "import torch\n",
    "x = np.arange(10)\n",
    "buckets = [0, 3, 6, 9]\n",
    "\n",
    "# Left-inclusive [1, 1, 1, 2, 2, 2, 3, 3, 3, 4]\n",
    "indices_np_false = np.digitize(x, buckets, right=False)\n",
    "indices_torch_true = torch.bucketize(\n",
    "    torch.tensor(x), torch.tensor(buckets), right=True\n",
    ")\n",
    "assert np.allclose(indices_np_false, indices_torch_true)\n",
    "indices_np_false"
   ]
  },
  {
   "cell_type": "code",
   "execution_count": 26,
   "id": "86f55b30",
   "metadata": {
    "ExecuteTime": {
     "end_time": "2023-11-26T05:46:36.345180Z",
     "start_time": "2023-11-26T05:46:36.330228Z"
    }
   },
   "outputs": [
    {
     "data": {
      "text/plain": [
       "array([0, 1, 1, 1, 2, 2, 2, 3, 3, 3])"
      ]
     },
     "execution_count": 26,
     "metadata": {},
     "output_type": "execute_result"
    }
   ],
   "source": [
    "# Left-exclusive [0, 1, 1, 1, 2, 2, 2, 3, 3, 3]\n",
    "indices_np_true = np.digitize(x, buckets, right=True)\n",
    "indices_torch_false = torch.bucketize(\n",
    "    torch.tensor(x), torch.tensor(buckets), right=False\n",
    ")\n",
    "assert np.allclose(indices_np_true, indices_torch_false)\n",
    "indices_np_true"
   ]
  },
  {
   "cell_type": "code",
   "execution_count": 28,
   "id": "1101f26b",
   "metadata": {
    "ExecuteTime": {
     "end_time": "2023-11-26T05:47:01.427319Z",
     "start_time": "2023-11-26T05:47:01.406387Z"
    }
   },
   "outputs": [
    {
     "data": {
      "text/plain": [
       "[array([1, 1, 1, 2, 2, 2, 3, 3, 3, 4]),\n",
       " tensor([1, 1, 1, 2, 2, 2, 3, 3, 3, 4]),\n",
       " array([1, 1, 1, 2, 2, 2, 3, 3, 3, 4]),\n",
       " tensor([1, 1, 1, 2, 2, 2, 3, 3, 3, 4]),\n",
       " <tf.Tensor: shape=(10,), dtype=int32, numpy=array([1, 1, 1, 2, 2, 2, 3, 3, 3, 4], dtype=int32)>]"
      ]
     },
     "execution_count": 28,
     "metadata": {},
     "output_type": "execute_result"
    }
   ],
   "source": [
    "import numpy as np\n",
    "import tensorflow as tf\n",
    "import torch\n",
    "\n",
    "x = np.arange(10)\n",
    "buckets = np.array([0, 3, 6, 9])\n",
    "x_t = torch.tensor(x)\n",
    "buckets_t = torch.tensor(buckets)\n",
    "\n",
    "# Left inclusive [1, 1, 1, 2, 2, 2, 3, 3, 3, 4]\n",
    "res = [\n",
    "    ## using digitize/bucketize\n",
    "    np.digitize(x, buckets, right=False),\n",
    "    torch.bucketize(x_t, buckets_t, right=True),\n",
    "    ## using searchsorted\n",
    "    np.searchsorted(buckets, x, side=\"right\"),\n",
    "    torch.searchsorted(buckets_t, x_t, side=\"right\"),\n",
    "    tf.searchsorted(buckets, x, side=\"right\")\n",
    "]\n",
    "# Pair-wise comparison\n",
    "assert all([np.allclose(res[ii], res[ii+1]) for ii in range(len(res)-1)])\n",
    "\n",
    "\n",
    "res"
   ]
  },
  {
   "cell_type": "code",
   "execution_count": 29,
   "id": "d2bcda26",
   "metadata": {
    "ExecuteTime": {
     "end_time": "2023-11-26T05:47:23.123868Z",
     "start_time": "2023-11-26T05:47:23.108289Z"
    }
   },
   "outputs": [
    {
     "data": {
      "text/plain": [
       "[array([0, 1, 1, 1, 2, 2, 2, 3, 3, 3]),\n",
       " tensor([0, 1, 1, 1, 2, 2, 2, 3, 3, 3]),\n",
       " array([0, 1, 1, 1, 2, 2, 2, 3, 3, 3]),\n",
       " tensor([0, 1, 1, 1, 2, 2, 2, 3, 3, 3]),\n",
       " <tf.Tensor: shape=(10,), dtype=int32, numpy=array([0, 1, 1, 1, 2, 2, 2, 3, 3, 3], dtype=int32)>]"
      ]
     },
     "execution_count": 29,
     "metadata": {},
     "output_type": "execute_result"
    }
   ],
   "source": [
    "# Left exclusive [0, 1, 1, 1, 2, 2, 2, 3, 3, 3]\n",
    "res = [\n",
    "    ## using digitize/bucketize\n",
    "    np.digitize(x, buckets, right=True),\n",
    "    torch.bucketize(x_t, buckets_t, right=False),\n",
    "    ## using searchsorted\n",
    "    np.searchsorted(buckets, x, side=\"left\"),\n",
    "    torch.searchsorted(buckets_t, x_t, side=\"left\"),\n",
    "    tf.searchsorted(buckets, x, side=\"left\")\n",
    "]\n",
    "# Pair-wise comparison\n",
    "assert all([np.allclose(res[ii], res[ii+1]) for ii in range(len(res)-1)])\n",
    "\n",
    "res"
   ]
  },
  {
   "cell_type": "code",
   "execution_count": 30,
   "id": "bb68ec27",
   "metadata": {
    "ExecuteTime": {
     "end_time": "2023-11-26T05:47:38.106064Z",
     "start_time": "2023-11-26T05:47:38.088405Z"
    }
   },
   "outputs": [],
   "source": [
    "import numpy as np\n",
    "\n",
    "def bucketize_via_masking(x, buckets, side=\"left\"):\n",
    "    \"\"\"Bucketize values based via broadcasting and masking.\"\"\"\n",
    "    # keep original shape in case we need to deal \n",
    "    # with multi-dimensional arrays\n",
    "    shape = x.shape \n",
    "    x = x.flatten() # flatten\n",
    "    # convert to a column vector for subsequent broadcasting\n",
    "    buckets = buckets[:, None]\n",
    "    if side == \"left\":\n",
    "        mask = x > buckets # left-exclusive\n",
    "    else:\n",
    "        mask = x >= buckets # left-inclusive\n",
    "    \n",
    "    # Count the indices\n",
    "    indices = mask.sum(axis=0)\n",
    "    \n",
    "    # reshape back to the shape of inputs\n",
    "    indices = indices.reshape(shape)\n",
    "    \n",
    "    return indices"
   ]
  },
  {
   "cell_type": "code",
   "execution_count": 32,
   "id": "dcb6ef84",
   "metadata": {
    "ExecuteTime": {
     "end_time": "2023-11-26T05:48:05.077877Z",
     "start_time": "2023-11-26T05:48:05.067887Z"
    }
   },
   "outputs": [
    {
     "data": {
      "text/plain": [
       "array([0, 1, 1, 1, 2, 2, 2, 3, 3, 3])"
      ]
     },
     "execution_count": 32,
     "metadata": {},
     "output_type": "execute_result"
    }
   ],
   "source": [
    "bucketize_via_masking(x, buckets)"
   ]
  },
  {
   "cell_type": "code",
   "execution_count": 33,
   "id": "2aedfc6b",
   "metadata": {
    "ExecuteTime": {
     "end_time": "2023-11-26T05:48:14.437892Z",
     "start_time": "2023-11-26T05:48:14.428812Z"
    }
   },
   "outputs": [
    {
     "data": {
      "text/plain": [
       "array([1, 1, 1, 2, 2, 2, 3, 3, 3, 4])"
      ]
     },
     "execution_count": 33,
     "metadata": {},
     "output_type": "execute_result"
    }
   ],
   "source": [
    "bucketize_via_masking(x, buckets, side=\"right\")"
   ]
  },
  {
   "cell_type": "markdown",
   "id": "c2921c66",
   "metadata": {},
   "source": [
    "# Segment-wise Aggregation\n",
    "NumPy"
   ]
  },
  {
   "cell_type": "code",
   "execution_count": 35,
   "id": "89f5ad22",
   "metadata": {
    "ExecuteTime": {
     "end_time": "2023-11-26T05:48:51.918224Z",
     "start_time": "2023-11-26T05:48:51.900665Z"
    }
   },
   "outputs": [
    {
     "data": {
      "text/plain": [
       "array([ 6, 11, 20])"
      ]
     },
     "execution_count": 35,
     "metadata": {},
     "output_type": "execute_result"
    }
   ],
   "source": [
    "import numpy as np\n",
    "data = np.array([1, 2, 3, 2, 5, 4, 7, 2, 8, 3])\n",
    "indices = np.array([0, 3, 6])\n",
    "res_np = np.add.reduceat(data, indices)\n",
    "res_np"
   ]
  },
  {
   "cell_type": "code",
   "execution_count": 36,
   "id": "7852ea6b",
   "metadata": {
    "ExecuteTime": {
     "end_time": "2023-11-26T05:49:07.312430Z",
     "start_time": "2023-11-26T05:49:07.301834Z"
    }
   },
   "outputs": [
    {
     "data": {
      "text/plain": [
       "array([ 6,  2, 14, 20])"
      ]
     },
     "execution_count": 36,
     "metadata": {},
     "output_type": "execute_result"
    }
   ],
   "source": [
    "# non-monotonically increasing indices\n",
    "indices = np.array([0, 3, 2, 6])\n",
    "res_np = np.add.reduceat(data, indices)\n",
    "res_np"
   ]
  },
  {
   "cell_type": "markdown",
   "id": "34d9f6cc",
   "metadata": {},
   "source": [
    "PyTorch"
   ]
  },
  {
   "cell_type": "code",
   "execution_count": 38,
   "id": "8c715e3f",
   "metadata": {
    "ExecuteTime": {
     "end_time": "2023-11-26T05:49:33.061166Z",
     "start_time": "2023-11-26T05:49:33.041838Z"
    }
   },
   "outputs": [
    {
     "data": {
      "text/plain": [
       "tensor([ 6., 11.,  0., 20.], dtype=torch.float64)"
      ]
     },
     "execution_count": 38,
     "metadata": {},
     "output_type": "execute_result"
    }
   ],
   "source": [
    "import torch\n",
    "data = torch.tensor([1, 2, 3, 2, 5, 4, 7, 2, 8, 3], dtype=float)\n",
    "offsets = torch.tensor([0, 3, 6, 6, 10])\n",
    "res_torch = torch.segment_reduce(data, \"sum\", offsets=offsets)\n",
    "res_torch"
   ]
  },
  {
   "cell_type": "code",
   "execution_count": 39,
   "id": "2586159f",
   "metadata": {
    "ExecuteTime": {
     "end_time": "2023-11-26T05:49:54.873828Z",
     "start_time": "2023-11-26T05:49:54.849652Z"
    }
   },
   "outputs": [
    {
     "data": {
      "text/plain": [
       "tensor([ 6., 11.,  0., 20.], dtype=torch.float64)"
      ]
     },
     "execution_count": 39,
     "metadata": {},
     "output_type": "execute_result"
    }
   ],
   "source": [
    "# Alternative, using lengths instead of offsets\n",
    "import torch\n",
    "data = torch.tensor([1, 2, 3, 2, 5, 4, 7, 2, 8, 3], dtype=float)\n",
    "lengths = torch.tensor([3, 3, 0, 4])\n",
    "res_torch = torch.segment_reduce(data, \"sum\", lengths=lengths)\n",
    "res_torch"
   ]
  },
  {
   "cell_type": "markdown",
   "id": "a6c6e62f",
   "metadata": {},
   "source": [
    "# Mean reduce in NumPy"
   ]
  },
  {
   "cell_type": "code",
   "execution_count": 53,
   "id": "9553701d",
   "metadata": {
    "ExecuteTime": {
     "end_time": "2023-11-26T05:57:19.935720Z",
     "start_time": "2023-11-26T05:57:19.920252Z"
    }
   },
   "outputs": [
    {
     "name": "stdout",
     "output_type": "stream",
     "text": [
      "[2. 3. 6.]\n",
      "tf.Tensor([2 3 6], shape=(3,), dtype=int64)\n"
     ]
    }
   ],
   "source": [
    "import numpy as np\n",
    "def np_mean_reduceat(arr, indices, **kwargs):\n",
    "    # Compute groupwise sum\n",
    "    gsum = np.add.reduceat(arr, indices, **kwargs)\n",
    "    # Compute groupwise count\n",
    "    indicator = np.ones_like(arr)\n",
    "    gcount = np.add.reduceat(indicator, indices, **kwargs)\n",
    "    # Compute mean\n",
    "    return gsum / gcount\n",
    "\n",
    "x = np.array([1, 2, 3, 2, 4, 3, 5, 9, 7])\n",
    "indices = np.array([0, 3, 5])\n",
    "x_seg_mean = np_mean_reduceat(x, indices)\n",
    "print(x_seg_mean)\n",
    "x_seg_mean_tf = tf.math.segment_mean(x, [0, 0, 0, 1, 1, 2, 2, 2, 2])\n",
    "print(x_seg_mean_tf)"
   ]
  },
  {
   "cell_type": "markdown",
   "id": "9f4aeeef",
   "metadata": {},
   "source": [
    "# Tensorflow segment multiplication"
   ]
  },
  {
   "cell_type": "code",
   "execution_count": 57,
   "id": "29113cea",
   "metadata": {
    "ExecuteTime": {
     "end_time": "2023-11-26T06:00:12.016732Z",
     "start_time": "2023-11-26T06:00:12.004521Z"
    }
   },
   "outputs": [
    {
     "name": "stdout",
     "output_type": "stream",
     "text": [
      "tf.Tensor(\n",
      "[[ 2]\n",
      " [12]], shape=(2, 1), dtype=int32)\n"
     ]
    }
   ],
   "source": [
    "import tensorflow as tf\n",
    "\n",
    "def tf_sparse_segment_prod(data, indices, segment_ids, num_segments=None):\n",
    "    # take log values\n",
    "    data_out = tf.math.log(tf.cast(data, tf.float32))\n",
    "    # Segment sum of log\n",
    "    data_out = tf.sparse.segment_sum(\n",
    "        data_out, indices, segment_ids, num_segments\n",
    "    )\n",
    "    # Raise back to exponents\n",
    "    data_out = tf.exp(data_out)\n",
    "    if data.dtype in (tf.int32, tf.int64):\n",
    "        data_out = tf.round(data_out)\n",
    "    data_out = tf.cast(data_out, data.dtype)\n",
    "    return data_out\n",
    "\n",
    "\n",
    "data = tf.constant([[1], [2], [3], [4], [5]])\n",
    "indices = tf.constant([0, 1, 2, 3, 0])\n",
    "segment_ids = tf.constant([0, 0, 1, 1, 1])\n",
    "num_segments = 2\n",
    "print(tf_sparse_segment_prod(data, indices,segment_ids))"
   ]
  },
  {
   "cell_type": "markdown",
   "id": "eba161f6",
   "metadata": {},
   "source": [
    "# Reduce sqrt_n"
   ]
  },
  {
   "cell_type": "code",
   "execution_count": 78,
   "id": "72795fd2",
   "metadata": {
    "ExecuteTime": {
     "end_time": "2023-11-26T06:14:41.493215Z",
     "start_time": "2023-11-26T06:14:41.475731Z"
    }
   },
   "outputs": [
    {
     "data": {
      "text/plain": [
       "tensor([2.8284, 6.9282, 6.0000])"
      ]
     },
     "execution_count": 78,
     "metadata": {},
     "output_type": "execute_result"
    }
   ],
   "source": [
    "    import torch\n",
    "\n",
    "    def torch_scatter_reduce_sqrt_n(arr, indices, **kwargs):\n",
    "        # Initialize accumulator\n",
    "        numerator = torch.zeros(indices.max() + 1)\n",
    "        denom = torch.zeros_like(numerator)\n",
    "        # Compute groupwise sum\n",
    "        gsum = numerator.scatter_add_(0, indices, arr)\n",
    "        # Compute groupwise count\n",
    "        indicator = torch.ones_like(arr)\n",
    "        gcount = denom.scatter_add_(0, indices, indicator)\n",
    "        # Compute the sum / sqrt_n\n",
    "        return gsum / torch.sqrt(gcount)\n",
    "\n",
    "arr = torch.tensor([1, 3, 5, 2, 5, 6], dtype=torch.float32)\n",
    "indices = torch.tensor([0, 0, 1, 1, 1, 2])\n",
    "torch_scatter_reduce_sqrt_n(arr, indices)"
   ]
  },
  {
   "cell_type": "markdown",
   "id": "132afbe7",
   "metadata": {},
   "source": [
    "# Case Study: EmbeddingBag"
   ]
  },
  {
   "cell_type": "code",
   "execution_count": 89,
   "id": "ed595703",
   "metadata": {
    "ExecuteTime": {
     "end_time": "2023-11-26T06:20:52.291382Z",
     "start_time": "2023-11-26T06:20:52.261836Z"
    }
   },
   "outputs": [],
   "source": [
    "import tensorflow as tf\n",
    "from keras import Model, Input\n",
    "from keras.layers import Layer, Embedding\n",
    "\n",
    "class EmbeddingBag(Layer):\n",
    "    \"\"\"\n",
    "    Keras EmbeddingBag class that summarizes embeddings of a sparse input.\n",
    "    \n",
    "    Inputs:\n",
    "        * num_items: number of embeddings to create.\n",
    "        * emb_size: size of embeddings.\n",
    "        * mode: embedding summarization mode,\n",
    "            one of [\"mean\", \"max\", \"sum\", \"sqrt_n\"].\n",
    "        * init_weights: NumPy array of embedding values. To keep using the \n",
    "            initialized values, set `trainable=False` to prevent the \n",
    "            embedding values being updated during training.\n",
    "        * **kwargs: additional keyword arguments to pass to the Keras \n",
    "            Embedding layer.\n",
    "    \"\"\"\n",
    "    def __init__(\n",
    "            self,\n",
    "            num_items,\n",
    "            emb_size,\n",
    "            mode=\"mean\",\n",
    "            init_weights=None,\n",
    "            name=\"embedding_bag\",\n",
    "            **kwargs\n",
    "        ):\n",
    "        super(EmbeddingBag, self).__init__(name=name)\n",
    "        assert mode in (\"mean\", \"max\", \"sum\", \"sqrt_n\")\n",
    "        self.mode = mode\n",
    "        self.emb_size = emb_size\n",
    "        self.embedding = Embedding(\n",
    "            num_items, emb_size, **kwargs\n",
    "        )\n",
    "        # load pretrained weights\n",
    "        if init_weights is not None:\n",
    "            self.embedding.build([]) # initialize\n",
    "            self.embedding.set_weights([init_weights])\n",
    "\n",
    "    def call(self, \n",
    "         x: tf.SparseTensor,\n",
    "         weights: tf.SparseTensor = None,\n",
    "         training: bool = False\n",
    "    ):\n",
    "        if weights is None:\n",
    "            # equal weights\n",
    "            weights = x.with_values(tf.ones_like(x.values, tf.float32))\n",
    "        \n",
    "        # flattened (batch_size x seq_len, emb_size)\n",
    "        emb = self.embedding(x.values)\n",
    "        emb *= weights.values[:, None]\n",
    "        \n",
    "        # Group-wise aggregation\n",
    "        # Assuming x is already left aligned and indices sorted\n",
    "        if self.mode == \"mean\":\n",
    "            emb = tf.sparse.segment_mean(\n",
    "                emb,\n",
    "                indices=tf.range(tf.shape(emb)[0]),\n",
    "                segment_ids=x.indices[:, 0],\n",
    "                num_segments=tf.shape(x)[0],\n",
    "            )\n",
    "        elif self.mode == \"sum\":\n",
    "            emb = tf.sparse.segment_sum(\n",
    "                emb,\n",
    "                indices=tf.range(tf.shape(emb)[0]),\n",
    "                segment_ids=x.indices[:, 0],\n",
    "                num_segments=tf.shape(x)[0],\n",
    "            )\n",
    "        elif self.mode == \"sqrt_n\":\n",
    "            emb = tf.sparse.segment_sqrt_n(\n",
    "                emb,\n",
    "                indices=tf.range(tf.shape(emb)[0]),\n",
    "                segment_ids=x.indices[:, 0],\n",
    "                num_segments=tf.shape(x)[0],\n",
    "            )\n",
    "        elif self.mode == \"max\":\n",
    "            emb = tf.math.segment_max(emb, x.indices[:, 0])\n",
    "            # Appending the potentially missing rows where the ids are empty\n",
    "            emb = tf.pad(\n",
    "                emb, [(0, tf.shape(x)[0] - tf.shape(emb)[0]), (0, 0)]\n",
    "            )\n",
    "            \n",
    "        return emb\n",
    "\n",
    "    @property\n",
    "    def model(self):\n",
    "        inputs = {\n",
    "            \"x\": Input((None,), sparse=True, dtype=tf.int64, name=\"items\"),\n",
    "            \"weights\": Input(\n",
    "                (None,), sparse=True, dtype=tf.float32, name=\"weights\"\n",
    "            ),\n",
    "        }\n",
    "        model = Model(inputs=inputs, outputs=self.call(**inputs))\n",
    "        \n",
    "        return model"
   ]
  },
  {
   "cell_type": "markdown",
   "id": "b6a79bcc",
   "metadata": {},
   "source": [
    "Incorrect segment sum / max, which needs padding"
   ]
  },
  {
   "cell_type": "code",
   "execution_count": 80,
   "id": "7e2b91e0",
   "metadata": {
    "ExecuteTime": {
     "end_time": "2023-11-26T06:19:24.122940Z",
     "start_time": "2023-11-26T06:19:24.102704Z"
    }
   },
   "outputs": [
    {
     "data": {
      "text/plain": [
       "<tf.Tensor: shape=(5, 8), dtype=float32, numpy=\n",
       "array([[0.4975903 , 1.0877132 , 0.7432648 , 1.5171863 , 1.4594237 ,\n",
       "        1.1596868 , 0.33605886, 0.29576135],\n",
       "       [0.0380615 , 0.8091004 , 0.2293911 , 0.7445061 , 0.638896  ,\n",
       "        0.257684  , 0.03000391, 0.00644255],\n",
       "       [0.        , 0.        , 0.        , 0.        , 0.        ,\n",
       "        0.        , 0.        , 0.        ],\n",
       "       [0.9313158 , 1.7285349 , 1.4928786 , 2.226424  , 2.0001776 ,\n",
       "        1.7334349 , 1.2202917 , 0.5117487 ],\n",
       "       [0.        , 0.        , 0.        , 0.        , 0.        ,\n",
       "        0.        , 0.        , 0.        ]], dtype=float32)>"
      ]
     },
     "execution_count": 80,
     "metadata": {},
     "output_type": "execute_result"
    }
   ],
   "source": [
    "import tensorflow as tf\n",
    "# 6 valid values total\n",
    "x = tf.ragged.constant([[1, 3], [2], [], [6, 8, 9], []]).to_sparse()\n",
    "# After embedding lookup, we have a matrix of (7, 8)\n",
    "emb = tf.random.uniform((len(x.values), 8))\n",
    "# Summarized correctly: (5, 8)\n",
    "emb_sum_correct = tf.sparse.segment_sum(\n",
    "    emb, x.indices[:, 1], x.indices[:, 0], num_segments=tf.shape(x)[0]\n",
    ")\n",
    "emb_sum_correct"
   ]
  },
  {
   "cell_type": "code",
   "execution_count": 84,
   "id": "4ebade98",
   "metadata": {
    "ExecuteTime": {
     "end_time": "2023-11-26T06:19:41.108928Z",
     "start_time": "2023-11-26T06:19:41.092615Z"
    }
   },
   "outputs": [
    {
     "data": {
      "text/plain": [
       "<tf.Tensor: shape=(4, 8), dtype=float32, numpy=\n",
       "array([[0.4975903 , 1.0877132 , 0.7432648 , 1.5171863 , 1.4594237 ,\n",
       "        1.1596868 , 0.33605886, 0.29576135],\n",
       "       [0.0380615 , 0.8091004 , 0.2293911 , 0.7445061 , 0.638896  ,\n",
       "        0.257684  , 0.03000391, 0.00644255],\n",
       "       [0.        , 0.        , 0.        , 0.        , 0.        ,\n",
       "        0.        , 0.        , 0.        ],\n",
       "       [0.9313158 , 1.7285349 , 1.4928786 , 2.226424  , 2.0001776 ,\n",
       "        1.7334349 , 1.2202917 , 0.5117487 ]], dtype=float32)>"
      ]
     },
     "execution_count": 84,
     "metadata": {},
     "output_type": "execute_result"
    }
   ],
   "source": [
    "# Summarized incorrect: (4, 8)\n",
    "emb_sum_wrong = tf.sparse.segment_sum(\n",
    "    emb, x.indices[:, 1], x.indices[:, 0]\n",
    ")\n",
    "emb_sum_wrong"
   ]
  },
  {
   "cell_type": "code",
   "execution_count": 86,
   "id": "f3d853bc",
   "metadata": {
    "ExecuteTime": {
     "end_time": "2023-11-26T06:19:51.701213Z",
     "start_time": "2023-11-26T06:19:51.684423Z"
    }
   },
   "outputs": [
    {
     "data": {
      "text/plain": [
       "<tf.Tensor: shape=(4, 8), dtype=float32, numpy=\n",
       "array([[0.4595288 , 0.8091004 , 0.5138737 , 0.77268016, 0.8205277 ,\n",
       "        0.9020028 , 0.30605495, 0.2893188 ],\n",
       "       [0.43372548, 0.6408217 , 0.74961376, 0.7092377 , 0.54075396,\n",
       "        0.5737481 , 0.8842329 , 0.21598732],\n",
       "       [0.        , 0.        , 0.        , 0.        , 0.        ,\n",
       "        0.        , 0.        , 0.        ],\n",
       "       [0.9648013 , 0.6195222 , 0.938117  , 0.98766434, 0.9207165 ,\n",
       "        0.9799589 , 0.2290802 , 0.706012  ]], dtype=float32)>"
      ]
     },
     "execution_count": 86,
     "metadata": {},
     "output_type": "execute_result"
    }
   ],
   "source": [
    "# Summarized wrong using tf.math.segment_max: (4, 8)\n",
    "emb_max_wrong = tf.math.segment_max(\n",
    "    emb, x.indices[:, 0]\n",
    ")\n",
    "emb_max_wrong"
   ]
  },
  {
   "cell_type": "code",
   "execution_count": 87,
   "id": "5c011b0a",
   "metadata": {
    "ExecuteTime": {
     "end_time": "2023-11-26T06:19:58.023868Z",
     "start_time": "2023-11-26T06:19:58.009725Z"
    }
   },
   "outputs": [
    {
     "data": {
      "text/plain": [
       "<tf.Tensor: shape=(5, 8), dtype=float32, numpy=\n",
       "array([[0.4595288 , 0.8091004 , 0.5138737 , 0.77268016, 0.8205277 ,\n",
       "        0.9020028 , 0.30605495, 0.2893188 ],\n",
       "       [0.43372548, 0.6408217 , 0.74961376, 0.7092377 , 0.54075396,\n",
       "        0.5737481 , 0.8842329 , 0.21598732],\n",
       "       [0.        , 0.        , 0.        , 0.        , 0.        ,\n",
       "        0.        , 0.        , 0.        ],\n",
       "       [0.9648013 , 0.6195222 , 0.938117  , 0.98766434, 0.9207165 ,\n",
       "        0.9799589 , 0.2290802 , 0.706012  ],\n",
       "       [0.        , 0.        , 0.        , 0.        , 0.        ,\n",
       "        0.        , 0.        , 0.        ]], dtype=float32)>"
      ]
     },
     "execution_count": 87,
     "metadata": {},
     "output_type": "execute_result"
    }
   ],
   "source": [
    "# Need to pad the empty entries occurring at the end\n",
    "pad_size = tf.shape(x)[0] - tf.shape(emb_max_wrong)[0]\n",
    "emb_max_correct = tf.pad(emb_max_wrong, [(0, pad_size), (0, 0)])\n",
    "emb_max_correct"
   ]
  },
  {
   "cell_type": "code",
   "execution_count": 93,
   "id": "8d22851c",
   "metadata": {
    "ExecuteTime": {
     "end_time": "2023-11-26T06:23:32.691281Z",
     "start_time": "2023-11-26T06:23:32.665014Z"
    }
   },
   "outputs": [
    {
     "name": "stdout",
     "output_type": "stream",
     "text": [
      "[[ 0.02919627  0.01697044  0.03528417 -0.0077238 ]\n",
      " [ 0.03263718 -0.00511472  0.01543489 -0.00878497]\n",
      " [ 0.          0.          0.          0.        ]\n",
      " [ 0.00413871  0.03037045  0.03059256  0.01346923]\n",
      " [ 0.          0.          0.          0.        ]]\n",
      "[[ 0.02919627  0.01697044  0.03528417 -0.0077238 ]\n",
      " [ 0.03263718 -0.00511472  0.01543489 -0.00878497]\n",
      " [ 0.          0.          0.          0.        ]\n",
      " [ 0.00413871  0.03037045  0.03059256  0.01346923]\n",
      " [ 0.          0.          0.          0.        ]]\n"
     ]
    }
   ],
   "source": [
    "layer = self = EmbeddingBag(1000, 4, mode=\"max\")\n",
    "x = tf.ragged.constant([[1, 3], [2], [], [6, 8, 9], []]).to_sparse()\n",
    "emb = layer(x)\n",
    "\n",
    "# Slice one by one\n",
    "emb2 = [\n",
    "    self.embedding.weights[0].numpy()[[1, 3], :].max(axis=0),\n",
    "    self.embedding.weights[0].numpy()[2, :],\n",
    "    tf.zeros((4,), dtype=tf.float32),\n",
    "    self.embedding.weights[0].numpy()[[6, 8, 9], :].max(axis=0),\n",
    "    tf.zeros((4,), dtype=tf.float32),\n",
    "]\n",
    "\n",
    "assert np.allclose(emb, emb2)\n",
    "print(emb.numpy())\n",
    "print(np.array(emb2))"
   ]
  },
  {
   "cell_type": "code",
   "execution_count": 92,
   "id": "5f6fc5c7",
   "metadata": {
    "ExecuteTime": {
     "end_time": "2023-11-26T06:21:53.791460Z",
     "start_time": "2023-11-26T06:21:53.724577Z"
    },
    "scrolled": true
   },
   "outputs": [
    {
     "name": "stdout",
     "output_type": "stream",
     "text": [
      "Model: \"model\"\n",
      "__________________________________________________________________________________________________\n",
      " Layer (type)                Output Shape                 Param #   Connected to                  \n",
      "==================================================================================================\n",
      " items (InputLayer)          [(None, None)]               0         []                            \n",
      "                                                                                                  \n",
      " weights (InputLayer)        [(None, None)]               0         []                            \n",
      "                                                                                                  \n",
      " input.values_2 (InstancePr  (None,)                      0         ['items[0][0]']               \n",
      " operty)                                                                                          \n",
      "                                                                                                  \n",
      " input.values_3 (InstancePr  (None,)                      0         ['weights[0][0]']             \n",
      " operty)                                                                                          \n",
      "                                                                                                  \n",
      " embedding_1 (Embedding)     (None, 4)                    4000      ['input.values_2[0][0]']      \n",
      "                                                                                                  \n",
      " tf.__operators__.getitem_4  (None, 1)                    0         ['input.values_3[0][0]']      \n",
      "  (SlicingOpLambda)                                                                               \n",
      "                                                                                                  \n",
      " input.indices_1 (InstanceP  (None, 2)                    0         ['items[0][0]']               \n",
      " roperty)                                                                                         \n",
      "                                                                                                  \n",
      " tf.math.multiply_1 (TFOpLa  (None, 4)                    0         ['embedding_1[0][0]',         \n",
      " mbda)                                                               'tf.__operators__.getitem_4[0\n",
      "                                                                    ][0]']                        \n",
      "                                                                                                  \n",
      " tf.__operators__.getitem_5  (None,)                      0         ['input.indices_1[0][0]']     \n",
      "  (SlicingOpLambda)                                                                               \n",
      "                                                                                                  \n",
      " tf.math.segment_max (TFOpL  (None, 4)                    0         ['tf.math.multiply_1[0][0]',  \n",
      " ambda)                                                              'tf.__operators__.getitem_5[0\n",
      "                                                                    ][0]']                        \n",
      "                                                                                                  \n",
      " tf.compat.v1.shape_2 (TFOp  (2,)                         0         ['items[0][0]']               \n",
      " Lambda)                                                                                          \n",
      "                                                                                                  \n",
      " tf.compat.v1.shape_3 (TFOp  (2,)                         0         ['tf.math.segment_max[0][0]'] \n",
      " Lambda)                                                                                          \n",
      "                                                                                                  \n",
      " tf.__operators__.getitem_6  ()                           0         ['tf.compat.v1.shape_2[0][0]']\n",
      "  (SlicingOpLambda)                                                                               \n",
      "                                                                                                  \n",
      " tf.__operators__.getitem_7  ()                           0         ['tf.compat.v1.shape_3[0][0]']\n",
      "  (SlicingOpLambda)                                                                               \n",
      "                                                                                                  \n",
      " tf.math.subtract (TFOpLamb  ()                           0         ['tf.__operators__.getitem_6[0\n",
      " da)                                                                ][0]',                        \n",
      "                                                                     'tf.__operators__.getitem_7[0\n",
      "                                                                    ][0]']                        \n",
      "                                                                                                  \n",
      " tf.compat.v1.pad (TFOpLamb  (None, 4)                    0         ['tf.math.segment_max[0][0]', \n",
      " da)                                                                 'tf.math.subtract[0][0]']    \n",
      "                                                                                                  \n",
      "==================================================================================================\n",
      "Total params: 4000 (15.62 KB)\n",
      "Trainable params: 4000 (15.62 KB)\n",
      "Non-trainable params: 0 (0.00 Byte)\n",
      "__________________________________________________________________________________________________\n"
     ]
    }
   ],
   "source": [
    "layer.model.summary()"
   ]
  },
  {
   "cell_type": "markdown",
   "id": "5bd7c26b",
   "metadata": {},
   "source": [
    "# Case Study: Vocal Duration Constrained By Note Duration"
   ]
  },
  {
   "cell_type": "code",
   "execution_count": 94,
   "id": "f1e9d16d",
   "metadata": {
    "ExecuteTime": {
     "end_time": "2023-11-26T06:24:17.621892Z",
     "start_time": "2023-11-26T06:24:17.605568Z"
    }
   },
   "outputs": [],
   "source": [
    "import tensorflow as tf\n",
    "\n",
    "def scatter_batch_2d(index, inputs, out=None, mode=\"add\"):\n",
    "    \"\"\"Batch-wise scattering over a 2D matrix.\"\"\"\n",
    "    # Determines the length of each row for the output\n",
    "    row_length = tf.cast(tf.reduce_max(index), tf.int32) + 1\n",
    "    row_length = tf.maximum(tf.shape(inputs)[1], row_length)\n",
    "    # start and end index of each row\n",
    "    # row 0: inc[0]:inc[1], row 1: inc[1]:inc[2], ...\n",
    "    inc = row_length * tf.range(tf.shape(inputs)[0]+1)\n",
    "    # Compute flat indices for each element\n",
    "    indices = tf.cast(index, inc.dtype) + tf.reshape(inc[:-1], (-1, 1))\n",
    "    # Flatten to column vector\n",
    "    indices = tf.reshape(indices, (-1, 1))\n",
    "    # Flatten updates\n",
    "    updates = tf.reshape(inputs, (-1,))\n",
    "    if out is None: # create from zeros\n",
    "        shape = (inc[-1], )\n",
    "        out = tf.scatter_nd(indices, updates, shape)\n",
    "    else:\n",
    "        out = tf.reshape(out, (-1, ))\n",
    "        if mode == \"add\":\n",
    "            out = tf.tensor_scatter_nd_add(out, indices, updates)\n",
    "        elif mode == \"sub\":\n",
    "            out = tf.tensor_scatter_nd_sub(out, indices, updates)\n",
    "        elif mode == \"min\":\n",
    "            out = tf.tensor_scatter_nd_min(out, indices, updates)\n",
    "        elif mode == \"max\":\n",
    "            out = tf.tensor_scatter_nd_max(out, indices, updates)\n",
    "        elif mode == \"update\":\n",
    "            out = tf.tensor_scatter_nd_update(out, indices, updates)\n",
    "    # reshape: (batch_size, row_length)\n",
    "    out = tf.reshape(out, (tf.shape(index)[0], -1))\n",
    "    \n",
    "    return out\n",
    "\n",
    "\n",
    "def apply_duration_constraints(dur_pred, dur_true, index, rounding=\"loose\"):\n",
    "    \"\"\"\n",
    "    Apply duration constraints for each phoneme.\n",
    "    \n",
    "    Inputs:\n",
    "    * dur_pred: predicted duration of each phoneme.\n",
    "    * dur_true: total duration within the grouping.\n",
    "    * index: index to indicate which group each phoneme belongs to.\n",
    "    \"\"\"\n",
    "    # Sum together total predicted duration within the group\n",
    "    pred = scatter_batch_2d(index, dur_pred)\n",
    "    # Broadcast the total values across all phonemes within the group\n",
    "    pred = tf.gather(pred, index, axis=1, batch_dims=1)\n",
    "    label = tf.gather(dur_true, index, axis=1, batch_dims=1)\n",
    "    # Compute ratio: constraints / total\n",
    "    ratio = tf.math.divide_no_nan(\n",
    "        tf.cast(label, tf.float32), tf.cast(pred, tf.float32)\n",
    "    )\n",
    "    # ratio = label / pred  = dur_adj / dur_pred\n",
    "    # dur_adj = dur_pred * (label / pred)\n",
    "    dur_adj = ratio * tf.cast(dur_pred, tf.float32)\n",
    "    # Rounding: will be off by at most 1 frame\n",
    "    dur_adj = tf.cast(tf.round(dur_adj), dur_true.dtype)\n",
    "    \n",
    "    # Costly! Correct rounding error,\n",
    "    # if 1 frame fewer, add 1 frame to the smallest duration\n",
    "    # if 1 frame more, subtract 1 frame from the largest duration\n",
    "    if rounding == \"strict\":\n",
    "        # Compute groupwise statistics and broadcast to phoneme level\n",
    "        min_dur = tf.ones_like(dur_adj) * tf.reduce_max(dur_adj)\n",
    "        min_dur = scatter_batch_2d(index, dur_adj, out=min_dur, mode=\"min\")\n",
    "        min_dur = tf.gather(min_dur, index, axis=1, batch_dims=1)\n",
    "        max_dur = tf.zeros_like(dur_adj)\n",
    "        max_dur = scatter_batch_2d(index, dur_adj, out=max_dur, mode=\"max\")\n",
    "        max_dur = tf.gather(max_dur, index, axis=1, batch_dims=1)\n",
    "        total_adj = scatter_batch_2d(index, dur_adj)\n",
    "        total_adj = tf.gather(total_adj, index, axis=1, batch_dims=1)\n",
    "        \n",
    "        # Adjust\n",
    "        adjustment = label - total_adj\n",
    "        cond_fewer = tf.math.logical_and(\n",
    "            adjustment > 0, # missing 1 frame\n",
    "            dur_adj == min_dur # need to adjust on min_dur\n",
    "        )\n",
    "        cond_more = tf.math.logical_and(\n",
    "            adjustment < 0, # extra 1 frame\n",
    "            dur_adj == max_dur # need to adjust on max_dur\n",
    "        )\n",
    "        # combine two conditions\n",
    "        cond = tf.math.logical_or(cond_fewer, cond_more)\n",
    "        dur_adj = tf.where(cond, dur_adj + adjustment, dur_adj)\n",
    "    \n",
    "    return dur_adj"
   ]
  },
  {
   "cell_type": "code",
   "execution_count": 95,
   "id": "1a1bec50",
   "metadata": {
    "ExecuteTime": {
     "end_time": "2023-11-26T06:25:06.632401Z",
     "start_time": "2023-11-26T06:25:06.611373Z"
    }
   },
   "outputs": [],
   "source": [
    "phonemes = tf.constant([\n",
    "    [\n",
    "        \"I\", \"saw\", \"you\", \"smi\", \"ling\", \"at\", \"me\", \n",
    "        \"was\", \"it\", \"real\", \"or\", \"just\", \"my\", \"fan\", \"ta\", \"sy\", \n",
    "        \"<rest>\", \"\", \"\", \"\"\n",
    "    ],\n",
    "    [\n",
    "        \"You'd\", \"al\", \"ways\", \"be\", \"there\", \"in\", \"the\", \"cor\", \"ner\",\n",
    "        \"of\", \"this\", \"ti\", \"<rest>\", \"ny\", \"lit\", \"tle\", \"bar\", \n",
    "        \"<rest>\", \"\", \"\"\n",
    "    ],\n",
    "])\n",
    "index = tf.constant([\n",
    "    [0, 0, 1, 1, 1, 2, 2, 3, 3, 3, 3, 4, 4, 5, 5, 5, 5, 6, 6, 6],\n",
    "    [0, 0, 0, 1, 1, 1, 1, 2, 2, 3, 3, 4, 4, 4, 5, 5, 6, 6, 7, 7]\n",
    "])\n",
    "\n",
    "dur_true = tf.constant([\n",
    "    [300, 300, 525, 450, 300, 525,   0, 0, 0, 0],\n",
    "    [300, 375, 450, 150, 375, 150, 525, 0, 0, 0],\n",
    "])\n",
    "\n",
    "dur_pred = tf.constant([\n",
    "    [\n",
    "        71, 244, 69, 138, 74, 163, 374, \n",
    "        82, 71, 231, 70, 154, 158, 81, 76, 289, \n",
    "        79, 0, 0, 0\n",
    "    ],\n",
    "    [\n",
    "        80, 143, 81, 77, 152, 79, 68, 82, 362, \n",
    "        69, 71, 311, 79, 78, 93, 95, 443,\n",
    "        73, 0, 0\n",
    "    ]\n",
    "])"
   ]
  },
  {
   "cell_type": "code",
   "execution_count": 96,
   "id": "91757261",
   "metadata": {
    "ExecuteTime": {
     "end_time": "2023-11-26T06:25:20.242040Z",
     "start_time": "2023-11-26T06:25:20.211096Z"
    }
   },
   "outputs": [
    {
     "data": {
      "text/plain": [
       "<tf.Tensor: shape=(2, 20), dtype=int32, numpy=\n",
       "array([[ 68, 232,  74, 147,  79, 159, 366,  81,  70, 229,  69, 148, 152,\n",
       "         81,  76, 289,  79,   0,   0,   0],\n",
       "       [ 79, 141,  80,  77, 152,  79,  68,  83, 367,  74,  76, 249,  63,\n",
       "         62,  74,  76, 451,  74,   0,   0]], dtype=int32)>"
      ]
     },
     "execution_count": 96,
     "metadata": {},
     "output_type": "execute_result"
    }
   ],
   "source": [
    "# Adjusted durations\n",
    "\n",
    "# When setting rounding = \"loose\" to allow rounding errors of +/- 1 frame \n",
    "dur_adj = apply_duration_constraints(\n",
    "    dur_pred, dur_true, index, rounding=\"loose\"\n",
    ")\n",
    "dur_adj"
   ]
  },
  {
   "cell_type": "code",
   "execution_count": 97,
   "id": "af56a2a6",
   "metadata": {
    "ExecuteTime": {
     "end_time": "2023-11-26T06:25:30.385364Z",
     "start_time": "2023-11-26T06:25:30.365861Z"
    }
   },
   "outputs": [
    {
     "data": {
      "text/plain": [
       "<tf.Tensor: shape=(2, 20), dtype=int32, numpy=\n",
       "array([[300, 300, 525, 449, 300, 525,   0,   0,   0,   0,   0,   0,   0,\n",
       "          0,   0,   0,   0,   0,   0,   0],\n",
       "       [300, 376, 450, 150, 374, 150, 525,   0,   0,   0,   0,   0,   0,\n",
       "          0,   0,   0,   0,   0,   0,   0]], dtype=int32)>"
      ]
     },
     "execution_count": 97,
     "metadata": {},
     "output_type": "execute_result"
    }
   ],
   "source": [
    "# Checking total duration of the group\n",
    "dur_adj_group = scatter_batch_2d(index, dur_adj)\n",
    "dur_adj_group"
   ]
  },
  {
   "cell_type": "code",
   "execution_count": 98,
   "id": "bcb403a5",
   "metadata": {
    "ExecuteTime": {
     "end_time": "2023-11-26T06:25:50.683934Z",
     "start_time": "2023-11-26T06:25:50.649782Z"
    }
   },
   "outputs": [
    {
     "data": {
      "text/plain": [
       "<tf.Tensor: shape=(2, 20), dtype=int32, numpy=\n",
       "array([[ 68, 232,  74, 147,  79, 159, 366,  81,  70, 229,  70, 148, 152,\n",
       "         81,  76, 289,  79,   0,   0,   0],\n",
       "       [ 79, 141,  80,  77, 151,  79,  68,  83, 367,  74,  76, 249,  63,\n",
       "         63,  74,  76, 451,  74,   0,   0]], dtype=int32)>"
      ]
     },
     "execution_count": 98,
     "metadata": {},
     "output_type": "execute_result"
    }
   ],
   "source": [
    "# When setting rounding = \"strict\" to enforce total duration \n",
    "# to conform to the label\n",
    "dur_adj = apply_duration_constraints(\n",
    "    dur_pred, dur_true, index, rounding=\"strict\"\n",
    ")\n",
    "dur_adj"
   ]
  },
  {
   "cell_type": "code",
   "execution_count": 99,
   "id": "b5ddd858",
   "metadata": {
    "ExecuteTime": {
     "end_time": "2023-11-26T06:26:01.141736Z",
     "start_time": "2023-11-26T06:26:01.125060Z"
    }
   },
   "outputs": [
    {
     "data": {
      "text/plain": [
       "<tf.Tensor: shape=(2, 20), dtype=int32, numpy=\n",
       "array([[300, 300, 525, 450, 300, 525,   0,   0,   0,   0,   0,   0,   0,\n",
       "          0,   0,   0,   0,   0,   0,   0],\n",
       "       [300, 375, 450, 150, 375, 150, 525,   0,   0,   0,   0,   0,   0,\n",
       "          0,   0,   0,   0,   0,   0,   0]], dtype=int32)>"
      ]
     },
     "execution_count": 99,
     "metadata": {},
     "output_type": "execute_result"
    }
   ],
   "source": [
    "# Checking total duration of the group\n",
    "dur_adj_group = scatter_batch_2d(index, dur_adj)\n",
    "dur_adj_group"
   ]
  },
  {
   "cell_type": "markdown",
   "id": "d656222b",
   "metadata": {},
   "source": [
    "# Case Study: Filling of Missing Values in a Sequence"
   ]
  },
  {
   "cell_type": "code",
   "execution_count": 100,
   "id": "b9e3b585",
   "metadata": {
    "ExecuteTime": {
     "end_time": "2023-11-26T06:26:31.283617Z",
     "start_time": "2023-11-26T06:26:31.268726Z"
    }
   },
   "outputs": [],
   "source": [
    "import tensorflow as tf\n",
    "\n",
    "event_type = tf.constant(\n",
    "    [\n",
    "        [\n",
    "            \"view\",\n",
    "            \"click\",\n",
    "            \"click\",\n",
    "            \"add to cart\",\n",
    "            \"buy\",\n",
    "        ],\n",
    "        [\"view\", \"view\", \"click\", \"view\", \"click\"],\n",
    "    ]\n",
    ")\n",
    "event_timestamp = tf.constant(\n",
    "    [\n",
    "        [\n",
    "            \"2022-03-15 06:23:24\",\n",
    "            \"2022-03-15 06:23:38\",\n",
    "            \"\",\n",
    "            \"2022-03-15 06:24:58\",\n",
    "            \"\",\n",
    "        ],\n",
    "        [\"\", \"\", \"2022-03-18 06:24:37\", \"\", \"\"],\n",
    "    ]\n",
    ")"
   ]
  },
  {
   "cell_type": "code",
   "execution_count": 101,
   "id": "f55ad5ab",
   "metadata": {
    "ExecuteTime": {
     "end_time": "2023-11-26T06:27:20.243105Z",
     "start_time": "2023-11-26T06:27:20.216963Z"
    }
   },
   "outputs": [],
   "source": [
    "import tensorflow as tf\n",
    "\n",
    "def ffill(x):\n",
    "    \"\"\"Forward filling the values of a 2D matrix row\"\"\"\n",
    "    # Track indices for all values\n",
    "    r, c = tf.cast(tf.shape(x), dtype=tf.int64)\n",
    "    flat_indices = tf.range(r * c)\n",
    "    indices = tf.stack([\n",
    "        flat_indices // c,\n",
    "        flat_indices % c\n",
    "        ], axis=0)\n",
    "    indices = tf.transpose(indices)\n",
    "    \n",
    "    # Indices of consecutive integers\n",
    "    empty_indices = tf.where(x == \"\")\n",
    "    f = (empty_indices[1:, 1] - empty_indices[:-1, 1]) == 1\n",
    "    f = tf.concat(([False], f), 0) != tf.concat((f, [False]), 0)\n",
    "    f = tf.where(f)\n",
    "    f = tf.reshape(f, (-1, 2))\n",
    "    \n",
    "    # Compute backtracking offset values\n",
    "    offset_indices = tf.ragged.range(f[:, 0], f[:, 1] + 1).flat_values\n",
    "    offset_values = tf.ragged.range(f[:, 1] - f[:, 0] + 1).flat_values\n",
    "    offset_values = -(offset_values+1)\n",
    "    \n",
    "    offsets = -tf.ones_like(empty_indices[:, 0])\n",
    "    offsets = tf.tensor_scatter_nd_update(\n",
    "        offsets, offset_indices[:, None], offset_values\n",
    "    )\n",
    "    \n",
    "    # Replace the empty indices with offsets\n",
    "    flat_empty_indices = empty_indices[:, 0] * c + empty_indices[:, 1]\n",
    "    update_indices = tf.stack(\n",
    "        [flat_empty_indices, tf.ones_like(flat_empty_indices)], axis=0\n",
    "    )\n",
    "    update_indices = tf.transpose(update_indices)\n",
    "    indices_offset = tf.tensor_scatter_nd_add(\n",
    "        indices, update_indices, offsets\n",
    "    )\n",
    "    \n",
    "    # Address any remaining -1s. These are empty values starting at \n",
    "    # the beginning that cannot be filed. So use original indices, \n",
    "    # which is index 0\n",
    "    indices_offset = tf.maximum(indices_offset, 0)\n",
    "    \n",
    "    # Finally, use tf.gather_nd to create the ffilled matrix\n",
    "    y = tf.gather_nd(x, indices_offset) # flat\n",
    "    y = tf.reshape(y, (r, c))\n",
    "    \n",
    "    return y"
   ]
  },
  {
   "cell_type": "code",
   "execution_count": 102,
   "id": "5004d0dc",
   "metadata": {
    "ExecuteTime": {
     "end_time": "2023-11-26T06:27:33.147500Z",
     "start_time": "2023-11-26T06:27:33.101988Z"
    }
   },
   "outputs": [
    {
     "data": {
      "text/plain": [
       "<tf.Tensor: shape=(2, 5), dtype=string, numpy=\n",
       "array([[b'2022-03-15 06:23:24', b'2022-03-15 06:23:38',\n",
       "        b'2022-03-15 06:23:38', b'2022-03-15 06:24:58',\n",
       "        b'2022-03-15 06:24:58'],\n",
       "       [b'', b'', b'2022-03-18 06:24:37', b'2022-03-18 06:24:37',\n",
       "        b'2022-03-18 06:24:37']], dtype=object)>"
      ]
     },
     "execution_count": 102,
     "metadata": {},
     "output_type": "execute_result"
    }
   ],
   "source": [
    "event_timestamp = tf.constant( # reproduced from above\n",
    "    [\n",
    "        [\n",
    "            \"2022-03-15 06:23:24\",\n",
    "            \"2022-03-15 06:23:38\",\n",
    "            \"\",\n",
    "            \"2022-03-15 06:24:58\",\n",
    "            \"\",\n",
    "        ],\n",
    "        [\"\", \"\", \"2022-03-18 06:24:37\", \"\", \"\"],\n",
    "    ]\n",
    ")\n",
    "\n",
    "# ffill\n",
    "event_timestamp_filled = ffill(event_timestamp)\n",
    "event_timestamp_filled"
   ]
  },
  {
   "cell_type": "code",
   "execution_count": 103,
   "id": "a14ad955",
   "metadata": {
    "ExecuteTime": {
     "end_time": "2023-11-26T06:27:41.384447Z",
     "start_time": "2023-11-26T06:27:41.364471Z"
    }
   },
   "outputs": [
    {
     "data": {
      "text/plain": [
       "<tf.Tensor: shape=(2, 5), dtype=string, numpy=\n",
       "array([[b'2022-03-15 06:24:58', b'2022-03-15 06:24:58',\n",
       "        b'2022-03-15 06:23:38', b'2022-03-15 06:23:38',\n",
       "        b'2022-03-15 06:23:24'],\n",
       "       [b'2022-03-18 06:24:37', b'2022-03-18 06:24:37',\n",
       "        b'2022-03-18 06:24:37', b'2022-03-18 06:24:37',\n",
       "        b'2022-03-18 06:24:37']], dtype=object)>"
      ]
     },
     "execution_count": 103,
     "metadata": {},
     "output_type": "execute_result"
    }
   ],
   "source": [
    "# bfill\n",
    "event_timestamp_filled = ffill(event_timestamp_filled[:, ::-1])\n",
    "event_timestamp_filled"
   ]
  }
 ],
 "metadata": {
  "kernelspec": {
   "display_name": "Python 3 (ipykernel)",
   "language": "python",
   "name": "python3"
  },
  "language_info": {
   "codemirror_mode": {
    "name": "ipython",
    "version": 3
   },
   "file_extension": ".py",
   "mimetype": "text/x-python",
   "name": "python",
   "nbconvert_exporter": "python",
   "pygments_lexer": "ipython3",
   "version": "3.9.10"
  },
  "toc": {
   "base_numbering": 1,
   "nav_menu": {},
   "number_sections": false,
   "sideBar": true,
   "skip_h1_title": false,
   "title_cell": "Table of Contents",
   "title_sidebar": "Contents",
   "toc_cell": false,
   "toc_position": {},
   "toc_section_display": true,
   "toc_window_display": false
  },
  "varInspector": {
   "cols": {
    "lenName": 16,
    "lenType": 16,
    "lenVar": 40
   },
   "kernels_config": {
    "python": {
     "delete_cmd_postfix": "",
     "delete_cmd_prefix": "del ",
     "library": "var_list.py",
     "varRefreshCmd": "print(var_dic_list())"
    },
    "r": {
     "delete_cmd_postfix": ") ",
     "delete_cmd_prefix": "rm(",
     "library": "var_list.r",
     "varRefreshCmd": "cat(var_dic_list()) "
    }
   },
   "types_to_exclude": [
    "module",
    "function",
    "builtin_function_or_method",
    "instance",
    "_Feature"
   ],
   "window_display": false
  }
 },
 "nbformat": 4,
 "nbformat_minor": 5
}
