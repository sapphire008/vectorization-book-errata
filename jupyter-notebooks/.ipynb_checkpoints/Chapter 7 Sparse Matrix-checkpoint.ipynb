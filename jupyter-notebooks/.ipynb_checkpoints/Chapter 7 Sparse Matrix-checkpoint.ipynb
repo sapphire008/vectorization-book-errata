{
 "cells": [
  {
   "cell_type": "markdown",
   "id": "eccca8e7",
   "metadata": {},
   "source": [
    "# Sparse matrix broadcasting"
   ]
  },
  {
   "cell_type": "code",
   "execution_count": 7,
   "id": "0696c9e6",
   "metadata": {
    "ExecuteTime": {
     "end_time": "2023-11-26T02:07:02.383601Z",
     "start_time": "2023-11-26T02:07:02.375577Z"
    }
   },
   "outputs": [],
   "source": [
    "import numpy as np\n",
    "from scipy.sparse import coo_matrix, csr_matrix, csc_matrix"
   ]
  },
  {
   "cell_type": "markdown",
   "id": "8c598208",
   "metadata": {},
   "source": [
    "Row-wise broadcasting"
   ]
  },
  {
   "cell_type": "code",
   "execution_count": 15,
   "id": "e8a4215b",
   "metadata": {
    "ExecuteTime": {
     "end_time": "2023-11-26T02:11:49.384819Z",
     "start_time": "2023-11-26T02:11:49.368233Z"
    },
    "scrolled": true
   },
   "outputs": [
    {
     "data": {
      "text/plain": [
       "array([[2, 0, 5, 0, 0],\n",
       "       [0, 0, 0, 5, 9],\n",
       "       [0, 4, 0, 5, 0]])"
      ]
     },
     "execution_count": 15,
     "metadata": {},
     "output_type": "execute_result"
    }
   ],
   "source": [
    "def R_plus_rv(R, rv):\n",
    "    \"\"\"Sparse matrix plus a row vector\"\"\"\n",
    "    R = R.tocsr()\n",
    "    R.data += np.take(rv, R.indices)\n",
    "    return R\n",
    "\n",
    "R = np.array([\n",
    "    [1, 0, 2, 0, 0],\n",
    "    [0, 0, 0, 1, 4],\n",
    "    [0, 2, 0, 1, 0],\n",
    "])\n",
    "rv = np.array([1, 2, 3, 4, 5])\n",
    "R_sp = coo_matrix(R)\n",
    "R_mod = R_plus_rv(R_sp, rv)\n",
    "R_mod.A"
   ]
  },
  {
   "cell_type": "markdown",
   "id": "2ee1c0de",
   "metadata": {},
   "source": [
    "Column-wise boradcasting"
   ]
  },
  {
   "cell_type": "code",
   "execution_count": 9,
   "id": "10cd355f",
   "metadata": {
    "ExecuteTime": {
     "end_time": "2023-11-26T02:08:12.873441Z",
     "start_time": "2023-11-26T02:08:12.859115Z"
    }
   },
   "outputs": [
    {
     "data": {
      "text/plain": [
       "array([[2, 0, 3, 0, 0],\n",
       "       [0, 0, 0, 3, 6],\n",
       "       [0, 5, 0, 4, 0]])"
      ]
     },
     "execution_count": 9,
     "metadata": {},
     "output_type": "execute_result"
    }
   ],
   "source": [
    "def R_plus_cv(R, cv):\n",
    "    \"\"\"Sparse matrix plus a column vector\"\"\"\n",
    "    R = R.tocsc()\n",
    "    R.data += np.take(cv, R.indices)\n",
    "    return R\n",
    "\n",
    "R = np.array([\n",
    "    [1, 0, 2, 0, 0],\n",
    "    [0, 0, 0, 1, 4],\n",
    "    [0, 2, 0, 1, 0],\n",
    "])\n",
    "cv = np.array([1, 2, 3])\n",
    "R_sp = coo_matrix(R)\n",
    "R_mod = R_plus_cv(R_sp, cv)\n",
    "R_mod.A"
   ]
  },
  {
   "cell_type": "markdown",
   "id": "7d7754ac",
   "metadata": {},
   "source": [
    "# Sparse Multiplication"
   ]
  },
  {
   "cell_type": "code",
   "execution_count": 16,
   "id": "b6df43f3",
   "metadata": {
    "ExecuteTime": {
     "end_time": "2023-11-26T02:12:31.845547Z",
     "start_time": "2023-11-26T02:12:31.833816Z"
    }
   },
   "outputs": [],
   "source": [
    "def multiply_U_W(U, W, R):\n",
    "    \"\"\"Compute product of U.T and W, \n",
    "    but only at the position where R is available\"\"\"\n",
    "    iU, iW = R.tocoo().row, R.tocoo().col # np.nonzero(R)\n",
    "    #values = np.sum(U[iU, :] * W[iW, :], axis=1)\n",
    "    values = np.einsum('ij,ij->i', U[iU, :], W[iW, :])\n",
    "    # Recreate the coo matrix, making sure its shape\n",
    "    # is the same as R\n",
    "    result = coo_matrix(\n",
    "        (values, (iU, iW)), shape=R.shape\n",
    "    ).tocsc()\n",
    "    return result"
   ]
  },
  {
   "cell_type": "code",
   "execution_count": 18,
   "id": "d7067988",
   "metadata": {
    "ExecuteTime": {
     "end_time": "2023-11-26T02:14:53.625792Z",
     "start_time": "2023-11-26T02:14:53.603434Z"
    }
   },
   "outputs": [
    {
     "data": {
      "text/plain": [
       "array([[3.03562841, 0.        , 2.5933212 , 0.        , 0.        ],\n",
       "       [0.        , 0.        , 0.        , 2.59769061, 3.05245357],\n",
       "       [0.        , 1.88053122, 0.        , 1.35876549, 0.        ]])"
      ]
     },
     "execution_count": 18,
     "metadata": {},
     "output_type": "execute_result"
    }
   ],
   "source": [
    "U = np.random.rand(3, 8)\n",
    "W = np.random.rand(5, 8)\n",
    "R = coo_matrix(np.array([\n",
    "    [1, 0, 2, 0, 0],\n",
    "    [0, 0, 0, 1, 4],\n",
    "    [0, 2, 0, 1, 0],\n",
    "]))\n",
    "result = multiply_U_W(U, W, R)\n",
    "result.A"
   ]
  },
  {
   "cell_type": "markdown",
   "id": "0860591c",
   "metadata": {},
   "source": [
    "# Tensorflow's Sparse Tensors"
   ]
  },
  {
   "cell_type": "code",
   "execution_count": 19,
   "id": "9353b65d",
   "metadata": {
    "ExecuteTime": {
     "end_time": "2023-11-26T02:15:53.344375Z",
     "start_time": "2023-11-26T02:15:50.617821Z"
    }
   },
   "outputs": [
    {
     "data": {
      "text/plain": [
       "SparseTensor(indices=tf.Tensor(\n",
       "[[0 3]\n",
       " [1 0]\n",
       " [2 2]\n",
       " [3 1]\n",
       " [4 2]\n",
       " [4 3]\n",
       " [4 4]], shape=(7, 2), dtype=int64), values=tf.Tensor([2 1 1 2 2 1 2], shape=(7,), dtype=int32), dense_shape=tf.Tensor([5 5], shape=(2,), dtype=int64))"
      ]
     },
     "execution_count": 19,
     "metadata": {},
     "output_type": "execute_result"
    }
   ],
   "source": [
    "import tensorflow as tf\n",
    "\n",
    "tf.SparseTensor(\n",
    "    indices=tf.constant([\n",
    "        [0, 3], [1, 0], [2, 2], [3, 1], [4, 2],[4, 3], [4, 4]], \n",
    "        dtype=tf.int64\n",
    "    ),\n",
    "    values=tf.constant([2, 1, 1, 2, 2, 1, 2], dtype=tf.int32),\n",
    "    dense_shape=(5, 5), \n",
    ")"
   ]
  },
  {
   "cell_type": "code",
   "execution_count": 24,
   "id": "57e0ead8",
   "metadata": {
    "ExecuteTime": {
     "end_time": "2023-11-26T02:16:57.350289Z",
     "start_time": "2023-11-26T02:16:57.334739Z"
    }
   },
   "outputs": [
    {
     "data": {
      "text/plain": [
       "SparseTensor(indices=tf.Tensor(\n",
       "[[0 3 0]\n",
       " [1 0 0]\n",
       " [2 2 1]\n",
       " [3 1 2]\n",
       " [4 2 3]\n",
       " [4 3 4]\n",
       " [4 4 5]], shape=(7, 3), dtype=int64), values=tf.Tensor([2 1 1 2 2 1 2], shape=(7,), dtype=int32), dense_shape=tf.Tensor([5 5 6], shape=(3,), dtype=int64))"
      ]
     },
     "execution_count": 24,
     "metadata": {},
     "output_type": "execute_result"
    }
   ],
   "source": [
    "tf.SparseTensor(\n",
    "    indices=tf.constant([\n",
    "        [0, 3, 0], [1, 0, 0], [2, 2, 1], [3, 1, 2], \n",
    "        [4, 2, 3],[4, 3, 4], [4, 4, 5]], \n",
    "        dtype=tf.int64\n",
    "    ),\n",
    "    values=tf.constant([2, 1, 1, 2, 2, 1, 2], dtype=tf.int32),\n",
    "    dense_shape=(5, 5, 6), \n",
    ")"
   ]
  },
  {
   "cell_type": "code",
   "execution_count": 22,
   "id": "57b84eb9",
   "metadata": {
    "ExecuteTime": {
     "end_time": "2023-11-26T02:16:30.907036Z",
     "start_time": "2023-11-26T02:16:30.870895Z"
    }
   },
   "outputs": [
    {
     "data": {
      "text/plain": [
       "SparseTensor(indices=tf.Tensor(\n",
       "[[0 3]\n",
       " [1 0]\n",
       " [2 2]\n",
       " [3 2]\n",
       " [4 1]\n",
       " [5 2]\n",
       " [5 3]\n",
       " [5 4]], shape=(8, 2), dtype=int64), values=tf.Tensor([2 1 1 1 2 2 1 2], shape=(8,), dtype=int32), dense_shape=tf.Tensor([6 5], shape=(2,), dtype=int64))"
      ]
     },
     "execution_count": 22,
     "metadata": {},
     "output_type": "execute_result"
    }
   ],
   "source": [
    "tf.sparse.from_dense(\n",
    "    tf.constant([\n",
    "        [0, 0, 0, 2, 0],\n",
    "        [1, 0, 0, 0, 0],\n",
    "        [0, 0, 1, 0, 0],\n",
    "        [0, 0, 1, 0, 0],\n",
    "        [0, 2, 0, 0, 0],\n",
    "        [0, 0, 2, 1, 2],\n",
    "    ])\n",
    ")"
   ]
  },
  {
   "cell_type": "markdown",
   "id": "1dbc7e43",
   "metadata": {},
   "source": [
    "# Tensorflow SparseCSR matrix"
   ]
  },
  {
   "cell_type": "code",
   "execution_count": 29,
   "id": "26081664",
   "metadata": {
    "ExecuteTime": {
     "end_time": "2023-11-26T02:23:51.081223Z",
     "start_time": "2023-11-26T02:23:51.060961Z"
    }
   },
   "outputs": [
    {
     "data": {
      "text/plain": [
       "<tensorflow.python.ops.linalg.sparse.sparse_csr_matrix_ops.CSRSparseMatrix at 0x2ac1b0f70>"
      ]
     },
     "execution_count": 29,
     "metadata": {},
     "output_type": "execute_result"
    }
   ],
   "source": [
    "from tensorflow.python.ops.linalg.sparse import sparse_csr_matrix_ops\n",
    "X = tf.constant([\n",
    "    [0, 0, 0, 2, 0],\n",
    "    [1, 0, 0, 0, 0],\n",
    "    [0, 0, 1, 0, 0],\n",
    "    [0, 0, 1, 0, 0],\n",
    "    [0, 2, 0, 0, 0],\n",
    "    [0, 0, 2, 1, 2],\n",
    "], dtype=tf.float32)\n",
    "\n",
    "csr_sparse = sparse_csr_matrix_ops.CSRSparseMatrix(\n",
    "    X,\n",
    "    indices=tf.where(X > 0),  # optional\n",
    ")\n",
    "csr_sparse"
   ]
  },
  {
   "cell_type": "code",
   "execution_count": 30,
   "id": "1e6f3af9",
   "metadata": {
    "ExecuteTime": {
     "end_time": "2023-11-26T02:23:57.712622Z",
     "start_time": "2023-11-26T02:23:57.694447Z"
    }
   },
   "outputs": [
    {
     "data": {
      "text/plain": [
       "<tf.Tensor: shape=(), dtype=variant, value=<Tensor<type: int64 shape: [2] values: 6 5>>>"
      ]
     },
     "execution_count": 30,
     "metadata": {},
     "output_type": "execute_result"
    }
   ],
   "source": [
    "# needs the indices of the non-missing values\n",
    "csr_sparse = sparse_csr_matrix_ops.dense_to_csr_sparse_matrix(\n",
    "    X, indices=tf.where(X > 0)\n",
    ")\n",
    "csr_sparse"
   ]
  },
  {
   "cell_type": "code",
   "execution_count": 43,
   "id": "f885ebd0",
   "metadata": {
    "ExecuteTime": {
     "end_time": "2023-11-26T02:29:02.748217Z",
     "start_time": "2023-11-26T02:29:02.733414Z"
    }
   },
   "outputs": [
    {
     "data": {
      "text/plain": [
       "SparseTensor(indices=tf.Tensor(\n",
       "[[0 3]\n",
       " [1 0]\n",
       " [2 2]\n",
       " [3 2]\n",
       " [4 1]\n",
       " [5 2]\n",
       " [5 3]\n",
       " [5 4]], shape=(8, 2), dtype=int64), values=tf.Tensor([2. 1. 1. 1. 2. 2. 1. 2.], shape=(8,), dtype=float32), dense_shape=tf.Tensor([6 5], shape=(2,), dtype=int64))"
      ]
     },
     "execution_count": 43,
     "metadata": {},
     "output_type": "execute_result"
    }
   ],
   "source": [
    "coo_sparse = sparse_csr_matrix_ops.csr_sparse_matrix_to_sparse_tensor(\n",
    "    csr_sparse, type=tf.float32,\n",
    ")\n",
    "# Casting to Sparse Tensor class instead of intermediate representation\n",
    "coo_sparse = tf.SparseTensor(coo_sparse.indices, coo_sparse.values, coo_sparse.dense_shape)\n",
    "coo_sparse"
   ]
  },
  {
   "cell_type": "code",
   "execution_count": 44,
   "id": "a810c132",
   "metadata": {
    "ExecuteTime": {
     "end_time": "2023-11-26T02:29:06.930722Z",
     "start_time": "2023-11-26T02:29:06.916555Z"
    }
   },
   "outputs": [
    {
     "data": {
      "text/plain": [
       "<tf.Tensor: shape=(), dtype=variant, value=<Tensor<type: int64 shape: [2] values: 6 5>>>"
      ]
     },
     "execution_count": 44,
     "metadata": {},
     "output_type": "execute_result"
    }
   ],
   "source": [
    "# Convert from coo to csr\n",
    "csr_from_coo = sparse_csr_matrix_ops.sparse_tensor_to_csr_sparse_matrix(\n",
    "    coo_sparse.indices, coo_sparse.values, coo_sparse.dense_shape\n",
    ")\n",
    "csr_from_coo"
   ]
  },
  {
   "cell_type": "code",
   "execution_count": 45,
   "id": "8daa8e6e",
   "metadata": {
    "ExecuteTime": {
     "end_time": "2023-11-26T02:29:08.977218Z",
     "start_time": "2023-11-26T02:29:08.963642Z"
    },
    "scrolled": true
   },
   "outputs": [
    {
     "data": {
      "text/plain": [
       "<tensorflow.python.ops.linalg.sparse.sparse_csr_matrix_ops.CSRSparseMatrix at 0x2b2745e10>"
      ]
     },
     "execution_count": 45,
     "metadata": {},
     "output_type": "execute_result"
    }
   ],
   "source": [
    "csr_from_coo = sparse_csr_matrix_ops.CSRSparseMatrix(coo_sparse)\n",
    "csr_from_coo"
   ]
  },
  {
   "cell_type": "markdown",
   "id": "a060fdca",
   "metadata": {},
   "source": [
    "CSR Matmul"
   ]
  },
  {
   "cell_type": "code",
   "execution_count": 46,
   "id": "6cc2df53",
   "metadata": {
    "ExecuteTime": {
     "end_time": "2023-11-26T02:29:40.052231Z",
     "start_time": "2023-11-26T02:29:40.034226Z"
    }
   },
   "outputs": [
    {
     "data": {
      "text/plain": [
       "<tf.Tensor: shape=(6, 1), dtype=float32, numpy=\n",
       "array([[ 8.],\n",
       "       [ 0.],\n",
       "       [ 2.],\n",
       "       [ 2.],\n",
       "       [ 2.],\n",
       "       [10.]], dtype=float32)>"
      ]
     },
     "execution_count": 46,
     "metadata": {},
     "output_type": "execute_result"
    }
   ],
   "source": [
    "b_mat = tf.constant([[0, 1, 2, 4, 1]], tf.float32)\n",
    "w = sparse_csr_matrix_ops.sparse_matrix_mat_mul(\n",
    "    csr_sparse, \n",
    "    b_mat,\n",
    "    transpose_b=True,\n",
    ")\n",
    "w"
   ]
  },
  {
   "cell_type": "markdown",
   "id": "84e898a4",
   "metadata": {},
   "source": [
    "Sparse-to-sparse matmul"
   ]
  },
  {
   "cell_type": "code",
   "execution_count": 51,
   "id": "b831d84d",
   "metadata": {
    "ExecuteTime": {
     "end_time": "2023-11-26T02:31:01.448253Z",
     "start_time": "2023-11-26T02:31:01.428469Z"
    }
   },
   "outputs": [
    {
     "data": {
      "text/plain": [
       "<tf.Tensor: shape=(6, 6), dtype=float32, numpy=\n",
       "array([[4., 0., 0., 0., 0., 2.],\n",
       "       [0., 1., 0., 0., 0., 0.],\n",
       "       [0., 0., 1., 1., 0., 2.],\n",
       "       [0., 0., 1., 1., 0., 2.],\n",
       "       [0., 0., 0., 0., 4., 0.],\n",
       "       [2., 0., 2., 2., 0., 9.]], dtype=float32)>"
      ]
     },
     "execution_count": 51,
     "metadata": {},
     "output_type": "execute_result"
    }
   ],
   "source": [
    "res = sparse_csr_matrix_ops.sparse_matrix_sparse_mat_mul(\n",
    "    a=csr_sparse, b=csr_sparse, type=tf.float32, transpose_b=True,\n",
    ")\n",
    "# converting back to dense\n",
    "res = sparse_csr_matrix_ops.csr_sparse_matrix_to_dense(\n",
    "    res, type=tf.float32\n",
    ")\n",
    "res"
   ]
  },
  {
   "cell_type": "markdown",
   "id": "04c39c16",
   "metadata": {
    "ExecuteTime": {
     "end_time": "2023-11-26T02:30:34.729864Z",
     "start_time": "2023-11-26T02:30:34.716302Z"
    }
   },
   "source": [
    "# PyTorch's Sparse Matrix"
   ]
  },
  {
   "cell_type": "code",
   "execution_count": 53,
   "id": "4cabe468",
   "metadata": {
    "ExecuteTime": {
     "end_time": "2023-11-26T02:32:03.432301Z",
     "start_time": "2023-11-26T02:32:02.142158Z"
    }
   },
   "outputs": [
    {
     "data": {
      "text/plain": [
       "tensor(indices=tensor([[0, 0, 1, 2, 3, 4, 4, 4],\n",
       "                       [3, 1, 2, 2, 1, 2, 3, 4]]),\n",
       "       values=tensor([2., 1., 1., 1., 2., 2., 1., 2.]),\n",
       "       size=(6, 5), nnz=8, layout=torch.sparse_coo)"
      ]
     },
     "execution_count": 53,
     "metadata": {},
     "output_type": "execute_result"
    }
   ],
   "source": [
    "import torch\n",
    "coo_sparse = torch.torch.sparse_coo_tensor(  \n",
    "    # instead of torch.sparse_coo_tensor!\n",
    "    indices=[\n",
    "        [0, 0, 1, 2, 3, 4, 4, 4], [3, 1, 2, 2, 1, 2, 3, 4],\n",
    "    ],\n",
    "    values=[2, 1, 1, 1, 2, 2, 1, 2],\n",
    "    size=(6, 5),\n",
    "    dtype=torch.float32,\n",
    ")\n",
    "coo_sparse"
   ]
  },
  {
   "cell_type": "markdown",
   "id": "edb28ec2",
   "metadata": {},
   "source": [
    "# Matrix Factorization"
   ]
  },
  {
   "cell_type": "code",
   "execution_count": 1,
   "id": "40df2bcc",
   "metadata": {
    "ExecuteTime": {
     "end_time": "2023-11-26T02:04:59.213154Z",
     "start_time": "2023-11-26T02:04:59.063215Z"
    }
   },
   "outputs": [],
   "source": [
    "import numpy as np\n",
    "import scipy.sparse\n",
    "from scipy.sparse import csc_matrix, coo_matrix, dok_matrix\n",
    "from scipy.sparse import load_npz, save_npz\n",
    "from tqdm import tqdm\n",
    "\n",
    "def multiply_U_W(U, W, R):\n",
    "    \"\"\"Compute product of U.T and W, \n",
    "    but only at the position where R is available\"\"\"\n",
    "    iU, iW = R.tocoo().row, R.tocoo().col #np.nonzero(R)\n",
    "    #values = np.sum(U[iU, :] * W[iW, :], axis=1)\n",
    "    values = np.einsum('ij,ij->i', U[iU, :], W[iW, :])\n",
    "    result = coo_matrix((values, (iU, iW)), shape=R.shape).tocsc()\n",
    "    return result\n",
    "\n",
    "\n",
    "def R_plus_cv(R, cv):\n",
    "    \"\"\"Sparse matrix plus a column vector\"\"\"\n",
    "    R = R.tocsc()\n",
    "    R.data += np.take(cv, R.indices)\n",
    "    return R\n",
    "\n",
    "\n",
    "def R_plus_rv(R, rv):\n",
    "    \"\"\"Sparse matrix plus a row vector\"\"\"\n",
    "    R = R.tocsr()\n",
    "    R.data += np.take(rv, R.indices)\n",
    "    return R"
   ]
  },
  {
   "cell_type": "code",
   "execution_count": 2,
   "id": "3bc3662e",
   "metadata": {
    "ExecuteTime": {
     "end_time": "2023-11-26T02:05:00.543142Z",
     "start_time": "2023-11-26T02:04:59.490652Z"
    }
   },
   "outputs": [],
   "source": [
    "import numpy as np\n",
    "import pandas as pd\n",
    "import scipy.sparse\n",
    "from scipy.sparse import csc_matrix, load_npz, save_npz\n",
    "from sklearn.model_selection import train_test_split\n",
    "# Split train-test set\n",
    "df = pd.read_csv(\n",
    "    \"./ml-100k/u.data\",\n",
    "    names=[\"userId\", \"movieId\", \"rating\", \"timestamp\"],\n",
    "    usecols=[\"userId\", \"movieId\", \"rating\"],\n",
    "    header=None, sep=\"\\t\",\n",
    ")\n",
    "df_train, df_test = train_test_split(\n",
    "    df, test_size=0.2, random_state=42\n",
    ")\n",
    "#df = None # remove the original dataframe\n",
    "\n",
    "# Convert to sparse matrix\n",
    "R_train = csc_matrix(\n",
    "    (df_train[\"rating\"], (df_train[\"userId\"], df_train[\"movieId\"])),\n",
    "    shape=(944, 1683),\n",
    "    dtype=np.float16\n",
    ")\n",
    "R_test = csc_matrix(\n",
    "    (df_test[\"rating\"], (df_test[\"userId\"], df_test[\"movieId\"])),\n",
    "    shape=(944, 1683),\n",
    "    dtype=np.float16\n",
    ")\n",
    "\n",
    "# Save the data\n",
    "scipy.sparse.save_npz(\n",
    "    \"./ml-100k/R_train_top.npz\", R_train\n",
    ")\n",
    "scipy.sparse.save_npz(\n",
    "    \"./ml-100k/R_test_top.npz\", R_test\n",
    ")"
   ]
  },
  {
   "cell_type": "code",
   "execution_count": 3,
   "id": "3265f033",
   "metadata": {
    "ExecuteTime": {
     "end_time": "2023-11-26T02:05:00.563368Z",
     "start_time": "2023-11-26T02:05:00.557018Z"
    }
   },
   "outputs": [],
   "source": [
    "def compute_prediction(U_W_prod, mu, b, c):\n",
    "    \"\"\"Computing predictions use the learned parameters.\"\"\"\n",
    "    R_hat = U_W_prod.copy()  # csc\n",
    "    R_hat.data += mu  # add mu\n",
    "    R_hat = R_plus_cv(R_hat, b)  # add b, of length N\n",
    "    R_hat = R_plus_rv(R_hat, c).tocsc()  # add c, of length M\n",
    "    return R_hat\n",
    "\n",
    "\n",
    "def compute_regularized_loss(R, R_hat, U, W, b, c, l2_reg, total_card):\n",
    "    \"\"\"Compute mean squared loss with regularization.\"\"\"\n",
    "    loss = ((R.data - R_hat.data) ** 2).sum() + l2_reg * (\n",
    "        np.sum(U**2) + np.sum(W**2) + np.sum(b**2) + np.sum(c**2)\n",
    "    )\n",
    "    loss = loss / total_card  # mean squared error\n",
    "    \n",
    "    return loss\n",
    "\n",
    "\n",
    "def regularized_matrix_factorization(\n",
    "    R, R_eval=None, K=25, l2_reg=0.001, maxiter=100\n",
    "):\n",
    "    \"\"\"\n",
    "    Solving matrix factorization with alternating least square\n",
    "    \n",
    "    Parameters:\n",
    "    --------\n",
    "    * R : training rating sparse matrix of size N x M\n",
    "    * R_eval : evaluation rating sparse matrix of size N x M\n",
    "    * K : number of features to use\n",
    "    * l2_reg: L2 regularization size\n",
    "    * maxiter : max number of iterations\n",
    "    Returns:\n",
    "    --------\n",
    "    U : N x K user matrix\n",
    "    W : M x K item matrix\n",
    "    b : length N vector of user bias\n",
    "    c : length M vector of item bias\n",
    "    mu: global mean of the user rating matrix\n",
    "    J : training loss over epochs\n",
    "    \"\"\"\n",
    "    R = R.tocsc()  # make sure it is csc format\n",
    "    N, M = R.shape\n",
    "    # Calculate global mean mu\n",
    "    mu = R.mean()\n",
    "\n",
    "    # Initialize the bias terms\n",
    "    b = np.random.randn(N)\n",
    "    c = np.random.randn(M)\n",
    "\n",
    "    # Initialize the user and item matrix\n",
    "    U = np.random.randn(N, K)\n",
    "    W = np.random.randn(M, K)\n",
    "    U_W_prod = multiply_U_W(U, W, R)  # sparse (N, M)\n",
    "    if R_eval is not None:\n",
    "        R_eval = R_eval.tocsc()\n",
    "        U_W_prod_eval = multiply_U_W(U, W, R_eval)\n",
    "\n",
    "    # Counting cardinalities\n",
    "    card_psi = R.getnnz(axis=1)\n",
    "    card_omega = R.getnnz(axis=0)\n",
    "    total_card = R.getnnz()\n",
    "\n",
    "    # Initialize loss\n",
    "    J = np.zeros(maxiter)\n",
    "    J_eval = np.zeros(maxiter)\n",
    "\n",
    "    # Iterate\n",
    "    for epoch in tqdm(range(maxiter)):\n",
    "        # Compute training prediction\n",
    "        R_hat = compute_prediction(U_W_prod, mu, b, c)\n",
    "        # Compute regularized loss\n",
    "        J[epoch] = compute_regularized_loss(\n",
    "            R, R_hat, U, W, b, c, l2_reg, total_card\n",
    "        )\n",
    "        \n",
    "        if R_eval is not None:\n",
    "            # Compute evaluation prediction\n",
    "            R_hat_eval = compute_prediction(U_W_prod_eval, mu, b, c)\n",
    "            # Compute regularized loss\n",
    "            J_eval[epoch] = compute_regularized_loss(\n",
    "                R_eval, R_hat_eval, U, W, b, c, l2_reg, total_card\n",
    "            )\n",
    "        \n",
    "        # Compute updates for U and W\n",
    "        # r_ij - b_i - c_j - \\mu\n",
    "        R_b_c_mu = R.copy()\n",
    "        R_b_c_mu.data -= mu\n",
    "        R_b_c_mu = R_plus_cv(R_b_c_mu, -b)\n",
    "        R_b_c_mu = R_plus_rv(R_b_c_mu, -c).tocsc()\n",
    "\n",
    "        U = np.linalg.solve(\n",
    "            W.T @ W + l2_reg * np.eye(K)[np.newaxis, :, :],\n",
    "            R_b_c_mu @ W\n",
    "        )  # eq1, (N, K) = solve((1, K, K), (N, k))\n",
    "        W = np.linalg.solve(\n",
    "            U.T @ U + l2_reg * np.eye(K)[np.newaxis, :, :],\n",
    "            R_b_c_mu.T @ U\n",
    "        )  # eq2, (M, K) = solve((1, K, K), (M, K))\n",
    "        U_W_prod = multiply_U_W(U, W, R)\n",
    "\n",
    "        # Compute updates for b and c\n",
    "        # r_ij - u_i w_j\n",
    "        R_u_mu = R - U_W_prod\n",
    "        # r_ij - u_i w_j - \\mu\n",
    "        R_u_mu.data -= mu\n",
    "        # r_ij - u_i w_j - c - \\mu\n",
    "        R_u_c_mu = R_u_mu.copy()\n",
    "        R_u_c_mu = R_plus_rv(R_u_c_mu, -c).tocsc()\n",
    "        R_u_c_mu = np.asarray(R_u_c_mu.sum(axis=1)).flatten()\n",
    "        # r_ij - u_i w_j - b - \\mu\n",
    "        R_u_b_mu = R_u_mu.copy()\n",
    "        R_u_b_mu = R_plus_cv(R_u_b_mu, -b)\n",
    "        R_u_b_mu = np.asarray(R_u_b_mu.sum(axis=0)).flatten()\n",
    "\n",
    "        # Update b and c\n",
    "        b = 1 / (card_psi   + l2_reg) * R_u_c_mu  # eq3, (N, )\n",
    "        c = 1 / (card_omega + l2_reg) * R_u_b_mu  # eq4, (M, )\n",
    "    \n",
    "    return U, W, b, c, mu, J, J_eval"
   ]
  },
  {
   "cell_type": "code",
   "execution_count": 4,
   "id": "95340454",
   "metadata": {
    "ExecuteTime": {
     "end_time": "2023-11-26T02:05:05.168055Z",
     "start_time": "2023-11-26T02:05:02.176836Z"
    }
   },
   "outputs": [
    {
     "name": "stderr",
     "output_type": "stream",
     "text": [
      "100%|███████████████████████████████████████████| 30/30 [00:02<00:00, 10.28it/s]\n"
     ]
    }
   ],
   "source": [
    "U, W, b, c, mu, J, J_eval = regularized_matrix_factorization(\n",
    "    R_train, R_test, K=25, l2_reg=0.1, maxiter=30\n",
    ")\n",
    "\n",
    "# np.savez(\n",
    "#   './ml-100k/l2_regularized_matrix_factorization.npz', \n",
    "#   U=U, W=W, b=b, c=c, mu=mu, J=J\n",
    "# )"
   ]
  },
  {
   "cell_type": "code",
   "execution_count": 5,
   "id": "2b9596cb",
   "metadata": {
    "ExecuteTime": {
     "end_time": "2023-11-26T02:05:08.356181Z",
     "start_time": "2023-11-26T02:05:07.831304Z"
    }
   },
   "outputs": [
    {
     "data": {
      "image/png": "[encoded data removed]",
      "text/plain": [
       "<Figure size 640x480 with 1 Axes>"
      ]
     },
     "metadata": {},
     "output_type": "display_data"
    }
   ],
   "source": [
    "import matplotlib.pyplot as plt\n",
    "plt.plot(J, label=\"train\")\n",
    "plt.plot(J_eval, label=\"test\")\n",
    "plt.legend()\n",
    "# plt.gca().set_yscale('log')\n",
    "plt.gca().set_xlabel('Epoch')\n",
    "plt.gca().set_ylabel('Mean Squared Error Loss')\n",
    "plt.savefig(\"als-loss.svg\")"
   ]
  },
  {
   "cell_type": "code",
   "execution_count": null,
   "id": "8f1982a6",
   "metadata": {},
   "outputs": [],
   "source": []
  }
 ],
 "metadata": {
  "kernelspec": {
   "display_name": "Python 3 (ipykernel)",
   "language": "python",
   "name": "python3"
  },
  "language_info": {
   "codemirror_mode": {
    "name": "ipython",
    "version": 3
   },
   "file_extension": ".py",
   "mimetype": "text/x-python",
   "name": "python",
   "nbconvert_exporter": "python",
   "pygments_lexer": "ipython3",
   "version": "3.10.6"
  },
  "toc": {
   "base_numbering": 1,
   "nav_menu": {},
   "number_sections": false,
   "sideBar": true,
   "skip_h1_title": false,
   "title_cell": "Table of Contents",
   "title_sidebar": "Contents",
   "toc_cell": false,
   "toc_position": {},
   "toc_section_display": true,
   "toc_window_display": false
  },
  "varInspector": {
   "cols": {
    "lenName": 16,
    "lenType": 16,
    "lenVar": 40
   },
   "kernels_config": {
    "python": {
     "delete_cmd_postfix": "",
     "delete_cmd_prefix": "del ",
     "library": "var_list.py",
     "varRefreshCmd": "print(var_dic_list())"
    },
    "r": {
     "delete_cmd_postfix": ") ",
     "delete_cmd_prefix": "rm(",
     "library": "var_list.r",
     "varRefreshCmd": "cat(var_dic_list()) "
    }
   },
   "types_to_exclude": [
    "module",
    "function",
    "builtin_function_or_method",
    "instance",
    "_Feature"
   ],
   "window_display": false
  }
 },
 "nbformat": 4,
 "nbformat_minor": 5
}
