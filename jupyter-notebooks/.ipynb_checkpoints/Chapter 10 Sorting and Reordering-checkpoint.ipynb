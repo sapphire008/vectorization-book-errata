{
 "cells": [
  {
   "cell_type": "markdown",
   "id": "6231971a",
   "metadata": {},
   "source": [
    "# Searchsorted"
   ]
  },
  {
   "cell_type": "code",
   "execution_count": 1,
   "id": "b6f85cf3",
   "metadata": {
    "ExecuteTime": {
     "end_time": "2023-11-26T03:08:50.987317Z",
     "start_time": "2023-11-26T03:08:50.961670Z"
    }
   },
   "outputs": [
    {
     "data": {
      "text/plain": [
       "array([ 1,  2,  3,  5,  6,  8,  9, 10, 10, 11])"
      ]
     },
     "execution_count": 1,
     "metadata": {},
     "output_type": "execute_result"
    }
   ],
   "source": [
    "import numpy as np\n",
    "X = np.array([1, 3, 6, 8, 10])\n",
    "insertion_values = np.array([2, 5, 9, 10, 11])\n",
    "insertion_indices = np.searchsorted(X, insertion_values)\n",
    "# array([1, 2, 4, 4, 5])\n",
    "# Insert the values based on the search sorted indices\n",
    "y = np.insert(X, insertion_indices, insertion_values)\n",
    "y"
   ]
  },
  {
   "cell_type": "markdown",
   "id": "745a4310",
   "metadata": {},
   "source": [
    "# Cas Study: Top-k Using `argsort` and `argpartition`"
   ]
  },
  {
   "cell_type": "code",
   "execution_count": 6,
   "id": "88aee9ed",
   "metadata": {
    "ExecuteTime": {
     "end_time": "2024-01-16T20:36:33.150533Z",
     "start_time": "2024-01-16T20:36:22.277606Z"
    }
   },
   "outputs": [
    {
     "name": "stderr",
     "output_type": "stream",
     "text": [
      "/Users/edward/opt/miniforge3/lib/python3.9/site-packages/scipy/__init__.py:155: UserWarning: A NumPy version >=1.18.5 and <1.26.0 is required for this version of SciPy (detected version 1.26.1\n",
      "  warnings.warn(f\"A NumPy version >={np_minversion} and <{np_maxversion}\"\n"
     ]
    },
    {
     "name": "stdout",
     "output_type": "stream",
     "text": [
      "Metal device set to: Apple M1 Pro\n"
     ]
    },
    {
     "name": "stderr",
     "output_type": "stream",
     "text": [
      "2024-01-16 15:36:32.939564: I tensorflow/core/common_runtime/pluggable_device/pluggable_device_factory.cc:303] Could not identify NUMA node of platform GPU ID 0, defaulting to 0. Your kernel may not have been built with NUMA support.\n",
      "2024-01-16 15:36:32.939608: I tensorflow/core/common_runtime/pluggable_device/pluggable_device_factory.cc:269] Created TensorFlow device (/job:localhost/replica:0/task:0/device:GPU:0 with 0 MB memory) -> physical PluggableDevice (device: 0, name: METAL, pci bus id: <undefined>)\n"
     ]
    },
    {
     "data": {
      "text/plain": [
       "(<tf.Tensor: shape=(3,), dtype=int32, numpy=array([9, 8, 5], dtype=int32)>,\n",
       " <tf.Tensor: shape=(3,), dtype=int32, numpy=array([4, 5, 3], dtype=int32)>)"
      ]
     },
     "execution_count": 6,
     "metadata": {},
     "output_type": "execute_result"
    }
   ],
   "source": [
    "import tensorflow as tf\n",
    "X = tf.constant([1, 3, 2, 5, 9, 8, 4])\n",
    "top_values, top_indices = tf.math.top_k(X, k=3)\n",
    "top_values, top_indices"
   ]
  },
  {
   "cell_type": "code",
   "execution_count": 7,
   "id": "c4df8360",
   "metadata": {
    "ExecuteTime": {
     "end_time": "2024-01-16T20:36:35.537040Z",
     "start_time": "2024-01-16T20:36:33.154531Z"
    }
   },
   "outputs": [
    {
     "data": {
      "text/plain": [
       "(tensor([9, 8, 5]), tensor([4, 5, 3]))"
      ]
     },
     "execution_count": 7,
     "metadata": {},
     "output_type": "execute_result"
    }
   ],
   "source": [
    "import torch\n",
    "X = torch.tensor([1, 3, 2, 5, 9, 8, 4])\n",
    "top_values, top_indices = torch.topk(X, k=3)\n",
    "top_values, top_indices"
   ]
  },
  {
   "cell_type": "code",
   "execution_count": 8,
   "id": "1e17704b",
   "metadata": {
    "ExecuteTime": {
     "end_time": "2024-01-16T20:36:35.544921Z",
     "start_time": "2024-01-16T20:36:35.541515Z"
    }
   },
   "outputs": [
    {
     "data": {
      "text/plain": [
       "(array([9, 8, 5]), array([4, 5, 3]))"
      ]
     },
     "execution_count": 8,
     "metadata": {},
     "output_type": "execute_result"
    }
   ],
   "source": [
    "import numpy as np\n",
    "\n",
    "def top_k_argsort(X, k=3):\n",
    "    \"\"\"Get top-k values and indices along the last dimension.\"\"\"\n",
    "    top_indices = np.argsort(X)[..., -k:][..., ::-1]\n",
    "    top_values = np.take_along_axis(X, top_indices, axis=-1)\n",
    "    return top_values, top_indices\n",
    "\n",
    "X = np.array([1, 3, 2, 5, 9, 8, 4])\n",
    "top_values, top_indices = top_k_argsort(X)\n",
    "top_values, top_indices"
   ]
  },
  {
   "cell_type": "code",
   "execution_count": 9,
   "id": "b076b1a6",
   "metadata": {
    "ExecuteTime": {
     "end_time": "2024-01-16T20:36:35.554650Z",
     "start_time": "2024-01-16T20:36:35.548899Z"
    }
   },
   "outputs": [
    {
     "data": {
      "text/plain": [
       "(array([9, 8, 5]), array([4, 5, 3]))"
      ]
     },
     "execution_count": 9,
     "metadata": {},
     "output_type": "execute_result"
    }
   ],
   "source": [
    "import numpy as np\n",
    "\n",
    "def top_k_argpartition(X, k=3):\n",
    "    \"\"\"Get top-k values and indices along the last dimension.\"\"\"\n",
    "    # Unsorted top k values and indices\n",
    "    top_indices = np.argpartition(X, -k, axis=-1)[..., -k:]\n",
    "    top_values = np.take_along_axis(X, top_indices, axis=-1)\n",
    "\n",
    "    # Sort based on top_values \n",
    "    indices = np.argsort(top_values, axis=-1)[..., ::-1]\n",
    "    top_indices = np.take_along_axis(top_indices, indices, axis=-1)\n",
    "    top_values = np.take_along_axis(top_values, indices, axis=-1)\n",
    "    return top_values, top_indices\n",
    "\n",
    "X = np.array([1, 3, 2, 5, 9, 8, 4])\n",
    "top_values, top_indices = top_k_argpartition(X)\n",
    "top_values, top_indices"
   ]
  },
  {
   "cell_type": "markdown",
   "id": "2f03328d",
   "metadata": {
    "ExecuteTime": {
     "end_time": "2023-11-26T03:12:39.323523Z",
     "start_time": "2023-11-26T03:12:39.311793Z"
    }
   },
   "source": [
    "Compare performance of the two NumPy top-k functions"
   ]
  },
  {
   "cell_type": "code",
   "execution_count": 10,
   "id": "15e3384b",
   "metadata": {
    "ExecuteTime": {
     "end_time": "2024-01-16T20:36:58.670411Z",
     "start_time": "2024-01-16T20:36:35.559249Z"
    }
   },
   "outputs": [
    {
     "data": {
      "image/png": "[encoded data removed]",
      "text/plain": [
       "<Figure size 700x400 with 1 Axes>"
      ]
     },
     "metadata": {},
     "output_type": "display_data"
    }
   ],
   "source": [
    "import numpy as np\n",
    "import time\n",
    "import matplotlib.pyplot as plt\n",
    "\n",
    "batch_size = 32\n",
    "max_array_length = int(1E6)\n",
    "lengths = np.concatenate([\n",
    "    np.geomspace(10, max_array_length, num=100).astype(int)\n",
    "])\n",
    "\n",
    "time_taken = {\n",
    "    \"top_k_argsort\": [], \n",
    "    \"top_k_argpartition\": [], \n",
    "    \"torch_top_k\":[], \n",
    "    \"tf_top_k\":[],\n",
    "}\n",
    "for ii, l in enumerate(lengths):\n",
    "    X = np.random.randint(0, max_array_length+1, size=(batch_size, l))\n",
    "    # measure top_k_argsort\n",
    "    tnow = time.time()\n",
    "    _ = top_k_argsort(X, k=5)\n",
    "    time_taken[\"top_k_argsort\"].append(time.time() - tnow)\n",
    "    # measure top_k_argpartition\n",
    "    tnow = time.time()\n",
    "    _ = top_k_argpartition(X, k=5)\n",
    "    time_taken[\"top_k_argpartition\"].append(time.time() - tnow)\n",
    "    # measure torch\n",
    "    X_torch = torch.tensor(X)\n",
    "    tnow = time.time()\n",
    "    _ = torch.topk(X_torch, k=5)\n",
    "    time_taken[\"torch_top_k\"].append(time.time() - tnow)\n",
    "    # measure tf\n",
    "    tnow = time.time()\n",
    "    _ = tf.math.top_k(X, k=5)\n",
    "    time_taken[\"tf_top_k\"].append(time.time() - tnow)\n",
    "\n",
    "# Plot the results\n",
    "fig, ax = plt.subplots(1, 1, figsize=(7, 4))\n",
    "ax.plot(lengths, time_taken[\"top_k_argsort\"],\"-o\", label=\"np.argsort\")\n",
    "ax.plot(lengths, time_taken[\"top_k_argpartition\"], \"-v\", label=\"np.argpartition\")\n",
    "ax.plot(lengths, time_taken[\"torch_top_k\"], \"-s\", label=\"torch.topk\")\n",
    "ax.plot(lengths, time_taken[\"tf_top_k\"], \"-d\", label=\"tf.math.top_k\")\n",
    "ax.legend()\n",
    "ax.set_xlabel(\"Array lengths\")\n",
    "ax.set_ylabel(\"Time Taken (sec)\")\n",
    "ax.set_yscale(\"log\")"
   ]
  },
  {
   "cell_type": "markdown",
   "id": "0a154d8d",
   "metadata": {},
   "source": [
    "# Case Study: Sort the Rows of a Matrix"
   ]
  },
  {
   "cell_type": "code",
   "execution_count": 22,
   "id": "4cfa6c4d",
   "metadata": {
    "ExecuteTime": {
     "end_time": "2023-11-26T03:15:02.335512Z",
     "start_time": "2023-11-26T03:15:02.328595Z"
    }
   },
   "outputs": [],
   "source": [
    "import numpy as np\n",
    "\n",
    "def sort_rows_lex(A, col=None):\n",
    "    \"\"\"Return sorted A, and index, such that A_old[index] = A_new\"\"\"\n",
    "    if col is None:\n",
    "        col = np.s_[::-1] # build a whole slice\n",
    "    else:\n",
    "        col = col[::-1]\n",
    "    # Sort by columns. \n",
    "    # lexsort sort by last columns first, and first columns last\n",
    "    index = np.lexsort(A[:, col].T)\n",
    "    # Apply the resulting sorting\n",
    "    A_sorted = A[index, :]\n",
    "    \n",
    "    return A_sorted, index"
   ]
  },
  {
   "cell_type": "code",
   "execution_count": 24,
   "id": "fae949a8",
   "metadata": {
    "ExecuteTime": {
     "end_time": "2023-11-26T03:15:15.482509Z",
     "start_time": "2023-11-26T03:15:15.462892Z"
    }
   },
   "outputs": [
    {
     "data": {
      "text/plain": [
       "(array([[1, 3, 2],\n",
       "        [3, 1, 2],\n",
       "        [3, 2, 1]]),\n",
       " array([2, 1, 0]))"
      ]
     },
     "execution_count": 24,
     "metadata": {},
     "output_type": "execute_result"
    }
   ],
   "source": [
    "A = np.array([\n",
    "    [3, 2, 1],\n",
    "    [3, 1, 2],\n",
    "    [1, 3, 2],\n",
    "])\n",
    "sort_rows_lex(A)"
   ]
  },
  {
   "cell_type": "code",
   "execution_count": 26,
   "id": "388bbc5e",
   "metadata": {
    "ExecuteTime": {
     "end_time": "2023-11-26T03:15:31.090658Z",
     "start_time": "2023-11-26T03:15:31.077369Z"
    }
   },
   "outputs": [],
   "source": [
    "import numpy as np\n",
    "\n",
    "def sort_rows_unique(A, col=None):\n",
    "    \"\"\"Return sorted A, and index, such that A_old[index] = A_new\"\"\"\n",
    "    if col is None:\n",
    "        col = np.s_[:] # build a whole slice\n",
    "    # Sort each row\n",
    "    _, index = np.unique(A[:, col], axis=0, return_inverse=True)\n",
    "    # Apply the resulting sorting\n",
    "    A_sorted = A[np.argsort(index), :]\n",
    "    \n",
    "    return A_sorted, index"
   ]
  },
  {
   "cell_type": "code",
   "execution_count": 27,
   "id": "5398083a",
   "metadata": {
    "ExecuteTime": {
     "end_time": "2023-11-26T03:15:31.320274Z",
     "start_time": "2023-11-26T03:15:31.308923Z"
    }
   },
   "outputs": [
    {
     "data": {
      "text/plain": [
       "(array([[1, 3, 2],\n",
       "        [3, 1, 2],\n",
       "        [3, 2, 1]]),\n",
       " array([2, 1, 0]))"
      ]
     },
     "execution_count": 27,
     "metadata": {},
     "output_type": "execute_result"
    }
   ],
   "source": [
    "sort_rows_unique(A)"
   ]
  },
  {
   "cell_type": "code",
   "execution_count": 29,
   "id": "d838f5f0",
   "metadata": {
    "ExecuteTime": {
     "end_time": "2023-11-26T03:16:04.758412Z",
     "start_time": "2023-11-26T03:16:04.742471Z"
    }
   },
   "outputs": [
    {
     "data": {
      "text/plain": [
       "array([[1, 2, 3],\n",
       "       [1, 3, 2],\n",
       "       [2, 1, 3],\n",
       "       [2, 3, 1],\n",
       "       [3, 1, 2],\n",
       "       [3, 2, 1]])"
      ]
     },
     "execution_count": 29,
     "metadata": {},
     "output_type": "execute_result"
    }
   ],
   "source": [
    "# Sorting more rows\n",
    "A = np.array([\n",
    "    [3, 2, 1],\n",
    "    [1, 3, 2],\n",
    "    [2, 1, 3],\n",
    "    [1, 2, 3],\n",
    "    [3, 1, 2],\n",
    "    [2, 3, 1],\n",
    "])\n",
    "\n",
    "A_sorted_lex, _ = sort_rows_lex(A)\n",
    "A_sorted_unique, _ = sort_rows_unique(A)\n",
    "assert np.allclose(A_sorted_lex, A_sorted_unique)\n",
    "A_sorted_unique"
   ]
  },
  {
   "cell_type": "code",
   "execution_count": 31,
   "id": "38e2ef27",
   "metadata": {
    "ExecuteTime": {
     "end_time": "2023-11-26T03:16:33.426403Z",
     "start_time": "2023-11-26T03:16:33.411736Z"
    }
   },
   "outputs": [
    {
     "data": {
      "text/plain": [
       "array([['a', 'c', 'b'],\n",
       "       ['b', 'a', 'c'],\n",
       "       ['c', 'b', 'a']], dtype='<U1')"
      ]
     },
     "execution_count": 31,
     "metadata": {},
     "output_type": "execute_result"
    }
   ],
   "source": [
    "# Sorting strings\n",
    "B = np.array([\n",
    "    [\"a\", \"c\", \"b\"],\n",
    "    [\"b\", \"a\", \"c\"],\n",
    "    [\"c\", \"b\", \"a\"]\n",
    "])\n",
    "B_sorted_lex, _ = sort_rows_lex(B)\n",
    "B_sorted_unique, _ = sort_rows_unique(B)\n",
    "assert np.all(B_sorted_lex == B_sorted_unique)\n",
    "B_sorted_lex"
   ]
  },
  {
   "cell_type": "markdown",
   "id": "be586be1",
   "metadata": {},
   "source": [
    "# Case Study: Reverse Padded Sequence"
   ]
  },
  {
   "cell_type": "code",
   "execution_count": 46,
   "id": "89f24fee",
   "metadata": {
    "ExecuteTime": {
     "end_time": "2023-11-26T03:21:29.175260Z",
     "start_time": "2023-11-26T03:21:29.156003Z"
    }
   },
   "outputs": [
    {
     "data": {
      "text/plain": [
       "<tf.Tensor: shape=(3, 8), dtype=int32, numpy=\n",
       "array([[8, 7, 4, 3, 0, 0, 0, 0],\n",
       "       [0, 0, 0, 5, 3, 2, 0, 0],\n",
       "       [4, 5, 6, 7, 8, 0, 0, 0]], dtype=int32)>"
      ]
     },
     "execution_count": 46,
     "metadata": {},
     "output_type": "execute_result"
    }
   ],
   "source": [
    "import tensorflow as tf\n",
    "sequence = tf.constant([\n",
    "    [3, 4, 7, 8, 0, 0, 0, 0],\n",
    "    [2, 3, 5, 0, 0, 0, 0, 0],\n",
    "    [8, 7, 6, 5, 4, 0, 0, 0],\n",
    "])\n",
    "seq_lengths = tf.constant([4, 6, 5])\n",
    "reversed_sequence = tf.reverse_sequence(\n",
    "    sequence, seq_lengths, seq_axis=1, batch_axis=0\n",
    ")\n",
    "reversed_sequence"
   ]
  },
  {
   "cell_type": "code",
   "execution_count": 44,
   "id": "855ff23f",
   "metadata": {
    "ExecuteTime": {
     "end_time": "2023-11-26T03:21:14.535485Z",
     "start_time": "2023-11-26T03:21:14.530750Z"
    },
    "code_folding": []
   },
   "outputs": [],
   "source": [
    "import numpy as np\n",
    "\n",
    "def reverse_sequence(sequence, seq_lengths, seq_axis=1, batch_axis=0):\n",
    "    \"\"\"\n",
    "    Reverse a batch of variable-length sequences given known sequence lengths.\n",
    "    Assuming the sequences are left-aligned with padding on the right.\n",
    "\n",
    "    * sequence: input sequence tensor. Must be at least 2D.\n",
    "    * seq_lengths: list of integer sequence lengths. Its values must be less\n",
    "            than the size of the sequence dimension, sequence.shape[seq_axis]\n",
    "    * seq_axis: axis of the sequence dimension. Default to 1.\n",
    "    * batch_axis: axis of the batch dimension. Default to 0.\n",
    "    \"\"\"\n",
    "    seq_lengths = np.asarray(seq_lengths)[:, None]\n",
    "    assert sequence.shape[batch_axis] == len(\n",
    "        seq_lengths\n",
    "    ), \"Length of seq_lengths must be equal to sequence.shape[batch_axis]\"\n",
    "\n",
    "    # creating reversing indices via masking (batch_size, seq_len)\n",
    "    indices = np.arange(sequence.shape[seq_axis])\n",
    "    # if within specified sequence length, create the reverse index\n",
    "    # otherwise, retain the forward index\n",
    "    indices = np.where(\n",
    "        indices < seq_lengths, seq_lengths - 1 - indices, indices\n",
    "    )\n",
    "\n",
    "    # Add additional singleton dimensions for broadcasting\n",
    "    # e.g. (1, ..., batch_size, ...., seq_size, ..., 1, ...)\n",
    "    shape = [1] * sequence.ndim\n",
    "    shape[batch_axis] = indices.shape[0]\n",
    "    shape[seq_axis] = indices.shape[1]\n",
    "    indices = indices.reshape(shape)\n",
    "\n",
    "    # reindexing\n",
    "    reversed_sequence = np.take_along_axis(sequence, indices, axis=seq_axis)\n",
    "\n",
    "    return reversed_sequence"
   ]
  },
  {
   "cell_type": "code",
   "execution_count": 40,
   "id": "1bf21e6e",
   "metadata": {
    "ExecuteTime": {
     "end_time": "2023-11-26T03:20:36.622756Z",
     "start_time": "2023-11-26T03:20:36.605133Z"
    }
   },
   "outputs": [],
   "source": [
    "import numpy as np\n",
    "import tensorflow as tf\n",
    "\n",
    "# Create a 2D example\n",
    "sequence = np.array([\n",
    "    [3, 4, 7, 8, 0, 0, 0, 0],\n",
    "    [2, 3, 5, 0, 0, 0, 0, 0],\n",
    "    [8, 7, 6, 5, 4, 0, 0, 0],\n",
    "])\n",
    "batch_axis = 0\n",
    "seq_axis = 1\n",
    "seq_lengths = [4, 6, 5]\n",
    "\n",
    "reversed_sequence_np = reverse_sequence(\n",
    "    sequence, seq_lengths, seq_axis=seq_axis, batch_axis=batch_axis\n",
    ")\n",
    "reversed_sequence_tf = tf.reverse_sequence(\n",
    "    sequence, seq_lengths, seq_axis=seq_axis, batch_axis=batch_axis\n",
    ")\n",
    "\n",
    "assert np.allclose(reversed_sequence_np, reversed_sequence_tf)\n",
    "\n",
    "# Create a 3D example. The batch and sequence axes are not defaults.\n",
    "# batch_axis = 1, seq_axis = 2\n",
    "sequence = torch.asarray(\n",
    "    np.array(\n",
    "        [\n",
    "            [\n",
    "                [3, 4, 7, 8, 0, 0, 0, 0],\n",
    "                [2, 3, 5, 0, 0, 0, 0, 0],\n",
    "                [8, 7, 6, 5, 4, 0, 0, 0],\n",
    "            ],\n",
    "            [\n",
    "                [2, 4, 6, 8, 0, 0, 0, 0],\n",
    "                [4, 6, 10, 0, 0, 0, 0, 0],\n",
    "                [16, 14, 12, 10, 8, 0, 0, 0],\n",
    "            ],\n",
    "        ]\n",
    "    )\n",
    ")\n",
    "batch_axis = 1\n",
    "seq_axis = 2\n",
    "# Here padding is also not always 0 and valid sequence value is not always > 0\n",
    "seq_lengths = [4, 6, 3]\n",
    "\n",
    "reversed_sequence_np = reverse_sequence(\n",
    "    sequence, seq_lengths, seq_axis=seq_axis, batch_axis=batch_axis\n",
    ")\n",
    "reversed_sequence_tf = tf.reverse_sequence(\n",
    "    sequence, seq_lengths, seq_axis=seq_axis, batch_axis=batch_axis\n",
    ")\n",
    "\n",
    "assert np.allclose(reversed_sequence_np, reversed_sequence_tf)"
   ]
  },
  {
   "cell_type": "markdown",
   "id": "b1a07430",
   "metadata": {},
   "source": [
    "# Case Study: Gumbel-Max Sampling with Weights"
   ]
  },
  {
   "cell_type": "code",
   "execution_count": 3,
   "id": "ab4aa79e",
   "metadata": {
    "ExecuteTime": {
     "end_time": "2024-01-16T20:39:46.901071Z",
     "start_time": "2024-01-16T20:39:46.873791Z"
    }
   },
   "outputs": [],
   "source": [
    "import numpy as np\n",
    "import tensorflow as tf\n",
    "\n",
    "def gumbel_max_sample_without_replacement(\n",
    "    true_labels: tf.SparseTensor,\n",
    "    num_neg_samples: int,\n",
    "    vocab_size: int,\n",
    "    vocab_freq: tf.Tensor = None,\n",
    "    shuffle: bool = True,\n",
    "):\n",
    "    \"\"\"\n",
    "    Use Gumbel-Max trick to select negative samples.\n",
    "    * true_labels: (batch_size, None)\n",
    "        Positive / label class indices, 1-based indexing\n",
    "    * num_nega_samples:\n",
    "        Number of negative samples to take\n",
    "    * vocab_size:\n",
    "        Number of items in the categorical variable\n",
    "    * vocab_freq:\n",
    "        The distribution of the classes to take samples from.\n",
    "        Does not have to be normalized.\n",
    "        If None, assuming uniform sampling.\n",
    "    * shuffle:\n",
    "        Whether or not to shuffle the results so that the\n",
    "        positive labels are not always at the beginning of\n",
    "        the resulting sample.\n",
    "    \"\"\"\n",
    "    # Default to uniform sampling if vocab_freq is None\n",
    "    if vocab_freq is None:\n",
    "        vocab_freq = tf.ones((vocab_size, ), tf.float32)\n",
    "        \n",
    "    # Compute proba for the batch\n",
    "    true_proba = tf.sparse.to_indicator(\n",
    "        true_labels, vocab_size + 1\n",
    "    )\n",
    "    true_proba = true_proba[:, 1:]  # get rid of OOV bucket\n",
    "    true_proba = tf.cast(true_proba, tf.float32)\n",
    "    neg_proba = (1.0 - true_proba) * vocab_freq\n",
    "    \n",
    "    # Gumbel-Max trick: perturbed logits\n",
    "    z = -tf.math.log(\n",
    "        -tf.math.log(\n",
    "            tf.random.uniform(tf.shape(neg_proba), 0, 1)\n",
    "        )\n",
    "    )\n",
    "    z += tf.math.log(neg_proba + 1e-8)\n",
    "    # set true targets as -inf, so it won't be sampled\n",
    "    z = tf.where(\n",
    "        tf.greater(true_proba, 0.5), -np.inf, z\n",
    "    )\n",
    "    \n",
    "    # Take negative samples\n",
    "    _, neg_samples = tf.math.top_k(\n",
    "        z, num_neg_samples, sorted=False\n",
    "    )  # (batch_size, num_neg_samples)\n",
    "    # offset by 1, since we use 1-based indexing\n",
    "    neg_samples = tf.cast(neg_samples, tf.int64) + 1\n",
    "    # Concat to make the full sample: positive + negative\n",
    "    samples = tf.concat([\n",
    "        tf.sparse.to_dense(true_labels),\n",
    "        -neg_samples\n",
    "    ], axis=1)\n",
    "    \n",
    "    # shuffle\n",
    "    if shuffle:\n",
    "        # generating random ordered indices\n",
    "        r = tf.random.uniform(tf.shape(samples))\n",
    "        r = tf.argsort(r, axis=1)\n",
    "        # Apply the shuffled indices\n",
    "        samples = tf.gather(samples, r, axis=1, batch_dims=1)    \n",
    "    \n",
    "    # Convert to sparse\n",
    "    samples = tf.sparse.from_dense(samples)\n",
    "    \n",
    "    # Left align\n",
    "    row_indices = samples.indices[:, 0]\n",
    "    row_counts = tf.unique_with_counts(\n",
    "        row_indices, out_idx=tf.int64\n",
    "    ).count\n",
    "    column_indices = tf.ragged.range(row_counts).flat_values\n",
    "    indices = tf.transpose(tf.stack([row_indices, column_indices]))\n",
    "    binary_labels = tf.SparseTensor(\n",
    "        indices=indices,\n",
    "        values=tf.where(samples.values > 0, 1.0, 0.0),\n",
    "        dense_shape=samples.dense_shape,\n",
    "    )\n",
    "    samples = tf.SparseTensor(\n",
    "        indices=indices,\n",
    "        values=tf.abs(samples.values),\n",
    "        dense_shape=samples.dense_shape,\n",
    "    )\n",
    "    \n",
    "    return samples, binary_labels"
   ]
  },
  {
   "cell_type": "code",
   "execution_count": 4,
   "id": "7dd1d0cf",
   "metadata": {
    "ExecuteTime": {
     "end_time": "2024-01-16T20:39:52.257459Z",
     "start_time": "2024-01-16T20:39:52.243844Z"
    }
   },
   "outputs": [],
   "source": [
    "from collections import Counter\n",
    "import numpy as np\n",
    "\n",
    "def simulate_gumbel_max(\n",
    "    batch_size=1024,\n",
    "    max_num_pos_samples=5,\n",
    "    num_neg_samples=10,\n",
    "    vocab_size=100,\n",
    "    num_iter=100,\n",
    "    vocab_freq=None,\n",
    "):\n",
    "    \"\"\"Get sampling frequency of each negative class.\"\"\"\n",
    "    # Initialize the counter\n",
    "    neg_sample_freq = Counter()\n",
    "    for _ in range(num_iter):\n",
    "        true_labels = []\n",
    "        # Generate positive samples iteratively\n",
    "        for num_pos in np.random.choice(\n",
    "                np.arange(1, max_num_pos_samples+1),\n",
    "                size=batch_size,\n",
    "                replace=True\n",
    "            ):\n",
    "            pos_samples = np.random.choice(\n",
    "                np.arange(1, vocab_size+1),\n",
    "                size=num_pos,\n",
    "                replace=False,\n",
    "            )\n",
    "            true_labels.append(pos_samples)\n",
    "\n",
    "        # Convert to left aligned sparse\n",
    "        true_labels = tf.ragged.constant(\n",
    "            true_labels, dtype=tf.int64\n",
    "        ).to_sparse()\n",
    "\n",
    "        # Use Gumbel-Max negative sampling\n",
    "        samples, binary_labels = gumbel_max_sample_without_replacement(\n",
    "            true_labels,\n",
    "            num_neg_samples=num_neg_samples,\n",
    "            vocab_size=vocab_size,\n",
    "            vocab_freq=vocab_freq,\n",
    "            shuffle=False,\n",
    "        )\n",
    "\n",
    "        # Extract negative labels only\n",
    "        neg_samples = samples.values.numpy() * (\n",
    "            1 - binary_labels.values.numpy()\n",
    "        )\n",
    "        neg_samples = neg_samples[neg_samples > 0]\n",
    "        neg_samples = neg_samples.astype(int).tolist()\n",
    "        neg_sample_freq.update(neg_samples)\n",
    "\n",
    "    return neg_sample_freq"
   ]
  },
  {
   "cell_type": "code",
   "execution_count": 51,
   "id": "f109789b",
   "metadata": {
    "ExecuteTime": {
     "end_time": "2023-11-26T03:24:01.537343Z",
     "start_time": "2023-11-26T03:24:00.069889Z"
    }
   },
   "outputs": [
    {
     "data": {
      "text/plain": [
       "Text(0, 0.5, 'Frequency')"
      ]
     },
     "execution_count": 51,
     "metadata": {},
     "output_type": "execute_result"
    },
    {
     "data": {
      "image/png": "[encoded data removed]",
      "text/plain": [
       "<Figure size 700x400 with 1 Axes>"
      ]
     },
     "metadata": {},
     "output_type": "display_data"
    }
   ],
   "source": [
    "# Uniform\n",
    "import matplotlib.pyplot as plt\n",
    "# Simulate: default from uniform distribution\n",
    "neg_sample_freq = simulate_gumbel_max()\n",
    "# Plot\n",
    "fig, ax = plt.subplots(1, 1, figsize=(7, 4))\n",
    "ax.bar(list(neg_sample_freq.keys()), list(neg_sample_freq.values()))\n",
    "ax.set_xlabel(\"Vocab Index\")\n",
    "ax.set_ylabel(\"Frequency\")"
   ]
  },
  {
   "cell_type": "code",
   "execution_count": 9,
   "id": "afbaa193",
   "metadata": {
    "ExecuteTime": {
     "end_time": "2024-01-16T20:40:56.920068Z",
     "start_time": "2024-01-16T20:40:56.674962Z"
    }
   },
   "outputs": [
    {
     "data": {
      "text/plain": [
       "(0.0, 55000.0)"
      ]
     },
     "execution_count": 9,
     "metadata": {},
     "output_type": "execute_result"
    },
    {
     "data": {
      "image/png": "[encoded data removed]",
      "text/plain": [
       "<Figure size 1200x800 with 2 Axes>"
      ]
     },
     "metadata": {},
     "output_type": "display_data"
    }
   ],
   "source": [
    "# Geometric\n",
    "import matplotlib.pyplot as plt\n",
    "rho = 0.05\n",
    "vocab_size = 100\n",
    "vocab_freq = (1 - rho) ** (np.arange(100)) * rho * 1e6\n",
    "neg_sample_freq = simulate_gumbel_max(vocab_freq=vocab_freq)\n",
    "fig, axs = plt.subplots(2, 1, figsize=(12, 8))\n",
    "ax = axs[0]\n",
    "ax.bar(list(neg_sample_freq.keys()), list(neg_sample_freq.values()), alpha=1.0)\n",
    "ax.set_xlabel(\"Vocab Index\")\n",
    "ax.set_ylabel(\"Frequency\")\n",
    "ax.set_ylim(0, 55000)\n",
    "\n",
    "ax = axs[1]\n",
    "ax.bar(\n",
    "    np.arange(1, vocab_size + 1), vocab_freq, color=\"#FF7F0E\", alpha=0.7\n",
    ")\n",
    "ax.set_ylabel(\"Underlying Distribution\")\n",
    "ax.set_ylim(0, 55000)"
   ]
  },
  {
   "cell_type": "markdown",
   "id": "4f2b128d",
   "metadata": {},
   "source": [
    "# Case Study: Sorting Articles Around Anchored Advertisements"
   ]
  },
  {
   "cell_type": "code",
   "execution_count": 54,
   "id": "270a11be",
   "metadata": {
    "ExecuteTime": {
     "end_time": "2023-11-26T03:25:43.126290Z",
     "start_time": "2023-11-26T03:25:43.107790Z"
    }
   },
   "outputs": [],
   "source": [
    "import tensorflow as tf\n",
    "\n",
    "def arrange_ads_among_news(\n",
    "    news_scores,\n",
    "    ads_scores,\n",
    "    ads_positions,\n",
    "    news_vocab=None,\n",
    "    ads_vocab=None,\n",
    "    k=8\n",
    "):\n",
    "    \"\"\"\n",
    "    Arrange ads within a series of news articles for a batch of users.\n",
    "    \n",
    "    Inputs:\n",
    "        * news_scores: (batch_size, news_vocab_size) Tensor\n",
    "            Scores for each news, corresponding to each news in news_vocab\n",
    "        * ads_scores: (batch_size, ads_vocab_size) Tensor\n",
    "            Scores for each ad, corresponding to each ad in ads_vocab\n",
    "        * ads_positions: (batch_size, None) Left Aligned SparseTensor\n",
    "            List of allowed ads positions for each user\n",
    "        * news_vocab: (news_vocab_size, ) array\n",
    "            List of vocabulary for news. If None, the function returns\n",
    "            the indices in the concatenated vocab space [news, ..., ads, ...]\n",
    "        * ads_vocab: (ads_vocab_size, ) array\n",
    "            List of vocabulary for ads. If None, the function returns\n",
    "            the indices in the concatenated vocab space [news, ..., ads, ...]\n",
    "        * k: int\n",
    "            Number of total contents to keep.\n",
    "    \"\"\"\n",
    "    # Sort the news and ads\n",
    "    # switch to 1-based indexing\n",
    "    news_items = tf.argsort(news_scores, direction=\"DESCENDING\") + 1\n",
    "    # padding at the beginning of each row\n",
    "    news_items = tf.pad(news_items, [(0, 0), (1, 0)])\n",
    "    news_items = tf.cast(news_items, tf.int64)\n",
    "    ads_items = tf.argsort(ads_scores, direction=\"DESCENDING\") + 1\n",
    "    ads_items = tf.pad(ads_items, [(0, 0), (1, 0)])\n",
    "    ads_items = tf.cast(ads_items, tf.int64)\n",
    "    \n",
    "    # Compute unanchored positions mask\n",
    "    anchored_indices = tf.transpose(\n",
    "        tf.stack([ads_positions.indices[:, 0], ads_positions.values])\n",
    "    )\n",
    "    # remove any anchor positions beyond the max number of contents to keep\n",
    "    anchored_indices = tf.boolean_mask(\n",
    "        anchored_indices, anchored_indices[:, 1] < k, axis=0\n",
    "    )\n",
    "    # Use sparse tensor to inidcate the anchored positions\n",
    "    anchored_mask = tf.sparse.SparseTensor(\n",
    "        indices = anchored_indices, \n",
    "        values = tf.ones_like(anchored_indices[:, 0]),\n",
    "        dense_shape=(tf.shape(news_scores)[0], k)\n",
    "    )\n",
    "    anchored_mask = tf.sparse.to_dense(anchored_mask)\n",
    "    \n",
    "    # Create the indices matrix for ads\n",
    "    anchored_positions = tf.cumsum(anchored_mask, axis=1) * anchored_mask\n",
    "    # Gather along axis=1\n",
    "    output_index_ads = tf.gather(\n",
    "        ads_items, anchored_positions, batch_dims=1, axis=1\n",
    "    )\n",
    "    \n",
    "    # Create the indices matrix for news\n",
    "    free_mask = 1 - anchored_mask\n",
    "    free_positions = tf.cumsum(free_mask, axis=1) * free_mask\n",
    "    output_index_news = tf.gather(\n",
    "        news_items, free_positions, batch_dims=1, axis=1\n",
    "    )\n",
    "    \n",
    "    # Combine the two sets of indices together\n",
    "    news_vocab_size = tf.cast(tf.shape(news_scores)[1], tf.int64)\n",
    "    output_index = tf.where(\n",
    "        free_mask > 0,\n",
    "        # convert back to 1 based indexing\n",
    "        output_index_news-1,\n",
    "        # index of ads in the combined vocab\n",
    "        news_vocab_size + output_index_ads - 1\n",
    "    )\n",
    "    \n",
    "    if news_vocab is not None and ads_vocab is not None:\n",
    "        # Create the string outputs\n",
    "        vocab = tf.concat([news_vocab, ads_vocab], axis=0)\n",
    "        output = tf.gather(vocab, output_index)\n",
    "        return output, free_mask\n",
    "    else:\n",
    "        # return the indices in the combined space\n",
    "        return output_index, free_mask"
   ]
  },
  {
   "cell_type": "code",
   "execution_count": 55,
   "id": "ac6c1354",
   "metadata": {
    "ExecuteTime": {
     "end_time": "2023-11-26T03:26:18.986661Z",
     "start_time": "2023-11-26T03:26:18.942745Z"
    }
   },
   "outputs": [],
   "source": [
    "news_scores = tf.constant([\n",
    "    [0.7, 0.6, 0.5, 0.4, 0.3, 0.2, 0.1],\n",
    "    [0.1, 0.2, 0.3, 0.4, 0.5, 0.6, 0.7],\n",
    "    [0.1, 0.4, 0.2, 0.7, 0.6, 0.5, 0.3],\n",
    "])\n",
    "ads_scores = tf.constant([\n",
    "    [0.5, 0.3, 0.1],\n",
    "    [0.1, 0.4, 0.8],\n",
    "    [0.2, 0.6, 0.4],\n",
    "])\n",
    "ads_positions = tf.ragged.constant([\n",
    "    [2, 4], [3, 7], [0, 3, 6, 9]    \n",
    "], dtype=tf.int64).to_sparse()\n",
    "k = 8 # max number of contents to keep\n",
    "\n",
    "news_vocab = tf.constant([\"a\", \"b\", \"c\", \"d\", \"e\", \"f\", \"g\"])\n",
    "ads_vocab = tf.constant([\"x\", \"y\", \"z\"])\n",
    "\n",
    "output, mask = arrange_ads_among_news(\n",
    "    news_scores,\n",
    "    ads_scores,\n",
    "    ads_positions,\n",
    "    news_vocab=news_vocab,\n",
    "    ads_vocab=ads_vocab,\n",
    "    k=k,\n",
    ")"
   ]
  },
  {
   "cell_type": "code",
   "execution_count": 58,
   "id": "8576cfaf",
   "metadata": {
    "ExecuteTime": {
     "end_time": "2023-11-26T03:26:35.736388Z",
     "start_time": "2023-11-26T03:26:35.720091Z"
    }
   },
   "outputs": [
    {
     "data": {
      "text/plain": [
       "<tf.Tensor: shape=(3, 8), dtype=string, numpy=\n",
       "array([[b'a', b'b', b'x', b'c', b'y', b'd', b'e', b'f'],\n",
       "       [b'g', b'f', b'e', b'z', b'd', b'c', b'b', b'y'],\n",
       "       [b'y', b'd', b'e', b'z', b'f', b'b', b'x', b'g']], dtype=object)>"
      ]
     },
     "execution_count": 58,
     "metadata": {},
     "output_type": "execute_result"
    }
   ],
   "source": [
    "output"
   ]
  },
  {
   "cell_type": "code",
   "execution_count": 59,
   "id": "773e8cd4",
   "metadata": {
    "ExecuteTime": {
     "end_time": "2023-11-26T03:26:38.097382Z",
     "start_time": "2023-11-26T03:26:38.085275Z"
    }
   },
   "outputs": [
    {
     "data": {
      "text/plain": [
       "<tf.Tensor: shape=(3, 8), dtype=int64, numpy=\n",
       "array([[1, 1, 0, 1, 0, 1, 1, 1],\n",
       "       [1, 1, 1, 0, 1, 1, 1, 0],\n",
       "       [0, 1, 1, 0, 1, 1, 0, 1]])>"
      ]
     },
     "execution_count": 59,
     "metadata": {},
     "output_type": "execute_result"
    }
   ],
   "source": [
    "mask"
   ]
  }
 ],
 "metadata": {
  "kernelspec": {
   "display_name": "Python 3 (ipykernel)",
   "language": "python",
   "name": "python3"
  },
  "language_info": {
   "codemirror_mode": {
    "name": "ipython",
    "version": 3
   },
   "file_extension": ".py",
   "mimetype": "text/x-python",
   "name": "python",
   "nbconvert_exporter": "python",
   "pygments_lexer": "ipython3",
   "version": "3.9.10"
  },
  "toc": {
   "base_numbering": 1,
   "nav_menu": {},
   "number_sections": false,
   "sideBar": true,
   "skip_h1_title": false,
   "title_cell": "Table of Contents",
   "title_sidebar": "Contents",
   "toc_cell": false,
   "toc_position": {},
   "toc_section_display": true,
   "toc_window_display": false
  },
  "varInspector": {
   "cols": {
    "lenName": 16,
    "lenType": 16,
    "lenVar": 40
   },
   "kernels_config": {
    "python": {
     "delete_cmd_postfix": "",
     "delete_cmd_prefix": "del ",
     "library": "var_list.py",
     "varRefreshCmd": "print(var_dic_list())"
    },
    "r": {
     "delete_cmd_postfix": ") ",
     "delete_cmd_prefix": "rm(",
     "library": "var_list.r",
     "varRefreshCmd": "cat(var_dic_list()) "
    }
   },
   "types_to_exclude": [
    "module",
    "function",
    "builtin_function_or_method",
    "instance",
    "_Feature"
   ],
   "window_display": false
  }
 },
 "nbformat": 4,
 "nbformat_minor": 5
}
