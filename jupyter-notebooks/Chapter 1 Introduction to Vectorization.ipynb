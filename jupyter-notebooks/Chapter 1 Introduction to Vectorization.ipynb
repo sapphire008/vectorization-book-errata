{
 "cells": [
  {
   "cell_type": "markdown",
   "id": "385da971",
   "metadata": {},
   "source": [
    "# Vectorization Example"
   ]
  },
  {
   "cell_type": "code",
   "execution_count": 2,
   "id": "07c499f6",
   "metadata": {
    "ExecuteTime": {
     "end_time": "2023-11-25T21:08:56.843746Z",
     "start_time": "2023-11-25T21:08:54.444316Z"
    }
   },
   "outputs": [
    {
     "name": "stdout",
     "output_type": "stream",
     "text": [
      "294 ms ± 1.39 ms per loop (mean ± std. dev. of 7 runs, 1 loop each)\n"
     ]
    }
   ],
   "source": [
    "import random\n",
    "\n",
    "def sqrt_of_n_random_numbers(n=1_000_000):\n",
    "    result = 0\n",
    "    for _ in range(n):\n",
    "        a = random.uniform(0, 1)\n",
    "        b = random.uniform(0, 1)\n",
    "        result += a * b\n",
    "    return result\n",
    "\n",
    "%timeit sqrt_of_n_random_numbers()"
   ]
  },
  {
   "cell_type": "code",
   "execution_count": 3,
   "id": "e966f4cd",
   "metadata": {
    "ExecuteTime": {
     "end_time": "2023-11-25T21:09:30.501581Z",
     "start_time": "2023-11-25T21:09:23.994803Z"
    }
   },
   "outputs": [
    {
     "name": "stdout",
     "output_type": "stream",
     "text": [
      "7.9 ms ± 119 µs per loop (mean ± std. dev. of 7 runs, 100 loops each)\n"
     ]
    }
   ],
   "source": [
    "def sqrt_of_n_random_numbers_np(n=1_000_000):\n",
    "    a = np.random.rand(n)\n",
    "    b = np.random.rand(n)\n",
    "    result = np.dot(a, b)\n",
    "    return result\n",
    "\n",
    "%timeit sqrt_of_n_random_numbers_np()"
   ]
  },
  {
   "cell_type": "markdown",
   "id": "478bf690",
   "metadata": {},
   "source": [
    "# Python can be faster"
   ]
  },
  {
   "cell_type": "code",
   "execution_count": 4,
   "id": "6cd0d04d",
   "metadata": {
    "ExecuteTime": {
     "end_time": "2023-11-25T21:10:13.117121Z",
     "start_time": "2023-11-25T21:10:10.650998Z"
    }
   },
   "outputs": [
    {
     "name": "stdout",
     "output_type": "stream",
     "text": [
      "299 µs ± 5.98 µs per loop (mean ± std. dev. of 7 runs, 1,000 loops each)\n"
     ]
    }
   ],
   "source": [
    "X = [\"foo.bar\", \"bar.foo\", \"x.y\", \"z.k\"] * 1000\n",
    "%timeit [x.split(\".\") for x in X]"
   ]
  },
  {
   "cell_type": "code",
   "execution_count": 5,
   "id": "e6fd9536",
   "metadata": {
    "ExecuteTime": {
     "end_time": "2023-11-25T21:10:37.950029Z",
     "start_time": "2023-11-25T21:10:28.317530Z"
    }
   },
   "outputs": [
    {
     "name": "stdout",
     "output_type": "stream",
     "text": [
      "1.18 ms ± 4.37 µs per loop (mean ± std. dev. of 7 runs, 1,000 loops each)\n"
     ]
    }
   ],
   "source": [
    "Y = [\"foo.bar\", \"bar.foo\", \"x.y\", \"z.k\"] * 1000\n",
    "Y = np.array(Y)\n",
    "%timeit np.core.defchararray.split(Y, \".\")"
   ]
  },
  {
   "cell_type": "markdown",
   "id": "a2c5c6c4",
   "metadata": {},
   "source": [
    "# Memory Allocation of Vectorized Operations"
   ]
  },
  {
   "cell_type": "code",
   "execution_count": 10,
   "id": "bc84fdb9",
   "metadata": {
    "ExecuteTime": {
     "end_time": "2023-12-17T04:30:10.855438Z",
     "start_time": "2023-12-17T04:30:10.783423Z"
    }
   },
   "outputs": [],
   "source": [
    "# !pip install memory_profiler==0.61.0\n",
    "%load_ext memory_profiler"
   ]
  },
  {
   "cell_type": "code",
   "execution_count": 1,
   "id": "949f300c",
   "metadata": {
    "ExecuteTime": {
     "end_time": "2023-12-17T04:28:47.546655Z",
     "start_time": "2023-12-17T04:28:47.538917Z"
    }
   },
   "outputs": [
    {
     "name": "stdout",
     "output_type": "stream",
     "text": [
      "Overwriting memory_allocation_example.py\n"
     ]
    }
   ],
   "source": [
    "%%file memory_allocation_example.py\n",
    "\n",
    "import numpy as np\n",
    "\n",
    "def sum_of_square_vectorized(X):\n",
    "    x = np.asarray(X)\n",
    "    x_sq = np.square(x) # x ** 2\n",
    "    res = x_sq.sum()\n",
    "    return res\n",
    "\n",
    "\n",
    "def sum_of_square_for_loop(X):\n",
    "    res = 0\n",
    "    for x in X:\n",
    "        res += x ** 2\n",
    "    return res\n"
   ]
  },
  {
   "cell_type": "code",
   "execution_count": 12,
   "id": "ec50c51c",
   "metadata": {
    "ExecuteTime": {
     "end_time": "2023-12-17T04:07:00.111121Z",
     "start_time": "2023-12-17T04:07:00.023851Z"
    }
   },
   "outputs": [
    {
     "name": "stdout",
     "output_type": "stream",
     "text": [
      "\n"
     ]
    }
   ],
   "source": [
    "from memory_allocation_example import sum_of_square_vectorized\n",
    "X = np.linspace(-50, 50, 1_000_000).tolist()\n",
    "%mprun -f sum_of_square_vectorized sum_of_square_vectorized(X)"
   ]
  },
  {
   "cell_type": "code",
   "execution_count": 14,
   "id": "26435784",
   "metadata": {
    "ExecuteTime": {
     "end_time": "2023-12-17T04:27:24.660306Z",
     "start_time": "2023-12-17T04:27:21.484752Z"
    }
   },
   "outputs": [
    {
     "name": "stdout",
     "output_type": "stream",
     "text": [
      "3.91 ms ± 64.7 µs per loop (mean ± std. dev. of 7 runs, 100 loops each)\n"
     ]
    }
   ],
   "source": [
    "%timeit sum_of_square_vectorized(X)"
   ]
  },
  {
   "cell_type": "code",
   "execution_count": 12,
   "id": "5a113d24",
   "metadata": {
    "ExecuteTime": {
     "end_time": "2023-12-17T04:30:24.504241Z",
     "start_time": "2023-12-17T04:30:21.383599Z"
    }
   },
   "outputs": [
    {
     "name": "stdout",
     "output_type": "stream",
     "text": [
      "\n"
     ]
    }
   ],
   "source": [
    "from memory_allocation_example import sum_of_square_for_loop\n",
    "X = np.linspace(-50, 50, 100_000).tolist()\n",
    "%mprun -f sum_of_square_for_loop sum_of_square_for_loop(X)"
   ]
  },
  {
   "cell_type": "code",
   "execution_count": 8,
   "id": "76c59572",
   "metadata": {
    "ExecuteTime": {
     "end_time": "2023-12-17T04:29:50.017739Z",
     "start_time": "2023-12-17T04:29:45.361396Z"
    }
   },
   "outputs": [
    {
     "name": "stdout",
     "output_type": "stream",
     "text": [
      "5.72 ms ± 39 µs per loop (mean ± std. dev. of 7 runs, 100 loops each)\n"
     ]
    }
   ],
   "source": [
    "%timeit sum_of_square_for_loop(X)"
   ]
  },
  {
   "cell_type": "code",
   "execution_count": 13,
   "id": "723054ea",
   "metadata": {
    "ExecuteTime": {
     "end_time": "2023-12-17T04:40:22.275149Z",
     "start_time": "2023-12-17T04:40:22.267712Z"
    }
   },
   "outputs": [
    {
     "data": {
      "text/plain": [
       "-31.64335664335664"
      ]
     },
     "execution_count": 13,
     "metadata": {},
     "output_type": "execute_result"
    }
   ],
   "source": [
    "(3.91 - 5.72) / 5.72 * 100"
   ]
  },
  {
   "cell_type": "markdown",
   "id": "dd3185a9",
   "metadata": {},
   "source": [
    "# Neural Network"
   ]
  },
  {
   "cell_type": "code",
   "execution_count": 7,
   "id": "dee45471",
   "metadata": {
    "ExecuteTime": {
     "end_time": "2023-11-25T21:11:36.596789Z",
     "start_time": "2023-11-25T21:11:36.584842Z"
    }
   },
   "outputs": [],
   "source": [
    "import numpy as np\n",
    "\n",
    "def sigmoid(x):\n",
    "    \"\"\"Implement sigmoid activation function.\"\"\"\n",
    "    return 1. / np.exp(-x)\n",
    "\n",
    "\n",
    "def dense_layer(x, w, b):\n",
    "    # linear model: (batch_size, hidden_size)\n",
    "    y = x @ w + b\n",
    "    # activation\n",
    "    y = sigmoid(y)\n",
    "    return y"
   ]
  },
  {
   "cell_type": "markdown",
   "id": "52394a69",
   "metadata": {},
   "source": [
    "# Multiprocessing"
   ]
  },
  {
   "cell_type": "code",
   "execution_count": 9,
   "id": "3a0ad129",
   "metadata": {
    "ExecuteTime": {
     "end_time": "2023-11-25T21:13:40.931568Z",
     "start_time": "2023-11-25T21:13:40.898112Z"
    }
   },
   "outputs": [
    {
     "data": {
      "text/html": [
       "<div>\n",
       "<style scoped>\n",
       "    .dataframe tbody tr th:only-of-type {\n",
       "        vertical-align: middle;\n",
       "    }\n",
       "\n",
       "    .dataframe tbody tr th {\n",
       "        vertical-align: top;\n",
       "    }\n",
       "\n",
       "    .dataframe thead th {\n",
       "        text-align: right;\n",
       "    }\n",
       "</style>\n",
       "<table border=\"1\" class=\"dataframe\">\n",
       "  <thead>\n",
       "    <tr style=\"text-align: right;\">\n",
       "      <th></th>\n",
       "      <th></th>\n",
       "      <th>id</th>\n",
       "      <th>scores</th>\n",
       "    </tr>\n",
       "  </thead>\n",
       "  <tbody>\n",
       "    <tr>\n",
       "      <th rowspan=\"4\" valign=\"top\">0</th>\n",
       "      <th>0</th>\n",
       "      <td>A</td>\n",
       "      <td>0.900000</td>\n",
       "    </tr>\n",
       "    <tr>\n",
       "      <th>1</th>\n",
       "      <td>A</td>\n",
       "      <td>0.850000</td>\n",
       "    </tr>\n",
       "    <tr>\n",
       "      <th>2</th>\n",
       "      <td>A</td>\n",
       "      <td>1.000000</td>\n",
       "    </tr>\n",
       "    <tr>\n",
       "      <th>3</th>\n",
       "      <td>A</td>\n",
       "      <td>0.000000</td>\n",
       "    </tr>\n",
       "    <tr>\n",
       "      <th rowspan=\"5\" valign=\"top\">1</th>\n",
       "      <th>4</th>\n",
       "      <td>B</td>\n",
       "      <td>0.809524</td>\n",
       "    </tr>\n",
       "    <tr>\n",
       "      <th>5</th>\n",
       "      <td>B</td>\n",
       "      <td>0.904762</td>\n",
       "    </tr>\n",
       "    <tr>\n",
       "      <th>6</th>\n",
       "      <td>B</td>\n",
       "      <td>1.000000</td>\n",
       "    </tr>\n",
       "    <tr>\n",
       "      <th>7</th>\n",
       "      <td>B</td>\n",
       "      <td>0.952381</td>\n",
       "    </tr>\n",
       "    <tr>\n",
       "      <th>8</th>\n",
       "      <td>B</td>\n",
       "      <td>0.000000</td>\n",
       "    </tr>\n",
       "    <tr>\n",
       "      <th rowspan=\"9\" valign=\"top\">2</th>\n",
       "      <th>9</th>\n",
       "      <td>C</td>\n",
       "      <td>0.000000</td>\n",
       "    </tr>\n",
       "    <tr>\n",
       "      <th>10</th>\n",
       "      <td>C</td>\n",
       "      <td>0.677419</td>\n",
       "    </tr>\n",
       "    <tr>\n",
       "      <th>11</th>\n",
       "      <td>C</td>\n",
       "      <td>0.612903</td>\n",
       "    </tr>\n",
       "    <tr>\n",
       "      <th>12</th>\n",
       "      <td>C</td>\n",
       "      <td>1.000000</td>\n",
       "    </tr>\n",
       "    <tr>\n",
       "      <th>13</th>\n",
       "      <td>C</td>\n",
       "      <td>0.935484</td>\n",
       "    </tr>\n",
       "    <tr>\n",
       "      <th>14</th>\n",
       "      <td>C</td>\n",
       "      <td>0.774194</td>\n",
       "    </tr>\n",
       "    <tr>\n",
       "      <th>15</th>\n",
       "      <td>C</td>\n",
       "      <td>0.354839</td>\n",
       "    </tr>\n",
       "    <tr>\n",
       "      <th>16</th>\n",
       "      <td>C</td>\n",
       "      <td>0.516129</td>\n",
       "    </tr>\n",
       "    <tr>\n",
       "      <th>17</th>\n",
       "      <td>C</td>\n",
       "      <td>0.064516</td>\n",
       "    </tr>\n",
       "  </tbody>\n",
       "</table>\n",
       "</div>"
      ],
      "text/plain": [
       "     id    scores\n",
       "0 0   A  0.900000\n",
       "  1   A  0.850000\n",
       "  2   A  1.000000\n",
       "  3   A  0.000000\n",
       "1 4   B  0.809524\n",
       "  5   B  0.904762\n",
       "  6   B  1.000000\n",
       "  7   B  0.952381\n",
       "  8   B  0.000000\n",
       "2 9   C  0.000000\n",
       "  10  C  0.677419\n",
       "  11  C  0.612903\n",
       "  12  C  1.000000\n",
       "  13  C  0.935484\n",
       "  14  C  0.774194\n",
       "  15  C  0.354839\n",
       "  16  C  0.516129\n",
       "  17  C  0.064516"
      ]
     },
     "execution_count": 9,
     "metadata": {},
     "output_type": "execute_result"
    }
   ],
   "source": [
    "import pandas as pd\n",
    "\n",
    "df = pd.DataFrame({\n",
    "    \"id\": [\n",
    "        \"A\", \"A\", \"A\", \"A\", \"B\", \"B\", \"B\", \"B\", \"B\",\n",
    "        \"C\", \"C\", \"C\", \"C\", \"C\", \"C\", \"C\", \"C\", \"C\"\n",
    "    ],\n",
    "    \"scores\": [\n",
    "        98, 97, 100, 80, 78, 80, 82, 81, 61, 51, 72, \n",
    "        70, 82, 80, 75, 62, 67, 53\n",
    "    ],\n",
    "})\n",
    "\n",
    "def apply_func(pdf):\n",
    "    \"\"\"Compute the min-max normalized score\"\"\"\n",
    "    min_val = pdf[\"scores\"].min()\n",
    "    max_val = pdf[\"scores\"].max() + 1e-6\n",
    "    pdf[\"scores\"] = (pdf[\"scores\"] - min_val) / (max_val - min_val)\n",
    "    return pdf\n",
    "\n",
    "\n",
    "df_out = df.groupby(\n",
    "    by=\"id\", as_index=False\n",
    ").apply(apply_func)\n",
    "\n",
    "df_out"
   ]
  },
  {
   "cell_type": "markdown",
   "id": "e0daac7d",
   "metadata": {},
   "source": [
    "## Joblib multiprocessing"
   ]
  },
  {
   "cell_type": "code",
   "execution_count": 11,
   "id": "7dd86dc3",
   "metadata": {
    "ExecuteTime": {
     "end_time": "2023-11-25T21:14:26.850919Z",
     "start_time": "2023-11-25T21:14:26.675524Z"
    }
   },
   "outputs": [
    {
     "name": "stderr",
     "output_type": "stream",
     "text": [
      "100%|████████████████████████████████████████████| 3/3 [00:00<00:00, 490.70it/s]\n"
     ]
    },
    {
     "data": {
      "text/html": [
       "<div>\n",
       "<style scoped>\n",
       "    .dataframe tbody tr th:only-of-type {\n",
       "        vertical-align: middle;\n",
       "    }\n",
       "\n",
       "    .dataframe tbody tr th {\n",
       "        vertical-align: top;\n",
       "    }\n",
       "\n",
       "    .dataframe thead th {\n",
       "        text-align: right;\n",
       "    }\n",
       "</style>\n",
       "<table border=\"1\" class=\"dataframe\">\n",
       "  <thead>\n",
       "    <tr style=\"text-align: right;\">\n",
       "      <th></th>\n",
       "      <th>id</th>\n",
       "      <th>scores</th>\n",
       "    </tr>\n",
       "  </thead>\n",
       "  <tbody>\n",
       "    <tr>\n",
       "      <th>0</th>\n",
       "      <td>A</td>\n",
       "      <td>0.900000</td>\n",
       "    </tr>\n",
       "    <tr>\n",
       "      <th>1</th>\n",
       "      <td>A</td>\n",
       "      <td>0.850000</td>\n",
       "    </tr>\n",
       "    <tr>\n",
       "      <th>2</th>\n",
       "      <td>A</td>\n",
       "      <td>1.000000</td>\n",
       "    </tr>\n",
       "    <tr>\n",
       "      <th>3</th>\n",
       "      <td>A</td>\n",
       "      <td>0.000000</td>\n",
       "    </tr>\n",
       "    <tr>\n",
       "      <th>4</th>\n",
       "      <td>B</td>\n",
       "      <td>0.809524</td>\n",
       "    </tr>\n",
       "    <tr>\n",
       "      <th>5</th>\n",
       "      <td>B</td>\n",
       "      <td>0.904762</td>\n",
       "    </tr>\n",
       "    <tr>\n",
       "      <th>6</th>\n",
       "      <td>B</td>\n",
       "      <td>1.000000</td>\n",
       "    </tr>\n",
       "    <tr>\n",
       "      <th>7</th>\n",
       "      <td>B</td>\n",
       "      <td>0.952381</td>\n",
       "    </tr>\n",
       "    <tr>\n",
       "      <th>8</th>\n",
       "      <td>B</td>\n",
       "      <td>0.000000</td>\n",
       "    </tr>\n",
       "    <tr>\n",
       "      <th>9</th>\n",
       "      <td>C</td>\n",
       "      <td>0.000000</td>\n",
       "    </tr>\n",
       "    <tr>\n",
       "      <th>10</th>\n",
       "      <td>C</td>\n",
       "      <td>0.677419</td>\n",
       "    </tr>\n",
       "    <tr>\n",
       "      <th>11</th>\n",
       "      <td>C</td>\n",
       "      <td>0.612903</td>\n",
       "    </tr>\n",
       "    <tr>\n",
       "      <th>12</th>\n",
       "      <td>C</td>\n",
       "      <td>1.000000</td>\n",
       "    </tr>\n",
       "    <tr>\n",
       "      <th>13</th>\n",
       "      <td>C</td>\n",
       "      <td>0.935484</td>\n",
       "    </tr>\n",
       "    <tr>\n",
       "      <th>14</th>\n",
       "      <td>C</td>\n",
       "      <td>0.774194</td>\n",
       "    </tr>\n",
       "    <tr>\n",
       "      <th>15</th>\n",
       "      <td>C</td>\n",
       "      <td>0.354839</td>\n",
       "    </tr>\n",
       "    <tr>\n",
       "      <th>16</th>\n",
       "      <td>C</td>\n",
       "      <td>0.516129</td>\n",
       "    </tr>\n",
       "    <tr>\n",
       "      <th>17</th>\n",
       "      <td>C</td>\n",
       "      <td>0.064516</td>\n",
       "    </tr>\n",
       "  </tbody>\n",
       "</table>\n",
       "</div>"
      ],
      "text/plain": [
       "   id    scores\n",
       "0   A  0.900000\n",
       "1   A  0.850000\n",
       "2   A  1.000000\n",
       "3   A  0.000000\n",
       "4   B  0.809524\n",
       "5   B  0.904762\n",
       "6   B  1.000000\n",
       "7   B  0.952381\n",
       "8   B  0.000000\n",
       "9   C  0.000000\n",
       "10  C  0.677419\n",
       "11  C  0.612903\n",
       "12  C  1.000000\n",
       "13  C  0.935484\n",
       "14  C  0.774194\n",
       "15  C  0.354839\n",
       "16  C  0.516129\n",
       "17  C  0.064516"
      ]
     },
     "execution_count": 11,
     "metadata": {},
     "output_type": "execute_result"
    }
   ],
   "source": [
    "from tqdm import tqdm\n",
    "import multiprocessing\n",
    "from joblib import Parallel, delayed\n",
    "import pandas as pd\n",
    "\n",
    "def apply_parallel(df_grouped, func):\n",
    "    \"\"\"\n",
    "    Apply a function to grouped pandas dataframe using multiprocessing.\n",
    "    Usage:\n",
    "    def apply_func(pandas_df):\n",
    "        ...\n",
    "\n",
    "    df = apply_parallel(\n",
    "        df.groupby(\n",
    "            by=grouped_by_columns,\n",
    "            as_index=False,\n",
    "        ), apply_func)\n",
    "    \"\"\"\n",
    "    ret = Parallel(n_jobs=multiprocessing.cpu_count())(\n",
    "        delayed(func)(group) for name, group in tqdm(df_grouped)\n",
    "    )  # enumerate(tqdm(dfGrouped))\n",
    "    return pd.concat(ret)\n",
    "\n",
    "df_out_parallel = apply_parallel(\n",
    "    df.groupby(by=\"id\", as_index=False), apply_func\n",
    ")\n",
    "df_out_parallel"
   ]
  },
  {
   "cell_type": "markdown",
   "id": "fcdd4675",
   "metadata": {},
   "source": [
    "## Random data transformation"
   ]
  },
  {
   "cell_type": "code",
   "execution_count": 12,
   "id": "70d5496d",
   "metadata": {
    "ExecuteTime": {
     "end_time": "2023-11-25T21:15:08.663350Z",
     "start_time": "2023-11-25T21:15:08.502625Z"
    }
   },
   "outputs": [
    {
     "data": {
      "text/html": [
       "<div>\n",
       "<style scoped>\n",
       "    .dataframe tbody tr th:only-of-type {\n",
       "        vertical-align: middle;\n",
       "    }\n",
       "\n",
       "    .dataframe tbody tr th {\n",
       "        vertical-align: top;\n",
       "    }\n",
       "\n",
       "    .dataframe thead th {\n",
       "        text-align: right;\n",
       "    }\n",
       "</style>\n",
       "<table border=\"1\" class=\"dataframe\">\n",
       "  <thead>\n",
       "    <tr style=\"text-align: right;\">\n",
       "      <th></th>\n",
       "      <th>id</th>\n",
       "      <th>scores</th>\n",
       "    </tr>\n",
       "  </thead>\n",
       "  <tbody>\n",
       "    <tr>\n",
       "      <th>0</th>\n",
       "      <td>wqP</td>\n",
       "      <td>50</td>\n",
       "    </tr>\n",
       "    <tr>\n",
       "      <th>1</th>\n",
       "      <td>CmQ</td>\n",
       "      <td>95</td>\n",
       "    </tr>\n",
       "    <tr>\n",
       "      <th>2</th>\n",
       "      <td>jJG</td>\n",
       "      <td>24</td>\n",
       "    </tr>\n",
       "    <tr>\n",
       "      <th>3</th>\n",
       "      <td>tvL</td>\n",
       "      <td>14</td>\n",
       "    </tr>\n",
       "    <tr>\n",
       "      <th>4</th>\n",
       "      <td>kBY</td>\n",
       "      <td>18</td>\n",
       "    </tr>\n",
       "    <tr>\n",
       "      <th>...</th>\n",
       "      <td>...</td>\n",
       "      <td>...</td>\n",
       "    </tr>\n",
       "    <tr>\n",
       "      <th>99995</th>\n",
       "      <td>Dmz</td>\n",
       "      <td>48</td>\n",
       "    </tr>\n",
       "    <tr>\n",
       "      <th>99996</th>\n",
       "      <td>TSR</td>\n",
       "      <td>87</td>\n",
       "    </tr>\n",
       "    <tr>\n",
       "      <th>99997</th>\n",
       "      <td>DFs</td>\n",
       "      <td>52</td>\n",
       "    </tr>\n",
       "    <tr>\n",
       "      <th>99998</th>\n",
       "      <td>PWb</td>\n",
       "      <td>75</td>\n",
       "    </tr>\n",
       "    <tr>\n",
       "      <th>99999</th>\n",
       "      <td>UCn</td>\n",
       "      <td>3</td>\n",
       "    </tr>\n",
       "  </tbody>\n",
       "</table>\n",
       "<p>100000 rows × 2 columns</p>\n",
       "</div>"
      ],
      "text/plain": [
       "        id  scores\n",
       "0      wqP      50\n",
       "1      CmQ      95\n",
       "2      jJG      24\n",
       "3      tvL      14\n",
       "4      kBY      18\n",
       "...    ...     ...\n",
       "99995  Dmz      48\n",
       "99996  TSR      87\n",
       "99997  DFs      52\n",
       "99998  PWb      75\n",
       "99999  UCn       3\n",
       "\n",
       "[100000 rows x 2 columns]"
      ]
     },
     "execution_count": 12,
     "metadata": {},
     "output_type": "execute_result"
    }
   ],
   "source": [
    "import string\n",
    "import random\n",
    "\n",
    "df = pd.DataFrame({\n",
    "    \"id\": [\n",
    "        \"\".join(\n",
    "            random.choices(string.ascii_letters, k=3)\n",
    "        ) for _ in range(100_000)\n",
    "    ],\n",
    "    \"scores\": [\n",
    "        random.randint(1, 100) for _ in range(100_000)\n",
    "    ],\n",
    "})\n",
    "df"
   ]
  },
  {
   "cell_type": "markdown",
   "id": "666fdce0",
   "metadata": {},
   "source": [
    "# Multi-worker distributed computing using Apache Beam pipeline\n",
    "\n",
    "caution: Apache Beam currenlty does not support `pandas` 2.0 yet. However, all the other examples in this book will use `pandas==2.1.1`."
   ]
  },
  {
   "cell_type": "code",
   "execution_count": 2,
   "id": "e62313d9",
   "metadata": {
    "ExecuteTime": {
     "end_time": "2023-11-25T21:22:10.327500Z",
     "start_time": "2023-11-25T21:22:05.628613Z"
    },
    "scrolled": true
   },
   "outputs": [
    {
     "name": "stdout",
     "output_type": "stream",
     "text": [
      "Requirement already satisfied: apache-beam==2.49.0 in /Users/edward/opt/miniforge3/envs/lectures/lib/python3.10/site-packages (2.49.0)\n",
      "Collecting pandas==1.5.3\n",
      "  Using cached pandas-1.5.3-cp310-cp310-macosx_11_0_arm64.whl (10.9 MB)\n",
      "Requirement already satisfied: crcmod<2.0,>=1.7 in /Users/edward/opt/miniforge3/envs/lectures/lib/python3.10/site-packages (from apache-beam==2.49.0) (1.7)\n",
      "Requirement already satisfied: orjson<4.0 in /Users/edward/opt/miniforge3/envs/lectures/lib/python3.10/site-packages (from apache-beam==2.49.0) (3.9.10)\n",
      "Requirement already satisfied: dill<0.3.2,>=0.3.1.1 in /Users/edward/opt/miniforge3/envs/lectures/lib/python3.10/site-packages (from apache-beam==2.49.0) (0.3.1.1)\n",
      "Requirement already satisfied: cloudpickle~=2.2.1 in /Users/edward/opt/miniforge3/envs/lectures/lib/python3.10/site-packages (from apache-beam==2.49.0) (2.2.1)\n",
      "Requirement already satisfied: fastavro<2,>=0.23.6 in /Users/edward/opt/miniforge3/envs/lectures/lib/python3.10/site-packages (from apache-beam==2.49.0) (1.9.0)\n",
      "Requirement already satisfied: fasteners<1.0,>=0.3 in /Users/edward/opt/miniforge3/envs/lectures/lib/python3.10/site-packages (from apache-beam==2.49.0) (0.19)\n",
      "Requirement already satisfied: grpcio!=1.48.0,<2,>=1.33.1 in /Users/edward/opt/miniforge3/envs/lectures/lib/python3.10/site-packages (from apache-beam==2.49.0) (1.56.0)\n",
      "Requirement already satisfied: hdfs<3.0.0,>=2.1.0 in /Users/edward/opt/miniforge3/envs/lectures/lib/python3.10/site-packages (from apache-beam==2.49.0) (2.7.3)\n",
      "Requirement already satisfied: httplib2<0.23.0,>=0.8 in /Users/edward/opt/miniforge3/envs/lectures/lib/python3.10/site-packages (from apache-beam==2.49.0) (0.22.0)\n",
      "Requirement already satisfied: numpy<1.25.0,>=1.14.3 in /Users/edward/opt/miniforge3/envs/lectures/lib/python3.10/site-packages (from apache-beam==2.49.0) (1.23.4)\n",
      "Requirement already satisfied: objsize<0.7.0,>=0.6.1 in /Users/edward/opt/miniforge3/envs/lectures/lib/python3.10/site-packages (from apache-beam==2.49.0) (0.6.1)\n",
      "Requirement already satisfied: pymongo<5.0.0,>=3.8.0 in /Users/edward/opt/miniforge3/envs/lectures/lib/python3.10/site-packages (from apache-beam==2.49.0) (4.6.0)\n",
      "Requirement already satisfied: proto-plus<2,>=1.7.1 in /Users/edward/opt/miniforge3/envs/lectures/lib/python3.10/site-packages (from apache-beam==2.49.0) (1.22.3)\n",
      "Requirement already satisfied: protobuf<4.24.0,>=3.20.3 in /Users/edward/opt/miniforge3/envs/lectures/lib/python3.10/site-packages (from apache-beam==2.49.0) (4.23.4)\n",
      "Requirement already satisfied: pydot<2,>=1.2.0 in /Users/edward/opt/miniforge3/envs/lectures/lib/python3.10/site-packages (from apache-beam==2.49.0) (1.4.2)\n",
      "Requirement already satisfied: python-dateutil<3,>=2.8.0 in /Users/edward/opt/miniforge3/envs/lectures/lib/python3.10/site-packages (from apache-beam==2.49.0) (2.8.2)\n",
      "Requirement already satisfied: pytz>=2018.3 in /Users/edward/opt/miniforge3/envs/lectures/lib/python3.10/site-packages (from apache-beam==2.49.0) (2023.3)\n",
      "Requirement already satisfied: regex>=2020.6.8 in /Users/edward/opt/miniforge3/envs/lectures/lib/python3.10/site-packages (from apache-beam==2.49.0) (2023.10.3)\n",
      "Requirement already satisfied: requests<3.0.0,>=2.24.0 in /Users/edward/opt/miniforge3/envs/lectures/lib/python3.10/site-packages (from apache-beam==2.49.0) (2.31.0)\n",
      "Requirement already satisfied: typing-extensions>=3.7.0 in /Users/edward/opt/miniforge3/envs/lectures/lib/python3.10/site-packages (from apache-beam==2.49.0) (4.5.0)\n",
      "Requirement already satisfied: zstandard<1,>=0.18.0 in /Users/edward/opt/miniforge3/envs/lectures/lib/python3.10/site-packages (from apache-beam==2.49.0) (0.22.0)\n",
      "Requirement already satisfied: pyarrow<12.0.0,>=3.0.0 in /Users/edward/opt/miniforge3/envs/lectures/lib/python3.10/site-packages (from apache-beam==2.49.0) (11.0.0)\n",
      "Requirement already satisfied: docopt in /Users/edward/opt/miniforge3/envs/lectures/lib/python3.10/site-packages (from hdfs<3.0.0,>=2.1.0->apache-beam==2.49.0) (0.6.2)\n",
      "Requirement already satisfied: six>=1.9.0 in /Users/edward/opt/miniforge3/envs/lectures/lib/python3.10/site-packages (from hdfs<3.0.0,>=2.1.0->apache-beam==2.49.0) (1.16.0)\n",
      "Requirement already satisfied: pyparsing!=3.0.0,!=3.0.1,!=3.0.2,!=3.0.3,<4,>=2.4.2 in /Users/edward/opt/miniforge3/envs/lectures/lib/python3.10/site-packages (from httplib2<0.23.0,>=0.8->apache-beam==2.49.0) (3.0.9)\n",
      "Requirement already satisfied: dnspython<3.0.0,>=1.16.0 in /Users/edward/opt/miniforge3/envs/lectures/lib/python3.10/site-packages (from pymongo<5.0.0,>=3.8.0->apache-beam==2.49.0) (2.4.2)\n",
      "Requirement already satisfied: charset-normalizer<4,>=2 in /Users/edward/opt/miniforge3/envs/lectures/lib/python3.10/site-packages (from requests<3.0.0,>=2.24.0->apache-beam==2.49.0) (3.2.0)\n",
      "Requirement already satisfied: idna<4,>=2.5 in /Users/edward/opt/miniforge3/envs/lectures/lib/python3.10/site-packages (from requests<3.0.0,>=2.24.0->apache-beam==2.49.0) (3.4)\n",
      "Requirement already satisfied: urllib3<3,>=1.21.1 in /Users/edward/opt/miniforge3/envs/lectures/lib/python3.10/site-packages (from requests<3.0.0,>=2.24.0->apache-beam==2.49.0) (1.26.16)\n",
      "Requirement already satisfied: certifi>=2017.4.17 in /Users/edward/opt/miniforge3/envs/lectures/lib/python3.10/site-packages (from requests<3.0.0,>=2.24.0->apache-beam==2.49.0) (2023.5.7)\n",
      "Installing collected packages: pandas\n",
      "  Attempting uninstall: pandas\n",
      "    Found existing installation: pandas 2.1.1\n",
      "    Uninstalling pandas-2.1.1:\n",
      "      Successfully uninstalled pandas-2.1.1\n",
      "Successfully installed pandas-1.5.3\n"
     ]
    }
   ],
   "source": [
    "!pip install apache-beam==2.49.0 pandas==1.5.3"
   ]
  },
  {
   "cell_type": "code",
   "execution_count": 1,
   "id": "d6a7a28b",
   "metadata": {
    "ExecuteTime": {
     "end_time": "2023-11-25T21:22:25.340273Z",
     "start_time": "2023-11-25T21:22:22.328160Z"
    }
   },
   "outputs": [
    {
     "name": "stderr",
     "output_type": "stream",
     "text": [
      "WARNING:apache_beam.runners.interactive.interactive_environment:Dependencies required for Interactive Beam PCollection visualization are not available, please use: `pip install apache-beam[interactive]` to install necessary dependencies to enable all data visualization features.\n"
     ]
    },
    {
     "data": {
      "application/javascript": [
       "\n",
       "        if (typeof window.interactive_beam_jquery == 'undefined') {\n",
       "          var jqueryScript = document.createElement('script');\n",
       "          jqueryScript.src = 'https://code.jquery.com/jquery-3.4.1.slim.min.js';\n",
       "          jqueryScript.type = 'text/javascript';\n",
       "          jqueryScript.onload = function() {\n",
       "            var datatableScript = document.createElement('script');\n",
       "            datatableScript.src = 'https://cdn.datatables.net/1.10.20/js/jquery.dataTables.min.js';\n",
       "            datatableScript.type = 'text/javascript';\n",
       "            datatableScript.onload = function() {\n",
       "              window.interactive_beam_jquery = jQuery.noConflict(true);\n",
       "              window.interactive_beam_jquery(document).ready(function($){\n",
       "                \n",
       "              });\n",
       "            }\n",
       "            document.head.appendChild(datatableScript);\n",
       "          };\n",
       "          document.head.appendChild(jqueryScript);\n",
       "        } else {\n",
       "          window.interactive_beam_jquery(document).ready(function($){\n",
       "            \n",
       "          });\n",
       "        }"
      ]
     },
     "metadata": {},
     "output_type": "display_data"
    },
    {
     "name": "stdout",
     "output_type": "stream",
     "text": [
      "('lorem', 3)\n",
      "('ipsum', 1)\n",
      "('dolor', 3)\n",
      "('sit', 2)\n",
      "('amet', 2)\n",
      "('ut', 2)\n",
      "('enim', 2)\n",
      "('ad', 2)\n",
      "('minim', 1)\n",
      "('veniam', 1)\n"
     ]
    }
   ],
   "source": [
    "import apache_beam as beam\n",
    "from apache_beam.options.pipeline_options import PipelineOptions\n",
    "\n",
    "# Setting up running environment\n",
    "pipeline_args = [\n",
    "    \"--job_name=word_count\",\n",
    "    \"--runner=DirectRunner\", # local runner\n",
    "]\n",
    "pipeline_options = PipelineOptions(pipeline_args)\n",
    "\n",
    "# Run the beam pipeline\n",
    "with beam.Pipeline(options=pipeline_options) as p:\n",
    "    _ = (\n",
    "        p \n",
    "        # Creating the example document\n",
    "        # This can also be read from files\n",
    "        | \"Create texts\" >> beam.Create([\n",
    "            \"lorem ipsum dolor sit amet\",\n",
    "            \"sit amet dolor lorem\",\n",
    "            \"ut enim ad minim veniam\",\n",
    "            \"ut enim ad dolor lorem\",\n",
    "        ])\n",
    "        # Splitting the documents into words\n",
    "        | \"Split\" >> beam.FlatMap(lambda x: x.split())\n",
    "        # Convert to a tuple (key, value) = (word, 1)\n",
    "        | \"Pair with 1\" >> beam.Map(lambda x: (x, 1))\n",
    "        # Summing the value by each key/word\n",
    "        | \"Count\" >> beam.CombinePerKey(sum)\n",
    "        # Print the output\n",
    "        | \"Print\" >> beam.Map(print)\n",
    "    )"
   ]
  },
  {
   "cell_type": "code",
   "execution_count": null,
   "id": "90cbe5cc",
   "metadata": {},
   "outputs": [],
   "source": []
  }
 ],
 "metadata": {
  "kernelspec": {
   "display_name": "Python 3 (ipykernel)",
   "language": "python",
   "name": "python3"
  },
  "language_info": {
   "codemirror_mode": {
    "name": "ipython",
    "version": 3
   },
   "file_extension": ".py",
   "mimetype": "text/x-python",
   "name": "python",
   "nbconvert_exporter": "python",
   "pygments_lexer": "ipython3",
   "version": "3.10.6"
  },
  "toc": {
   "base_numbering": 1,
   "nav_menu": {},
   "number_sections": false,
   "sideBar": true,
   "skip_h1_title": false,
   "title_cell": "Table of Contents",
   "title_sidebar": "Contents",
   "toc_cell": false,
   "toc_position": {},
   "toc_section_display": true,
   "toc_window_display": false
  },
  "varInspector": {
   "cols": {
    "lenName": 16,
    "lenType": 16,
    "lenVar": 40
   },
   "kernels_config": {
    "python": {
     "delete_cmd_postfix": "",
     "delete_cmd_prefix": "del ",
     "library": "var_list.py",
     "varRefreshCmd": "print(var_dic_list())"
    },
    "r": {
     "delete_cmd_postfix": ") ",
     "delete_cmd_prefix": "rm(",
     "library": "var_list.r",
     "varRefreshCmd": "cat(var_dic_list()) "
    }
   },
   "types_to_exclude": [
    "module",
    "function",
    "builtin_function_or_method",
    "instance",
    "_Feature"
   ],
   "window_display": false
  }
 },
 "nbformat": 4,
 "nbformat_minor": 5
}
