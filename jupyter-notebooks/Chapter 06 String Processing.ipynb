{
 "cells": [
  {
   "cell_type": "markdown",
   "metadata": {},
   "source": [
    "# NumPy String, Bytes, and Object"
   ]
  },
  {
   "cell_type": "code",
   "execution_count": 1,
   "metadata": {
    "ExecuteTime": {
     "end_time": "2023-11-26T01:16:13.610427Z",
     "start_time": "2023-11-26T01:16:13.594117Z"
    }
   },
   "outputs": [
    {
     "data": {
      "text/plain": [
       "array(['a', 'b', 'c'], dtype='<U1')"
      ]
     },
     "execution_count": 1,
     "metadata": {},
     "output_type": "execute_result"
    }
   ],
   "source": [
    "import numpy as np\n",
    "value = [\"a\", \"b\", \"c\"]\n",
    "A_string = np.array(value, dtype=np.str_) # by default, dtype is unicode character\n",
    "A_string"
   ]
  },
  {
   "cell_type": "code",
   "execution_count": 2,
   "metadata": {
    "ExecuteTime": {
     "end_time": "2023-11-26T01:16:25.974046Z",
     "start_time": "2023-11-26T01:16:25.958843Z"
    }
   },
   "outputs": [
    {
     "data": {
      "text/plain": [
       "array([b'a', b'b', b'c'], dtype='|S1')"
      ]
     },
     "execution_count": 2,
     "metadata": {},
     "output_type": "execute_result"
    }
   ],
   "source": [
    "A_bytes = np.array(value, dtype=np.bytes_)\n",
    "A_bytes"
   ]
  },
  {
   "cell_type": "code",
   "execution_count": 3,
   "metadata": {
    "ExecuteTime": {
     "end_time": "2023-11-26T01:16:33.550864Z",
     "start_time": "2023-11-26T01:16:33.534851Z"
    }
   },
   "outputs": [
    {
     "data": {
      "text/plain": [
       "array(['a', 'b', 'c'], dtype=object)"
      ]
     },
     "execution_count": 3,
     "metadata": {},
     "output_type": "execute_result"
    }
   ],
   "source": [
    "A_object = np.array(value, dtype=np.object_)\n",
    "A_object"
   ]
  },
  {
   "cell_type": "code",
   "execution_count": 5,
   "metadata": {
    "ExecuteTime": {
     "end_time": "2023-11-26T01:16:54.118382Z",
     "start_time": "2023-11-26T01:16:54.107946Z"
    }
   },
   "outputs": [
    {
     "data": {
      "text/plain": [
       "array(['1', '12', '123', '1234', '12345'], dtype='<U5')"
      ]
     },
     "execution_count": 5,
     "metadata": {},
     "output_type": "execute_result"
    }
   ],
   "source": [
    "# Variable length strings\n",
    "A_string = np.array([\"1\", \"12\", \"123\", \"1234\", \"12345\"])\n",
    "A_string"
   ]
  },
  {
   "cell_type": "code",
   "execution_count": 6,
   "metadata": {
    "ExecuteTime": {
     "end_time": "2023-11-26T01:17:03.584867Z",
     "start_time": "2023-11-26T01:17:03.568504Z"
    }
   },
   "outputs": [
    {
     "data": {
      "text/plain": [
       "array(['a', 'b', 'c', 'd'], dtype=object)"
      ]
     },
     "execution_count": 6,
     "metadata": {},
     "output_type": "execute_result"
    }
   ],
   "source": [
    "A_object = np.array([\"a\", \"b\", \"c\", \"d\"], dtype=np.object_)\n",
    "A_object"
   ]
  },
  {
   "cell_type": "code",
   "execution_count": 7,
   "metadata": {
    "ExecuteTime": {
     "end_time": "2023-11-26T01:17:23.757720Z",
     "start_time": "2023-11-26T01:17:23.748511Z"
    }
   },
   "outputs": [
    {
     "data": {
      "text/plain": [
       "array([b'a', b'b', b'c', b'd'], dtype='|S1')"
      ]
     },
     "execution_count": 7,
     "metadata": {},
     "output_type": "execute_result"
    }
   ],
   "source": [
    "# Converting to bytes\n",
    "A_object.astype(np.bytes_)"
   ]
  },
  {
   "cell_type": "markdown",
   "metadata": {},
   "source": [
    "# Pandas Strings"
   ]
  },
  {
   "cell_type": "code",
   "execution_count": 8,
   "metadata": {
    "ExecuteTime": {
     "end_time": "2023-11-26T01:17:49.180950Z",
     "start_time": "2023-11-26T01:17:48.853152Z"
    }
   },
   "outputs": [
    {
     "name": "stderr",
     "output_type": "stream",
     "text": [
      "/var/folders/jv/p_nfc0852qv0dsy89d4j7kth0000gn/T/ipykernel_26425/2934584651.py:4: UserWarning: Instantiating StringDtype without any arguments.Pass a StringDtype instance to silence this warning.\n",
      "  \"feature1\": pd.Series(feature, dtype=pd.StringDtype),\n"
     ]
    },
    {
     "data": {
      "text/html": [
       "<div>\n",
       "<style scoped>\n",
       "    .dataframe tbody tr th:only-of-type {\n",
       "        vertical-align: middle;\n",
       "    }\n",
       "\n",
       "    .dataframe tbody tr th {\n",
       "        vertical-align: top;\n",
       "    }\n",
       "\n",
       "    .dataframe thead th {\n",
       "        text-align: right;\n",
       "    }\n",
       "</style>\n",
       "<table border=\"1\" class=\"dataframe\">\n",
       "  <thead>\n",
       "    <tr style=\"text-align: right;\">\n",
       "      <th></th>\n",
       "      <th>feature1</th>\n",
       "      <th>feature2</th>\n",
       "      <th>feature3</th>\n",
       "      <th>feature4</th>\n",
       "      <th>feature5</th>\n",
       "    </tr>\n",
       "  </thead>\n",
       "  <tbody>\n",
       "    <tr>\n",
       "      <th>0</th>\n",
       "      <td>a</td>\n",
       "      <td>a</td>\n",
       "      <td>a</td>\n",
       "      <td>a</td>\n",
       "      <td>a</td>\n",
       "    </tr>\n",
       "    <tr>\n",
       "      <th>1</th>\n",
       "      <td>b</td>\n",
       "      <td>b</td>\n",
       "      <td>b</td>\n",
       "      <td>b</td>\n",
       "      <td>b</td>\n",
       "    </tr>\n",
       "    <tr>\n",
       "      <th>2</th>\n",
       "      <td>c</td>\n",
       "      <td>c</td>\n",
       "      <td>c</td>\n",
       "      <td>c</td>\n",
       "      <td>c</td>\n",
       "    </tr>\n",
       "    <tr>\n",
       "      <th>3</th>\n",
       "      <td>d</td>\n",
       "      <td>d</td>\n",
       "      <td>d</td>\n",
       "      <td>d</td>\n",
       "      <td>d</td>\n",
       "    </tr>\n",
       "  </tbody>\n",
       "</table>\n",
       "</div>"
      ],
      "text/plain": [
       "  feature1 feature2 feature3 feature4 feature5\n",
       "0        a        a        a        a        a\n",
       "1        b        b        b        b        b\n",
       "2        c        c        c        c        c\n",
       "3        d        d        d        d        d"
      ]
     },
     "execution_count": 8,
     "metadata": {},
     "output_type": "execute_result"
    }
   ],
   "source": [
    "import pandas as pd\n",
    "feature = [\"a\", \"b\", \"c\", \"d\"]\n",
    "df = pd.DataFrame({\n",
    "    \"feature1\": pd.Series(feature, dtype=pd.StringDtype),\n",
    "    \"feature2\": pd.Series(feature, dtype=\"string\"),\n",
    "    \"feature3\": pd.Series(feature, dtype=str),\n",
    "    \"feature4\": pd.Series(feature, dtype=\"str\"),\n",
    "    \"feature4\": pd.Series(feature, dtype=object),\n",
    "    \"feature5\": pd.Series(feature, dtype=\"object\")\n",
    "})\n",
    "df"
   ]
  },
  {
   "cell_type": "code",
   "execution_count": 9,
   "metadata": {
    "ExecuteTime": {
     "end_time": "2023-11-26T01:17:57.074637Z",
     "start_time": "2023-11-26T01:17:57.049953Z"
    }
   },
   "outputs": [
    {
     "name": "stdout",
     "output_type": "stream",
     "text": [
      "<class 'pandas.core.frame.DataFrame'>\n",
      "RangeIndex: 4 entries, 0 to 3\n",
      "Data columns (total 5 columns):\n",
      " #   Column    Non-Null Count  Dtype \n",
      "---  ------    --------------  ----- \n",
      " 0   feature1  4 non-null      string\n",
      " 1   feature2  4 non-null      string\n",
      " 2   feature3  4 non-null      object\n",
      " 3   feature4  4 non-null      object\n",
      " 4   feature5  4 non-null      object\n",
      "dtypes: object(3), string(2)\n",
      "memory usage: 288.0+ bytes\n"
     ]
    }
   ],
   "source": [
    "df.info()"
   ]
  },
  {
   "cell_type": "code",
   "execution_count": 10,
   "metadata": {
    "ExecuteTime": {
     "end_time": "2023-11-26T01:18:39.375722Z",
     "start_time": "2023-11-26T01:18:39.362805Z"
    }
   },
   "outputs": [
    {
     "data": {
      "text/plain": [
       "array(['a', 'b', 'c', 'd'], dtype='<U1')"
      ]
     },
     "execution_count": 10,
     "metadata": {},
     "output_type": "execute_result"
    }
   ],
   "source": [
    "# NumPy to Pandas\n",
    "import numpy as np\n",
    "import pandas as pd\n",
    "A_string = np.array([\"a\", \"b\", \"c\", \"d\"])\n",
    "A_string"
   ]
  },
  {
   "cell_type": "code",
   "execution_count": 11,
   "metadata": {
    "ExecuteTime": {
     "end_time": "2023-11-26T01:18:43.982560Z",
     "start_time": "2023-11-26T01:18:43.969896Z"
    }
   },
   "outputs": [
    {
     "data": {
      "text/plain": [
       "0    a\n",
       "1    b\n",
       "2    c\n",
       "3    d\n",
       "dtype: object"
      ]
     },
     "execution_count": 11,
     "metadata": {},
     "output_type": "execute_result"
    }
   ],
   "source": [
    "A_series = pd.Series(A_string)\n",
    "A_series"
   ]
  },
  {
   "cell_type": "code",
   "execution_count": 12,
   "metadata": {
    "ExecuteTime": {
     "end_time": "2023-11-26T01:19:03.437769Z",
     "start_time": "2023-11-26T01:19:03.421522Z"
    }
   },
   "outputs": [
    {
     "data": {
      "text/html": [
       "<div>\n",
       "<style scoped>\n",
       "    .dataframe tbody tr th:only-of-type {\n",
       "        vertical-align: middle;\n",
       "    }\n",
       "\n",
       "    .dataframe tbody tr th {\n",
       "        vertical-align: top;\n",
       "    }\n",
       "\n",
       "    .dataframe thead th {\n",
       "        text-align: right;\n",
       "    }\n",
       "</style>\n",
       "<table border=\"1\" class=\"dataframe\">\n",
       "  <thead>\n",
       "    <tr style=\"text-align: right;\">\n",
       "      <th></th>\n",
       "      <th>feature1</th>\n",
       "      <th>feature2</th>\n",
       "    </tr>\n",
       "  </thead>\n",
       "  <tbody>\n",
       "    <tr>\n",
       "      <th>0</th>\n",
       "      <td>a</td>\n",
       "      <td>a</td>\n",
       "    </tr>\n",
       "    <tr>\n",
       "      <th>1</th>\n",
       "      <td>b</td>\n",
       "      <td>b</td>\n",
       "    </tr>\n",
       "    <tr>\n",
       "      <th>2</th>\n",
       "      <td>c</td>\n",
       "      <td>c</td>\n",
       "    </tr>\n",
       "    <tr>\n",
       "      <th>3</th>\n",
       "      <td>&lt;NA&gt;</td>\n",
       "      <td>None</td>\n",
       "    </tr>\n",
       "    <tr>\n",
       "      <th>4</th>\n",
       "      <td>d</td>\n",
       "      <td>d</td>\n",
       "    </tr>\n",
       "  </tbody>\n",
       "</table>\n",
       "</div>"
      ],
      "text/plain": [
       "  feature1 feature2\n",
       "0        a        a\n",
       "1        b        b\n",
       "2        c        c\n",
       "3     <NA>     None\n",
       "4        d        d"
      ]
     },
     "execution_count": 12,
     "metadata": {},
     "output_type": "execute_result"
    }
   ],
   "source": [
    "# Null values\n",
    "import pandas as pd\n",
    "feature = [\"a\", \"b\", \"c\", None, \"d\"]\n",
    "df = pd.DataFrame({\n",
    "    \"feature1\": pd.Series(feature, dtype=\"string\"),\n",
    "    \"feature2\": pd.Series(feature, dtype=\"object\")\n",
    "})\n",
    "df"
   ]
  },
  {
   "cell_type": "code",
   "execution_count": 13,
   "metadata": {
    "ExecuteTime": {
     "end_time": "2023-11-26T01:19:15.332077Z",
     "start_time": "2023-11-26T01:19:15.318386Z"
    }
   },
   "outputs": [
    {
     "name": "stdout",
     "output_type": "stream",
     "text": [
      "False\n",
      "True\n"
     ]
    }
   ],
   "source": [
    "# Check the two missing values\n",
    "print(df[\"feature1\"][3] is None)\n",
    "print(df[\"feature2\"][3] is None)"
   ]
  },
  {
   "cell_type": "markdown",
   "metadata": {},
   "source": [
    "# Tensorflow Bytes"
   ]
  },
  {
   "cell_type": "code",
   "execution_count": 14,
   "metadata": {
    "ExecuteTime": {
     "end_time": "2023-11-26T01:19:34.252724Z",
     "start_time": "2023-11-26T01:19:31.467624Z"
    }
   },
   "outputs": [
    {
     "data": {
      "text/plain": [
       "<tf.Tensor: shape=(3,), dtype=string, numpy=array([b'lorem', b'ipsum', b'dolar'], dtype=object)>"
      ]
     },
     "execution_count": 14,
     "metadata": {},
     "output_type": "execute_result"
    }
   ],
   "source": [
    "import tensorflow as tf\n",
    "string_array = [\"lorem\", \"ipsum\", \"dolar\"]\n",
    "tf_string_array = tf.constant(string_array)\n",
    "tf_string_array"
   ]
  },
  {
   "cell_type": "code",
   "execution_count": 15,
   "metadata": {
    "ExecuteTime": {
     "end_time": "2023-11-26T01:19:52.088292Z",
     "start_time": "2023-11-26T01:19:52.077549Z"
    }
   },
   "outputs": [
    {
     "data": {
      "text/plain": [
       "['0', '0', '0']"
      ]
     },
     "execution_count": 15,
     "metadata": {},
     "output_type": "execute_result"
    }
   ],
   "source": [
    "import tensorflow as tf\n",
    "mapping = {\"A\": \"1\", \"B\": \"2\", \"C\": \"5\"}\n",
    "values = tf.constant([\"A\", \"C\", \"B\"]) # should result [\"1\", \"5\", \"2\"]\n",
    "# alghouth the following does not throw the error\n",
    "replaced_values = [mapping.get(v, \"0\") for v in values.numpy()]\n",
    "replaced_values # the replaced results are incorrect"
   ]
  },
  {
   "cell_type": "code",
   "execution_count": 16,
   "metadata": {
    "ExecuteTime": {
     "end_time": "2023-11-26T01:20:07.924901Z",
     "start_time": "2023-11-26T01:20:07.907965Z"
    }
   },
   "outputs": [
    {
     "data": {
      "text/plain": [
       "<tf.Tensor: shape=(3,), dtype=string, numpy=array([b'A', b'B', b'C'], dtype=object)>"
      ]
     },
     "execution_count": 16,
     "metadata": {},
     "output_type": "execute_result"
    }
   ],
   "source": [
    "tf_string_array = tf.constant([\"A\", \"B\", \"C\"], dtype=tf.string)\n",
    "tf_string_array"
   ]
  },
  {
   "cell_type": "code",
   "execution_count": 17,
   "metadata": {
    "ExecuteTime": {
     "end_time": "2023-11-26T01:20:15.589103Z",
     "start_time": "2023-11-26T01:20:15.575283Z"
    }
   },
   "outputs": [
    {
     "data": {
      "text/plain": [
       "array([b'A', b'B', b'C'], dtype=object)"
      ]
     },
     "execution_count": 17,
     "metadata": {},
     "output_type": "execute_result"
    }
   ],
   "source": [
    "np_string_array_bytes = tf_string_array.numpy()\n",
    "np_string_array_bytes"
   ]
  },
  {
   "cell_type": "code",
   "execution_count": 18,
   "metadata": {
    "ExecuteTime": {
     "end_time": "2023-11-26T01:20:23.159853Z",
     "start_time": "2023-11-26T01:20:23.147831Z"
    }
   },
   "outputs": [
    {
     "data": {
      "text/plain": [
       "array(['A', 'B', 'C'], dtype='<U1')"
      ]
     },
     "execution_count": 18,
     "metadata": {},
     "output_type": "execute_result"
    }
   ],
   "source": [
    "np_string_array_str = tf_string_array.numpy().astype(str)\n",
    "np_string_array_str"
   ]
  },
  {
   "cell_type": "markdown",
   "metadata": {},
   "source": [
    "# Case Study: Parsing DateTime from String Representations"
   ]
  },
  {
   "cell_type": "code",
   "execution_count": 19,
   "metadata": {
    "ExecuteTime": {
     "end_time": "2023-11-26T01:20:52.509842Z",
     "start_time": "2023-11-26T01:20:52.494436Z"
    }
   },
   "outputs": [
    {
     "data": {
      "text/plain": [
       "datetime.datetime(2023, 5, 8, 1, 32, 25, tzinfo=datetime.timezone.utc)"
      ]
     },
     "execution_count": 19,
     "metadata": {},
     "output_type": "execute_result"
    }
   ],
   "source": [
    "import datetime\n",
    "datetime_local = datetime.datetime.strptime(\n",
    "    \"2023-05-07 17:32:25-08:00\", '%Y-%m-%d %H:%M:%S%z'\n",
    ")\n",
    "datetime_utc = datetime_local.astimezone(datetime.timezone.utc)\n",
    "datetime_utc"
   ]
  },
  {
   "cell_type": "code",
   "execution_count": 30,
   "metadata": {
    "ExecuteTime": {
     "end_time": "2023-11-26T01:28:31.270832Z",
     "start_time": "2023-11-26T01:28:31.258009Z"
    }
   },
   "outputs": [],
   "source": [
    "def _parse_timestamps(\n",
    "    timestamps_array: tf.Tensor, utc: bool = False\n",
    "):\n",
    "    \"\"\"\n",
    "    Parse timestamp strings, assuming %Y-%m-%d %H:%M:%S%Z.\n",
    "    For example: 2023-05-07 17:32:25-08:00\n",
    "    \"\"\"\n",
    "    # use substring to extract time components\n",
    "    year = tf.strings.to_number(\n",
    "        tf.strings.substr(timestamps_array, 0, 4),\n",
    "        out_type=tf.int64\n",
    "    )\n",
    "    month = tf.strings.to_number(\n",
    "        tf.strings.substr(timestamps_array, 5, 2),\n",
    "        out_type=tf.int64\n",
    "    )\n",
    "    date = tf.strings.to_number(\n",
    "        tf.strings.substr(timestamps_array, 8, 2),\n",
    "        out_type=tf.int64\n",
    "    )\n",
    "    hour = tf.strings.to_number(\n",
    "        tf.strings.substr(timestamps_array, 11, 2),\n",
    "        out_type=tf.int64\n",
    "    )\n",
    "    minute = tf.strings.to_number(\n",
    "        tf.strings.substr(timestamps_array, 14, 2),\n",
    "        out_type=tf.int64\n",
    "    )\n",
    "    seconds = tf.strings.to_number(\n",
    "        tf.strings.substr(timestamps_array, 17, 2),\n",
    "        out_type=tf.int64\n",
    "    )\n",
    "    zone = tf.strings.to_number(\n",
    "        tf.strings.substr(timestamps_array, 19, 3)\n",
    "    )\n",
    "    zone = tf.cast(zone, tf.int64)\n",
    "    # retroactively offset year/ month / date based on zone\n",
    "    if not utc:\n",
    "        return year, month, date, hour, minute, seconds, zone\n",
    "\n",
    "    # offsets [-1, 0, +1] day\n",
    "    date += (hour - zone) // 24\n",
    "    num_days = tf.constant(\n",
    "        [31, 28, 31, 30, 31, 30, 31, 31, 30, 31, 30, 31],\n",
    "        dtype=date.dtype\n",
    "    )\n",
    "    is_leap_year = tf.math.logical_and(\n",
    "        year % 4 == 0, year % 400 != 0\n",
    "    )\n",
    "    # deals with month offsets\n",
    "    month_days = tf.gather(num_days, month - 1)\n",
    "    month_days = tf.where(\n",
    "        tf.math.logical_and(month == 2, is_leap_year),\n",
    "        month_days + 1,\n",
    "        month_days\n",
    "    )\n",
    "    month -= (month_days - date) // month_days\n",
    "    # deals with year offset\n",
    "    year += (month - 1)  // 12\n",
    "\n",
    "    # Go back to correct Month\n",
    "    month = (month - 1) % 12 + 1\n",
    "    # Correct date: date > max number of days for the month\n",
    "    date = tf.where(\n",
    "        date > month_days, date % month_days, date\n",
    "    )\n",
    "    # month_days of the correct month\n",
    "    month_days = tf.gather(num_days, month - 1)\n",
    "    month_days = tf.where(\n",
    "        tf.math.logical_and(month == 2, is_leap_year),\n",
    "        month_days + 1,\n",
    "        month_days\n",
    "    )\n",
    "\n",
    "    # Correct date: case when date = 0\n",
    "    date = tf.where(\n",
    "        date < 1, month_days, date\n",
    "    )\n",
    "\n",
    "    # Correct hour\n",
    "    hour = (hour - zone) % 24\n",
    "\n",
    "    # make utc zone, which are 0s\n",
    "    zone = tf.zeros_like(seconds)\n",
    "\n",
    "    return year, month, date, hour, minute, seconds, zone"
   ]
  },
  {
   "cell_type": "code",
   "execution_count": 33,
   "metadata": {
    "ExecuteTime": {
     "end_time": "2023-11-26T01:30:21.456316Z",
     "start_time": "2023-11-26T01:30:21.434436Z"
    }
   },
   "outputs": [
    {
     "data": {
      "text/plain": [
       "<tf.Tensor: shape=(9, 6), dtype=int64, numpy=\n",
       "array([[2023,    5,    7,   13,   32,   25],\n",
       "       [2023,    5,    8,    1,   32,   25],\n",
       "       [2023,    5,    6,   18,   32,   25],\n",
       "       [2023,    9,    1,    6,   15,   37],\n",
       "       [2023,    5,   31,   18,   23,   15],\n",
       "       [2024,    1,    1,    3,   32,   15],\n",
       "       [2022,   12,   31,   22,   25,   10],\n",
       "       [2024,    2,   29,    1,   59,   11],\n",
       "       [2024,    2,   29,   21,   38,   17]])>"
      ]
     },
     "execution_count": 33,
     "metadata": {},
     "output_type": "execute_result"
    }
   ],
   "source": [
    "import datetime\n",
    "import numpy as np\n",
    "import tensorflow as tf\n",
    "timestamps_array = tf.constant(\n",
    "    [\n",
    "        \"2023-05-07 05:32:25-08:00\", # utc: same date\n",
    "        \"2023-05-07 17:32:25-08:00\", # utc: next day\n",
    "        \"2023-05-07 05:32:25+11:00\", # utc: previous day\n",
    "        \"2023-08-31 22:15:37-08:00\", # utc: next month\n",
    "        \"2023-06-01 02:23:15+08:00\", # utc: previous month\n",
    "        \"2023-12-31 23:32:15-04:00\", # utc: next year\n",
    "        \"2023-01-01 02:25:10+04:00\", # utc: last year\n",
    "        \"2024-02-28 23:59:11-02:00\", # utc: leap year next day (29th)\n",
    "        \"2024-03-01 01:38:17+04:00\", # utc: leap year last day (29th)\n",
    "    ]\n",
    ")\n",
    "# parse with our function\n",
    "year, month, date, hour, minute, seconds, zone = _parse_timestamps(\n",
    "    timestamps_array, utc=True\n",
    ")\n",
    "output_tf = tf.stack(\n",
    "    [year, month, date, hour, minute, seconds], axis=1\n",
    ")\n",
    "\n",
    "# parse each with datetime\n",
    "output_dt = np.zeros((timestamps_array.shape[0], 6), dtype=int)\n",
    "for ii, tstamp in enumerate(timestamps_array.numpy().astype(str)):\n",
    "    datetime_local = datetime.datetime.strptime(\n",
    "        tstamp, '%Y-%m-%d %H:%M:%S%z'\n",
    "    )\n",
    "    datetime_utc = datetime_local.astimezone(datetime.timezone.utc)\n",
    "    output_dt[ii][0] = datetime_utc.year\n",
    "    output_dt[ii][1] = datetime_utc.month\n",
    "    output_dt[ii][2] = datetime_utc.day\n",
    "    output_dt[ii][3] = datetime_utc.hour\n",
    "    output_dt[ii][4] = datetime_utc.minute\n",
    "    output_dt[ii][5] = datetime_utc.second\n",
    "\n",
    "assert np.allclose(output_dt, output_tf)\n",
    "output_tf"
   ]
  },
  {
   "cell_type": "code",
   "execution_count": 24,
   "metadata": {
    "ExecuteTime": {
     "end_time": "2023-11-26T01:22:34.481115Z",
     "start_time": "2023-11-26T01:22:34.467698Z"
    }
   },
   "outputs": [
    {
     "data": {
      "text/plain": [
       "array([[2023,    5,    7,   13,   32,   25],\n",
       "       [2023,    5,    8,    1,   32,   25],\n",
       "       [2023,    5,    6,   18,   32,   25],\n",
       "       [2023,    9,    1,    6,   15,   37],\n",
       "       [2023,    5,   31,   18,   23,   15],\n",
       "       [2024,    1,    1,    3,   32,   15],\n",
       "       [2022,   12,   31,   22,   25,   10],\n",
       "       [2024,    2,   29,    1,   59,   11],\n",
       "       [2024,    2,   29,   21,   38,   17]])"
      ]
     },
     "execution_count": 24,
     "metadata": {},
     "output_type": "execute_result"
    }
   ],
   "source": [
    "output_dt"
   ]
  },
  {
   "cell_type": "markdown",
   "metadata": {},
   "source": [
    "# Mapping Strings to Indices"
   ]
  },
  {
   "cell_type": "code",
   "execution_count": 36,
   "metadata": {
    "ExecuteTime": {
     "end_time": "2023-11-26T01:37:15.776597Z",
     "start_time": "2023-11-26T01:37:15.760275Z"
    }
   },
   "outputs": [
    {
     "data": {
      "text/plain": [
       "[1, 0, 2, 3, 25]"
      ]
     },
     "execution_count": 36,
     "metadata": {},
     "output_type": "execute_result"
    }
   ],
   "source": [
    "# create a list to store all the alphabet\n",
    "alphabet_lookup = [chr(ii+97) for ii in range(26)]\n",
    "values = [\"b\", \"a\", \"c\", \"d\", \"z\"]\n",
    "# using list.index to look\n",
    "index = [alphabet_lookup.index(v) for v in values]\n",
    "index"
   ]
  },
  {
   "cell_type": "code",
   "execution_count": 37,
   "metadata": {
    "ExecuteTime": {
     "end_time": "2023-11-26T01:37:17.242647Z",
     "start_time": "2023-11-26T01:37:17.230925Z"
    }
   },
   "outputs": [
    {
     "data": {
      "text/plain": [
       "['b', 'a', 'c', 'd', 'z']"
      ]
     },
     "execution_count": 37,
     "metadata": {},
     "output_type": "execute_result"
    }
   ],
   "source": [
    "# Look up letter based on index\n",
    "retrieved_values = [alphabet_lookup[ii] for ii in index]\n",
    "# the two values list should be the same\n",
    "assert values == retrieved_values\n",
    "values"
   ]
  },
  {
   "cell_type": "markdown",
   "metadata": {},
   "source": [
    "# NumPy `np.unique"
   ]
  },
  {
   "cell_type": "code",
   "execution_count": 38,
   "metadata": {
    "ExecuteTime": {
     "end_time": "2023-11-26T01:37:34.589584Z",
     "start_time": "2023-11-26T01:37:34.577661Z"
    }
   },
   "outputs": [],
   "source": [
    "import numpy as np\n",
    "feature = [\"a\", \"b\", \"c\", \"b\", \"a\"]\n",
    "unique, index = np.unique(feature, return_inverse=True)"
   ]
  },
  {
   "cell_type": "code",
   "execution_count": 39,
   "metadata": {
    "ExecuteTime": {
     "end_time": "2023-11-26T01:37:38.414106Z",
     "start_time": "2023-11-26T01:37:38.395841Z"
    }
   },
   "outputs": [
    {
     "data": {
      "text/plain": [
       "array(['a', 'b', 'c'], dtype='<U1')"
      ]
     },
     "execution_count": 39,
     "metadata": {},
     "output_type": "execute_result"
    }
   ],
   "source": [
    "unique"
   ]
  },
  {
   "cell_type": "code",
   "execution_count": 40,
   "metadata": {
    "ExecuteTime": {
     "end_time": "2023-11-26T01:37:40.736235Z",
     "start_time": "2023-11-26T01:37:40.718721Z"
    }
   },
   "outputs": [
    {
     "data": {
      "text/plain": [
       "array([0, 1, 2, 1, 0])"
      ]
     },
     "execution_count": 40,
     "metadata": {},
     "output_type": "execute_result"
    }
   ],
   "source": [
    "index"
   ]
  },
  {
   "cell_type": "code",
   "execution_count": 41,
   "metadata": {
    "ExecuteTime": {
     "end_time": "2023-11-26T01:37:51.340535Z",
     "start_time": "2023-11-26T01:37:51.325573Z"
    }
   },
   "outputs": [
    {
     "data": {
      "text/plain": [
       "array(['a', 'b', 'c', 'b', 'a'], dtype='<U1')"
      ]
     },
     "execution_count": 41,
     "metadata": {},
     "output_type": "execute_result"
    }
   ],
   "source": [
    "recovered_feature = np.take(unique, index)\n",
    "assert np.all(feature == recovered_feature)\n",
    "recovered_feature"
   ]
  },
  {
   "cell_type": "markdown",
   "metadata": {
    "ExecuteTime": {
     "end_time": "2023-11-26T01:38:09.429497Z",
     "start_time": "2023-11-26T01:38:09.422008Z"
    }
   },
   "source": [
    "Non-reproducible index"
   ]
  },
  {
   "cell_type": "code",
   "execution_count": 43,
   "metadata": {
    "ExecuteTime": {
     "end_time": "2023-11-26T01:38:13.838842Z",
     "start_time": "2023-11-26T01:38:13.824572Z"
    }
   },
   "outputs": [
    {
     "data": {
      "text/plain": [
       "array([0, 1, 2, 1, 0])"
      ]
     },
     "execution_count": 43,
     "metadata": {},
     "output_type": "execute_result"
    }
   ],
   "source": [
    "import numpy as np\n",
    "feature_a = [\"a\", \"b\", \"c\", \"b\", \"a\"]\n",
    "feature_b = [\"c\", \"b\", \"a\", \"b\", \"b\"]\n",
    "\n",
    "_, index_a = np.unique(feature_a, return_inverse=True)\n",
    "index_a"
   ]
  },
  {
   "cell_type": "code",
   "execution_count": 44,
   "metadata": {
    "ExecuteTime": {
     "end_time": "2023-11-26T01:38:20.673293Z",
     "start_time": "2023-11-26T01:38:20.655770Z"
    }
   },
   "outputs": [
    {
     "data": {
      "text/plain": [
       "array([2, 1, 0, 1, 1])"
      ]
     },
     "execution_count": 44,
     "metadata": {},
     "output_type": "execute_result"
    }
   ],
   "source": [
    "_, index_b = np.unique(feature_b, return_inverse=True)\n",
    "index_b"
   ]
  },
  {
   "cell_type": "markdown",
   "metadata": {},
   "source": [
    "# Pandas `pd.Categorical`"
   ]
  },
  {
   "cell_type": "code",
   "execution_count": 45,
   "metadata": {
    "ExecuteTime": {
     "end_time": "2023-11-26T01:38:59.103363Z",
     "start_time": "2023-11-26T01:38:59.076320Z"
    }
   },
   "outputs": [
    {
     "data": {
      "text/html": [
       "<div>\n",
       "<style scoped>\n",
       "    .dataframe tbody tr th:only-of-type {\n",
       "        vertical-align: middle;\n",
       "    }\n",
       "\n",
       "    .dataframe tbody tr th {\n",
       "        vertical-align: top;\n",
       "    }\n",
       "\n",
       "    .dataframe thead th {\n",
       "        text-align: right;\n",
       "    }\n",
       "</style>\n",
       "<table border=\"1\" class=\"dataframe\">\n",
       "  <thead>\n",
       "    <tr style=\"text-align: right;\">\n",
       "      <th></th>\n",
       "      <th>user_id</th>\n",
       "      <th>age</th>\n",
       "    </tr>\n",
       "  </thead>\n",
       "  <tbody>\n",
       "    <tr>\n",
       "      <th>0</th>\n",
       "      <td>1</td>\n",
       "      <td>18-25</td>\n",
       "    </tr>\n",
       "    <tr>\n",
       "      <th>1</th>\n",
       "      <td>2</td>\n",
       "      <td>65+</td>\n",
       "    </tr>\n",
       "    <tr>\n",
       "      <th>2</th>\n",
       "      <td>3</td>\n",
       "      <td>26-30</td>\n",
       "    </tr>\n",
       "    <tr>\n",
       "      <th>3</th>\n",
       "      <td>4</td>\n",
       "      <td>30-40</td>\n",
       "    </tr>\n",
       "    <tr>\n",
       "      <th>4</th>\n",
       "      <td>5</td>\n",
       "      <td>40-50</td>\n",
       "    </tr>\n",
       "    <tr>\n",
       "      <th>5</th>\n",
       "      <td>6</td>\n",
       "      <td>50-65</td>\n",
       "    </tr>\n",
       "  </tbody>\n",
       "</table>\n",
       "</div>"
      ],
      "text/plain": [
       "   user_id    age\n",
       "0        1  18-25\n",
       "1        2    65+\n",
       "2        3  26-30\n",
       "3        4  30-40\n",
       "4        5  40-50\n",
       "5        6  50-65"
      ]
     },
     "execution_count": 45,
     "metadata": {},
     "output_type": "execute_result"
    }
   ],
   "source": [
    "import pandas as pd\n",
    "df = pd.DataFrame({\n",
    "    \"user_id\": pd.Series([1, 2, 3, 4, 5, 6], dtype=int), \n",
    "    \"age\": pd.Series([\n",
    "        \"18-25\", \"65+\", \"26-30\", \"30-40\", \"40-50\", \"50-65\"\n",
    "    ], dtype=\"category\")\n",
    "})\n",
    "df"
   ]
  },
  {
   "cell_type": "code",
   "execution_count": 46,
   "metadata": {
    "ExecuteTime": {
     "end_time": "2023-11-26T01:39:21.101327Z",
     "start_time": "2023-11-26T01:39:20.739018Z"
    }
   },
   "outputs": [
    {
     "name": "stdout",
     "output_type": "stream",
     "text": [
      "<class 'pandas.core.frame.DataFrame'>\n",
      "RangeIndex: 6 entries, 0 to 5\n",
      "Data columns (total 2 columns):\n",
      " #   Column   Non-Null Count  Dtype   \n",
      "---  ------   --------------  -----   \n",
      " 0   user_id  6 non-null      int64   \n",
      " 1   age      6 non-null      category\n",
      "dtypes: category(1), int64(1)\n",
      "memory usage: 724.0 bytes\n"
     ]
    }
   ],
   "source": [
    "df.info(memory_usage=\"deep\")"
   ]
  },
  {
   "cell_type": "markdown",
   "metadata": {},
   "source": [
    "Memory usage"
   ]
  },
  {
   "cell_type": "code",
   "execution_count": 47,
   "metadata": {
    "ExecuteTime": {
     "end_time": "2023-11-26T01:39:50.403270Z",
     "start_time": "2023-11-26T01:39:50.375468Z"
    }
   },
   "outputs": [
    {
     "name": "stdout",
     "output_type": "stream",
     "text": [
      "<class 'pandas.core.frame.DataFrame'>\n",
      "RangeIndex: 6000 entries, 0 to 5999\n",
      "Data columns (total 3 columns):\n",
      " #   Column   Non-Null Count  Dtype   \n",
      "---  ------   --------------  -----   \n",
      " 0   user_id  6000 non-null   int64   \n",
      " 1   age      6000 non-null   category\n",
      " 2   item_id  6000 non-null   category\n",
      "dtypes: category(2), int64(1)\n",
      "memory usage: 60.0 KB\n"
     ]
    }
   ],
   "source": [
    "import pandas as pd\n",
    "df = pd.DataFrame({\n",
    "    \"user_id\": pd.Series(np.arange(6000), dtype=int), \n",
    "    \"age\": pd.Series([\n",
    "        \"18-25\", \"65+\", \"26-30\", \"30-40\", \"40-50\", \"50-65\"\n",
    "    ] * 1000, dtype=\"category\"),\n",
    "    \"item_id\": pd.Series([\n",
    "        \"qbirvk9xs6lhtsgbtoc782jda9sopijt9m4132s5xftromiq8cuabc9z2y0v69cl\",\n",
    "        \"cu0lw3aot1ipge1kuu2q25sbxkqlaiivskkp631iqbtsqn9bmbkszynt5mg8bmqj\", \n",
    "        \"glg7hb0a0tii3huq7ixx3rdmt36sz0869hw439o7iwdtxslcglx6whqtjl6di8o7\", \n",
    "        \"4w58m7a91s4q3968oc8xn1om4p89zh14vt014atlif86bclh4hf7xnaugu3dznaq\",\n",
    "        \"cbjqeyvrvaomkpkrebftrffnpivbnzpiikyjmgsoelsbulobgfbmdewsozrvpoyk\",\n",
    "        \"qbirvk9xs6lhtsgbtoc782jda9sopijt9m4132s5xftromiq8cuabc9z2y0v69cl\"\n",
    "    ] * 1000, dtype=\"category\")\n",
    "})\n",
    "\n",
    "# make a copy of the table, and set the \"age\" and \"item_id\" columns to string\n",
    "df_non_category = df.copy()\n",
    "df_non_category[\"age\"] = df_non_category[\"age\"].astype(str)\n",
    "df_non_category[\"item_id\"] = df_non_category[\"item_id\"].astype(str)\n",
    "df.info(memory_usage=\"deep\")"
   ]
  },
  {
   "cell_type": "code",
   "execution_count": 48,
   "metadata": {
    "ExecuteTime": {
     "end_time": "2023-11-26T01:40:03.997061Z",
     "start_time": "2023-11-26T01:40:03.973145Z"
    }
   },
   "outputs": [
    {
     "name": "stdout",
     "output_type": "stream",
     "text": [
      "<class 'pandas.core.frame.DataFrame'>\n",
      "RangeIndex: 6000 entries, 0 to 5999\n",
      "Data columns (total 3 columns):\n",
      " #   Column   Non-Null Count  Dtype \n",
      "---  ------   --------------  ----- \n",
      " 0   user_id  6000 non-null   int64 \n",
      " 1   age      6000 non-null   object\n",
      " 2   item_id  6000 non-null   object\n",
      "dtypes: int64(1), object(2)\n",
      "memory usage: 1.1 MB\n"
     ]
    }
   ],
   "source": [
    "df_non_category.info(memory_usage=\"deep\")"
   ]
  },
  {
   "cell_type": "markdown",
   "metadata": {},
   "source": [
    "# Scikit-learn `sklearn.preprocessing.LabelEncoder`"
   ]
  },
  {
   "cell_type": "code",
   "execution_count": 49,
   "metadata": {
    "ExecuteTime": {
     "end_time": "2023-11-26T01:40:26.060998Z",
     "start_time": "2023-11-26T01:40:24.659598Z"
    }
   },
   "outputs": [
    {
     "data": {
      "text/plain": [
       "array([ 1,  0,  2,  3, 25])"
      ]
     },
     "execution_count": 49,
     "metadata": {},
     "output_type": "execute_result"
    }
   ],
   "source": [
    "from sklearn.preprocessing import LabelEncoder\n",
    "vocabulary = [chr(ii+97) for ii in range(26)]\n",
    "feature_train = [\"b\", \"a\", \"c\", \"d\", \"z\"]\n",
    "# Create the encoder\n",
    "feature_lookup = LabelEncoder()\n",
    "feature_lookup.fit(vocabulary)\n",
    "\n",
    "# Transform during training\n",
    "index_train = feature_lookup.transform(feature_train)\n",
    "index_train"
   ]
  },
  {
   "cell_type": "code",
   "execution_count": 50,
   "metadata": {
    "ExecuteTime": {
     "end_time": "2023-11-26T01:40:35.707958Z",
     "start_time": "2023-11-26T01:40:35.691887Z"
    }
   },
   "outputs": [
    {
     "data": {
      "text/plain": [
       "array([5, 6, 0, 1, 7])"
      ]
     },
     "execution_count": 50,
     "metadata": {},
     "output_type": "execute_result"
    }
   ],
   "source": [
    "# New data during inference\n",
    "feature_test = [\"f\", \"g\", \"a\", \"b\", \"h\"]\n",
    "index_test = feature_lookup.transform(feature_test)\n",
    "index_test"
   ]
  },
  {
   "cell_type": "markdown",
   "metadata": {},
   "source": [
    "# Tensorflow `tf.lookup`"
   ]
  },
  {
   "cell_type": "code",
   "execution_count": 51,
   "metadata": {
    "ExecuteTime": {
     "end_time": "2023-11-26T01:41:01.574617Z",
     "start_time": "2023-11-26T01:41:01.519944Z"
    }
   },
   "outputs": [
    {
     "data": {
      "text/plain": [
       "<tf.Tensor: shape=(6,), dtype=int64, numpy=array([ 2,  1,  3,  4, 26,  0])>"
      ]
     },
     "execution_count": 51,
     "metadata": {},
     "output_type": "execute_result"
    }
   ],
   "source": [
    "import tensorflow\n",
    "# Create a list to store all the alphabet\n",
    "alphabet_lookup = tf.constant([chr(ii+97) for ii in range(26)])\n",
    "# Last value in the list is oov\n",
    "values = tf.constant([\"b\", \"a\", \"c\", \"d\", \"z\", \"1\"])\n",
    "\n",
    "# Create the lookup hash table\n",
    "table = tf.lookup.StaticHashTable(\n",
    "    tf.lookup.KeyValueTensorInitializer(\n",
    "        keys=alphabet_lookup,\n",
    "        # index starts from 1\n",
    "        values=list(range(1, len(alphabet_lookup)+1)),\n",
    "        key_dtype=tf.string,\n",
    "        value_dtype=tf.int64,\n",
    "    ),\n",
    "    default_value=0, # oov\n",
    ")\n",
    "\n",
    "# Map the values\n",
    "index = table.lookup(values)\n",
    "index"
   ]
  },
  {
   "cell_type": "markdown",
   "metadata": {},
   "source": [
    "lookup through text file"
   ]
  },
  {
   "cell_type": "code",
   "execution_count": 52,
   "metadata": {
    "ExecuteTime": {
     "end_time": "2023-11-26T01:41:32.261125Z",
     "start_time": "2023-11-26T01:41:32.237782Z"
    }
   },
   "outputs": [
    {
     "name": "stdout",
     "output_type": "stream",
     "text": [
      "tf.Tensor([26  1  3  4  8  0], shape=(6,), dtype=int64)\n"
     ]
    }
   ],
   "source": [
    "import os\n",
    "import tempfile\n",
    "import tensorflow as tf\n",
    "\n",
    "# Create a list to store all the alphabet and save to a file\n",
    "alphabet_lookup = [chr(ii+97) for ii in range(26)]\n",
    "_, file_path = tempfile.mkstemp()\n",
    "with open(file_path, \"w\") as fid:\n",
    "    fid.write(\"\\n\".join(alphabet_lookup))\n",
    "\n",
    "# Last value in the list is oov\n",
    "values = tf.constant([\"z\", \"a\", \"c\", \"d\", \"h\", \"3\"])\n",
    "\n",
    "# Create the vocabulary lookup\n",
    "table = tf.lookup.StaticHashTable(\n",
    "    tf.lookup.TextFileInitializer(\n",
    "        filename=file_path,\n",
    "        # each line of the text file is a feature value\n",
    "        key_index=tf.lookup.TextFileIndex.WHOLE_LINE,\n",
    "        # use the line number as the index of the value\n",
    "        value_index=tf.lookup.TextFileIndex.LINE_NUMBER,\n",
    "        key_dtype=tf.string,\n",
    "        value_dtype=tf.int64,\n",
    "        value_index_offset=1, # index starts at 1\n",
    "    ),\n",
    "    default_value=0, # oov\n",
    ")\n",
    "\n",
    "# Apply the lookup\n",
    "index = table.lookup(values)\n",
    "print(index)\n",
    "\n",
    "# Clean up the temp file\n",
    "os.remove(file_path)"
   ]
  },
  {
   "cell_type": "markdown",
   "metadata": {},
   "source": [
    "# TorchText `torchtext.vocab`"
   ]
  },
  {
   "cell_type": "code",
   "execution_count": 53,
   "metadata": {
    "ExecuteTime": {
     "end_time": "2023-11-26T01:42:03.188105Z",
     "start_time": "2023-11-26T01:42:01.772393Z"
    }
   },
   "outputs": [
    {
     "data": {
      "text/plain": [
       "[1, 3, 2, -1, 0]"
      ]
     },
     "execution_count": 53,
     "metadata": {},
     "output_type": "execute_result"
    }
   ],
   "source": [
    "# !pip install torchtext==0.16.0\n",
    "import torchtext\n",
    "# A dictionary that maps between vocabulary and frequency of occurrence\n",
    "# This creates a->0, b->1, c->2\n",
    "vocab = {\"a\":1, \"b\": 2, \"c\":10}\n",
    "# Special tokens to insert at the beginning of the vocabulary\n",
    "# The mapping now becomes <pad>->0, a->1, b->2, c->3\n",
    "vocab_lookup = torchtext.vocab.vocab(\n",
    "    vocab, specials=[\"<pad>\"],  special_first=True\n",
    ")\n",
    "# handle oov, anything else, use -1\n",
    "vocab_lookup.set_default_index(-1)\n",
    "# look up values: \"d\" is oov, \"<pad>\" is special which maps to index 0\n",
    "values = [\"a\", \"c\", \"b\", \"d\", \"<pad>\"]\n",
    "# Look up a single value\n",
    "index = vocab_lookup[\"a\"] # 1\n",
    "# Loook up an array of values\n",
    "indices = vocab_lookup.lookup_indices(values)\n",
    "indices"
   ]
  },
  {
   "cell_type": "markdown",
   "metadata": {},
   "source": [
    "Build vocab from iterator"
   ]
  },
  {
   "cell_type": "code",
   "execution_count": 54,
   "metadata": {
    "ExecuteTime": {
     "end_time": "2023-11-26T01:42:28.456508Z",
     "start_time": "2023-11-26T01:42:28.394993Z"
    }
   },
   "outputs": [
    {
     "data": {
      "text/plain": [
       "[1, 6, -1, 0]"
      ]
     },
     "execution_count": 54,
     "metadata": {},
     "output_type": "execute_result"
    }
   ],
   "source": [
    "from torchtext.vocab import build_vocab_from_iterator\n",
    "\n",
    "def get_feature(feature_batch):\n",
    "    for feature in feature_batch:\n",
    "        yield feature\n",
    "\n",
    "feature_batch = [[\"a\", \"b\", \"c\"], [\"a\", \"d\", \"c\"], [\"f\", \"g\"]]\n",
    "vocab_lookup = build_vocab_from_iterator(\n",
    "    get_feature(feature_batch), specials=[\"<pad>\"]\n",
    ")\n",
    "vocab_lookup.set_default_index(-1) # oov\n",
    "\n",
    "# look up values\n",
    "values = [\"a\", \"g\", \"2\", \"<pad>\"]\n",
    "index = vocab_lookup.lookup_indices(values)\n",
    "index"
   ]
  },
  {
   "cell_type": "markdown",
   "metadata": {},
   "source": [
    "# Case Study: Factorization Machine\n",
    "\n",
    "Download dataset from https://grouplens.org/datasets/movielens/1m/ and unzip."
   ]
  },
  {
   "cell_type": "code",
   "execution_count": 45,
   "metadata": {
    "ExecuteTime": {
     "end_time": "2023-09-22T20:09:01.353264Z",
     "start_time": "2023-09-22T20:09:01.326343Z"
    },
    "code_folding": []
   },
   "outputs": [],
   "source": [
    "from typing import List\n",
    "\n",
    "from keras import Model, Input\n",
    "import keras.backend as K\n",
    "from keras.layers import (\n",
    "    Concatenate,\n",
    "    Flatten,\n",
    "    Lambda,\n",
    "    Embedding,\n",
    "    Reshape,\n",
    "    Dense,\n",
    "    Dropout,\n",
    "    Add,\n",
    "    Activation,\n",
    ")\n",
    "from keras.regularizers import l2\n",
    "\n",
    "class KerasDeepFactorizationMachine:\n",
    "    \"\"\"\n",
    "    Parameters:\n",
    "    -----------\n",
    "    * feature_name: name of the features. For the purpose of\n",
    "        distinguishing between feature names in each keras steps\n",
    "    * feature_size: a list of size of each features, in the correct\n",
    "        order. This is the number of unique categories of the feature.\n",
    "        If the feature is continuous, use 0.\n",
    "    * num_label: a list of integers, in the correct order of the\n",
    "        features, that indicates the number of labels applied for a\n",
    "        multilabel categorical feature.\n",
    "        - For non-multilabel categorical features, use 1;\n",
    "        - For continuous features, use 1;\n",
    "        - Otherwise, specificy the maximum number of multi-labels\n",
    "    * emb_size: embedding size\n",
    "    * hidden_layer_dim: list of hidden layer dimensions for\n",
    "        Multiplayer perceptron part of the Deep Factorization Machine.\n",
    "        If None or empty [], DFM becomes FM.\n",
    "    * drop_rate: dropout rate of MLP hidden layers\n",
    "    * output_activation: activation function of the output layer.\n",
    "        Default to 'linear' (no activation) for regression task.\n",
    "    For binary classification task, use \"sigmoid\".\n",
    "    * loss: type of loss to use. Default to 'mse'\n",
    "    * metrics: list of validation metrics. Default to ['mse']\n",
    "    * l2_fm: embedding regularization\n",
    "    * l2_dnn: regularization of the MLP layer\n",
    "    * l2_out: l2 regularization of the output layer\n",
    "    \"\"\"\n",
    "\n",
    "    def __init__(\n",
    "        self,\n",
    "        feature_name: List[str],\n",
    "        feature_size: List[int],\n",
    "        num_label: int = None,\n",
    "        emb_size: int = 64,\n",
    "        hidden_layer_dim: List[int] = [16, 16],\n",
    "        drop_rate: float = 0.1,\n",
    "        output_activation: str = \"linear\",\n",
    "        loss: str = \"mse\",\n",
    "        metrics: List[str] = [\"mse\"],\n",
    "        l2_fm: float = 0.0,\n",
    "        l2_dnn: float = 0.0,\n",
    "        l2_out: float = 0.0,\n",
    "    ):\n",
    "        self.feature_name = feature_name\n",
    "        self.feature_size = feature_size\n",
    "        self.num_label = num_label or ([1] * len(feature_size))\n",
    "        self.emb_size = emb_size\n",
    "        self.hidden_layer_dim = hidden_layer_dim\n",
    "        self.drop_rate = drop_rate\n",
    "        self.output_activation = output_activation\n",
    "        self.loss = loss\n",
    "        self.metrics = metrics\n",
    "        self.l2_fm = l2_fm\n",
    "        self.l2_dnn = l2_dnn\n",
    "        self.l2_out = l2_out\n",
    "        # count number of inputs\n",
    "        self.dim_input = len(self.feature_size)\n",
    "\n",
    "        # Build the model\n",
    "        self.model = self.build_model()\n",
    "\n",
    "    def get_embed(\n",
    "        self,\n",
    "        x_input,\n",
    "        x_size,\n",
    "        k_latent,\n",
    "        n_label,\n",
    "        name,\n",
    "        keepdims=False,\n",
    "    ):\n",
    "        \"\"\"Get embedding layer depending on type of variable\"\"\"\n",
    "        if x_size > 0:  # cateogry\n",
    "            embed = Embedding(\n",
    "                x_size,\n",
    "                k_latent,\n",
    "                input_length=1,\n",
    "                mask_zero=n_label > 1,\n",
    "                name=f\"embedding_{name}\",\n",
    "                embeddings_regularizer=l2(self.l2_fm),\n",
    "            )(x_input)\n",
    "            if n_label > 1:\n",
    "                # Average the multilabel embedding\n",
    "                embed = Lambda(\n",
    "                    lambda x: K.mean(x, axis=1, keepdims=keepdims),\n",
    "                    name=f\"multilabel_pool_{name}\",\n",
    "                )(embed)\n",
    "            else:  # single label\n",
    "                if keepdims:\n",
    "                    embed = Reshape(\n",
    "                        (1, k_latent), name=f\"reshape_{name}\"\n",
    "                    )(embed)\n",
    "                else:\n",
    "                    embed = Flatten(name=f\"flat_{name}\")(embed)\n",
    "        else:  # continuous variable, x_size=0\n",
    "            embed = Dense(\n",
    "                k_latent,\n",
    "                kernel_regularizer=l2(self.l2_fm),\n",
    "                name=f\"continuous_{name}\",\n",
    "            )(x_input)\n",
    "            if keepdims:\n",
    "                embed = Reshape((1, k_latent), name=f\"rehape_{name}\")(\n",
    "                    embed\n",
    "                )\n",
    "        return embed\n",
    "\n",
    "    def fm_1d(self):\n",
    "        \"\"\"Linear (1st order) term of Factorization Machine\"\"\"\n",
    "        # 1D terms\n",
    "        biases = [\n",
    "            self.get_embed(x, size, 1, n, name + \"_1d\")\n",
    "            for (x, size, n, name) in zip(\n",
    "                self.input_x,\n",
    "                self.feature_size,\n",
    "                self.num_label,\n",
    "                self.feature_name,\n",
    "            )\n",
    "        ]\n",
    "        # Add all terms\n",
    "        y_fm_1d = Add(name=\"fm_1d_output\")(biases)\n",
    "\n",
    "        return y_fm_1d\n",
    "\n",
    "    def fm_2d(self):\n",
    "        \"\"\"Interaction (2nd order) term of Factorization Machine\"\"\"\n",
    "        # (None, 1, k) embeddings for each feature\n",
    "        interactions = [\n",
    "            self.get_embed(\n",
    "                x, size, self.emb_size, n, name + \"_2d\", keepdims=True\n",
    "            )\n",
    "            for (x, size, n, name) in zip(\n",
    "                self.input_x,\n",
    "                self.feature_size,\n",
    "                self.num_label,\n",
    "                self.feature_name,\n",
    "            )\n",
    "        ]\n",
    "        # Concatenate all 2D embed layers => (None, n_features, k)\n",
    "        embed_2d = Concatenate(axis=1, name=\"concat_embed_2d\")(\n",
    "            interactions\n",
    "        )\n",
    "\n",
    "        # Calculate the interaction term sum(x)^2 - sum(x^2)\n",
    "        square_of_sum = Lambda(\n",
    "            lambda x: K.square(K.sum(x, axis=1, keepdims=False)),\n",
    "            name=\"square_of_sum\",\n",
    "        )(embed_2d)\n",
    "        sum_of_square = Lambda(\n",
    "            lambda x: K.sum(K.square(x), axis=1, keepdims=False),\n",
    "            name=\"sum_of_square\",\n",
    "        )(embed_2d)\n",
    "        second_order_term = Lambda(\n",
    "            lambda s: 0.5 * K.sum(s[0] - s[1], axis=1),\n",
    "            name=\"sq_sum-sum_sq\",\n",
    "        )((square_of_sum, sum_of_square))\n",
    "        y_fm_2d = Reshape((1,), name=\"fm_2d_output\")(second_order_term)\n",
    "\n",
    "        return y_fm_2d, embed_2d\n",
    "\n",
    "    def deep_mlp(self):\n",
    "        \"\"\"\n",
    "        Deep Multilayer Perceptron part of the \n",
    "        Deep Factorization Machine\n",
    "        \"\"\"\n",
    "        # flat embed layers from 3D to 2D tensors\n",
    "        y_mlp = Flatten(name=\"flat_embed_2d\")(self.embed_2d)\n",
    "        for i, dim in enumerate(self.hidden_layer_dim):\n",
    "            if self.drop_rate > 0:\n",
    "                y_mlp = Dropout(self.drop_rate)(y_mlp)\n",
    "            y_mlp = Dense(\n",
    "                dim,\n",
    "                activation=\"relu\",\n",
    "                name=f\"mlp_hidden_{i+1}\",\n",
    "                kernel_regularizer=l2(self.l2_dnn),\n",
    "            )(y_mlp)\n",
    "        # Output of the MLP layer\n",
    "        y_mlp = Dense(1, activation=\"relu\", name=\"mlp_output\")(y_mlp)\n",
    "\n",
    "        return y_mlp\n",
    "\n",
    "    def build_model(self):\n",
    "        # Make 1 input for each feature\n",
    "        self.input_x = [\n",
    "            Input(\n",
    "                shape=(self.num_label[i],),\n",
    "                name=f\"input_{self.feature_name[i]}\",\n",
    "            )\n",
    "            for i in range(self.dim_input)\n",
    "        ]\n",
    "        # Build each part of the model\n",
    "        self.y_fm_1d = self.fm_1d()\n",
    "        self.y_fm_2d, self.embed_2d = self.fm_2d()\n",
    "        # Decide whether or not add the deep MLP part\n",
    "        if self.hidden_layer_dim:\n",
    "            self.y_mlp = self.deep_mlp()\n",
    "            y_hat = Concatenate()(\n",
    "                [self.y_fm_1d, self.y_fm_2d, self.y_mlp]\n",
    "            )\n",
    "        else:\n",
    "            y_hat = Concatenate()([self.y_fm_1d, self.y_fm_2d])\n",
    "\n",
    "        y_hat = Dense(\n",
    "            1, name=\"deepfm_output\", kernel_regularizer=l2(self.l2_out)\n",
    "        )(y_hat)\n",
    "        y_hat = Activation(self.output_activation)(y_hat)\n",
    "\n",
    "        # Make the model\n",
    "        model = Model(inputs=self.input_x, outputs=[y_hat])\n",
    "        model.compile(\n",
    "            optimizer=\"adam\", loss=self.loss, metrics=self.metrics\n",
    "        )\n",
    "\n",
    "        return model"
   ]
  },
  {
   "cell_type": "code",
   "execution_count": 10,
   "metadata": {
    "ExecuteTime": {
     "end_time": "2023-09-22T18:57:03.053757Z",
     "start_time": "2023-09-22T18:56:59.022127Z"
    }
   },
   "outputs": [
    {
     "name": "stdout",
     "output_type": "stream",
     "text": [
      "====== rating.dat ======\n"
     ]
    },
    {
     "data": {
      "text/html": [
       "<div>\n",
       "<style scoped>\n",
       "    .dataframe tbody tr th:only-of-type {\n",
       "        vertical-align: middle;\n",
       "    }\n",
       "\n",
       "    .dataframe tbody tr th {\n",
       "        vertical-align: top;\n",
       "    }\n",
       "\n",
       "    .dataframe thead th {\n",
       "        text-align: right;\n",
       "    }\n",
       "</style>\n",
       "<table border=\"1\" class=\"dataframe\">\n",
       "  <thead>\n",
       "    <tr style=\"text-align: right;\">\n",
       "      <th></th>\n",
       "      <th>uid</th>\n",
       "      <th>mid</th>\n",
       "      <th>rating</th>\n",
       "      <th>timestamp</th>\n",
       "    </tr>\n",
       "  </thead>\n",
       "  <tbody>\n",
       "    <tr>\n",
       "      <th>0</th>\n",
       "      <td>1</td>\n",
       "      <td>1193</td>\n",
       "      <td>5</td>\n",
       "      <td>978300760</td>\n",
       "    </tr>\n",
       "    <tr>\n",
       "      <th>1</th>\n",
       "      <td>1</td>\n",
       "      <td>661</td>\n",
       "      <td>3</td>\n",
       "      <td>978302109</td>\n",
       "    </tr>\n",
       "    <tr>\n",
       "      <th>2</th>\n",
       "      <td>1</td>\n",
       "      <td>914</td>\n",
       "      <td>3</td>\n",
       "      <td>978301968</td>\n",
       "    </tr>\n",
       "    <tr>\n",
       "      <th>3</th>\n",
       "      <td>1</td>\n",
       "      <td>3408</td>\n",
       "      <td>4</td>\n",
       "      <td>978300275</td>\n",
       "    </tr>\n",
       "    <tr>\n",
       "      <th>4</th>\n",
       "      <td>1</td>\n",
       "      <td>2355</td>\n",
       "      <td>5</td>\n",
       "      <td>978824291</td>\n",
       "    </tr>\n",
       "  </tbody>\n",
       "</table>\n",
       "</div>"
      ],
      "text/plain": [
       "   uid   mid  rating  timestamp\n",
       "0    1  1193       5  978300760\n",
       "1    1   661       3  978302109\n",
       "2    1   914       3  978301968\n",
       "3    1  3408       4  978300275\n",
       "4    1  2355       5  978824291"
      ]
     },
     "metadata": {},
     "output_type": "display_data"
    },
    {
     "name": "stdout",
     "output_type": "stream",
     "text": [
      "===== movies.dat ======\n"
     ]
    },
    {
     "data": {
      "text/html": [
       "<div>\n",
       "<style scoped>\n",
       "    .dataframe tbody tr th:only-of-type {\n",
       "        vertical-align: middle;\n",
       "    }\n",
       "\n",
       "    .dataframe tbody tr th {\n",
       "        vertical-align: top;\n",
       "    }\n",
       "\n",
       "    .dataframe thead th {\n",
       "        text-align: right;\n",
       "    }\n",
       "</style>\n",
       "<table border=\"1\" class=\"dataframe\">\n",
       "  <thead>\n",
       "    <tr style=\"text-align: right;\">\n",
       "      <th></th>\n",
       "      <th>mid</th>\n",
       "      <th>movie_name</th>\n",
       "      <th>movie_genre</th>\n",
       "    </tr>\n",
       "  </thead>\n",
       "  <tbody>\n",
       "    <tr>\n",
       "      <th>0</th>\n",
       "      <td>1</td>\n",
       "      <td>Toy Story (1995)</td>\n",
       "      <td>Animation|Children's|Comedy</td>\n",
       "    </tr>\n",
       "    <tr>\n",
       "      <th>1</th>\n",
       "      <td>2</td>\n",
       "      <td>Jumanji (1995)</td>\n",
       "      <td>Adventure|Children's|Fantasy</td>\n",
       "    </tr>\n",
       "    <tr>\n",
       "      <th>2</th>\n",
       "      <td>3</td>\n",
       "      <td>Grumpier Old Men (1995)</td>\n",
       "      <td>Comedy|Romance</td>\n",
       "    </tr>\n",
       "    <tr>\n",
       "      <th>3</th>\n",
       "      <td>4</td>\n",
       "      <td>Waiting to Exhale (1995)</td>\n",
       "      <td>Comedy|Drama</td>\n",
       "    </tr>\n",
       "    <tr>\n",
       "      <th>4</th>\n",
       "      <td>5</td>\n",
       "      <td>Father of the Bride Part II (1995)</td>\n",
       "      <td>Comedy</td>\n",
       "    </tr>\n",
       "  </tbody>\n",
       "</table>\n",
       "</div>"
      ],
      "text/plain": [
       "   mid                          movie_name                   movie_genre\n",
       "0    1                    Toy Story (1995)   Animation|Children's|Comedy\n",
       "1    2                      Jumanji (1995)  Adventure|Children's|Fantasy\n",
       "2    3             Grumpier Old Men (1995)                Comedy|Romance\n",
       "3    4            Waiting to Exhale (1995)                  Comedy|Drama\n",
       "4    5  Father of the Bride Part II (1995)                        Comedy"
      ]
     },
     "metadata": {},
     "output_type": "display_data"
    },
    {
     "name": "stdout",
     "output_type": "stream",
     "text": [
      "====== users.dat ======\n"
     ]
    },
    {
     "data": {
      "text/html": [
       "<div>\n",
       "<style scoped>\n",
       "    .dataframe tbody tr th:only-of-type {\n",
       "        vertical-align: middle;\n",
       "    }\n",
       "\n",
       "    .dataframe tbody tr th {\n",
       "        vertical-align: top;\n",
       "    }\n",
       "\n",
       "    .dataframe thead th {\n",
       "        text-align: right;\n",
       "    }\n",
       "</style>\n",
       "<table border=\"1\" class=\"dataframe\">\n",
       "  <thead>\n",
       "    <tr style=\"text-align: right;\">\n",
       "      <th></th>\n",
       "      <th>uid</th>\n",
       "      <th>gender</th>\n",
       "      <th>age</th>\n",
       "      <th>occupation</th>\n",
       "      <th>zipcode</th>\n",
       "    </tr>\n",
       "  </thead>\n",
       "  <tbody>\n",
       "    <tr>\n",
       "      <th>0</th>\n",
       "      <td>1</td>\n",
       "      <td>F</td>\n",
       "      <td>1</td>\n",
       "      <td>10</td>\n",
       "      <td>48067</td>\n",
       "    </tr>\n",
       "    <tr>\n",
       "      <th>1</th>\n",
       "      <td>2</td>\n",
       "      <td>M</td>\n",
       "      <td>56</td>\n",
       "      <td>16</td>\n",
       "      <td>70072</td>\n",
       "    </tr>\n",
       "    <tr>\n",
       "      <th>2</th>\n",
       "      <td>3</td>\n",
       "      <td>M</td>\n",
       "      <td>25</td>\n",
       "      <td>15</td>\n",
       "      <td>55117</td>\n",
       "    </tr>\n",
       "    <tr>\n",
       "      <th>3</th>\n",
       "      <td>4</td>\n",
       "      <td>M</td>\n",
       "      <td>45</td>\n",
       "      <td>7</td>\n",
       "      <td>02460</td>\n",
       "    </tr>\n",
       "    <tr>\n",
       "      <th>4</th>\n",
       "      <td>5</td>\n",
       "      <td>M</td>\n",
       "      <td>25</td>\n",
       "      <td>20</td>\n",
       "      <td>55455</td>\n",
       "    </tr>\n",
       "  </tbody>\n",
       "</table>\n",
       "</div>"
      ],
      "text/plain": [
       "   uid gender  age  occupation zipcode\n",
       "0    1      F    1          10   48067\n",
       "1    2      M   56          16   70072\n",
       "2    3      M   25          15   55117\n",
       "3    4      M   45           7   02460\n",
       "4    5      M   25          20   55455"
      ]
     },
     "metadata": {},
     "output_type": "display_data"
    },
    {
     "name": "stdout",
     "output_type": "stream",
     "text": [
      "====== preprocessed data =======\n"
     ]
    }
   ],
   "source": [
    "import numpy as np\n",
    "import pandas as pd\n",
    "from IPython.display import display\n",
    "from keras.preprocessing.text import Tokenizer\n",
    "from keras.preprocessing.sequence import pad_sequences\n",
    "\n",
    "\n",
    "def load_ratings():\n",
    "    COL_NAME = [\"uid\", \"mid\", \"rating\", \"timestamp\"]\n",
    "    df = pd.read_csv(\n",
    "        \"./ml-1m/ratings.dat\",\n",
    "        sep=\"::\",\n",
    "        header=None,\n",
    "        engine=\"python\",\n",
    "        names=COL_NAME,\n",
    "    )\n",
    "    return df\n",
    "\n",
    "\n",
    "def load_movies():\n",
    "    COL_NAME = [\"mid\", \"movie_name\", \"movie_genre\"]\n",
    "    df = pd.read_csv(\n",
    "        \"./ml-1m/movies.dat\",\n",
    "        sep=\"::\",\n",
    "        header=None,\n",
    "        engine=\"python\",\n",
    "        names=COL_NAME,\n",
    "        encoding=\"iso-8859-1\",  # deal with unicode characters\n",
    "    )\n",
    "    return df\n",
    "\n",
    "\n",
    "def load_users():\n",
    "    COL_NAME = [\"uid\", \"gender\", \"age\", \"occupation\", \"zipcode\"]\n",
    "    df = pd.read_csv(\n",
    "        \"./ml-1m/users.dat\",\n",
    "        sep=\"::\",\n",
    "        header=None,\n",
    "        engine=\"python\",\n",
    "        names=COL_NAME,\n",
    "    )\n",
    "    return df\n",
    "\n",
    "\n",
    "def text2seq(text, n_genre):\n",
    "    \"\"\"using tokenizer to encoded the multi-level categorical feature\"\"\"\n",
    "    tokenizer = Tokenizer(\n",
    "        lower=True, split=\"|\", filters=\"\", num_words=n_genre\n",
    "    )\n",
    "    tokenizer.fit_on_texts(text)\n",
    "    seq = tokenizer.texts_to_sequences(text)\n",
    "    seq = pad_sequences(seq, maxlen=3, padding=\"post\")\n",
    "    return seq\n",
    "\n",
    "\n",
    "n_genre = 15\n",
    "ratings = load_ratings()\n",
    "movies = load_movies()\n",
    "users = load_users()\n",
    "# Preview the data\n",
    "print(\"====== rating.dat ======\")\n",
    "display(ratings.head())\n",
    "print(\"===== movies.dat ======\")\n",
    "display(movies.head())\n",
    "print(\"====== users.dat ======\")\n",
    "display(users.head())\n",
    "movies[\"movie_genre\"] = text2seq(\n",
    "    movies.movie_genre.values, n_genre=n_genre\n",
    ").tolist()\n",
    "\n",
    "ratings = ratings.join(movies.set_index(\"mid\"), on=\"mid\", how=\"left\")\n",
    "\n",
    "ratings = ratings.join(users.set_index(\"uid\"), on=\"uid\", how=\"left\")\n",
    "\n",
    "ratings.to_csv(\"./ml-1m/combined_data.csv\", index=False)\n",
    "\n",
    "print(\"====== preprocessed data =======\")\n"
   ]
  },
  {
   "cell_type": "code",
   "execution_count": 16,
   "metadata": {
    "ExecuteTime": {
     "end_time": "2023-09-22T19:04:04.670995Z",
     "start_time": "2023-09-22T19:03:23.501590Z"
    }
   },
   "outputs": [],
   "source": [
    "# Transformation and feature engineering\n",
    "from sklearn.model_selection import train_test_split\n",
    "from ast import literal_eval\n",
    "\n",
    "df = pd.read_csv(\"./ml-1m/combined_data.csv\")\n",
    "df[\"gender\"] = df[\"gender\"].replace({\"F\": 0, \"M\": 1})\n",
    "df[\"movie_genre\"] = df[\"movie_genre\"].apply(literal_eval)\n",
    "\n",
    "# Reindex the categorical variables\n",
    "# Recode uid, mid, age, such that they are starting from 0, and \n",
    "# the max(category) = len(category)-1\n",
    "df = df.sort_values(\"uid\")\n",
    "df[\"uid\"] = pd.factorize(df[\"uid\"])[0]\n",
    "df = df.sort_values(\"mid\")\n",
    "df[\"mid\"] = pd.factorize(df[\"mid\"])[0]\n",
    "df = df.sort_values(\"age\")\n",
    "df[\"age\"] = pd.factorize(df[\"age\"])[0]\n",
    "# occupation, movie_genre are fine\n",
    "\n",
    "# Train test split\n",
    "df_train, df_test = train_test_split(\n",
    "    df, test_size=0.2, random_state=42, shuffle=True\n",
    ")\n",
    "\n",
    "for field in [\"uid\", \"mid\", \"gender\", \"age\", \"occupation\"]:\n",
    "    # For each categorical feature, if the value in df_test is not\n",
    "    # in df_train, then we move the entries contain that new value\n",
    "    # to trainig.\n",
    "    # This will ensure that we won't have out of vocabulary cases\n",
    "    # to be handled during evaluation. However, in real production,\n",
    "    # we need to address the so-called \"out-of-vocabulary\" issue.\n",
    "    test_set = set(df_test[field])\n",
    "    train_set = set(df_train[field])\n",
    "    diff_id = list(test_set.difference(train_set))\n",
    "    index = df_test[field].isin(diff_id)\n",
    "    df_train = pd.concat([df_train, df_test.loc[index, :]]).reset_index(\n",
    "        drop=True\n",
    "    )\n",
    "    df_test = df_test.loc[~index, :]\n",
    "    # Checking again\n",
    "    assert set(df_test[field]).issubset(set(df_train[field])), field\n",
    "\n",
    "df_train.to_pickle(\"./ml-1m/train.pkl\", compression=\"gzip\")\n",
    "df_test.to_pickle(\"./ml-1m/test.pkl\", compression=\"gzip\")\n"
   ]
  },
  {
   "cell_type": "code",
   "execution_count": 18,
   "metadata": {
    "ExecuteTime": {
     "end_time": "2023-09-22T19:04:18.643188Z",
     "start_time": "2023-09-22T19:04:18.625551Z"
    }
   },
   "outputs": [],
   "source": [
    "import numpy as np\n",
    "from keras.utils import Sequence\n",
    "\n",
    "\n",
    "class DFMData(Sequence):\n",
    "    def __init__(self, x_set, y_set, batch_size, shuffle=True):\n",
    "        self.x, self.y = x_set, y_set\n",
    "        self.batch_size = batch_size\n",
    "        self.shuffle = True\n",
    "        self.index = np.arange(len(self.y))\n",
    "        self.on_epoch_end()\n",
    "\n",
    "    def __len__(self):\n",
    "        return int(np.ceil(len(self.y) / float(self.batch_size)))\n",
    "\n",
    "    def __getitem__(self, index):\n",
    "        start_index = index * self.batch_size\n",
    "        end_index = (index + 1) * self.batch_size\n",
    "        if end_index > len(self.y):\n",
    "            end_index = None\n",
    "\n",
    "        batch_x = [x[start_index:end_index] for x in self.x]\n",
    "        batch_y = self.y[start_index:end_index]\n",
    "\n",
    "        return batch_x, batch_y\n",
    "\n",
    "    def on_epoch_end(self):\n",
    "        if self.shuffle:\n",
    "            np.random.shuffle(self.index)\n",
    "            self.x = [\n",
    "                x[self.index] if x.ndim < 2 else x[self.index, :]\n",
    "                for x in self.x\n",
    "            ]\n",
    "            self.y = self.y[self.index]\n"
   ]
  },
  {
   "cell_type": "code",
   "execution_count": 28,
   "metadata": {
    "ExecuteTime": {
     "end_time": "2023-09-22T19:23:10.619774Z",
     "start_time": "2023-09-22T19:23:09.067706Z"
    }
   },
   "outputs": [],
   "source": [
    "# Prepare data loader\n",
    "df_train = pd.read_pickle(\"./ml-1m/train.pkl\", compression=\"gzip\")\n",
    "df_test = pd.read_pickle(\"./ml-1m/test.pkl\", compression=\"gzip\")\n",
    "\n",
    "# Make the dataset provider\n",
    "batch_size = 128\n",
    "train_dataset = DFMData(\n",
    "    [\n",
    "        df_train[\"uid\"].values,\n",
    "        df_train[\"mid\"].values,\n",
    "        df_train[\"gender\"].values,\n",
    "        df_train[\"age\"].values,\n",
    "        df_train[\"occupation\"].values,\n",
    "        np.vstack(df_train[\"movie_genre\"].values),\n",
    "    ],\n",
    "    df_train[\"rating\"].values,\n",
    "    batch_size=batch_size,\n",
    "    shuffle=True,\n",
    ")\n",
    "\n",
    "test_dataset = DFMData(\n",
    "    [\n",
    "        df_test[\"uid\"].values,\n",
    "        df_test[\"mid\"].values,\n",
    "        df_test[\"gender\"].values,\n",
    "        df_test[\"age\"].values,\n",
    "        df_test[\"occupation\"].values,\n",
    "        np.vstack(df_test[\"movie_genre\"].values),\n",
    "    ],\n",
    "    df_test[\"rating\"].values,\n",
    "    batch_size=batch_size,\n",
    "    shuffle=True,\n",
    ")"
   ]
  },
  {
   "cell_type": "code",
   "execution_count": 46,
   "metadata": {
    "ExecuteTime": {
     "end_time": "2023-09-22T20:09:56.606576Z",
     "start_time": "2023-09-22T20:09:04.746020Z"
    }
   },
   "outputs": [
    {
     "name": "stdout",
     "output_type": "stream",
     "text": [
      "Epoch 1/30\n",
      "6252/6252 [==============================] - 13s 2ms/step - loss: 1.0706 - mse: 0.9644 - val_loss: 0.9800 - val_mse: 0.8956\n",
      "Epoch 2/30\n",
      "6252/6252 [==============================] - 13s 2ms/step - loss: 0.9602 - mse: 0.8806 - val_loss: 0.9391 - val_mse: 0.8617\n",
      "Epoch 3/30\n",
      "6252/6252 [==============================] - 13s 2ms/step - loss: 0.9507 - mse: 0.8743 - val_loss: 0.9313 - val_mse: 0.8570\n",
      "Epoch 4/30\n",
      "6252/6252 [==============================] - 13s 2ms/step - loss: 0.9452 - mse: 0.8702 - val_loss: 0.9371 - val_mse: 0.8585\n",
      "Epoch 4: early stopping\n"
     ]
    },
    {
     "name": "stderr",
     "output_type": "stream",
     "text": [
      "/Users/edward/opt/miniforge3/envs/lectures/lib/python3.10/site-packages/keras/src/engine/training.py:3000: UserWarning: You are saving your model as an HDF5 file via `model.save()`. This file format is considered legacy. We recommend using instead the native Keras format, e.g. `model.save('my_model.keras')`.\n",
      "  saving_api.save_model(\n"
     ]
    }
   ],
   "source": [
    "import json\n",
    "from keras.callbacks import EarlyStopping\n",
    "\n",
    "\n",
    "def compute_steps(num_examples, batch_size):\n",
    "    return num_examples // batch_size + int(\n",
    "        num_examples % batch_size > 0\n",
    "    )\n",
    "\n",
    "\n",
    "# Build the model\n",
    "dfm = KerasDeepFactorizationMachine(\n",
    "    feature_name=[\n",
    "        \"user\",\n",
    "        \"movie\",\n",
    "        \"gender\",\n",
    "        \"age\",\n",
    "        \"occupation\",\n",
    "        \"genre\",\n",
    "    ],\n",
    "    feature_size=[6040, 3706, 2, 7, 21, 15],\n",
    "    num_label=[1, 1, 1, 1, 1, 3],\n",
    "    emb_size=25,\n",
    "    hidden_layer_dim=[64, 64],\n",
    ")\n",
    "\n",
    "history = dfm.model.fit(\n",
    "    x=train_dataset,\n",
    "    validation_data=test_dataset,\n",
    "    epochs=30,\n",
    "    steps_per_epoch=compute_steps(df_train.shape[0], batch_size),\n",
    "    validation_steps=compute_steps(df_test.shape[0], batch_size),\n",
    "    callbacks=[EarlyStopping(monitor=\"val_mse\", patience=0, verbose=1)],\n",
    ")\n",
    "\n",
    "# Save model, including the weights\n",
    "dfm.model.save(\"./ml-1m/keras_dfm_model.h5\")\n",
    "\n",
    "# save history\n",
    "with open(\"./ml-1m/keras_dfm_history.json\", \"w\") as f:\n",
    "    json.dump(history.history, f)"
   ]
  },
  {
   "cell_type": "code",
   "execution_count": 47,
   "metadata": {
    "ExecuteTime": {
     "end_time": "2023-09-22T20:25:27.717537Z",
     "start_time": "2023-09-22T20:25:27.527450Z"
    }
   },
   "outputs": [
    {
     "data": {
      "image/png": "[encoded data removed]",
      "text/plain": [
       "<Figure size 1000x400 with 2 Axes>"
      ]
     },
     "metadata": {},
     "output_type": "display_data"
    }
   ],
   "source": [
    "import json\n",
    "from collections import namedtuple\n",
    "import matplotlib.pyplot as plt\n",
    "\n",
    "plt.rcParams[\"font.family\"] = \"TeX Gyre Heros\"\n",
    "history = namedtuple(\"history\", [\"history\"])\n",
    "with open(\"./ml-1m/keras_dfm_history.json\", \"r\") as fid:\n",
    "    history.history = json.load(fid)\n",
    "\n",
    "fig, axs = plt.subplots(1, 2, figsize=(10, 4))\n",
    "n_epochs = len(history.history[\"loss\"])\n",
    "epochs_arr = np.arange(1, n_epochs)\n",
    "ax = axs[0]\n",
    "ax.plot(epochs_arr, history.history[\"loss\"][1:], label=\"train\")\n",
    "ax.plot(\n",
    "    epochs_arr,\n",
    "    history.history[\"val_mse\"][1:],\n",
    "    ls=\"--\",\n",
    "    label=\"test\",\n",
    ")\n",
    "ax.legend()\n",
    "# ax.set_yscale('log')\n",
    "ax.set_xlabel(\"epoch\")\n",
    "ax.set_ylabel(\"Loss\")\n",
    "ax.set_title(\"Loss\")\n",
    "ax.set_xticks(epochs_arr[::2])\n",
    "ax = axs[1]\n",
    "ax.plot(epochs_arr, history.history[\"mse\"][1:], label=\"train\")\n",
    "ax.plot(\n",
    "    epochs_arr, history.history[\"val_mse\"][1:], ls=\"--\", label=\"test\"\n",
    ")\n",
    "ax.legend()\n",
    "# ax.set_yscale('log')\n",
    "ax.set_xlabel(\"epoch\")\n",
    "ax.set_ylabel(\"MSE\")\n",
    "ax.set_title(\"MSE\")\n",
    "_ = ax.set_xticks(epochs_arr[::2])\n",
    "plt.savefig(\"dfm-train.svg\")"
   ]
  },
  {
   "cell_type": "markdown",
   "metadata": {},
   "source": [
    "# Regular Expressions (Regex)"
   ]
  },
  {
   "cell_type": "code",
   "execution_count": 55,
   "metadata": {
    "ExecuteTime": {
     "end_time": "2023-11-26T01:43:21.860902Z",
     "start_time": "2023-11-26T01:43:21.848944Z"
    }
   },
   "outputs": [
    {
     "data": {
      "text/plain": [
       "'How is it going Im good'"
      ]
     },
     "execution_count": 55,
     "metadata": {},
     "output_type": "execute_result"
    }
   ],
   "source": [
    "import re\n",
    "# Example 1: remove punctuation\n",
    "text = \"How is it going? I'm good!\"\n",
    "result = re.sub(r'''[\\.\\?\\!\\,\\:\\;\\\"\\']''', '', text)\n",
    "result"
   ]
  },
  {
   "cell_type": "code",
   "execution_count": 56,
   "metadata": {
    "ExecuteTime": {
     "end_time": "2023-11-26T01:43:27.641735Z",
     "start_time": "2023-11-26T01:43:27.631197Z"
    }
   },
   "outputs": [
    {
     "data": {
      "text/plain": [
       "['The', 'quick', 'brown', 'fox', 'jumps', 'over', 'the', 'lazy', 'dog']"
      ]
     },
     "execution_count": 56,
     "metadata": {},
     "output_type": "execute_result"
    }
   ],
   "source": [
    "# Example 2: tokenize: spaces and newline\n",
    "text = \"\"\"The quick    brown fox  jumps\n",
    "over the lazy dog\"\"\"\n",
    "result = re.split(r'\\s+', text)\n",
    "result"
   ]
  },
  {
   "cell_type": "code",
   "execution_count": 57,
   "metadata": {
    "ExecuteTime": {
     "end_time": "2023-11-26T01:43:33.082154Z",
     "start_time": "2023-11-26T01:43:33.068982Z"
    }
   },
   "outputs": [
    {
     "data": {
      "text/plain": [
       "['3', '12']"
      ]
     },
     "execution_count": 57,
     "metadata": {},
     "output_type": "execute_result"
    }
   ],
   "source": [
    "import re\n",
    "# Example 1: remove punctuation\n",
    "text = \"How is it going? I'm good!\"\n",
    "result = re.sub(r'''[\\.\\?\\!\\,\\:\\;\\\"\\']''', '', text)\n",
    "# 'How is it going Im good'\n",
    "\n",
    "# Example 2: tokenize: spaces and newline\n",
    "text = \"\"\"The quick    brown fox  jumps\n",
    "over the lazy dog\"\"\"\n",
    "result = re.split(r'\\s+', text)\n",
    "# ['The', 'quick', 'brown', 'fox', 'jumps', 'over', 'the', 'lazy', 'dog']\n",
    "\n",
    "# Example 3: find occurrences of the pattern\n",
    "text = \"The human genome has 3 billion base pairs, \"\n",
    "\t\"making the text file storing it as large as \"\n",
    "\t\"12 GB on disk.\"\n",
    "result = re.findall(r'\\d+', text)\n",
    "# ['3', '12']"
   ]
  },
  {
   "cell_type": "markdown",
   "metadata": {},
   "source": [
    "# Data Serialization and Deserialization"
   ]
  },
  {
   "cell_type": "code",
   "execution_count": 58,
   "metadata": {
    "ExecuteTime": {
     "end_time": "2023-11-26T01:44:41.889210Z",
     "start_time": "2023-11-26T01:44:41.872672Z"
    }
   },
   "outputs": [
    {
     "name": "stdout",
     "output_type": "stream",
     "text": [
      "features {\n",
      "  feature {\n",
      "    key: \"student_id\"\n",
      "    value {\n",
      "      bytes_list {\n",
      "        value: \"c-924145\"\n",
      "      }\n",
      "    }\n",
      "  }\n",
      "  feature {\n",
      "    key: \"num_classes_taken\"\n",
      "    value {\n",
      "      int64_list {\n",
      "        value: 3\n",
      "      }\n",
      "    }\n",
      "  }\n",
      "  feature {\n",
      "    key: \"gpa\"\n",
      "    value {\n",
      "      float_list {\n",
      "        value: 3.2\n",
      "      }\n",
      "    }\n",
      "  }\n",
      "}\n",
      "\n"
     ]
    }
   ],
   "source": [
    "import os\n",
    "import tempfile\n",
    "import tensorflow as tf\n",
    "inputs = [\n",
    "    {\"student_id\": \"a-153248\", \"num_classes_taken\": 5, \"gpa\": 3.97},\n",
    "    {\"student_id\": \"b-132429\", \"num_classes_taken\": 3, \"gpa\": 3.51},\n",
    "    {\"student_id\": \"a-293841\", \"num_classes_taken\": 4, \"gpa\": 4.00},\n",
    "    {\"student_id\": \"c-912431\", \"num_classes_taken\": 4, \"gpa\": 3.91},\n",
    "    {\"student_id\": \"c-924145\", \"num_classes_taken\": 3, \"gpa\": 3.20},\n",
    "]\n",
    "# Create the Features protobuf\n",
    "examples = []\n",
    "for x in inputs:\n",
    "    # Create the dictionary\n",
    "    feature = {\n",
    "        \"student_id\": tf.train.Feature(\n",
    "            bytes_list=tf.train.BytesList(value=[bytes(x[\"student_id\"], \"utf-8\")])\n",
    "        ),\n",
    "        \"num_classes_taken\": tf.train.Feature(\n",
    "            int64_list=tf.train.Int64List(value=[x[\"num_classes_taken\"]])\n",
    "        ),\n",
    "        \"gpa\": tf.train.Feature(\n",
    "            float_list=tf.train.FloatList(value=[x[\"gpa\"]])\n",
    "        )\n",
    "    }\n",
    "\n",
    "    # Create the Examples protobuf\n",
    "    example = tf.train.Example(features=tf.train.Features(feature=feature))\n",
    "    examples.append(example)\n",
    "\n",
    "# print the last example\n",
    "print(example)"
   ]
  },
  {
   "cell_type": "markdown",
   "metadata": {},
   "source": [
    "TFRecord"
   ]
  },
  {
   "cell_type": "code",
   "execution_count": 59,
   "metadata": {
    "ExecuteTime": {
     "end_time": "2023-11-26T01:45:52.920099Z",
     "start_time": "2023-11-26T01:45:52.902953Z"
    }
   },
   "outputs": [
    {
     "name": "stdout",
     "output_type": "stream",
     "text": [
      "b'\\nI\\n\\x1a\\n\\x11num_classes_taken\\x12\\x05\\x1a\\x03\\n\\x01\\x03\\n\\x0f\\n\\x03gpa\\x12\\x08\\x12\\x06\\n\\x04\\xcd\\xccL@\\n\\x1a\\n\\nstudent_id\\x12\\x0c\\n\\n\\n\\x08c-924145'\n"
     ]
    }
   ],
   "source": [
    "# Create a temporary TFRecord file\n",
    "base_dir = tempfile.TemporaryDirectory()\n",
    "file_path = os.path.join(base_dir.name, \"temp.tfrecord\")\n",
    "options = tf.io.TFRecordOptions(compression_type=\"GZIP\") # gzip compressed\n",
    "with tf.io.TFRecordWriter(file_path, options=options) as writer:\n",
    "    for example in examples:\n",
    "        serialized_example = example.SerializeToString()\n",
    "        writer.write(serialized_example)\n",
    "\n",
    "# print last serialized example\n",
    "print(serialized_example)"
   ]
  },
  {
   "cell_type": "code",
   "execution_count": 60,
   "metadata": {
    "ExecuteTime": {
     "end_time": "2023-11-26T01:47:50.703653Z",
     "start_time": "2023-11-26T01:47:50.437280Z"
    }
   },
   "outputs": [
    {
     "name": "stdout",
     "output_type": "stream",
     "text": [
      "tf.Tensor(b'\\nI\\n\\x1a\\n\\x11num_classes_taken\\x12\\x05\\x1a\\x03\\n\\x01\\x05\\n\\x0f\\n\\x03gpa\\x12\\x08\\x12\\x06\\n\\x04{\\x14~@\\n\\x1a\\n\\nstudent_id\\x12\\x0c\\n\\n\\n\\x08a-153248', shape=(), dtype=string)\n"
     ]
    }
   ],
   "source": [
    "dataset = tf.data.TFRecordDataset(\n",
    "    tf.data.TFRecordDataset.list_files(file_path), # allows loading multiple files\n",
    "    compression_type=\"GZIP\", # make sure to decompress before decoding\n",
    ")\n",
    "\n",
    "# print a record\n",
    "print(next(iter(dataset)))"
   ]
  },
  {
   "cell_type": "markdown",
   "metadata": {},
   "source": [
    "Parsing"
   ]
  },
  {
   "cell_type": "code",
   "execution_count": 80,
   "metadata": {
    "ExecuteTime": {
     "end_time": "2023-11-26T01:52:51.026147Z",
     "start_time": "2023-11-26T01:52:50.981516Z"
    }
   },
   "outputs": [],
   "source": [
    "# Define the feature schema\n",
    "feature_spec = {\n",
    "    \"student_id\": tf.io.FixedLenFeature((1, ), dtype=tf.string),\n",
    "    \"num_classes_taken\": tf.io.FixedLenFeature((1, ), dtype=tf.int64),\n",
    "    \"gpa\": tf.io.FixedLenFeature((1, ), dtype=tf.float32)\n",
    "}\n",
    "\n",
    "# Parsing a batch of data back\n",
    "serialized_data = next(iter(dataset.batch(4)))\n",
    "parsed_data = tf.io.parse_example(serialized_data, feature_spec)"
   ]
  },
  {
   "cell_type": "code",
   "execution_count": 81,
   "metadata": {
    "ExecuteTime": {
     "end_time": "2023-11-26T01:52:53.397587Z",
     "start_time": "2023-11-26T01:52:53.386153Z"
    }
   },
   "outputs": [
    {
     "name": "stdout",
     "output_type": "stream",
     "text": [
      "{'gpa': <tf.Tensor: shape=(4, 1), dtype=float32, numpy=\n",
      "array([[3.97],\n",
      "       [3.51],\n",
      "       [4.  ],\n",
      "       [3.91]], dtype=float32)>, 'num_classes_taken': <tf.Tensor: shape=(4, 1), dtype=int64, numpy=\n",
      "array([[5],\n",
      "       [3],\n",
      "       [4],\n",
      "       [4]])>, 'student_id': <tf.Tensor: shape=(4, 1), dtype=string, numpy=\n",
      "array([[b'a-153248'],\n",
      "       [b'b-132429'],\n",
      "       [b'a-293841'],\n",
      "       [b'c-912431']], dtype=object)>}\n"
     ]
    }
   ],
   "source": [
    "print(parsed_data)"
   ]
  }
 ],
 "metadata": {
  "kernelspec": {
   "display_name": "Python 3 (ipykernel)",
   "language": "python",
   "name": "python3"
  },
  "language_info": {
   "codemirror_mode": {
    "name": "ipython",
    "version": 3
   },
   "file_extension": ".py",
   "mimetype": "text/x-python",
   "name": "python",
   "nbconvert_exporter": "python",
   "pygments_lexer": "ipython3",
   "version": "3.9.10"
  },
  "toc": {
   "base_numbering": 1,
   "nav_menu": {},
   "number_sections": false,
   "sideBar": true,
   "skip_h1_title": false,
   "title_cell": "Table of Contents",
   "title_sidebar": "Contents",
   "toc_cell": false,
   "toc_position": {},
   "toc_section_display": true,
   "toc_window_display": false
  },
  "varInspector": {
   "cols": {
    "lenName": 16,
    "lenType": 16,
    "lenVar": 40
   },
   "kernels_config": {
    "python": {
     "delete_cmd_postfix": "",
     "delete_cmd_prefix": "del ",
     "library": "var_list.py",
     "varRefreshCmd": "print(var_dic_list())"
    },
    "r": {
     "delete_cmd_postfix": ") ",
     "delete_cmd_prefix": "rm(",
     "library": "var_list.r",
     "varRefreshCmd": "cat(var_dic_list()) "
    }
   },
   "types_to_exclude": [
    "module",
    "function",
    "builtin_function_or_method",
    "instance",
    "_Feature"
   ],
   "window_display": false
  }
 },
 "nbformat": 4,
 "nbformat_minor": 2
}
